{
 "cells": [
  {
   "cell_type": "markdown",
   "id": "07488c1f",
   "metadata": {},
   "source": [
    "# Project 5: Car Crashes in Montgomery County, Maryland"
   ]
  },
  {
   "cell_type": "markdown",
   "id": "aaed6ffd",
   "metadata": {},
   "source": [
    "## Problem Statement"
   ]
  },
  {
   "cell_type": "markdown",
   "id": "32fe52f4",
   "metadata": {},
   "source": [
    "Can features such as speed limit, time of day, surface condition, and time of day be used to classify whether a driver is at fault for an automobile crash? "
   ]
  },
  {
   "cell_type": "markdown",
   "id": "9fedf70a",
   "metadata": {},
   "source": [
    "### Import Libraries"
   ]
  },
  {
   "cell_type": "markdown",
   "id": "5c4ba0f4",
   "metadata": {},
   "source": [
    "- Import libraries"
   ]
  },
  {
   "cell_type": "code",
   "execution_count": 82,
   "id": "1c7388d0",
   "metadata": {
    "ExecuteTime": {
     "end_time": "2021-11-27T19:04:53.127978Z",
     "start_time": "2021-11-27T19:04:53.114977Z"
    }
   },
   "outputs": [],
   "source": [
    "import pandas as pd\n",
    "import numpy as np\n",
    "import matplotlib.pyplot as plt\n",
    "import seaborn as sns\n",
    "\n",
    "pd.set_option('display.max_columns', 50)"
   ]
  },
  {
   "cell_type": "markdown",
   "id": "48fc0653",
   "metadata": {},
   "source": [
    "### Functions"
   ]
  },
  {
   "cell_type": "code",
   "execution_count": 83,
   "id": "dbc7ae1b",
   "metadata": {
    "ExecuteTime": {
     "end_time": "2021-11-27T19:04:53.144706Z",
     "start_time": "2021-11-27T19:04:53.129064Z"
    }
   },
   "outputs": [],
   "source": [
    "def categorize(df, feature):\n",
    "    a_list = df[feature].unique().tolist()\n",
    "    if len(a_list) == 2:\n",
    "        a_list.sort()\n",
    "        \n",
    "    a_dict = {}\n",
    "    for i in range(0, len(a_list)):\n",
    "        a_dict[a_list[i]] = i\n",
    "    \n",
    "    df[feature] = df[feature].map(a_dict)\n",
    "    \n",
    "    return df"
   ]
  },
  {
   "cell_type": "markdown",
   "id": "7aa3109a",
   "metadata": {},
   "source": [
    "### Import data"
   ]
  },
  {
   "cell_type": "code",
   "execution_count": 84,
   "id": "03acb35f",
   "metadata": {
    "ExecuteTime": {
     "end_time": "2021-11-27T19:04:55.003548Z",
     "start_time": "2021-11-27T19:04:53.146949Z"
    }
   },
   "outputs": [],
   "source": [
    "crash_df = pd.read_csv('./data/crash_reporting_drivers_data.csv', low_memory=False)"
   ]
  },
  {
   "cell_type": "code",
   "execution_count": 85,
   "id": "06a7a5cc",
   "metadata": {
    "ExecuteTime": {
     "end_time": "2021-11-27T19:04:55.050251Z",
     "start_time": "2021-11-27T19:04:55.005550Z"
    }
   },
   "outputs": [
    {
     "data": {
      "text/html": [
       "<div>\n",
       "<style scoped>\n",
       "    .dataframe tbody tr th:only-of-type {\n",
       "        vertical-align: middle;\n",
       "    }\n",
       "\n",
       "    .dataframe tbody tr th {\n",
       "        vertical-align: top;\n",
       "    }\n",
       "\n",
       "    .dataframe thead th {\n",
       "        text-align: right;\n",
       "    }\n",
       "</style>\n",
       "<table border=\"1\" class=\"dataframe\">\n",
       "  <thead>\n",
       "    <tr style=\"text-align: right;\">\n",
       "      <th></th>\n",
       "      <th>Report Number</th>\n",
       "      <th>Local Case Number</th>\n",
       "      <th>Agency Name</th>\n",
       "      <th>ACRS Report Type</th>\n",
       "      <th>Crash Date/Time</th>\n",
       "      <th>Route Type</th>\n",
       "      <th>Road Name</th>\n",
       "      <th>Cross-Street Type</th>\n",
       "      <th>Cross-Street Name</th>\n",
       "      <th>Off-Road Description</th>\n",
       "      <th>Municipality</th>\n",
       "      <th>Related Non-Motorist</th>\n",
       "      <th>Collision Type</th>\n",
       "      <th>Weather</th>\n",
       "      <th>Surface Condition</th>\n",
       "      <th>Light</th>\n",
       "      <th>Traffic Control</th>\n",
       "      <th>Driver Substance Abuse</th>\n",
       "      <th>Non-Motorist Substance Abuse</th>\n",
       "      <th>Person ID</th>\n",
       "      <th>Driver At Fault</th>\n",
       "      <th>Injury Severity</th>\n",
       "      <th>Circumstance</th>\n",
       "      <th>Driver Distracted By</th>\n",
       "      <th>Drivers License State</th>\n",
       "      <th>Vehicle ID</th>\n",
       "      <th>Vehicle Damage Extent</th>\n",
       "      <th>Vehicle First Impact Location</th>\n",
       "      <th>Vehicle Second Impact Location</th>\n",
       "      <th>Vehicle Body Type</th>\n",
       "      <th>Vehicle Movement</th>\n",
       "      <th>Vehicle Continuing Dir</th>\n",
       "      <th>Vehicle Going Dir</th>\n",
       "      <th>Speed Limit</th>\n",
       "      <th>Driverless Vehicle</th>\n",
       "      <th>Parked Vehicle</th>\n",
       "      <th>Vehicle Year</th>\n",
       "      <th>Vehicle Make</th>\n",
       "      <th>Vehicle Model</th>\n",
       "      <th>Equipment Problems</th>\n",
       "      <th>Latitude</th>\n",
       "      <th>Longitude</th>\n",
       "      <th>Location</th>\n",
       "    </tr>\n",
       "  </thead>\n",
       "  <tbody>\n",
       "    <tr>\n",
       "      <th>0</th>\n",
       "      <td>DD5620004G</td>\n",
       "      <td>190046109</td>\n",
       "      <td>Rockville Police Departme</td>\n",
       "      <td>Property Damage Crash</td>\n",
       "      <td>09/26/2019 07:20:00 AM</td>\n",
       "      <td>NaN</td>\n",
       "      <td>NaN</td>\n",
       "      <td>NaN</td>\n",
       "      <td>NaN</td>\n",
       "      <td>PARKING LOT</td>\n",
       "      <td>NaN</td>\n",
       "      <td>NaN</td>\n",
       "      <td>SINGLE VEHICLE</td>\n",
       "      <td>CLEAR</td>\n",
       "      <td>NaN</td>\n",
       "      <td>DAYLIGHT</td>\n",
       "      <td>NaN</td>\n",
       "      <td>NONE DETECTED</td>\n",
       "      <td>NaN</td>\n",
       "      <td>6558DDB6-C713-4B50-9CDD-4A265FE507B9</td>\n",
       "      <td>Yes</td>\n",
       "      <td>NO APPARENT INJURY</td>\n",
       "      <td>NaN</td>\n",
       "      <td>NOT DISTRACTED</td>\n",
       "      <td>MD</td>\n",
       "      <td>940390C5-2D67-4B95-BCE3-FDF38AA42ECD</td>\n",
       "      <td>SUPERFICIAL</td>\n",
       "      <td>TWELVE OCLOCK</td>\n",
       "      <td>TWELVE OCLOCK</td>\n",
       "      <td>SCHOOL BUS</td>\n",
       "      <td>OTHER</td>\n",
       "      <td>South</td>\n",
       "      <td>South</td>\n",
       "      <td>15</td>\n",
       "      <td>No</td>\n",
       "      <td>No</td>\n",
       "      <td>2017</td>\n",
       "      <td>THOMAS</td>\n",
       "      <td>BUS</td>\n",
       "      <td>NO MISUSE</td>\n",
       "      <td>39.103518</td>\n",
       "      <td>-77.157669</td>\n",
       "      <td>(39.10351817, -77.15766933)</td>\n",
       "    </tr>\n",
       "    <tr>\n",
       "      <th>1</th>\n",
       "      <td>MCP29620057</td>\n",
       "      <td>200023865</td>\n",
       "      <td>Montgomery County Police</td>\n",
       "      <td>Property Damage Crash</td>\n",
       "      <td>06/18/2020 02:00:00 AM</td>\n",
       "      <td>County</td>\n",
       "      <td>DAIRYMAID DR</td>\n",
       "      <td>County</td>\n",
       "      <td>METZ DR</td>\n",
       "      <td>NaN</td>\n",
       "      <td>NaN</td>\n",
       "      <td>NaN</td>\n",
       "      <td>OTHER</td>\n",
       "      <td>CLOUDY</td>\n",
       "      <td>DRY</td>\n",
       "      <td>UNKNOWN</td>\n",
       "      <td>NaN</td>\n",
       "      <td>UNKNOWN</td>\n",
       "      <td>NaN</td>\n",
       "      <td>7A8F59F9-9886-4D41-B72C-0043BC462A05</td>\n",
       "      <td>Yes</td>\n",
       "      <td>NO APPARENT INJURY</td>\n",
       "      <td>NaN</td>\n",
       "      <td>UNKNOWN</td>\n",
       "      <td>XX</td>\n",
       "      <td>796D6E97-FC6F-4CB5-BCC0-E77F10D6220D</td>\n",
       "      <td>UNKNOWN</td>\n",
       "      <td>UNKNOWN</td>\n",
       "      <td>UNKNOWN</td>\n",
       "      <td>UNKNOWN</td>\n",
       "      <td>UNKNOWN</td>\n",
       "      <td>Unknown</td>\n",
       "      <td>Unknown</td>\n",
       "      <td>35</td>\n",
       "      <td>No</td>\n",
       "      <td>No</td>\n",
       "      <td>2020</td>\n",
       "      <td>UNK</td>\n",
       "      <td>UNK</td>\n",
       "      <td>UNKNOWN</td>\n",
       "      <td>39.154847</td>\n",
       "      <td>-77.271245</td>\n",
       "      <td>(39.15484667, -77.271245)</td>\n",
       "    </tr>\n",
       "    <tr>\n",
       "      <th>2</th>\n",
       "      <td>MCP3050004K</td>\n",
       "      <td>200016465</td>\n",
       "      <td>Montgomery County Police</td>\n",
       "      <td>Property Damage Crash</td>\n",
       "      <td>04/19/2020 03:39:00 PM</td>\n",
       "      <td>County</td>\n",
       "      <td>RUSSETT RD</td>\n",
       "      <td>County</td>\n",
       "      <td>ARCTIC AVE</td>\n",
       "      <td>NaN</td>\n",
       "      <td>NaN</td>\n",
       "      <td>NaN</td>\n",
       "      <td>OTHER</td>\n",
       "      <td>CLEAR</td>\n",
       "      <td>DRY</td>\n",
       "      <td>DAYLIGHT</td>\n",
       "      <td>NO CONTROLS</td>\n",
       "      <td>ALCOHOL PRESENT</td>\n",
       "      <td>NaN</td>\n",
       "      <td>193D33B6-4BAB-4A82-A4E7-CE35BA3B28F1</td>\n",
       "      <td>Yes</td>\n",
       "      <td>NO APPARENT INJURY</td>\n",
       "      <td>NaN</td>\n",
       "      <td>UNKNOWN</td>\n",
       "      <td>MD</td>\n",
       "      <td>06DEBB17-3C98-421B-A368-8578A48773B2</td>\n",
       "      <td>DISABLING</td>\n",
       "      <td>TWELVE OCLOCK</td>\n",
       "      <td>FOUR OCLOCK</td>\n",
       "      <td>VAN</td>\n",
       "      <td>ACCELERATING</td>\n",
       "      <td>East</td>\n",
       "      <td>East</td>\n",
       "      <td>25</td>\n",
       "      <td>No</td>\n",
       "      <td>No</td>\n",
       "      <td>2004</td>\n",
       "      <td>DODGE</td>\n",
       "      <td>GRAND CARAVAN</td>\n",
       "      <td>NO MISUSE</td>\n",
       "      <td>39.080062</td>\n",
       "      <td>-77.097845</td>\n",
       "      <td>(39.08006167, -77.097845)</td>\n",
       "    </tr>\n",
       "    <tr>\n",
       "      <th>3</th>\n",
       "      <td>MCP2641001J</td>\n",
       "      <td>200016526</td>\n",
       "      <td>Montgomery County Police</td>\n",
       "      <td>Injury Crash</td>\n",
       "      <td>04/20/2020 09:15:00 AM</td>\n",
       "      <td>County</td>\n",
       "      <td>ARCHDALE RD</td>\n",
       "      <td>County</td>\n",
       "      <td>GUNNERS BRANCH RD</td>\n",
       "      <td>NaN</td>\n",
       "      <td>NaN</td>\n",
       "      <td>NaN</td>\n",
       "      <td>OTHER</td>\n",
       "      <td>CLOUDY</td>\n",
       "      <td>DRY</td>\n",
       "      <td>DAYLIGHT</td>\n",
       "      <td>NO CONTROLS</td>\n",
       "      <td>NONE DETECTED</td>\n",
       "      <td>NaN</td>\n",
       "      <td>5E259E14-1216-4388-87FB-925035107021</td>\n",
       "      <td>Yes</td>\n",
       "      <td>POSSIBLE INJURY</td>\n",
       "      <td>NaN</td>\n",
       "      <td>UNKNOWN</td>\n",
       "      <td>MD</td>\n",
       "      <td>5146C181-7BFF-41CB-ADB8-8AFECD67FCD1</td>\n",
       "      <td>DISABLING</td>\n",
       "      <td>ELEVEN OCLOCK</td>\n",
       "      <td>ELEVEN OCLOCK</td>\n",
       "      <td>PASSENGER CAR</td>\n",
       "      <td>UNKNOWN</td>\n",
       "      <td>North</td>\n",
       "      <td>North</td>\n",
       "      <td>25</td>\n",
       "      <td>No</td>\n",
       "      <td>No</td>\n",
       "      <td>2006</td>\n",
       "      <td>HONDA</td>\n",
       "      <td>CR-V</td>\n",
       "      <td>UNKNOWN</td>\n",
       "      <td>39.175230</td>\n",
       "      <td>-77.241090</td>\n",
       "      <td>(39.17523, -77.24109)</td>\n",
       "    </tr>\n",
       "    <tr>\n",
       "      <th>4</th>\n",
       "      <td>MCP27100039</td>\n",
       "      <td>200016305</td>\n",
       "      <td>Montgomery County Police</td>\n",
       "      <td>Property Damage Crash</td>\n",
       "      <td>04/17/2020 05:00:00 PM</td>\n",
       "      <td>Municipality</td>\n",
       "      <td>E DIAMOND AVE</td>\n",
       "      <td>Municipality</td>\n",
       "      <td>S SUMMIT AVE</td>\n",
       "      <td>NaN</td>\n",
       "      <td>GAITHERSBURG</td>\n",
       "      <td>NaN</td>\n",
       "      <td>SAME DIR REAR END</td>\n",
       "      <td>NaN</td>\n",
       "      <td>DRY</td>\n",
       "      <td>DAYLIGHT</td>\n",
       "      <td>STOP SIGN</td>\n",
       "      <td>NONE DETECTED</td>\n",
       "      <td>NaN</td>\n",
       "      <td>0F7ECAF5-441D-44C3-B48F-7B00DCCAD53D</td>\n",
       "      <td>No</td>\n",
       "      <td>NO APPARENT INJURY</td>\n",
       "      <td>NaN</td>\n",
       "      <td>NOT DISTRACTED</td>\n",
       "      <td>MD</td>\n",
       "      <td>828900BA-816A-4464-8DD3-2291E72DD1FC</td>\n",
       "      <td>SUPERFICIAL</td>\n",
       "      <td>SIX OCLOCK</td>\n",
       "      <td>SIX OCLOCK</td>\n",
       "      <td>PASSENGER CAR</td>\n",
       "      <td>STOPPED IN TRAFFIC LANE</td>\n",
       "      <td>North</td>\n",
       "      <td>North</td>\n",
       "      <td>25</td>\n",
       "      <td>No</td>\n",
       "      <td>No</td>\n",
       "      <td>2011</td>\n",
       "      <td>TOYOTA</td>\n",
       "      <td>4S</td>\n",
       "      <td>NaN</td>\n",
       "      <td>39.140555</td>\n",
       "      <td>-77.193347</td>\n",
       "      <td>(39.140555, -77.19334667)</td>\n",
       "    </tr>\n",
       "  </tbody>\n",
       "</table>\n",
       "</div>"
      ],
      "text/plain": [
       "  Report Number Local Case Number                Agency Name  \\\n",
       "0    DD5620004G         190046109  Rockville Police Departme   \n",
       "1   MCP29620057         200023865   Montgomery County Police   \n",
       "2   MCP3050004K         200016465   Montgomery County Police   \n",
       "3   MCP2641001J         200016526   Montgomery County Police   \n",
       "4   MCP27100039         200016305   Montgomery County Police   \n",
       "\n",
       "        ACRS Report Type         Crash Date/Time    Route Type      Road Name  \\\n",
       "0  Property Damage Crash  09/26/2019 07:20:00 AM           NaN            NaN   \n",
       "1  Property Damage Crash  06/18/2020 02:00:00 AM        County   DAIRYMAID DR   \n",
       "2  Property Damage Crash  04/19/2020 03:39:00 PM        County     RUSSETT RD   \n",
       "3           Injury Crash  04/20/2020 09:15:00 AM        County    ARCHDALE RD   \n",
       "4  Property Damage Crash  04/17/2020 05:00:00 PM  Municipality  E DIAMOND AVE   \n",
       "\n",
       "  Cross-Street Type  Cross-Street Name Off-Road Description  Municipality  \\\n",
       "0               NaN                NaN          PARKING LOT           NaN   \n",
       "1            County            METZ DR                  NaN           NaN   \n",
       "2            County         ARCTIC AVE                  NaN           NaN   \n",
       "3            County  GUNNERS BRANCH RD                  NaN           NaN   \n",
       "4      Municipality       S SUMMIT AVE                  NaN  GAITHERSBURG   \n",
       "\n",
       "  Related Non-Motorist     Collision Type Weather Surface Condition     Light  \\\n",
       "0                  NaN     SINGLE VEHICLE   CLEAR               NaN  DAYLIGHT   \n",
       "1                  NaN              OTHER  CLOUDY               DRY   UNKNOWN   \n",
       "2                  NaN              OTHER   CLEAR               DRY  DAYLIGHT   \n",
       "3                  NaN              OTHER  CLOUDY               DRY  DAYLIGHT   \n",
       "4                  NaN  SAME DIR REAR END     NaN               DRY  DAYLIGHT   \n",
       "\n",
       "  Traffic Control Driver Substance Abuse Non-Motorist Substance Abuse  \\\n",
       "0             NaN          NONE DETECTED                          NaN   \n",
       "1             NaN                UNKNOWN                          NaN   \n",
       "2     NO CONTROLS        ALCOHOL PRESENT                          NaN   \n",
       "3     NO CONTROLS          NONE DETECTED                          NaN   \n",
       "4       STOP SIGN          NONE DETECTED                          NaN   \n",
       "\n",
       "                              Person ID Driver At Fault     Injury Severity  \\\n",
       "0  6558DDB6-C713-4B50-9CDD-4A265FE507B9             Yes  NO APPARENT INJURY   \n",
       "1  7A8F59F9-9886-4D41-B72C-0043BC462A05             Yes  NO APPARENT INJURY   \n",
       "2  193D33B6-4BAB-4A82-A4E7-CE35BA3B28F1             Yes  NO APPARENT INJURY   \n",
       "3  5E259E14-1216-4388-87FB-925035107021             Yes     POSSIBLE INJURY   \n",
       "4  0F7ECAF5-441D-44C3-B48F-7B00DCCAD53D              No  NO APPARENT INJURY   \n",
       "\n",
       "  Circumstance Driver Distracted By Drivers License State  \\\n",
       "0          NaN       NOT DISTRACTED                    MD   \n",
       "1          NaN              UNKNOWN                    XX   \n",
       "2          NaN              UNKNOWN                    MD   \n",
       "3          NaN              UNKNOWN                    MD   \n",
       "4          NaN       NOT DISTRACTED                    MD   \n",
       "\n",
       "                             Vehicle ID Vehicle Damage Extent  \\\n",
       "0  940390C5-2D67-4B95-BCE3-FDF38AA42ECD           SUPERFICIAL   \n",
       "1  796D6E97-FC6F-4CB5-BCC0-E77F10D6220D               UNKNOWN   \n",
       "2  06DEBB17-3C98-421B-A368-8578A48773B2             DISABLING   \n",
       "3  5146C181-7BFF-41CB-ADB8-8AFECD67FCD1             DISABLING   \n",
       "4  828900BA-816A-4464-8DD3-2291E72DD1FC           SUPERFICIAL   \n",
       "\n",
       "  Vehicle First Impact Location Vehicle Second Impact Location  \\\n",
       "0                 TWELVE OCLOCK                  TWELVE OCLOCK   \n",
       "1                       UNKNOWN                        UNKNOWN   \n",
       "2                 TWELVE OCLOCK                    FOUR OCLOCK   \n",
       "3                 ELEVEN OCLOCK                  ELEVEN OCLOCK   \n",
       "4                    SIX OCLOCK                     SIX OCLOCK   \n",
       "\n",
       "  Vehicle Body Type         Vehicle Movement Vehicle Continuing Dir  \\\n",
       "0        SCHOOL BUS                    OTHER                  South   \n",
       "1           UNKNOWN                  UNKNOWN                Unknown   \n",
       "2               VAN             ACCELERATING                   East   \n",
       "3     PASSENGER CAR                  UNKNOWN                  North   \n",
       "4     PASSENGER CAR  STOPPED IN TRAFFIC LANE                  North   \n",
       "\n",
       "  Vehicle Going Dir  Speed Limit Driverless Vehicle Parked Vehicle  \\\n",
       "0             South           15                 No             No   \n",
       "1           Unknown           35                 No             No   \n",
       "2              East           25                 No             No   \n",
       "3             North           25                 No             No   \n",
       "4             North           25                 No             No   \n",
       "\n",
       "   Vehicle Year Vehicle Make  Vehicle Model Equipment Problems   Latitude  \\\n",
       "0          2017       THOMAS            BUS          NO MISUSE  39.103518   \n",
       "1          2020          UNK            UNK            UNKNOWN  39.154847   \n",
       "2          2004        DODGE  GRAND CARAVAN          NO MISUSE  39.080062   \n",
       "3          2006        HONDA           CR-V            UNKNOWN  39.175230   \n",
       "4          2011       TOYOTA             4S                NaN  39.140555   \n",
       "\n",
       "   Longitude                     Location  \n",
       "0 -77.157669  (39.10351817, -77.15766933)  \n",
       "1 -77.271245    (39.15484667, -77.271245)  \n",
       "2 -77.097845    (39.08006167, -77.097845)  \n",
       "3 -77.241090        (39.17523, -77.24109)  \n",
       "4 -77.193347    (39.140555, -77.19334667)  "
      ]
     },
     "execution_count": 85,
     "metadata": {},
     "output_type": "execute_result"
    }
   ],
   "source": [
    "crash_df.head()"
   ]
  },
  {
   "cell_type": "markdown",
   "id": "59dd9097",
   "metadata": {},
   "source": [
    "- Check shape"
   ]
  },
  {
   "cell_type": "code",
   "execution_count": 86,
   "id": "45c65d5e",
   "metadata": {
    "ExecuteTime": {
     "end_time": "2021-11-27T19:04:55.066250Z",
     "start_time": "2021-11-27T19:04:55.052253Z"
    }
   },
   "outputs": [
    {
     "data": {
      "text/plain": [
       "(133206, 43)"
      ]
     },
     "execution_count": 86,
     "metadata": {},
     "output_type": "execute_result"
    }
   ],
   "source": [
    "crash_df.shape"
   ]
  },
  {
   "cell_type": "markdown",
   "id": "7d7c6d95",
   "metadata": {},
   "source": [
    "### Data Cleaning"
   ]
  },
  {
   "cell_type": "markdown",
   "id": "8add9d37",
   "metadata": {},
   "source": [
    "- Check for nulls"
   ]
  },
  {
   "cell_type": "code",
   "execution_count": 87,
   "id": "bce89a2f",
   "metadata": {
    "ExecuteTime": {
     "end_time": "2021-11-27T19:04:55.341242Z",
     "start_time": "2021-11-27T19:04:55.068254Z"
    },
    "scrolled": false
   },
   "outputs": [
    {
     "data": {
      "text/plain": [
       "Report Number                          0\n",
       "Local Case Number                      0\n",
       "Agency Name                            0\n",
       "ACRS Report Type                       0\n",
       "Crash Date/Time                        0\n",
       "Route Type                         13007\n",
       "Road Name                          12319\n",
       "Cross-Street Type                  13018\n",
       "Cross-Street Name                  12324\n",
       "Off-Road Description              120888\n",
       "Municipality                      118553\n",
       "Related Non-Motorist              129063\n",
       "Collision Type                       439\n",
       "Weather                            10479\n",
       "Surface Condition                  15697\n",
       "Light                               1122\n",
       "Traffic Control                    20692\n",
       "Driver Substance Abuse             24277\n",
       "Non-Motorist Substance Abuse      129925\n",
       "Person ID                              0\n",
       "Driver At Fault                        0\n",
       "Injury Severity                        0\n",
       "Circumstance                      108076\n",
       "Driver Distracted By                   0\n",
       "Drivers License State               6858\n",
       "Vehicle ID                             0\n",
       "Vehicle Damage Extent                240\n",
       "Vehicle First Impact Location        156\n",
       "Vehicle Second Impact Location       256\n",
       "Vehicle Body Type                   1962\n",
       "Vehicle Movement                     276\n",
       "Vehicle Continuing Dir              2024\n",
       "Vehicle Going Dir                   2024\n",
       "Speed Limit                            0\n",
       "Driverless Vehicle                     0\n",
       "Parked Vehicle                         0\n",
       "Vehicle Year                           0\n",
       "Vehicle Make                          22\n",
       "Vehicle Model                         56\n",
       "Equipment Problems                 28297\n",
       "Latitude                               0\n",
       "Longitude                              0\n",
       "Location                               0\n",
       "dtype: int64"
      ]
     },
     "execution_count": 87,
     "metadata": {},
     "output_type": "execute_result"
    }
   ],
   "source": [
    "crash_df.isnull().sum()"
   ]
  },
  {
   "cell_type": "markdown",
   "id": "762ca42a",
   "metadata": {},
   "source": [
    "#### Reasoning for dropping columns with <span style=\"background-color:#ffff00;\">null count over 100,000</span>"
   ]
  },
  {
   "cell_type": "markdown",
   "id": "b34caf08",
   "metadata": {},
   "source": [
    "- `Circumstances`: This column has <span style=\"background-color:#ffff00;\">108076 null values, accounting for 81% of the records</span>.  We cannot simply drop the rows associated with this column.  Since `Surface Conditions` and `Weather` essentially capture the same data _(e.g., DRY, WET, DIRT, SLUSH, OIL, etc)_, we can safely drop this column."
   ]
  },
  {
   "cell_type": "markdown",
   "id": "dc95d285",
   "metadata": {},
   "source": [
    "- `Off-Road Description`: off-road description doesn't offer much information, because crashed happed on-road.\n",
    "- `Municipality`: Municipality doesn't influence whether driver was/was not at fault.\n",
    "- `Related Non-Motorist`: This variable could offer some insight, but not enough do delete all row where its value is missing.\n",
    "- `Non-Motorist Substance Abuse`: This variable could offer some insight, but not enough do delete all row where its value is missing."
   ]
  },
  {
   "cell_type": "code",
   "execution_count": 88,
   "id": "182c57db",
   "metadata": {
    "ExecuteTime": {
     "end_time": "2021-11-27T19:04:55.394722Z",
     "start_time": "2021-11-27T19:04:55.343418Z"
    }
   },
   "outputs": [],
   "source": [
    "crash_df.drop(columns = [\n",
    "                        'Circumstance', \n",
    "                        'Off-Road Description', \n",
    "                        'Municipality', \n",
    "                        'Related Non-Motorist', \n",
    "                        'Non-Motorist Substance Abuse'\n",
    "                        ],\n",
    "            inplace = True)"
   ]
  },
  {
   "cell_type": "markdown",
   "id": "923baf20",
   "metadata": {},
   "source": [
    "#### Reasoning for dropping other columns <span style=\"background-color:#ffff00;\">nulls</span> and non-nulls"
   ]
  },
  {
   "cell_type": "markdown",
   "id": "492b463b",
   "metadata": {},
   "source": [
    "- `Report Number`\n",
    "- `Local Case Number`\n",
    "- `Agency Name`\n",
    "- `ACRS Report Type`\n",
    "\n",
    "These columns contain administrative data that contributes nothting to intended analysis."
   ]
  },
  {
   "cell_type": "code",
   "execution_count": 89,
   "id": "4fb2870e",
   "metadata": {
    "ExecuteTime": {
     "end_time": "2021-11-27T19:04:55.456609Z",
     "start_time": "2021-11-27T19:04:55.397872Z"
    }
   },
   "outputs": [],
   "source": [
    "crash_df.drop(columns = [\n",
    "                        'Report Number', \n",
    "                        'Local Case Number', \n",
    "                        'Agency Name', \n",
    "                        'ACRS Report Type'\n",
    "                        ],\n",
    "            inplace = True)"
   ]
  },
  {
   "cell_type": "markdown",
   "id": "29d7e261",
   "metadata": {},
   "source": [
    "- `Route Type`\n",
    "- `Road Name`\n",
    "- `Cross-Street Type`\n",
    "- `Cross-Street Name`\n",
    "- `Vehicle Continuing Dir`\n",
    "- `Vehicle Going Dir`\n",
    "- `Drivers License State`\n",
    "\n",
    "These features have a high number of null, but, yet, contributes nothing to whether a driver is at fault."
   ]
  },
  {
   "cell_type": "code",
   "execution_count": 90,
   "id": "e036c589",
   "metadata": {
    "ExecuteTime": {
     "end_time": "2021-11-27T19:04:55.519458Z",
     "start_time": "2021-11-27T19:04:55.458616Z"
    }
   },
   "outputs": [],
   "source": [
    "crash_df.drop(columns = [\n",
    "                        'Route Type', \n",
    "                        'Road Name', \n",
    "                        'Cross-Street Type',\n",
    "                        'Cross-Street Name',\n",
    "                        'Vehicle Continuing Dir',\n",
    "                        'Vehicle Going Dir',\n",
    "                        'Drivers License State'\n",
    "                        ],\n",
    "            inplace = True)"
   ]
  },
  {
   "cell_type": "markdown",
   "id": "5f96a687",
   "metadata": {},
   "source": [
    "- `Equipment Problems`\n",
    "\n",
    "```crash_df['Equipment Problems'].value_counts(normalize=True)``` show that **70%** of values are `NO MISUSE` (including NaN), and **89%** (when NaN is excluded).  Further, the other categories (AIR BAG FAILED, BELTS MISUSED, etc) doesn't determine if driver is/is not at fault."
   ]
  },
  {
   "cell_type": "code",
   "execution_count": 91,
   "id": "88a9f8c8",
   "metadata": {
    "ExecuteTime": {
     "end_time": "2021-11-27T19:04:55.566231Z",
     "start_time": "2021-11-27T19:04:55.521467Z"
    }
   },
   "outputs": [],
   "source": [
    "crash_df.drop(columns = ['Equipment Problems'], inplace = True)"
   ]
  },
  {
   "cell_type": "markdown",
   "id": "f865b8a6",
   "metadata": {},
   "source": [
    "- `Person ID`: does not contribute in determining fault\n",
    "- `Vehicle ID`: does not contribute in determining fault\n",
    "- `Driverless Vehicle`: No: 132611, Unknown: 525\n",
    "- `Vehicle Year`: does not contribute in determining fault\n",
    "- `Vehicle Make`: `Vehicle Body Type` is more general information\n",
    "- `Vehicle Model`: `Vehicle Body Type` is more general information\n",
    "- `Latitude`: part of `Location` feature\n",
    "- `Longitude`: part of `Location` feature\n",
    "- `Location`: dummifying will yield high number of features\n",
    "- `Injury Severity`: does not contribute in determining fault\n",
    "- `Vehicle Damage Extent`: does not contribute in determining fault"
   ]
  },
  {
   "cell_type": "code",
   "execution_count": 92,
   "id": "006a7e1a",
   "metadata": {
    "ExecuteTime": {
     "end_time": "2021-11-27T19:04:55.612447Z",
     "start_time": "2021-11-27T19:04:55.567904Z"
    }
   },
   "outputs": [],
   "source": [
    "crash_df.drop(columns = [\n",
    "                        'Person ID',\n",
    "                        'Vehicle ID',\n",
    "                        'Driverless Vehicle',\n",
    "                        'Vehicle Year',\n",
    "                        'Vehicle Make',\n",
    "                        'Vehicle Model',\n",
    "                        'Latitude',\n",
    "                        'Longitude',\n",
    "                        'Location',\n",
    "                        'Injury Severity',\n",
    "                        'Vehicle Damage Extent'],\n",
    "            inplace = True)"
   ]
  },
  {
   "cell_type": "code",
   "execution_count": 93,
   "id": "2e4a66fd",
   "metadata": {
    "ExecuteTime": {
     "end_time": "2021-11-27T19:04:55.722983Z",
     "start_time": "2021-11-27T19:04:55.614211Z"
    },
    "scrolled": false
   },
   "outputs": [
    {
     "data": {
      "text/plain": [
       "Crash Date/Time                       0\n",
       "Collision Type                      439\n",
       "Weather                           10479\n",
       "Surface Condition                 15697\n",
       "Light                              1122\n",
       "Traffic Control                   20692\n",
       "Driver Substance Abuse            24277\n",
       "Driver At Fault                       0\n",
       "Driver Distracted By                  0\n",
       "Vehicle First Impact Location       156\n",
       "Vehicle Second Impact Location      256\n",
       "Vehicle Body Type                  1962\n",
       "Vehicle Movement                    276\n",
       "Speed Limit                           0\n",
       "Parked Vehicle                        0\n",
       "dtype: int64"
      ]
     },
     "execution_count": 93,
     "metadata": {},
     "output_type": "execute_result"
    }
   ],
   "source": [
    "crash_df.isnull().sum()"
   ]
  },
  {
   "cell_type": "markdown",
   "id": "d353bcd6",
   "metadata": {},
   "source": [
    "- `Weather` and `Surface Condition`\n",
    "\n",
    "Based on common sense, these two features are highly correlated.  `Surface Condition` is more germane. So, we should drop `Weather`."
   ]
  },
  {
   "cell_type": "code",
   "execution_count": 94,
   "id": "caf68765",
   "metadata": {
    "ExecuteTime": {
     "end_time": "2021-11-27T19:04:55.754213Z",
     "start_time": "2021-11-27T19:04:55.724213Z"
    }
   },
   "outputs": [],
   "source": [
    "crash_df.drop(columns = ['Weather'], inplace = True)"
   ]
  },
  {
   "cell_type": "markdown",
   "id": "1483bb61",
   "metadata": {},
   "source": [
    "#### Categorize `Crash Date/Time`\n",
    "\n",
    "There may be a relationship between fault and time of day crash occurred.  Later, if this is not the case, then we can delete this feature."
   ]
  },
  {
   "cell_type": "markdown",
   "id": "d2a4a27d",
   "metadata": {},
   "source": [
    "- Convert 'Crash Date/Time' to type datetime"
   ]
  },
  {
   "cell_type": "code",
   "execution_count": 95,
   "id": "a7d913b7",
   "metadata": {
    "ExecuteTime": {
     "end_time": "2021-11-27T19:05:06.081945Z",
     "start_time": "2021-11-27T19:04:55.755260Z"
    }
   },
   "outputs": [],
   "source": [
    "crash_df['Crash Date/Time'] = pd.to_datetime(crash_df['Crash Date/Time'])"
   ]
  },
  {
   "cell_type": "markdown",
   "id": "fa0fd810",
   "metadata": {},
   "source": [
    "- Categorize 'Crash Date/Time'"
   ]
  },
  {
   "cell_type": "code",
   "execution_count": 96,
   "id": "a61080b6",
   "metadata": {
    "ExecuteTime": {
     "end_time": "2021-11-27T19:05:06.144469Z",
     "start_time": "2021-11-27T19:05:06.081945Z"
    }
   },
   "outputs": [],
   "source": [
    "# Idea borrowed from https://stackoverflow.com/a/59577864\n",
    "crash_df['Crash Time of Day'] = (crash_df['Crash Date/Time'].dt.hour % 24 + 4) // 4\n",
    "crash_df['Crash Time of Day'].replace({1: 'Late Night',\n",
    "                      2: 'Early Morning',\n",
    "                      3: 'Morning',\n",
    "                      4: 'Noon',\n",
    "                      5: 'Evening',\n",
    "                      6: 'Night'}, inplace=True)"
   ]
  },
  {
   "cell_type": "markdown",
   "id": "a8f4f513",
   "metadata": {},
   "source": [
    "- Move new column `Crash Time of Day` to first position"
   ]
  },
  {
   "cell_type": "code",
   "execution_count": 97,
   "id": "dbbf52cf",
   "metadata": {
    "ExecuteTime": {
     "end_time": "2021-11-27T19:05:06.159628Z",
     "start_time": "2021-11-27T19:05:06.146616Z"
    }
   },
   "outputs": [],
   "source": [
    "# Idea borrowed from https://www.geeksforgeeks.org/how-to-move-a-column-to-first-position-in-pandas-dataframe/\n",
    "first_column = crash_df.pop('Crash Time of Day')\n",
    "crash_df.insert(0, 'Crash Time of Day', first_column)"
   ]
  },
  {
   "cell_type": "code",
   "execution_count": 98,
   "id": "79175ebb",
   "metadata": {
    "ExecuteTime": {
     "end_time": "2021-11-27T19:05:06.190785Z",
     "start_time": "2021-11-27T19:05:06.161634Z"
    }
   },
   "outputs": [
    {
     "data": {
      "text/html": [
       "<div>\n",
       "<style scoped>\n",
       "    .dataframe tbody tr th:only-of-type {\n",
       "        vertical-align: middle;\n",
       "    }\n",
       "\n",
       "    .dataframe tbody tr th {\n",
       "        vertical-align: top;\n",
       "    }\n",
       "\n",
       "    .dataframe thead th {\n",
       "        text-align: right;\n",
       "    }\n",
       "</style>\n",
       "<table border=\"1\" class=\"dataframe\">\n",
       "  <thead>\n",
       "    <tr style=\"text-align: right;\">\n",
       "      <th></th>\n",
       "      <th>Crash Time of Day</th>\n",
       "      <th>Crash Date/Time</th>\n",
       "      <th>Collision Type</th>\n",
       "      <th>Surface Condition</th>\n",
       "      <th>Light</th>\n",
       "      <th>Traffic Control</th>\n",
       "      <th>Driver Substance Abuse</th>\n",
       "      <th>Driver At Fault</th>\n",
       "      <th>Driver Distracted By</th>\n",
       "      <th>Vehicle First Impact Location</th>\n",
       "      <th>Vehicle Second Impact Location</th>\n",
       "      <th>Vehicle Body Type</th>\n",
       "      <th>Vehicle Movement</th>\n",
       "      <th>Speed Limit</th>\n",
       "      <th>Parked Vehicle</th>\n",
       "    </tr>\n",
       "  </thead>\n",
       "  <tbody>\n",
       "    <tr>\n",
       "      <th>0</th>\n",
       "      <td>Early Morning</td>\n",
       "      <td>2019-09-26 07:20:00</td>\n",
       "      <td>SINGLE VEHICLE</td>\n",
       "      <td>NaN</td>\n",
       "      <td>DAYLIGHT</td>\n",
       "      <td>NaN</td>\n",
       "      <td>NONE DETECTED</td>\n",
       "      <td>Yes</td>\n",
       "      <td>NOT DISTRACTED</td>\n",
       "      <td>TWELVE OCLOCK</td>\n",
       "      <td>TWELVE OCLOCK</td>\n",
       "      <td>SCHOOL BUS</td>\n",
       "      <td>OTHER</td>\n",
       "      <td>15</td>\n",
       "      <td>No</td>\n",
       "    </tr>\n",
       "    <tr>\n",
       "      <th>1</th>\n",
       "      <td>Late Night</td>\n",
       "      <td>2020-06-18 02:00:00</td>\n",
       "      <td>OTHER</td>\n",
       "      <td>DRY</td>\n",
       "      <td>UNKNOWN</td>\n",
       "      <td>NaN</td>\n",
       "      <td>UNKNOWN</td>\n",
       "      <td>Yes</td>\n",
       "      <td>UNKNOWN</td>\n",
       "      <td>UNKNOWN</td>\n",
       "      <td>UNKNOWN</td>\n",
       "      <td>UNKNOWN</td>\n",
       "      <td>UNKNOWN</td>\n",
       "      <td>35</td>\n",
       "      <td>No</td>\n",
       "    </tr>\n",
       "    <tr>\n",
       "      <th>2</th>\n",
       "      <td>Noon</td>\n",
       "      <td>2020-04-19 15:39:00</td>\n",
       "      <td>OTHER</td>\n",
       "      <td>DRY</td>\n",
       "      <td>DAYLIGHT</td>\n",
       "      <td>NO CONTROLS</td>\n",
       "      <td>ALCOHOL PRESENT</td>\n",
       "      <td>Yes</td>\n",
       "      <td>UNKNOWN</td>\n",
       "      <td>TWELVE OCLOCK</td>\n",
       "      <td>FOUR OCLOCK</td>\n",
       "      <td>VAN</td>\n",
       "      <td>ACCELERATING</td>\n",
       "      <td>25</td>\n",
       "      <td>No</td>\n",
       "    </tr>\n",
       "    <tr>\n",
       "      <th>3</th>\n",
       "      <td>Morning</td>\n",
       "      <td>2020-04-20 09:15:00</td>\n",
       "      <td>OTHER</td>\n",
       "      <td>DRY</td>\n",
       "      <td>DAYLIGHT</td>\n",
       "      <td>NO CONTROLS</td>\n",
       "      <td>NONE DETECTED</td>\n",
       "      <td>Yes</td>\n",
       "      <td>UNKNOWN</td>\n",
       "      <td>ELEVEN OCLOCK</td>\n",
       "      <td>ELEVEN OCLOCK</td>\n",
       "      <td>PASSENGER CAR</td>\n",
       "      <td>UNKNOWN</td>\n",
       "      <td>25</td>\n",
       "      <td>No</td>\n",
       "    </tr>\n",
       "    <tr>\n",
       "      <th>4</th>\n",
       "      <td>Evening</td>\n",
       "      <td>2020-04-17 17:00:00</td>\n",
       "      <td>SAME DIR REAR END</td>\n",
       "      <td>DRY</td>\n",
       "      <td>DAYLIGHT</td>\n",
       "      <td>STOP SIGN</td>\n",
       "      <td>NONE DETECTED</td>\n",
       "      <td>No</td>\n",
       "      <td>NOT DISTRACTED</td>\n",
       "      <td>SIX OCLOCK</td>\n",
       "      <td>SIX OCLOCK</td>\n",
       "      <td>PASSENGER CAR</td>\n",
       "      <td>STOPPED IN TRAFFIC LANE</td>\n",
       "      <td>25</td>\n",
       "      <td>No</td>\n",
       "    </tr>\n",
       "  </tbody>\n",
       "</table>\n",
       "</div>"
      ],
      "text/plain": [
       "  Crash Time of Day     Crash Date/Time     Collision Type Surface Condition  \\\n",
       "0     Early Morning 2019-09-26 07:20:00     SINGLE VEHICLE               NaN   \n",
       "1        Late Night 2020-06-18 02:00:00              OTHER               DRY   \n",
       "2              Noon 2020-04-19 15:39:00              OTHER               DRY   \n",
       "3           Morning 2020-04-20 09:15:00              OTHER               DRY   \n",
       "4           Evening 2020-04-17 17:00:00  SAME DIR REAR END               DRY   \n",
       "\n",
       "      Light Traffic Control Driver Substance Abuse Driver At Fault  \\\n",
       "0  DAYLIGHT             NaN          NONE DETECTED             Yes   \n",
       "1   UNKNOWN             NaN                UNKNOWN             Yes   \n",
       "2  DAYLIGHT     NO CONTROLS        ALCOHOL PRESENT             Yes   \n",
       "3  DAYLIGHT     NO CONTROLS          NONE DETECTED             Yes   \n",
       "4  DAYLIGHT       STOP SIGN          NONE DETECTED              No   \n",
       "\n",
       "  Driver Distracted By Vehicle First Impact Location  \\\n",
       "0       NOT DISTRACTED                 TWELVE OCLOCK   \n",
       "1              UNKNOWN                       UNKNOWN   \n",
       "2              UNKNOWN                 TWELVE OCLOCK   \n",
       "3              UNKNOWN                 ELEVEN OCLOCK   \n",
       "4       NOT DISTRACTED                    SIX OCLOCK   \n",
       "\n",
       "  Vehicle Second Impact Location Vehicle Body Type         Vehicle Movement  \\\n",
       "0                  TWELVE OCLOCK        SCHOOL BUS                    OTHER   \n",
       "1                        UNKNOWN           UNKNOWN                  UNKNOWN   \n",
       "2                    FOUR OCLOCK               VAN             ACCELERATING   \n",
       "3                  ELEVEN OCLOCK     PASSENGER CAR                  UNKNOWN   \n",
       "4                     SIX OCLOCK     PASSENGER CAR  STOPPED IN TRAFFIC LANE   \n",
       "\n",
       "   Speed Limit Parked Vehicle  \n",
       "0           15             No  \n",
       "1           35             No  \n",
       "2           25             No  \n",
       "3           25             No  \n",
       "4           25             No  "
      ]
     },
     "execution_count": 98,
     "metadata": {},
     "output_type": "execute_result"
    }
   ],
   "source": [
    "crash_df.head()"
   ]
  },
  {
   "cell_type": "markdown",
   "id": "a6d0bd24",
   "metadata": {},
   "source": [
    "- Drop original Crash Date/Time column"
   ]
  },
  {
   "cell_type": "code",
   "execution_count": 99,
   "id": "81a20270",
   "metadata": {
    "ExecuteTime": {
     "end_time": "2021-11-27T19:05:06.239480Z",
     "start_time": "2021-11-27T19:05:06.192896Z"
    }
   },
   "outputs": [],
   "source": [
    "crash_df.drop(columns=['Crash Date/Time'], inplace=True)"
   ]
  },
  {
   "cell_type": "markdown",
   "id": "6dcbc674",
   "metadata": {},
   "source": [
    "#### Drop rows containing NaNs\n",
    "At this point, we can drop any rows containing `NaNs`"
   ]
  },
  {
   "cell_type": "code",
   "execution_count": 100,
   "id": "f71ea345",
   "metadata": {
    "ExecuteTime": {
     "end_time": "2021-11-27T19:05:06.363073Z",
     "start_time": "2021-11-27T19:05:06.241714Z"
    }
   },
   "outputs": [],
   "source": [
    "crash_df.dropna(inplace=True)"
   ]
  },
  {
   "cell_type": "code",
   "execution_count": 101,
   "id": "7498b3a9",
   "metadata": {
    "ExecuteTime": {
     "end_time": "2021-11-27T19:05:06.378094Z",
     "start_time": "2021-11-27T19:05:06.365075Z"
    }
   },
   "outputs": [
    {
     "data": {
      "text/plain": [
       "(83937, 14)"
      ]
     },
     "execution_count": 101,
     "metadata": {},
     "output_type": "execute_result"
    }
   ],
   "source": [
    "crash_df.shape"
   ]
  },
  {
   "cell_type": "markdown",
   "id": "0c6d0049",
   "metadata": {},
   "source": [
    "#### Drop UNKNOWN, OTHER, and blank spaces from dataframe"
   ]
  },
  {
   "cell_type": "code",
   "execution_count": 102,
   "id": "60e09e43",
   "metadata": {
    "ExecuteTime": {
     "end_time": "2021-11-27T19:05:06.691223Z",
     "start_time": "2021-11-27T19:05:06.379247Z"
    }
   },
   "outputs": [],
   "source": [
    "crash_df = crash_df.replace(to_replace=['UNKNOWN', 'OTHER', 'other', '', ' '], value=np.nan).dropna()"
   ]
  },
  {
   "cell_type": "code",
   "execution_count": 103,
   "id": "17c19311",
   "metadata": {
    "ExecuteTime": {
     "end_time": "2021-11-27T19:05:06.713458Z",
     "start_time": "2021-11-27T19:05:06.692309Z"
    }
   },
   "outputs": [
    {
     "data": {
      "text/plain": [
       "(63170, 14)"
      ]
     },
     "execution_count": 103,
     "metadata": {},
     "output_type": "execute_result"
    }
   ],
   "source": [
    "crash_df.shape"
   ]
  },
  {
   "cell_type": "code",
   "execution_count": 104,
   "id": "c40232e5",
   "metadata": {
    "ExecuteTime": {
     "end_time": "2021-11-27T19:05:06.776990Z",
     "start_time": "2021-11-27T19:05:06.717458Z"
    },
    "scrolled": false
   },
   "outputs": [
    {
     "data": {
      "text/html": [
       "<div>\n",
       "<style scoped>\n",
       "    .dataframe tbody tr th:only-of-type {\n",
       "        vertical-align: middle;\n",
       "    }\n",
       "\n",
       "    .dataframe tbody tr th {\n",
       "        vertical-align: top;\n",
       "    }\n",
       "\n",
       "    .dataframe thead th {\n",
       "        text-align: right;\n",
       "    }\n",
       "</style>\n",
       "<table border=\"1\" class=\"dataframe\">\n",
       "  <thead>\n",
       "    <tr style=\"text-align: right;\">\n",
       "      <th></th>\n",
       "      <th>Crash Time of Day</th>\n",
       "      <th>Collision Type</th>\n",
       "      <th>Surface Condition</th>\n",
       "      <th>Light</th>\n",
       "      <th>Traffic Control</th>\n",
       "      <th>Driver Substance Abuse</th>\n",
       "      <th>Driver At Fault</th>\n",
       "      <th>Driver Distracted By</th>\n",
       "      <th>Vehicle First Impact Location</th>\n",
       "      <th>Vehicle Second Impact Location</th>\n",
       "      <th>Vehicle Body Type</th>\n",
       "      <th>Vehicle Movement</th>\n",
       "      <th>Speed Limit</th>\n",
       "      <th>Parked Vehicle</th>\n",
       "    </tr>\n",
       "  </thead>\n",
       "  <tbody>\n",
       "    <tr>\n",
       "      <th>4</th>\n",
       "      <td>Evening</td>\n",
       "      <td>SAME DIR REAR END</td>\n",
       "      <td>DRY</td>\n",
       "      <td>DAYLIGHT</td>\n",
       "      <td>STOP SIGN</td>\n",
       "      <td>NONE DETECTED</td>\n",
       "      <td>No</td>\n",
       "      <td>NOT DISTRACTED</td>\n",
       "      <td>SIX OCLOCK</td>\n",
       "      <td>SIX OCLOCK</td>\n",
       "      <td>PASSENGER CAR</td>\n",
       "      <td>STOPPED IN TRAFFIC LANE</td>\n",
       "      <td>25</td>\n",
       "      <td>No</td>\n",
       "    </tr>\n",
       "    <tr>\n",
       "      <th>5</th>\n",
       "      <td>Early Morning</td>\n",
       "      <td>SAME DIR REAR END</td>\n",
       "      <td>DRY</td>\n",
       "      <td>DAWN</td>\n",
       "      <td>TRAFFIC SIGNAL</td>\n",
       "      <td>NONE DETECTED</td>\n",
       "      <td>No</td>\n",
       "      <td>NOT DISTRACTED</td>\n",
       "      <td>SIX OCLOCK</td>\n",
       "      <td>SIX OCLOCK</td>\n",
       "      <td>PASSENGER CAR</td>\n",
       "      <td>STOPPED IN TRAFFIC LANE</td>\n",
       "      <td>40</td>\n",
       "      <td>No</td>\n",
       "    </tr>\n",
       "    <tr>\n",
       "      <th>6</th>\n",
       "      <td>Early Morning</td>\n",
       "      <td>SINGLE VEHICLE</td>\n",
       "      <td>DRY</td>\n",
       "      <td>DAYLIGHT</td>\n",
       "      <td>NO CONTROLS</td>\n",
       "      <td>NONE DETECTED</td>\n",
       "      <td>No</td>\n",
       "      <td>NOT DISTRACTED</td>\n",
       "      <td>ELEVEN OCLOCK</td>\n",
       "      <td>ELEVEN OCLOCK</td>\n",
       "      <td>POLICE VEHICLE/NON EMERGENCY</td>\n",
       "      <td>MOVING CONSTANT SPEED</td>\n",
       "      <td>35</td>\n",
       "      <td>No</td>\n",
       "    </tr>\n",
       "    <tr>\n",
       "      <th>12</th>\n",
       "      <td>Noon</td>\n",
       "      <td>SAME DIRECTION SIDESWIPE</td>\n",
       "      <td>DRY</td>\n",
       "      <td>DAYLIGHT</td>\n",
       "      <td>STOP SIGN</td>\n",
       "      <td>NONE DETECTED</td>\n",
       "      <td>No</td>\n",
       "      <td>NOT DISTRACTED</td>\n",
       "      <td>ELEVEN OCLOCK</td>\n",
       "      <td>ELEVEN OCLOCK</td>\n",
       "      <td>PASSENGER CAR</td>\n",
       "      <td>MOVING CONSTANT SPEED</td>\n",
       "      <td>30</td>\n",
       "      <td>No</td>\n",
       "    </tr>\n",
       "    <tr>\n",
       "      <th>17</th>\n",
       "      <td>Early Morning</td>\n",
       "      <td>STRAIGHT MOVEMENT ANGLE</td>\n",
       "      <td>DRY</td>\n",
       "      <td>DAYLIGHT</td>\n",
       "      <td>TRAFFIC SIGNAL</td>\n",
       "      <td>NONE DETECTED</td>\n",
       "      <td>No</td>\n",
       "      <td>NOT DISTRACTED</td>\n",
       "      <td>TWELVE OCLOCK</td>\n",
       "      <td>TWELVE OCLOCK</td>\n",
       "      <td>PASSENGER CAR</td>\n",
       "      <td>MOVING CONSTANT SPEED</td>\n",
       "      <td>40</td>\n",
       "      <td>No</td>\n",
       "    </tr>\n",
       "  </tbody>\n",
       "</table>\n",
       "</div>"
      ],
      "text/plain": [
       "   Crash Time of Day            Collision Type Surface Condition     Light  \\\n",
       "4            Evening         SAME DIR REAR END               DRY  DAYLIGHT   \n",
       "5      Early Morning         SAME DIR REAR END               DRY      DAWN   \n",
       "6      Early Morning            SINGLE VEHICLE               DRY  DAYLIGHT   \n",
       "12              Noon  SAME DIRECTION SIDESWIPE               DRY  DAYLIGHT   \n",
       "17     Early Morning   STRAIGHT MOVEMENT ANGLE               DRY  DAYLIGHT   \n",
       "\n",
       "   Traffic Control Driver Substance Abuse Driver At Fault  \\\n",
       "4        STOP SIGN          NONE DETECTED              No   \n",
       "5   TRAFFIC SIGNAL          NONE DETECTED              No   \n",
       "6      NO CONTROLS          NONE DETECTED              No   \n",
       "12       STOP SIGN          NONE DETECTED              No   \n",
       "17  TRAFFIC SIGNAL          NONE DETECTED              No   \n",
       "\n",
       "   Driver Distracted By Vehicle First Impact Location  \\\n",
       "4        NOT DISTRACTED                    SIX OCLOCK   \n",
       "5        NOT DISTRACTED                    SIX OCLOCK   \n",
       "6        NOT DISTRACTED                 ELEVEN OCLOCK   \n",
       "12       NOT DISTRACTED                 ELEVEN OCLOCK   \n",
       "17       NOT DISTRACTED                 TWELVE OCLOCK   \n",
       "\n",
       "   Vehicle Second Impact Location             Vehicle Body Type  \\\n",
       "4                      SIX OCLOCK                 PASSENGER CAR   \n",
       "5                      SIX OCLOCK                 PASSENGER CAR   \n",
       "6                   ELEVEN OCLOCK  POLICE VEHICLE/NON EMERGENCY   \n",
       "12                  ELEVEN OCLOCK                 PASSENGER CAR   \n",
       "17                  TWELVE OCLOCK                 PASSENGER CAR   \n",
       "\n",
       "           Vehicle Movement  Speed Limit Parked Vehicle  \n",
       "4   STOPPED IN TRAFFIC LANE           25             No  \n",
       "5   STOPPED IN TRAFFIC LANE           40             No  \n",
       "6     MOVING CONSTANT SPEED           35             No  \n",
       "12    MOVING CONSTANT SPEED           30             No  \n",
       "17    MOVING CONSTANT SPEED           40             No  "
      ]
     },
     "execution_count": 104,
     "metadata": {},
     "output_type": "execute_result"
    }
   ],
   "source": [
    "crash_df.head()"
   ]
  },
  {
   "cell_type": "markdown",
   "id": "9b650855",
   "metadata": {},
   "source": [
    "#### Reduce categories for `Driver Substance Abuse`\n",
    "\n",
    "Presently, there are nine different categories of substance abuse.  For the sake of efficiency, perhaps, we should reduce the categories to just `No` for `NONE DETECTED` and `Yes` for remaining categories."
   ]
  },
  {
   "cell_type": "code",
   "execution_count": 105,
   "id": "521bf32f",
   "metadata": {
    "ExecuteTime": {
     "end_time": "2021-11-27T19:05:06.832116Z",
     "start_time": "2021-11-27T19:05:06.776990Z"
    }
   },
   "outputs": [
    {
     "data": {
      "text/plain": [
       "NONE DETECTED                 61249\n",
       "ALCOHOL PRESENT                1259\n",
       "ALCOHOL CONTRIBUTED             434\n",
       "ILLEGAL DRUG PRESENT             85\n",
       "MEDICATION PRESENT               46\n",
       "ILLEGAL DRUG CONTRIBUTED         37\n",
       "COMBINED SUBSTANCE PRESENT       25\n",
       "MEDICATION CONTRIBUTED           21\n",
       "COMBINATION CONTRIBUTED          14\n",
       "Name: Driver Substance Abuse, dtype: int64"
      ]
     },
     "execution_count": 105,
     "metadata": {},
     "output_type": "execute_result"
    }
   ],
   "source": [
    "crash_df['Driver Substance Abuse'].value_counts()"
   ]
  },
  {
   "cell_type": "code",
   "execution_count": 106,
   "id": "23c54523",
   "metadata": {
    "ExecuteTime": {
     "end_time": "2021-11-27T19:05:06.900424Z",
     "start_time": "2021-11-27T19:05:06.833167Z"
    }
   },
   "outputs": [],
   "source": [
    "crash_df['Driver Substance Abuse'] = crash_df['Driver Substance Abuse'].apply(lambda x: 'No' if x == 'NONE DETECTED' else 'Yes')"
   ]
  },
  {
   "cell_type": "code",
   "execution_count": 107,
   "id": "17a4b142",
   "metadata": {
    "ExecuteTime": {
     "end_time": "2021-11-27T19:05:06.950856Z",
     "start_time": "2021-11-27T19:05:06.900424Z"
    }
   },
   "outputs": [
    {
     "data": {
      "text/plain": [
       "No     61249\n",
       "Yes     1921\n",
       "Name: Driver Substance Abuse, dtype: int64"
      ]
     },
     "execution_count": 107,
     "metadata": {},
     "output_type": "execute_result"
    }
   ],
   "source": [
    "crash_df['Driver Substance Abuse'].value_counts()"
   ]
  },
  {
   "cell_type": "markdown",
   "id": "6ec89fd8",
   "metadata": {},
   "source": [
    "#### Categorize Feature Values\n",
    "\n",
    "We should categorize the data by converting string values to integers."
   ]
  },
  {
   "cell_type": "markdown",
   "id": "288888cd",
   "metadata": {},
   "source": [
    "- Make copy of `crash_df` dataframe"
   ]
  },
  {
   "cell_type": "code",
   "execution_count": 114,
   "id": "a5841d90",
   "metadata": {
    "ExecuteTime": {
     "end_time": "2021-11-27T19:10:37.879232Z",
     "start_time": "2021-11-27T19:10:37.862232Z"
    }
   },
   "outputs": [],
   "source": [
    "crash_cats_df = crash_df.copy(deep=True)"
   ]
  },
  {
   "cell_type": "code",
   "execution_count": 115,
   "id": "2578fb12",
   "metadata": {
    "ExecuteTime": {
     "end_time": "2021-11-27T19:10:39.162044Z",
     "start_time": "2021-11-27T19:10:39.142327Z"
    }
   },
   "outputs": [
    {
     "data": {
      "text/plain": [
       "((63170, 14), (63170, 14))"
      ]
     },
     "execution_count": 115,
     "metadata": {},
     "output_type": "execute_result"
    }
   ],
   "source": [
    "crash_cats_df.shape, crash_df.shape"
   ]
  },
  {
   "cell_type": "markdown",
   "id": "cb890e96",
   "metadata": {},
   "source": [
    "- Put features into a list to iterate over in next step"
   ]
  },
  {
   "cell_type": "code",
   "execution_count": 116,
   "id": "ba43eec9",
   "metadata": {
    "ExecuteTime": {
     "end_time": "2021-11-27T19:11:29.146534Z",
     "start_time": "2021-11-27T19:11:29.127836Z"
    }
   },
   "outputs": [
    {
     "name": "stdout",
     "output_type": "stream",
     "text": [
      "['Crash Time of Day', 'Collision Type', 'Surface Condition', 'Light', 'Traffic Control', 'Driver Substance Abuse', 'Driver At Fault', 'Driver Distracted By', 'Vehicle First Impact Location', 'Vehicle Second Impact Location', 'Vehicle Body Type', 'Vehicle Movement', 'Parked Vehicle']\n"
     ]
    }
   ],
   "source": [
    "features = crash_cats_df.columns.tolist()\n",
    "# Remove 'Speed Limit,' because its a numeric value. It doesn't need to be categorized.\n",
    "features.remove('Speed Limit')\n",
    "print(features)"
   ]
  },
  {
   "cell_type": "code",
   "execution_count": 117,
   "id": "d5f23877",
   "metadata": {
    "ExecuteTime": {
     "end_time": "2021-11-27T19:11:35.895935Z",
     "start_time": "2021-11-27T19:11:35.720518Z"
    }
   },
   "outputs": [],
   "source": [
    "for feature in features:\n",
    "    categorize(crash_cats_df, feature)"
   ]
  },
  {
   "cell_type": "code",
   "execution_count": 118,
   "id": "e21f0bc5",
   "metadata": {
    "ExecuteTime": {
     "end_time": "2021-11-27T19:11:37.208479Z",
     "start_time": "2021-11-27T19:11:37.186766Z"
    },
    "scrolled": true
   },
   "outputs": [
    {
     "data": {
      "text/html": [
       "<div>\n",
       "<style scoped>\n",
       "    .dataframe tbody tr th:only-of-type {\n",
       "        vertical-align: middle;\n",
       "    }\n",
       "\n",
       "    .dataframe tbody tr th {\n",
       "        vertical-align: top;\n",
       "    }\n",
       "\n",
       "    .dataframe thead th {\n",
       "        text-align: right;\n",
       "    }\n",
       "</style>\n",
       "<table border=\"1\" class=\"dataframe\">\n",
       "  <thead>\n",
       "    <tr style=\"text-align: right;\">\n",
       "      <th></th>\n",
       "      <th>Crash Time of Day</th>\n",
       "      <th>Collision Type</th>\n",
       "      <th>Surface Condition</th>\n",
       "      <th>Light</th>\n",
       "      <th>Traffic Control</th>\n",
       "      <th>Driver Substance Abuse</th>\n",
       "      <th>Driver At Fault</th>\n",
       "      <th>Driver Distracted By</th>\n",
       "      <th>Vehicle First Impact Location</th>\n",
       "      <th>Vehicle Second Impact Location</th>\n",
       "      <th>Vehicle Body Type</th>\n",
       "      <th>Vehicle Movement</th>\n",
       "      <th>Speed Limit</th>\n",
       "      <th>Parked Vehicle</th>\n",
       "    </tr>\n",
       "  </thead>\n",
       "  <tbody>\n",
       "    <tr>\n",
       "      <th>4</th>\n",
       "      <td>0</td>\n",
       "      <td>0</td>\n",
       "      <td>0</td>\n",
       "      <td>0</td>\n",
       "      <td>0</td>\n",
       "      <td>0</td>\n",
       "      <td>0</td>\n",
       "      <td>0</td>\n",
       "      <td>0</td>\n",
       "      <td>0</td>\n",
       "      <td>0</td>\n",
       "      <td>0</td>\n",
       "      <td>25</td>\n",
       "      <td>0</td>\n",
       "    </tr>\n",
       "    <tr>\n",
       "      <th>5</th>\n",
       "      <td>1</td>\n",
       "      <td>0</td>\n",
       "      <td>0</td>\n",
       "      <td>1</td>\n",
       "      <td>1</td>\n",
       "      <td>0</td>\n",
       "      <td>0</td>\n",
       "      <td>0</td>\n",
       "      <td>0</td>\n",
       "      <td>0</td>\n",
       "      <td>0</td>\n",
       "      <td>0</td>\n",
       "      <td>40</td>\n",
       "      <td>0</td>\n",
       "    </tr>\n",
       "    <tr>\n",
       "      <th>6</th>\n",
       "      <td>1</td>\n",
       "      <td>1</td>\n",
       "      <td>0</td>\n",
       "      <td>0</td>\n",
       "      <td>2</td>\n",
       "      <td>0</td>\n",
       "      <td>0</td>\n",
       "      <td>0</td>\n",
       "      <td>1</td>\n",
       "      <td>1</td>\n",
       "      <td>1</td>\n",
       "      <td>1</td>\n",
       "      <td>35</td>\n",
       "      <td>0</td>\n",
       "    </tr>\n",
       "    <tr>\n",
       "      <th>12</th>\n",
       "      <td>2</td>\n",
       "      <td>2</td>\n",
       "      <td>0</td>\n",
       "      <td>0</td>\n",
       "      <td>0</td>\n",
       "      <td>0</td>\n",
       "      <td>0</td>\n",
       "      <td>0</td>\n",
       "      <td>1</td>\n",
       "      <td>1</td>\n",
       "      <td>0</td>\n",
       "      <td>1</td>\n",
       "      <td>30</td>\n",
       "      <td>0</td>\n",
       "    </tr>\n",
       "    <tr>\n",
       "      <th>17</th>\n",
       "      <td>1</td>\n",
       "      <td>3</td>\n",
       "      <td>0</td>\n",
       "      <td>0</td>\n",
       "      <td>1</td>\n",
       "      <td>0</td>\n",
       "      <td>0</td>\n",
       "      <td>0</td>\n",
       "      <td>2</td>\n",
       "      <td>2</td>\n",
       "      <td>0</td>\n",
       "      <td>1</td>\n",
       "      <td>40</td>\n",
       "      <td>0</td>\n",
       "    </tr>\n",
       "  </tbody>\n",
       "</table>\n",
       "</div>"
      ],
      "text/plain": [
       "    Crash Time of Day  Collision Type  Surface Condition  Light  \\\n",
       "4                   0               0                  0      0   \n",
       "5                   1               0                  0      1   \n",
       "6                   1               1                  0      0   \n",
       "12                  2               2                  0      0   \n",
       "17                  1               3                  0      0   \n",
       "\n",
       "    Traffic Control  Driver Substance Abuse  Driver At Fault  \\\n",
       "4                 0                       0                0   \n",
       "5                 1                       0                0   \n",
       "6                 2                       0                0   \n",
       "12                0                       0                0   \n",
       "17                1                       0                0   \n",
       "\n",
       "    Driver Distracted By  Vehicle First Impact Location  \\\n",
       "4                      0                              0   \n",
       "5                      0                              0   \n",
       "6                      0                              1   \n",
       "12                     0                              1   \n",
       "17                     0                              2   \n",
       "\n",
       "    Vehicle Second Impact Location  Vehicle Body Type  Vehicle Movement  \\\n",
       "4                                0                  0                 0   \n",
       "5                                0                  0                 0   \n",
       "6                                1                  1                 1   \n",
       "12                               1                  0                 1   \n",
       "17                               2                  0                 1   \n",
       "\n",
       "    Speed Limit  Parked Vehicle  \n",
       "4            25               0  \n",
       "5            40               0  \n",
       "6            35               0  \n",
       "12           30               0  \n",
       "17           40               0  "
      ]
     },
     "execution_count": 118,
     "metadata": {},
     "output_type": "execute_result"
    }
   ],
   "source": [
    "crash_cats_df.head()"
   ]
  },
  {
   "cell_type": "code",
   "execution_count": null,
   "id": "4660e737",
   "metadata": {},
   "outputs": [],
   "source": []
  }
 ],
 "metadata": {
  "kernelspec": {
   "display_name": "Python 3",
   "language": "python",
   "name": "python3"
  },
  "language_info": {
   "codemirror_mode": {
    "name": "ipython",
    "version": 3
   },
   "file_extension": ".py",
   "mimetype": "text/x-python",
   "name": "python",
   "nbconvert_exporter": "python",
   "pygments_lexer": "ipython3",
   "version": "3.8.8"
  }
 },
 "nbformat": 4,
 "nbformat_minor": 5
}
