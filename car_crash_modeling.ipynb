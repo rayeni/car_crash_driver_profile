{
 "cells": [
  {
   "cell_type": "markdown",
   "id": "17436b5b",
   "metadata": {},
   "source": [
    "# Project 5: Car crash data"
   ]
  },
  {
   "cell_type": "markdown",
   "id": "1088a0a4",
   "metadata": {},
   "source": [
    "## Modeling Notebook\n",
    "This notebook is for modeling the car crash data.  It assumes that the previous notebooks have been run. "
   ]
  },
  {
   "cell_type": "markdown",
   "id": "b3e59fa1",
   "metadata": {},
   "source": [
    "## Problem Statement:\n"
   ]
  },
  {
   "cell_type": "code",
   "execution_count": 1,
   "id": "4c1e5d34",
   "metadata": {},
   "outputs": [],
   "source": [
    "#imports \n",
    "import pandas as pd\n",
    "import seaborn as sns\n",
    "import numpy as np\n",
    "import matplotlib.pyplot as plt\n",
    "\n",
    "from sklearn.linear_model import LogisticRegression, LogisticRegressionCV\n",
    "from sklearn.tree import DecisionTreeClassifier\n",
    "from sklearn.ensemble import RandomForestClassifier\n",
    "from xgboost import XGBClassifier\n",
    "from sklearn.model_selection import train_test_split\n",
    "from sklearn.metrics import plot_confusion_matrix, f1_score\n"
   ]
  },
  {
   "cell_type": "code",
   "execution_count": 2,
   "id": "8e3f454a",
   "metadata": {
    "scrolled": true
   },
   "outputs": [
    {
     "data": {
      "text/html": [
       "<div>\n",
       "<style scoped>\n",
       "    .dataframe tbody tr th:only-of-type {\n",
       "        vertical-align: middle;\n",
       "    }\n",
       "\n",
       "    .dataframe tbody tr th {\n",
       "        vertical-align: top;\n",
       "    }\n",
       "\n",
       "    .dataframe thead th {\n",
       "        text-align: right;\n",
       "    }\n",
       "</style>\n",
       "<table border=\"1\" class=\"dataframe\">\n",
       "  <thead>\n",
       "    <tr style=\"text-align: right;\">\n",
       "      <th></th>\n",
       "      <th>Crash Time of Day</th>\n",
       "      <th>Collision Type</th>\n",
       "      <th>Surface Condition</th>\n",
       "      <th>Light</th>\n",
       "      <th>Traffic Control</th>\n",
       "      <th>Driver Substance Abuse</th>\n",
       "      <th>Driver At Fault</th>\n",
       "      <th>Driver Distracted By</th>\n",
       "      <th>Vehicle First Impact Location</th>\n",
       "      <th>Vehicle Second Impact Location</th>\n",
       "      <th>Vehicle Body Type</th>\n",
       "      <th>Vehicle Movement</th>\n",
       "      <th>Speed Limit</th>\n",
       "      <th>Parked Vehicle</th>\n",
       "    </tr>\n",
       "  </thead>\n",
       "  <tbody>\n",
       "    <tr>\n",
       "      <th>0</th>\n",
       "      <td>Evening</td>\n",
       "      <td>SAME DIR REAR END</td>\n",
       "      <td>DRY</td>\n",
       "      <td>DAYLIGHT</td>\n",
       "      <td>STOP SIGN</td>\n",
       "      <td>No</td>\n",
       "      <td>No</td>\n",
       "      <td>No</td>\n",
       "      <td>SIX OCLOCK</td>\n",
       "      <td>SIX OCLOCK</td>\n",
       "      <td>PASSENGER CAR</td>\n",
       "      <td>STOPPED IN TRAFFIC LANE</td>\n",
       "      <td>25</td>\n",
       "      <td>No</td>\n",
       "    </tr>\n",
       "    <tr>\n",
       "      <th>1</th>\n",
       "      <td>Early Morning</td>\n",
       "      <td>SAME DIR REAR END</td>\n",
       "      <td>DRY</td>\n",
       "      <td>DAWN</td>\n",
       "      <td>TRAFFIC SIGNAL</td>\n",
       "      <td>No</td>\n",
       "      <td>No</td>\n",
       "      <td>No</td>\n",
       "      <td>SIX OCLOCK</td>\n",
       "      <td>SIX OCLOCK</td>\n",
       "      <td>PASSENGER CAR</td>\n",
       "      <td>STOPPED IN TRAFFIC LANE</td>\n",
       "      <td>40</td>\n",
       "      <td>No</td>\n",
       "    </tr>\n",
       "    <tr>\n",
       "      <th>2</th>\n",
       "      <td>Early Morning</td>\n",
       "      <td>SINGLE VEHICLE</td>\n",
       "      <td>DRY</td>\n",
       "      <td>DAYLIGHT</td>\n",
       "      <td>NO CONTROLS</td>\n",
       "      <td>No</td>\n",
       "      <td>No</td>\n",
       "      <td>No</td>\n",
       "      <td>ELEVEN OCLOCK</td>\n",
       "      <td>ELEVEN OCLOCK</td>\n",
       "      <td>POLICE VEHICLE/NON EMERGENCY</td>\n",
       "      <td>MOVING CONSTANT SPEED</td>\n",
       "      <td>35</td>\n",
       "      <td>No</td>\n",
       "    </tr>\n",
       "    <tr>\n",
       "      <th>3</th>\n",
       "      <td>Late Night</td>\n",
       "      <td>SINGLE VEHICLE</td>\n",
       "      <td>DRY</td>\n",
       "      <td>DARK LIGHTS ON</td>\n",
       "      <td>NO CONTROLS</td>\n",
       "      <td>No</td>\n",
       "      <td>No</td>\n",
       "      <td>No</td>\n",
       "      <td>TWELVE OCLOCK</td>\n",
       "      <td>TWELVE OCLOCK</td>\n",
       "      <td>POLICE VEHICLE/EMERGENCY</td>\n",
       "      <td>MOVING CONSTANT SPEED</td>\n",
       "      <td>35</td>\n",
       "      <td>No</td>\n",
       "    </tr>\n",
       "    <tr>\n",
       "      <th>4</th>\n",
       "      <td>Night</td>\n",
       "      <td>SAME DIR REAR END</td>\n",
       "      <td>DRY</td>\n",
       "      <td>DARK LIGHTS ON</td>\n",
       "      <td>NO CONTROLS</td>\n",
       "      <td>Yes</td>\n",
       "      <td>Yes</td>\n",
       "      <td>Yes</td>\n",
       "      <td>TWELVE OCLOCK</td>\n",
       "      <td>TWELVE OCLOCK</td>\n",
       "      <td>PASSENGER CAR</td>\n",
       "      <td>ACCELERATING</td>\n",
       "      <td>35</td>\n",
       "      <td>No</td>\n",
       "    </tr>\n",
       "  </tbody>\n",
       "</table>\n",
       "</div>"
      ],
      "text/plain": [
       "  Crash Time of Day     Collision Type Surface Condition           Light  \\\n",
       "0           Evening  SAME DIR REAR END               DRY        DAYLIGHT   \n",
       "1     Early Morning  SAME DIR REAR END               DRY            DAWN   \n",
       "2     Early Morning     SINGLE VEHICLE               DRY        DAYLIGHT   \n",
       "3        Late Night     SINGLE VEHICLE               DRY  DARK LIGHTS ON   \n",
       "4             Night  SAME DIR REAR END               DRY  DARK LIGHTS ON   \n",
       "\n",
       "  Traffic Control Driver Substance Abuse Driver At Fault Driver Distracted By  \\\n",
       "0       STOP SIGN                     No              No                   No   \n",
       "1  TRAFFIC SIGNAL                     No              No                   No   \n",
       "2     NO CONTROLS                     No              No                   No   \n",
       "3     NO CONTROLS                     No              No                   No   \n",
       "4     NO CONTROLS                    Yes             Yes                  Yes   \n",
       "\n",
       "  Vehicle First Impact Location Vehicle Second Impact Location  \\\n",
       "0                    SIX OCLOCK                     SIX OCLOCK   \n",
       "1                    SIX OCLOCK                     SIX OCLOCK   \n",
       "2                 ELEVEN OCLOCK                  ELEVEN OCLOCK   \n",
       "3                 TWELVE OCLOCK                  TWELVE OCLOCK   \n",
       "4                 TWELVE OCLOCK                  TWELVE OCLOCK   \n",
       "\n",
       "              Vehicle Body Type         Vehicle Movement  Speed Limit  \\\n",
       "0                 PASSENGER CAR  STOPPED IN TRAFFIC LANE           25   \n",
       "1                 PASSENGER CAR  STOPPED IN TRAFFIC LANE           40   \n",
       "2  POLICE VEHICLE/NON EMERGENCY    MOVING CONSTANT SPEED           35   \n",
       "3      POLICE VEHICLE/EMERGENCY    MOVING CONSTANT SPEED           35   \n",
       "4                 PASSENGER CAR             ACCELERATING           35   \n",
       "\n",
       "  Parked Vehicle  \n",
       "0             No  \n",
       "1             No  \n",
       "2             No  \n",
       "3             No  \n",
       "4             No  "
      ]
     },
     "execution_count": 2,
     "metadata": {},
     "output_type": "execute_result"
    }
   ],
   "source": [
    "#read data\n",
    "crash = pd.read_csv('./data/crash_data_modified.csv')\n",
    "crash.head()"
   ]
  },
  {
   "cell_type": "code",
   "execution_count": 3,
   "id": "f81d5050",
   "metadata": {
    "scrolled": true
   },
   "outputs": [
    {
     "data": {
      "text/plain": [
       "Index(['Crash Time of Day', 'Collision Type', 'Surface Condition', 'Light',\n",
       "       'Traffic Control', 'Driver Substance Abuse', 'Driver At Fault',\n",
       "       'Driver Distracted By', 'Vehicle First Impact Location',\n",
       "       'Vehicle Second Impact Location', 'Vehicle Body Type',\n",
       "       'Vehicle Movement', 'Speed Limit', 'Parked Vehicle'],\n",
       "      dtype='object')"
      ]
     },
     "execution_count": 3,
     "metadata": {},
     "output_type": "execute_result"
    }
   ],
   "source": [
    "# original feature names\n",
    "crash.columns"
   ]
  },
  {
   "cell_type": "markdown",
   "id": "7abda6d0-5384-409a-aaf2-0d1568f791ab",
   "metadata": {},
   "source": [
    "## Basic look at occurences of features in data"
   ]
  },
  {
   "cell_type": "code",
   "execution_count": 4,
   "id": "035511fa",
   "metadata": {},
   "outputs": [
    {
     "data": {
      "text/plain": [
       "No     0.973233\n",
       "Yes    0.026767\n",
       "Name: Driver Substance Abuse, dtype: float64"
      ]
     },
     "execution_count": 4,
     "metadata": {},
     "output_type": "execute_result"
    }
   ],
   "source": [
    "# Driver substance abuse\n",
    "crash['Driver Substance Abuse'].value_counts(normalize = True)"
   ]
  },
  {
   "cell_type": "code",
   "execution_count": 5,
   "id": "e2564d05",
   "metadata": {},
   "outputs": [
    {
     "data": {
      "text/plain": [
       "No     0.784361\n",
       "Yes    0.215639\n",
       "Name: Driver Distracted By, dtype: float64"
      ]
     },
     "execution_count": 5,
     "metadata": {},
     "output_type": "execute_result"
    }
   ],
   "source": [
    "# Driver distracted by\n",
    "crash['Driver Distracted By'].value_counts(normalize = True)"
   ]
  },
  {
   "cell_type": "markdown",
   "id": "1fa72bf7-dc3a-42d8-b27b-87509d4e3471",
   "metadata": {},
   "source": [
    "## Handling categorical variables (one-hot encoding)"
   ]
  },
  {
   "cell_type": "code",
   "execution_count": 6,
   "id": "9837ef70",
   "metadata": {},
   "outputs": [],
   "source": [
    "columns_to_dummify = ['Crash Time of Day', 'Collision Type', 'Surface Condition', 'Light',\n",
    "       'Traffic Control', 'Vehicle First Impact Location',\n",
    "       'Vehicle Second Impact Location', 'Vehicle Body Type',\n",
    "       'Vehicle Movement', 'Parked Vehicle']\n",
    "\n",
    "df = pd.get_dummies(crash,columns=columns_to_dummify, drop_first=True)"
   ]
  },
  {
   "cell_type": "code",
   "execution_count": 7,
   "id": "93ba58a9",
   "metadata": {},
   "outputs": [],
   "source": [
    "df['Driver At Fault'] = df['Driver At Fault'].map({'No':0, 'Yes':1})\n",
    "df['Driver Substance Abuse'] = df['Driver Substance Abuse'].map({'No':0, 'Yes':1})\n",
    "df['Driver Distracted By'] = df['Driver Distracted By'].map({'No':0, 'Yes':1})"
   ]
  },
  {
   "cell_type": "code",
   "execution_count": 8,
   "id": "a3dd70a6",
   "metadata": {},
   "outputs": [
    {
     "data": {
      "text/html": [
       "<div>\n",
       "<style scoped>\n",
       "    .dataframe tbody tr th:only-of-type {\n",
       "        vertical-align: middle;\n",
       "    }\n",
       "\n",
       "    .dataframe tbody tr th {\n",
       "        vertical-align: top;\n",
       "    }\n",
       "\n",
       "    .dataframe thead th {\n",
       "        text-align: right;\n",
       "    }\n",
       "</style>\n",
       "<table border=\"1\" class=\"dataframe\">\n",
       "  <thead>\n",
       "    <tr style=\"text-align: right;\">\n",
       "      <th></th>\n",
       "      <th>Driver Substance Abuse</th>\n",
       "      <th>Driver At Fault</th>\n",
       "      <th>Driver Distracted By</th>\n",
       "      <th>Speed Limit</th>\n",
       "      <th>Crash Time of Day_Evening</th>\n",
       "      <th>Crash Time of Day_Late Night</th>\n",
       "      <th>Crash Time of Day_Morning</th>\n",
       "      <th>Crash Time of Day_Night</th>\n",
       "      <th>Crash Time of Day_Noon</th>\n",
       "      <th>Collision Type_ANGLE MEETS LEFT TURN</th>\n",
       "      <th>...</th>\n",
       "      <th>Vehicle Movement_PARKED</th>\n",
       "      <th>Vehicle Movement_PARKING</th>\n",
       "      <th>Vehicle Movement_PASSING</th>\n",
       "      <th>Vehicle Movement_RIGHT TURN ON RED</th>\n",
       "      <th>Vehicle Movement_SKIDDING</th>\n",
       "      <th>Vehicle Movement_SLOWING OR STOPPING</th>\n",
       "      <th>Vehicle Movement_STARTING FROM LANE</th>\n",
       "      <th>Vehicle Movement_STARTING FROM PARKED</th>\n",
       "      <th>Vehicle Movement_STOPPED IN TRAFFIC LANE</th>\n",
       "      <th>Parked Vehicle_Yes</th>\n",
       "    </tr>\n",
       "  </thead>\n",
       "  <tbody>\n",
       "    <tr>\n",
       "      <th>0</th>\n",
       "      <td>0</td>\n",
       "      <td>0</td>\n",
       "      <td>0</td>\n",
       "      <td>25</td>\n",
       "      <td>1</td>\n",
       "      <td>0</td>\n",
       "      <td>0</td>\n",
       "      <td>0</td>\n",
       "      <td>0</td>\n",
       "      <td>0</td>\n",
       "      <td>...</td>\n",
       "      <td>0</td>\n",
       "      <td>0</td>\n",
       "      <td>0</td>\n",
       "      <td>0</td>\n",
       "      <td>0</td>\n",
       "      <td>0</td>\n",
       "      <td>0</td>\n",
       "      <td>0</td>\n",
       "      <td>1</td>\n",
       "      <td>0</td>\n",
       "    </tr>\n",
       "    <tr>\n",
       "      <th>1</th>\n",
       "      <td>0</td>\n",
       "      <td>0</td>\n",
       "      <td>0</td>\n",
       "      <td>40</td>\n",
       "      <td>0</td>\n",
       "      <td>0</td>\n",
       "      <td>0</td>\n",
       "      <td>0</td>\n",
       "      <td>0</td>\n",
       "      <td>0</td>\n",
       "      <td>...</td>\n",
       "      <td>0</td>\n",
       "      <td>0</td>\n",
       "      <td>0</td>\n",
       "      <td>0</td>\n",
       "      <td>0</td>\n",
       "      <td>0</td>\n",
       "      <td>0</td>\n",
       "      <td>0</td>\n",
       "      <td>1</td>\n",
       "      <td>0</td>\n",
       "    </tr>\n",
       "    <tr>\n",
       "      <th>2</th>\n",
       "      <td>0</td>\n",
       "      <td>0</td>\n",
       "      <td>0</td>\n",
       "      <td>35</td>\n",
       "      <td>0</td>\n",
       "      <td>0</td>\n",
       "      <td>0</td>\n",
       "      <td>0</td>\n",
       "      <td>0</td>\n",
       "      <td>0</td>\n",
       "      <td>...</td>\n",
       "      <td>0</td>\n",
       "      <td>0</td>\n",
       "      <td>0</td>\n",
       "      <td>0</td>\n",
       "      <td>0</td>\n",
       "      <td>0</td>\n",
       "      <td>0</td>\n",
       "      <td>0</td>\n",
       "      <td>0</td>\n",
       "      <td>0</td>\n",
       "    </tr>\n",
       "    <tr>\n",
       "      <th>3</th>\n",
       "      <td>0</td>\n",
       "      <td>0</td>\n",
       "      <td>0</td>\n",
       "      <td>35</td>\n",
       "      <td>0</td>\n",
       "      <td>1</td>\n",
       "      <td>0</td>\n",
       "      <td>0</td>\n",
       "      <td>0</td>\n",
       "      <td>0</td>\n",
       "      <td>...</td>\n",
       "      <td>0</td>\n",
       "      <td>0</td>\n",
       "      <td>0</td>\n",
       "      <td>0</td>\n",
       "      <td>0</td>\n",
       "      <td>0</td>\n",
       "      <td>0</td>\n",
       "      <td>0</td>\n",
       "      <td>0</td>\n",
       "      <td>0</td>\n",
       "    </tr>\n",
       "    <tr>\n",
       "      <th>4</th>\n",
       "      <td>1</td>\n",
       "      <td>1</td>\n",
       "      <td>1</td>\n",
       "      <td>35</td>\n",
       "      <td>0</td>\n",
       "      <td>0</td>\n",
       "      <td>0</td>\n",
       "      <td>1</td>\n",
       "      <td>0</td>\n",
       "      <td>0</td>\n",
       "      <td>...</td>\n",
       "      <td>0</td>\n",
       "      <td>0</td>\n",
       "      <td>0</td>\n",
       "      <td>0</td>\n",
       "      <td>0</td>\n",
       "      <td>0</td>\n",
       "      <td>0</td>\n",
       "      <td>0</td>\n",
       "      <td>0</td>\n",
       "      <td>0</td>\n",
       "    </tr>\n",
       "  </tbody>\n",
       "</table>\n",
       "<p>5 rows × 120 columns</p>\n",
       "</div>"
      ],
      "text/plain": [
       "   Driver Substance Abuse  Driver At Fault  Driver Distracted By  Speed Limit  \\\n",
       "0                       0                0                     0           25   \n",
       "1                       0                0                     0           40   \n",
       "2                       0                0                     0           35   \n",
       "3                       0                0                     0           35   \n",
       "4                       1                1                     1           35   \n",
       "\n",
       "   Crash Time of Day_Evening  Crash Time of Day_Late Night  \\\n",
       "0                          1                             0   \n",
       "1                          0                             0   \n",
       "2                          0                             0   \n",
       "3                          0                             1   \n",
       "4                          0                             0   \n",
       "\n",
       "   Crash Time of Day_Morning  Crash Time of Day_Night  Crash Time of Day_Noon  \\\n",
       "0                          0                        0                       0   \n",
       "1                          0                        0                       0   \n",
       "2                          0                        0                       0   \n",
       "3                          0                        0                       0   \n",
       "4                          0                        1                       0   \n",
       "\n",
       "   Collision Type_ANGLE MEETS LEFT TURN  ...  Vehicle Movement_PARKED  \\\n",
       "0                                     0  ...                        0   \n",
       "1                                     0  ...                        0   \n",
       "2                                     0  ...                        0   \n",
       "3                                     0  ...                        0   \n",
       "4                                     0  ...                        0   \n",
       "\n",
       "   Vehicle Movement_PARKING  Vehicle Movement_PASSING  \\\n",
       "0                         0                         0   \n",
       "1                         0                         0   \n",
       "2                         0                         0   \n",
       "3                         0                         0   \n",
       "4                         0                         0   \n",
       "\n",
       "   Vehicle Movement_RIGHT TURN ON RED  Vehicle Movement_SKIDDING  \\\n",
       "0                                   0                          0   \n",
       "1                                   0                          0   \n",
       "2                                   0                          0   \n",
       "3                                   0                          0   \n",
       "4                                   0                          0   \n",
       "\n",
       "   Vehicle Movement_SLOWING OR STOPPING  Vehicle Movement_STARTING FROM LANE  \\\n",
       "0                                     0                                    0   \n",
       "1                                     0                                    0   \n",
       "2                                     0                                    0   \n",
       "3                                     0                                    0   \n",
       "4                                     0                                    0   \n",
       "\n",
       "   Vehicle Movement_STARTING FROM PARKED  \\\n",
       "0                                      0   \n",
       "1                                      0   \n",
       "2                                      0   \n",
       "3                                      0   \n",
       "4                                      0   \n",
       "\n",
       "   Vehicle Movement_STOPPED IN TRAFFIC LANE  Parked Vehicle_Yes  \n",
       "0                                         1                   0  \n",
       "1                                         1                   0  \n",
       "2                                         0                   0  \n",
       "3                                         0                   0  \n",
       "4                                         0                   0  \n",
       "\n",
       "[5 rows x 120 columns]"
      ]
     },
     "execution_count": 8,
     "metadata": {},
     "output_type": "execute_result"
    }
   ],
   "source": [
    "df.head()"
   ]
  },
  {
   "cell_type": "markdown",
   "id": "c3f765dc-8634-4f59-a56a-0bc4df211dec",
   "metadata": {},
   "source": [
    "## Setting up our features and target"
   ]
  },
  {
   "cell_type": "code",
   "execution_count": 9,
   "id": "a3b5e30e",
   "metadata": {},
   "outputs": [],
   "source": [
    "# get X and y; train,test,split the data\n",
    "X = df.drop(columns = 'Driver At Fault')\n",
    "y = df['Driver At Fault']\n",
    "\n",
    "X_train, X_test, y_train, y_test = train_test_split(X, y, stratify=y, random_state=13424)"
   ]
  },
  {
   "cell_type": "markdown",
   "id": "4104161f",
   "metadata": {},
   "source": [
    "## Null Model"
   ]
  },
  {
   "cell_type": "code",
   "execution_count": 10,
   "id": "2f6b3135",
   "metadata": {
    "scrolled": true
   },
   "outputs": [
    {
     "data": {
      "text/plain": [
       "0    0.556386\n",
       "1    0.443614\n",
       "Name: Driver At Fault, dtype: float64"
      ]
     },
     "execution_count": 10,
     "metadata": {},
     "output_type": "execute_result"
    }
   ],
   "source": [
    "df['Driver At Fault'].value_counts(normalize = True)"
   ]
  },
  {
   "cell_type": "markdown",
   "id": "bb6fbd5d",
   "metadata": {},
   "source": [
    "For this data set 55.6% of the crashes were listed as the driver not at fault.  This means that if we assign the driver as never at fault we would have a baseline accuracy of 55.6%.  "
   ]
  },
  {
   "cell_type": "markdown",
   "id": "7e1474d0",
   "metadata": {
    "tags": []
   },
   "source": [
    "## Simple Logistic Regression Model"
   ]
  },
  {
   "cell_type": "code",
   "execution_count": 11,
   "id": "172480b6",
   "metadata": {
    "jupyter": {
     "source_hidden": true
    },
    "tags": []
   },
   "outputs": [
    {
     "data": {
      "text/plain": [
       "LogisticRegression(max_iter=1000)"
      ]
     },
     "execution_count": 11,
     "metadata": {},
     "output_type": "execute_result"
    }
   ],
   "source": [
    "# logistic regression\n",
    "logreg = LogisticRegression(max_iter=1000)\n",
    "logreg.fit(X_train,y_train)"
   ]
  },
  {
   "cell_type": "code",
   "execution_count": 12,
   "id": "5b8d8bde",
   "metadata": {
    "jupyter": {
     "source_hidden": true
    },
    "tags": []
   },
   "outputs": [
    {
     "name": "stdout",
     "output_type": "stream",
     "text": [
      "Logistic Regression metrics\n",
      "\n",
      "           training           testing\n",
      "Accuracy:  0.8907869877911315 0.89393217755763\n",
      "f1:        0.8758101496633027 0.8798748584066022\n"
     ]
    }
   ],
   "source": [
    "print('Logistic Regression metrics\\n')\n",
    "print('           training           testing')\n",
    "print('Accuracy: ',logreg.score(X_train,y_train),logreg.score(X_test,y_test))\n",
    "print('f1:       ',f1_score(y_train,logreg.predict(X_train)),f1_score(y_test,logreg.predict(X_test)))"
   ]
  },
  {
   "cell_type": "code",
   "execution_count": 13,
   "id": "72ecb60c",
   "metadata": {
    "jupyter": {
     "source_hidden": true
    },
    "scrolled": true,
    "tags": []
   },
   "outputs": [
    {
     "data": {
      "image/png": "[encoded data removed]",
      "text/plain": [
       "<Figure size 432x288 with 2 Axes>"
      ]
     },
     "metadata": {
      "needs_background": "light"
     },
     "output_type": "display_data"
    }
   ],
   "source": [
    "# confusion matrix\n",
    "plot_confusion_matrix(logreg,X_test,y_test);"
   ]
  },
  {
   "cell_type": "markdown",
   "id": "4656177c-79b3-495b-b0bf-d033f9013d61",
   "metadata": {},
   "source": [
    "For the logistic regression model, the confusion matrix is fairly balanced with only slightly more Type II errors than Type I errors.  It has a fairly high accuracy and fairly high f1 score.  "
   ]
  },
  {
   "cell_type": "code",
   "execution_count": 51,
   "id": "c768319d-7f0a-4f4b-98a8-c7b5f02cb4c2",
   "metadata": {},
   "outputs": [],
   "source": [
    "# dataframe from the fit coefficients\n",
    "logreg_coef_dict = {entry[0]:entry[1] for entry in list(zip(X.columns, logreg.coef_[0]))}\n",
    "logreg_coef_df = pd.DataFrame(logreg_coef_dict.values(), index = logreg_coef_dict.keys())\n",
    "logreg_coef_df.columns = ['coef']"
   ]
  },
  {
   "cell_type": "markdown",
   "id": "7e07f94b",
   "metadata": {},
   "source": [
    "## Decision Tree Modeling"
   ]
  },
  {
   "cell_type": "code",
   "execution_count": 14,
   "id": "50e2a1bb",
   "metadata": {
    "jupyter": {
     "source_hidden": true
    },
    "tags": []
   },
   "outputs": [
    {
     "data": {
      "text/plain": [
       "DecisionTreeClassifier(max_depth=5)"
      ]
     },
     "execution_count": 14,
     "metadata": {},
     "output_type": "execute_result"
    }
   ],
   "source": [
    "tree = DecisionTreeClassifier(max_depth=5)\n",
    "tree.fit(X_train,y_train)"
   ]
  },
  {
   "cell_type": "code",
   "execution_count": 15,
   "id": "89daadbd",
   "metadata": {
    "jupyter": {
     "source_hidden": true
    },
    "scrolled": true,
    "tags": []
   },
   "outputs": [
    {
     "name": "stdout",
     "output_type": "stream",
     "text": [
      "Decision Tree metrics\n",
      "\n",
      "           training           testing\n",
      "Accuracy:  0.8617174972613396 0.8596399314155078\n",
      "f1:        0.8264456222850994 0.8236490934115254\n"
     ]
    }
   ],
   "source": [
    "print('Decision Tree metrics\\n')\n",
    "print('           training           testing')\n",
    "print('Accuracy: ', tree.score(X_train,y_train),tree.score(X_test,y_test))\n",
    "print('f1:       ',f1_score(y_train,tree.predict(X_train)),f1_score(y_test,tree.predict(X_test)))"
   ]
  },
  {
   "cell_type": "code",
   "execution_count": 16,
   "id": "a6833f9e",
   "metadata": {},
   "outputs": [
    {
     "data": {
      "image/png": "[encoded data removed]",
      "text/plain": [
       "<Figure size 432x288 with 2 Axes>"
      ]
     },
     "metadata": {
      "needs_background": "light"
     },
     "output_type": "display_data"
    }
   ],
   "source": [
    "plot_confusion_matrix(tree,X_test,y_test);"
   ]
  },
  {
   "cell_type": "markdown",
   "id": "10885d7d-dc91-4ccd-8b40-e2342f2d0492",
   "metadata": {},
   "source": [
    "For the decision tree model, the confusion matrix is unbalanced with vastly more Type II errors than Type I errors.  It has a fairly high accuracy and fairly high f1 score though.  "
   ]
  },
  {
   "cell_type": "code",
   "execution_count": 17,
   "id": "fd34123a",
   "metadata": {},
   "outputs": [
    {
     "data": {
      "text/html": [
       "<div>\n",
       "<style scoped>\n",
       "    .dataframe tbody tr th:only-of-type {\n",
       "        vertical-align: middle;\n",
       "    }\n",
       "\n",
       "    .dataframe tbody tr th {\n",
       "        vertical-align: top;\n",
       "    }\n",
       "\n",
       "    .dataframe thead th {\n",
       "        text-align: right;\n",
       "    }\n",
       "</style>\n",
       "<table border=\"1\" class=\"dataframe\">\n",
       "  <thead>\n",
       "    <tr style=\"text-align: right;\">\n",
       "      <th></th>\n",
       "      <th>imp</th>\n",
       "    </tr>\n",
       "  </thead>\n",
       "  <tbody>\n",
       "    <tr>\n",
       "      <th>Driver Distracted By</th>\n",
       "      <td>0.497713</td>\n",
       "    </tr>\n",
       "    <tr>\n",
       "      <th>Vehicle First Impact Location_SIX OCLOCK</th>\n",
       "      <td>0.178323</td>\n",
       "    </tr>\n",
       "    <tr>\n",
       "      <th>Collision Type_SAME DIR REAR END</th>\n",
       "      <td>0.112282</td>\n",
       "    </tr>\n",
       "    <tr>\n",
       "      <th>Collision Type_SINGLE VEHICLE</th>\n",
       "      <td>0.082451</td>\n",
       "    </tr>\n",
       "    <tr>\n",
       "      <th>Vehicle Movement_MOVING CONSTANT SPEED</th>\n",
       "      <td>0.059013</td>\n",
       "    </tr>\n",
       "    <tr>\n",
       "      <th>Vehicle Second Impact Location_TWELVE OCLOCK</th>\n",
       "      <td>0.035352</td>\n",
       "    </tr>\n",
       "    <tr>\n",
       "      <th>Vehicle Movement_STOPPED IN TRAFFIC LANE</th>\n",
       "      <td>0.011978</td>\n",
       "    </tr>\n",
       "    <tr>\n",
       "      <th>Vehicle Movement_BACKING</th>\n",
       "      <td>0.009143</td>\n",
       "    </tr>\n",
       "    <tr>\n",
       "      <th>Vehicle Second Impact Location_ONE OCLOCK</th>\n",
       "      <td>0.004277</td>\n",
       "    </tr>\n",
       "    <tr>\n",
       "      <th>Vehicle Body Type_POLICE VEHICLE/NON EMERGENCY</th>\n",
       "      <td>0.003764</td>\n",
       "    </tr>\n",
       "    <tr>\n",
       "      <th>Vehicle Movement_CHANGING LANES</th>\n",
       "      <td>0.002090</td>\n",
       "    </tr>\n",
       "    <tr>\n",
       "      <th>Vehicle Movement_SLOWING OR STOPPING</th>\n",
       "      <td>0.001487</td>\n",
       "    </tr>\n",
       "    <tr>\n",
       "      <th>Collision Type_HEAD ON LEFT TURN</th>\n",
       "      <td>0.000544</td>\n",
       "    </tr>\n",
       "    <tr>\n",
       "      <th>Vehicle Movement_PARKED</th>\n",
       "      <td>0.000456</td>\n",
       "    </tr>\n",
       "    <tr>\n",
       "      <th>Parked Vehicle_Yes</th>\n",
       "      <td>0.000240</td>\n",
       "    </tr>\n",
       "    <tr>\n",
       "      <th>Vehicle Body Type_MEDIUM/HEAVY TRUCKS 3 AXLES (OVER 10,000LBS (4,536KG))</th>\n",
       "      <td>0.000214</td>\n",
       "    </tr>\n",
       "    <tr>\n",
       "      <th>Speed Limit</th>\n",
       "      <td>0.000134</td>\n",
       "    </tr>\n",
       "    <tr>\n",
       "      <th>Traffic Control_NO CONTROLS</th>\n",
       "      <td>0.000111</td>\n",
       "    </tr>\n",
       "    <tr>\n",
       "      <th>Surface Condition_WET</th>\n",
       "      <td>0.000106</td>\n",
       "    </tr>\n",
       "    <tr>\n",
       "      <th>Traffic Control_PERSON</th>\n",
       "      <td>0.000102</td>\n",
       "    </tr>\n",
       "  </tbody>\n",
       "</table>\n",
       "</div>"
      ],
      "text/plain": [
       "                                                         imp\n",
       "Driver Distracted By                                0.497713\n",
       "Vehicle First Impact Location_SIX OCLOCK            0.178323\n",
       "Collision Type_SAME DIR REAR END                    0.112282\n",
       "Collision Type_SINGLE VEHICLE                       0.082451\n",
       "Vehicle Movement_MOVING CONSTANT SPEED              0.059013\n",
       "Vehicle Second Impact Location_TWELVE OCLOCK        0.035352\n",
       "Vehicle Movement_STOPPED IN TRAFFIC LANE            0.011978\n",
       "Vehicle Movement_BACKING                            0.009143\n",
       "Vehicle Second Impact Location_ONE OCLOCK           0.004277\n",
       "Vehicle Body Type_POLICE VEHICLE/NON EMERGENCY      0.003764\n",
       "Vehicle Movement_CHANGING LANES                     0.002090\n",
       "Vehicle Movement_SLOWING OR STOPPING                0.001487\n",
       "Collision Type_HEAD ON LEFT TURN                    0.000544\n",
       "Vehicle Movement_PARKED                             0.000456\n",
       "Parked Vehicle_Yes                                  0.000240\n",
       "Vehicle Body Type_MEDIUM/HEAVY TRUCKS 3 AXLES (...  0.000214\n",
       "Speed Limit                                         0.000134\n",
       "Traffic Control_NO CONTROLS                         0.000111\n",
       "Surface Condition_WET                               0.000106\n",
       "Traffic Control_PERSON                              0.000102"
      ]
     },
     "execution_count": 17,
     "metadata": {},
     "output_type": "execute_result"
    }
   ],
   "source": [
    "tree_imp_dict = {entry[0]:entry[1] for entry in list(zip(X.columns,tree.feature_importances_))}\n",
    "tree_imp_df = pd.DataFrame(tree_imp_dict.values(), index = tree_imp_dict.keys())\n",
    "tree_imp_df.columns = ['imp']\n",
    "tree_imp_df.sort_values(by = ['imp'], ascending= False).head(20)"
   ]
  },
  {
   "cell_type": "markdown",
   "id": "70efc644",
   "metadata": {},
   "source": [
    "The feature importances for the decision tree model are different than for the logistic regression model.  \n",
    "\n",
    "The tree model also shows driver distraction is the key indicator of driver responsibility in a crash.  \n",
    "\n",
    "This also has driver substance abuse of lower importance than the in the logistic regression model.  This is very interesting and we should investigate further.  "
   ]
  },
  {
   "cell_type": "markdown",
   "id": "58cbadd6",
   "metadata": {},
   "source": [
    "### Random Forest"
   ]
  },
  {
   "cell_type": "code",
   "execution_count": 18,
   "id": "60f7cf6c",
   "metadata": {
    "jupyter": {
     "source_hidden": true
    },
    "tags": []
   },
   "outputs": [
    {
     "data": {
      "text/plain": [
       "RandomForestClassifier(max_depth=14)"
      ]
     },
     "execution_count": 18,
     "metadata": {},
     "output_type": "execute_result"
    }
   ],
   "source": [
    "forest = RandomForestClassifier(max_depth = 14)\n",
    "forest.fit(X_train,y_train)"
   ]
  },
  {
   "cell_type": "code",
   "execution_count": 19,
   "id": "1031141f",
   "metadata": {
    "tags": []
   },
   "outputs": [
    {
     "name": "stdout",
     "output_type": "stream",
     "text": [
      "Random Forest metrics\n",
      "\n",
      "           training           testing\n",
      "Accuracy: 0.9090129709305095 0.902124214136026\n",
      "f1:       0.8957450291972132 0.8884546490799544\n"
     ]
    }
   ],
   "source": [
    "print('Random Forest metrics\\n')\n",
    "print('           training           testing')\n",
    "print('Accuracy:',forest.score(X_train,y_train),forest.score(X_test,y_test))\n",
    "print('f1:      ',f1_score(y_train,forest.predict(X_train)),f1_score(y_test,forest.predict(X_test)))"
   ]
  },
  {
   "cell_type": "code",
   "execution_count": 20,
   "id": "6d76168b",
   "metadata": {
    "jupyter": {
     "source_hidden": true
    },
    "tags": []
   },
   "outputs": [
    {
     "data": {
      "image/png": "[encoded data removed]",
      "text/plain": [
       "<Figure size 432x288 with 2 Axes>"
      ]
     },
     "metadata": {
      "needs_background": "light"
     },
     "output_type": "display_data"
    }
   ],
   "source": [
    "plot_confusion_matrix(forest,X_test,y_test);"
   ]
  },
  {
   "cell_type": "markdown",
   "id": "c5e0c50d-aa5a-4c77-ac37-ea2d75e1f5d0",
   "metadata": {},
   "source": [
    "For the random forest model, the confusion matrix is fairly balanced with slightly more Type II errors than Type I errors.  It has a high accuracy and high f1 score.  "
   ]
  },
  {
   "cell_type": "code",
   "execution_count": 21,
   "id": "c81319bb",
   "metadata": {},
   "outputs": [
    {
     "data": {
      "text/html": [
       "<div>\n",
       "<style scoped>\n",
       "    .dataframe tbody tr th:only-of-type {\n",
       "        vertical-align: middle;\n",
       "    }\n",
       "\n",
       "    .dataframe tbody tr th {\n",
       "        vertical-align: top;\n",
       "    }\n",
       "\n",
       "    .dataframe thead th {\n",
       "        text-align: right;\n",
       "    }\n",
       "</style>\n",
       "<table border=\"1\" class=\"dataframe\">\n",
       "  <thead>\n",
       "    <tr style=\"text-align: right;\">\n",
       "      <th></th>\n",
       "      <th>imp</th>\n",
       "    </tr>\n",
       "  </thead>\n",
       "  <tbody>\n",
       "    <tr>\n",
       "      <th>Driver Distracted By</th>\n",
       "      <td>0.230259</td>\n",
       "    </tr>\n",
       "    <tr>\n",
       "      <th>Collision Type_SAME DIR REAR END</th>\n",
       "      <td>0.086717</td>\n",
       "    </tr>\n",
       "    <tr>\n",
       "      <th>Vehicle Second Impact Location_SIX OCLOCK</th>\n",
       "      <td>0.084172</td>\n",
       "    </tr>\n",
       "    <tr>\n",
       "      <th>Vehicle First Impact Location_SIX OCLOCK</th>\n",
       "      <td>0.079383</td>\n",
       "    </tr>\n",
       "    <tr>\n",
       "      <th>Vehicle Movement_STOPPED IN TRAFFIC LANE</th>\n",
       "      <td>0.070355</td>\n",
       "    </tr>\n",
       "    <tr>\n",
       "      <th>Vehicle First Impact Location_TWELVE OCLOCK</th>\n",
       "      <td>0.067658</td>\n",
       "    </tr>\n",
       "    <tr>\n",
       "      <th>Vehicle Second Impact Location_TWELVE OCLOCK</th>\n",
       "      <td>0.059914</td>\n",
       "    </tr>\n",
       "    <tr>\n",
       "      <th>Vehicle Movement_MOVING CONSTANT SPEED</th>\n",
       "      <td>0.044617</td>\n",
       "    </tr>\n",
       "    <tr>\n",
       "      <th>Collision Type_SINGLE VEHICLE</th>\n",
       "      <td>0.044507</td>\n",
       "    </tr>\n",
       "    <tr>\n",
       "      <th>Vehicle Movement_MAKING LEFT TURN</th>\n",
       "      <td>0.034550</td>\n",
       "    </tr>\n",
       "    <tr>\n",
       "      <th>Driver Substance Abuse</th>\n",
       "      <td>0.018640</td>\n",
       "    </tr>\n",
       "    <tr>\n",
       "      <th>Collision Type_STRAIGHT MOVEMENT ANGLE</th>\n",
       "      <td>0.018157</td>\n",
       "    </tr>\n",
       "    <tr>\n",
       "      <th>Collision Type_HEAD ON LEFT TURN</th>\n",
       "      <td>0.016682</td>\n",
       "    </tr>\n",
       "    <tr>\n",
       "      <th>Vehicle Movement_CHANGING LANES</th>\n",
       "      <td>0.016192</td>\n",
       "    </tr>\n",
       "    <tr>\n",
       "      <th>Vehicle Movement_SLOWING OR STOPPING</th>\n",
       "      <td>0.013545</td>\n",
       "    </tr>\n",
       "    <tr>\n",
       "      <th>Speed Limit</th>\n",
       "      <td>0.008085</td>\n",
       "    </tr>\n",
       "    <tr>\n",
       "      <th>Vehicle Movement_BACKING</th>\n",
       "      <td>0.006749</td>\n",
       "    </tr>\n",
       "    <tr>\n",
       "      <th>Traffic Control_TRAFFIC SIGNAL</th>\n",
       "      <td>0.005904</td>\n",
       "    </tr>\n",
       "    <tr>\n",
       "      <th>Vehicle Movement_MAKING RIGHT TURN</th>\n",
       "      <td>0.005888</td>\n",
       "    </tr>\n",
       "    <tr>\n",
       "      <th>Traffic Control_NO CONTROLS</th>\n",
       "      <td>0.005148</td>\n",
       "    </tr>\n",
       "  </tbody>\n",
       "</table>\n",
       "</div>"
      ],
      "text/plain": [
       "                                                   imp\n",
       "Driver Distracted By                          0.230259\n",
       "Collision Type_SAME DIR REAR END              0.086717\n",
       "Vehicle Second Impact Location_SIX OCLOCK     0.084172\n",
       "Vehicle First Impact Location_SIX OCLOCK      0.079383\n",
       "Vehicle Movement_STOPPED IN TRAFFIC LANE      0.070355\n",
       "Vehicle First Impact Location_TWELVE OCLOCK   0.067658\n",
       "Vehicle Second Impact Location_TWELVE OCLOCK  0.059914\n",
       "Vehicle Movement_MOVING CONSTANT SPEED        0.044617\n",
       "Collision Type_SINGLE VEHICLE                 0.044507\n",
       "Vehicle Movement_MAKING LEFT TURN             0.034550\n",
       "Driver Substance Abuse                        0.018640\n",
       "Collision Type_STRAIGHT MOVEMENT ANGLE        0.018157\n",
       "Collision Type_HEAD ON LEFT TURN              0.016682\n",
       "Vehicle Movement_CHANGING LANES               0.016192\n",
       "Vehicle Movement_SLOWING OR STOPPING          0.013545\n",
       "Speed Limit                                   0.008085\n",
       "Vehicle Movement_BACKING                      0.006749\n",
       "Traffic Control_TRAFFIC SIGNAL                0.005904\n",
       "Vehicle Movement_MAKING RIGHT TURN            0.005888\n",
       "Traffic Control_NO CONTROLS                   0.005148"
      ]
     },
     "execution_count": 21,
     "metadata": {},
     "output_type": "execute_result"
    }
   ],
   "source": [
    "forest_imp_dict = {entry[0]:entry[1] for entry in list(zip(X.columns,forest.feature_importances_))}\n",
    "forest_imp_df = pd.DataFrame(forest_imp_dict.values(), index = forest_imp_dict.keys())\n",
    "forest_imp_df.columns = ['imp']\n",
    "forest_imp_df.sort_values(by = ['imp'], ascending= False).head(20)"
   ]
  },
  {
   "cell_type": "markdown",
   "id": "212b4a5f",
   "metadata": {},
   "source": [
    "The random forest shows similar feature importances to the tree and has about 5 points higher accuracy.  \n",
    "\n"
   ]
  },
  {
   "cell_type": "markdown",
   "id": "635bbb97",
   "metadata": {},
   "source": [
    "## Model metrics"
   ]
  },
  {
   "cell_type": "code",
   "execution_count": 22,
   "id": "36f43ec2",
   "metadata": {
    "jupyter": {
     "source_hidden": true
    },
    "tags": []
   },
   "outputs": [
    {
     "data": {
      "text/html": [
       "<div>\n",
       "<style scoped>\n",
       "    .dataframe tbody tr th:only-of-type {\n",
       "        vertical-align: middle;\n",
       "    }\n",
       "\n",
       "    .dataframe tbody tr th {\n",
       "        vertical-align: top;\n",
       "    }\n",
       "\n",
       "    .dataframe thead th {\n",
       "        text-align: right;\n",
       "    }\n",
       "</style>\n",
       "<table border=\"1\" class=\"dataframe\">\n",
       "  <thead>\n",
       "    <tr style=\"text-align: right;\">\n",
       "      <th></th>\n",
       "      <th>training_accuracy</th>\n",
       "      <th>testing_accuracy</th>\n",
       "      <th>training_f1</th>\n",
       "      <th>testing_f1</th>\n",
       "    </tr>\n",
       "  </thead>\n",
       "  <tbody>\n",
       "    <tr>\n",
       "      <th>logreg</th>\n",
       "      <td>0.890787</td>\n",
       "      <td>0.893932</td>\n",
       "      <td>0.87581</td>\n",
       "      <td>0.879875</td>\n",
       "    </tr>\n",
       "    <tr>\n",
       "      <th>tree</th>\n",
       "      <td>0.861717</td>\n",
       "      <td>0.859640</td>\n",
       "      <td>0.826446</td>\n",
       "      <td>0.823649</td>\n",
       "    </tr>\n",
       "    <tr>\n",
       "      <th>forest</th>\n",
       "      <td>0.909013</td>\n",
       "      <td>0.902124</td>\n",
       "      <td>0.895745</td>\n",
       "      <td>0.888455</td>\n",
       "    </tr>\n",
       "    <tr>\n",
       "      <th>null</th>\n",
       "      <td>0.556386</td>\n",
       "      <td>0.556386</td>\n",
       "      <td>undefined</td>\n",
       "      <td>undefined</td>\n",
       "    </tr>\n",
       "  </tbody>\n",
       "</table>\n",
       "</div>"
      ],
      "text/plain": [
       "        training_accuracy  testing_accuracy training_f1 testing_f1\n",
       "logreg           0.890787          0.893932     0.87581   0.879875\n",
       "tree             0.861717          0.859640    0.826446   0.823649\n",
       "forest           0.909013          0.902124    0.895745   0.888455\n",
       "null             0.556386          0.556386   undefined  undefined"
      ]
     },
     "execution_count": 22,
     "metadata": {},
     "output_type": "execute_result"
    }
   ],
   "source": [
    "## model comparison\n",
    "models = [logreg,tree,forest]\n",
    "model_metrics = [(model.score(X_train,y_train), \n",
    "                  model.score(X_test,y_test),\n",
    "                  f1_score(y_train,model.predict(X_train)),\n",
    "                  f1_score(y_test,model.predict(X_test))\n",
    "                 ) for model in models]\n",
    "metrics_df = pd.DataFrame(model_metrics, \n",
    "                          columns = ['training_accuracy', \n",
    "                                     'testing_accuracy',\n",
    "                                     'training_f1',\n",
    "                                     'testing_f1'\n",
    "                                    ], \n",
    "                          index = ['logreg','tree','forest'])\n",
    "null_acc = df['Driver At Fault'].value_counts(normalize = True)[0]\n",
    "metrics_df.loc[metrics_df.shape[0]] = [null_acc, null_acc, 'undefined', 'undefined']\n",
    "\n",
    "metrics_df.index = ['logreg','tree','forest', 'null']\n",
    "\n",
    "metrics_df.head()"
   ]
  },
  {
   "cell_type": "markdown",
   "id": "20e60164-076d-4fbd-b814-efc65b90d228",
   "metadata": {},
   "source": [
    "Comparing the models, the logistic regression and random forest both do quite well.  The forest has a slightly better testing accuracy and f1 score but shows slightly more variance.  All the models outperform the null model in which we assign all cases to be 0 (driver not at fault).  \n",
    "\n",
    "The random forest shows slightly better scores and provides information about feature importance.  However, it does not indicate if the importance is telling us it is positively correlated or negatively correlated with fault in an accident.  For this reason, we will examine the logistic regression coefficients in addition to the random forest feature importance.  "
   ]
  },
  {
   "cell_type": "markdown",
   "id": "e250b27a-4313-4801-a0dc-eb090f142bd4",
   "metadata": {},
   "source": [
    "## Model output"
   ]
  },
  {
   "cell_type": "markdown",
   "id": "3a6c99b4-9448-4ac4-9dcb-098ec868d903",
   "metadata": {},
   "source": [
    "#### Time of day"
   ]
  },
  {
   "cell_type": "code",
   "execution_count": 37,
   "id": "45dc730e-835a-4252-9183-113209e91eae",
   "metadata": {
    "jupyter": {
     "source_hidden": true
    },
    "tags": []
   },
   "outputs": [
    {
     "data": {
      "text/html": [
       "<div>\n",
       "<style scoped>\n",
       "    .dataframe tbody tr th:only-of-type {\n",
       "        vertical-align: middle;\n",
       "    }\n",
       "\n",
       "    .dataframe tbody tr th {\n",
       "        vertical-align: top;\n",
       "    }\n",
       "\n",
       "    .dataframe thead th {\n",
       "        text-align: right;\n",
       "    }\n",
       "</style>\n",
       "<table border=\"1\" class=\"dataframe\">\n",
       "  <thead>\n",
       "    <tr style=\"text-align: right;\">\n",
       "      <th></th>\n",
       "      <th>imp</th>\n",
       "    </tr>\n",
       "  </thead>\n",
       "  <tbody>\n",
       "    <tr>\n",
       "      <th>Crash Time of Day_Evening</th>\n",
       "      <td>0.001446</td>\n",
       "    </tr>\n",
       "    <tr>\n",
       "      <th>Crash Time of Day_Noon</th>\n",
       "      <td>0.001158</td>\n",
       "    </tr>\n",
       "    <tr>\n",
       "      <th>Crash Time of Day_Morning</th>\n",
       "      <td>0.001124</td>\n",
       "    </tr>\n",
       "    <tr>\n",
       "      <th>Crash Time of Day_Night</th>\n",
       "      <td>0.000954</td>\n",
       "    </tr>\n",
       "    <tr>\n",
       "      <th>Crash Time of Day_Late Night</th>\n",
       "      <td>0.000879</td>\n",
       "    </tr>\n",
       "  </tbody>\n",
       "</table>\n",
       "</div>"
      ],
      "text/plain": [
       "                                   imp\n",
       "Crash Time of Day_Evening     0.001446\n",
       "Crash Time of Day_Noon        0.001158\n",
       "Crash Time of Day_Morning     0.001124\n",
       "Crash Time of Day_Night       0.000954\n",
       "Crash Time of Day_Late Night  0.000879"
      ]
     },
     "execution_count": 37,
     "metadata": {},
     "output_type": "execute_result"
    }
   ],
   "source": [
    "#forest\n",
    "forest_imp_df[forest_imp_df.index.str.contains('Time')].sort_values('imp', ascending = False)"
   ]
  },
  {
   "cell_type": "markdown",
   "id": "091969f3-f172-467a-b78c-3acdbb02c389",
   "metadata": {},
   "source": [
    "#### Surface Conditions"
   ]
  },
  {
   "cell_type": "code",
   "execution_count": 39,
   "id": "f4c9c78e-f97d-4613-81cc-cee4cc77ea71",
   "metadata": {
    "jupyter": {
     "source_hidden": true
    },
    "tags": []
   },
   "outputs": [
    {
     "data": {
      "text/html": [
       "<div>\n",
       "<style scoped>\n",
       "    .dataframe tbody tr th:only-of-type {\n",
       "        vertical-align: middle;\n",
       "    }\n",
       "\n",
       "    .dataframe tbody tr th {\n",
       "        vertical-align: top;\n",
       "    }\n",
       "\n",
       "    .dataframe thead th {\n",
       "        text-align: right;\n",
       "    }\n",
       "</style>\n",
       "<table border=\"1\" class=\"dataframe\">\n",
       "  <thead>\n",
       "    <tr style=\"text-align: right;\">\n",
       "      <th></th>\n",
       "      <th>imp</th>\n",
       "    </tr>\n",
       "  </thead>\n",
       "  <tbody>\n",
       "    <tr>\n",
       "      <th>Surface Condition_WET</th>\n",
       "      <td>0.001851</td>\n",
       "    </tr>\n",
       "    <tr>\n",
       "      <th>Surface Condition_ICE</th>\n",
       "      <td>0.000458</td>\n",
       "    </tr>\n",
       "    <tr>\n",
       "      <th>Surface Condition_SNOW</th>\n",
       "      <td>0.000409</td>\n",
       "    </tr>\n",
       "    <tr>\n",
       "      <th>Surface Condition_SLUSH</th>\n",
       "      <td>0.000071</td>\n",
       "    </tr>\n",
       "    <tr>\n",
       "      <th>Surface Condition_MUD, DIRT, GRAVEL</th>\n",
       "      <td>0.000063</td>\n",
       "    </tr>\n",
       "    <tr>\n",
       "      <th>Surface Condition_WATER(STANDING/MOVING)</th>\n",
       "      <td>0.000034</td>\n",
       "    </tr>\n",
       "    <tr>\n",
       "      <th>Surface Condition_OIL</th>\n",
       "      <td>0.000005</td>\n",
       "    </tr>\n",
       "    <tr>\n",
       "      <th>Surface Condition_SAND</th>\n",
       "      <td>0.000000</td>\n",
       "    </tr>\n",
       "  </tbody>\n",
       "</table>\n",
       "</div>"
      ],
      "text/plain": [
       "                                               imp\n",
       "Surface Condition_WET                     0.001851\n",
       "Surface Condition_ICE                     0.000458\n",
       "Surface Condition_SNOW                    0.000409\n",
       "Surface Condition_SLUSH                   0.000071\n",
       "Surface Condition_MUD, DIRT, GRAVEL       0.000063\n",
       "Surface Condition_WATER(STANDING/MOVING)  0.000034\n",
       "Surface Condition_OIL                     0.000005\n",
       "Surface Condition_SAND                    0.000000"
      ]
     },
     "execution_count": 39,
     "metadata": {},
     "output_type": "execute_result"
    }
   ],
   "source": [
    "forest_imp_df[forest_imp_df.index.str.contains('Surface')].sort_values('imp', ascending = False)"
   ]
  },
  {
   "cell_type": "code",
   "execution_count": 47,
   "id": "ffe33e7d-9837-4d38-8f6b-5d69554de4f4",
   "metadata": {
    "jupyter": {
     "source_hidden": true
    },
    "tags": []
   },
   "outputs": [
    {
     "data": {
      "text/html": [
       "<div>\n",
       "<style scoped>\n",
       "    .dataframe tbody tr th:only-of-type {\n",
       "        vertical-align: middle;\n",
       "    }\n",
       "\n",
       "    .dataframe tbody tr th {\n",
       "        vertical-align: top;\n",
       "    }\n",
       "\n",
       "    .dataframe thead th {\n",
       "        text-align: right;\n",
       "    }\n",
       "</style>\n",
       "<table border=\"1\" class=\"dataframe\">\n",
       "  <thead>\n",
       "    <tr style=\"text-align: right;\">\n",
       "      <th></th>\n",
       "      <th>coef</th>\n",
       "    </tr>\n",
       "  </thead>\n",
       "  <tbody>\n",
       "    <tr>\n",
       "      <th>Surface Condition_SNOW</th>\n",
       "      <td>0.853109</td>\n",
       "    </tr>\n",
       "    <tr>\n",
       "      <th>Surface Condition_ICE</th>\n",
       "      <td>0.603895</td>\n",
       "    </tr>\n",
       "    <tr>\n",
       "      <th>Surface Condition_WET</th>\n",
       "      <td>0.256052</td>\n",
       "    </tr>\n",
       "    <tr>\n",
       "      <th>Surface Condition_WATER(STANDING/MOVING)</th>\n",
       "      <td>0.165033</td>\n",
       "    </tr>\n",
       "    <tr>\n",
       "      <th>Surface Condition_SAND</th>\n",
       "      <td>0.029099</td>\n",
       "    </tr>\n",
       "    <tr>\n",
       "      <th>Surface Condition_SLUSH</th>\n",
       "      <td>-0.005173</td>\n",
       "    </tr>\n",
       "    <tr>\n",
       "      <th>Surface Condition_OIL</th>\n",
       "      <td>-0.027624</td>\n",
       "    </tr>\n",
       "    <tr>\n",
       "      <th>Surface Condition_MUD, DIRT, GRAVEL</th>\n",
       "      <td>-0.751465</td>\n",
       "    </tr>\n",
       "  </tbody>\n",
       "</table>\n",
       "</div>"
      ],
      "text/plain": [
       "                                              coef\n",
       "Surface Condition_SNOW                    0.853109\n",
       "Surface Condition_ICE                     0.603895\n",
       "Surface Condition_WET                     0.256052\n",
       "Surface Condition_WATER(STANDING/MOVING)  0.165033\n",
       "Surface Condition_SAND                    0.029099\n",
       "Surface Condition_SLUSH                  -0.005173\n",
       "Surface Condition_OIL                    -0.027624\n",
       "Surface Condition_MUD, DIRT, GRAVEL      -0.751465"
      ]
     },
     "execution_count": 47,
     "metadata": {},
     "output_type": "execute_result"
    }
   ],
   "source": [
    "logreg_coef_df[logreg_coef_df.index.str.contains('Surface')].sort_values('coef', ascending = False)"
   ]
  },
  {
   "cell_type": "markdown",
   "id": "d37e0002-b9b0-4764-a6f8-274c4e22d370",
   "metadata": {},
   "source": [
    "#### Traffic Control"
   ]
  },
  {
   "cell_type": "code",
   "execution_count": 40,
   "id": "2b453a22-0200-4a14-8d52-92eadce35e3f",
   "metadata": {
    "jupyter": {
     "source_hidden": true
    },
    "tags": []
   },
   "outputs": [
    {
     "data": {
      "text/html": [
       "<div>\n",
       "<style scoped>\n",
       "    .dataframe tbody tr th:only-of-type {\n",
       "        vertical-align: middle;\n",
       "    }\n",
       "\n",
       "    .dataframe tbody tr th {\n",
       "        vertical-align: top;\n",
       "    }\n",
       "\n",
       "    .dataframe thead th {\n",
       "        text-align: right;\n",
       "    }\n",
       "</style>\n",
       "<table border=\"1\" class=\"dataframe\">\n",
       "  <thead>\n",
       "    <tr style=\"text-align: right;\">\n",
       "      <th></th>\n",
       "      <th>imp</th>\n",
       "    </tr>\n",
       "  </thead>\n",
       "  <tbody>\n",
       "    <tr>\n",
       "      <th>Traffic Control_TRAFFIC SIGNAL</th>\n",
       "      <td>0.005904</td>\n",
       "    </tr>\n",
       "    <tr>\n",
       "      <th>Traffic Control_NO CONTROLS</th>\n",
       "      <td>0.005148</td>\n",
       "    </tr>\n",
       "    <tr>\n",
       "      <th>Traffic Control_STOP SIGN</th>\n",
       "      <td>0.004745</td>\n",
       "    </tr>\n",
       "    <tr>\n",
       "      <th>Traffic Control_YIELD SIGN</th>\n",
       "      <td>0.000367</td>\n",
       "    </tr>\n",
       "    <tr>\n",
       "      <th>Traffic Control_PERSON</th>\n",
       "      <td>0.000090</td>\n",
       "    </tr>\n",
       "    <tr>\n",
       "      <th>Traffic Control_WARNING SIGN</th>\n",
       "      <td>0.000052</td>\n",
       "    </tr>\n",
       "    <tr>\n",
       "      <th>Traffic Control_RAILWAY CROSSING DEVICE</th>\n",
       "      <td>0.000021</td>\n",
       "    </tr>\n",
       "    <tr>\n",
       "      <th>Traffic Control_SCHOOL ZONE SIGN DEVICE</th>\n",
       "      <td>0.000006</td>\n",
       "    </tr>\n",
       "  </tbody>\n",
       "</table>\n",
       "</div>"
      ],
      "text/plain": [
       "                                              imp\n",
       "Traffic Control_TRAFFIC SIGNAL           0.005904\n",
       "Traffic Control_NO CONTROLS              0.005148\n",
       "Traffic Control_STOP SIGN                0.004745\n",
       "Traffic Control_YIELD SIGN               0.000367\n",
       "Traffic Control_PERSON                   0.000090\n",
       "Traffic Control_WARNING SIGN             0.000052\n",
       "Traffic Control_RAILWAY CROSSING DEVICE  0.000021\n",
       "Traffic Control_SCHOOL ZONE SIGN DEVICE  0.000006"
      ]
     },
     "execution_count": 40,
     "metadata": {},
     "output_type": "execute_result"
    }
   ],
   "source": [
    "forest_imp_df[forest_imp_df.index.str.contains('Traffic Control')].sort_values('imp', ascending = False)"
   ]
  },
  {
   "cell_type": "code",
   "execution_count": 48,
   "id": "e1747eaf-3d3a-437e-a8e1-f18a107f4e75",
   "metadata": {
    "jupyter": {
     "source_hidden": true
    },
    "tags": []
   },
   "outputs": [
    {
     "data": {
      "text/html": [
       "<div>\n",
       "<style scoped>\n",
       "    .dataframe tbody tr th:only-of-type {\n",
       "        vertical-align: middle;\n",
       "    }\n",
       "\n",
       "    .dataframe tbody tr th {\n",
       "        vertical-align: top;\n",
       "    }\n",
       "\n",
       "    .dataframe thead th {\n",
       "        text-align: right;\n",
       "    }\n",
       "</style>\n",
       "<table border=\"1\" class=\"dataframe\">\n",
       "  <thead>\n",
       "    <tr style=\"text-align: right;\">\n",
       "      <th></th>\n",
       "      <th>coef</th>\n",
       "    </tr>\n",
       "  </thead>\n",
       "  <tbody>\n",
       "    <tr>\n",
       "      <th>Traffic Control_RAILWAY CROSSING DEVICE</th>\n",
       "      <td>0.370901</td>\n",
       "    </tr>\n",
       "    <tr>\n",
       "      <th>Traffic Control_WARNING SIGN</th>\n",
       "      <td>0.309589</td>\n",
       "    </tr>\n",
       "    <tr>\n",
       "      <th>Traffic Control_SCHOOL ZONE SIGN DEVICE</th>\n",
       "      <td>0.047797</td>\n",
       "    </tr>\n",
       "    <tr>\n",
       "      <th>Traffic Control_YIELD SIGN</th>\n",
       "      <td>-0.174535</td>\n",
       "    </tr>\n",
       "    <tr>\n",
       "      <th>Traffic Control_NO CONTROLS</th>\n",
       "      <td>-0.281767</td>\n",
       "    </tr>\n",
       "    <tr>\n",
       "      <th>Traffic Control_STOP SIGN</th>\n",
       "      <td>-0.379052</td>\n",
       "    </tr>\n",
       "    <tr>\n",
       "      <th>Traffic Control_TRAFFIC SIGNAL</th>\n",
       "      <td>-0.379185</td>\n",
       "    </tr>\n",
       "    <tr>\n",
       "      <th>Traffic Control_PERSON</th>\n",
       "      <td>-0.663908</td>\n",
       "    </tr>\n",
       "  </tbody>\n",
       "</table>\n",
       "</div>"
      ],
      "text/plain": [
       "                                             coef\n",
       "Traffic Control_RAILWAY CROSSING DEVICE  0.370901\n",
       "Traffic Control_WARNING SIGN             0.309589\n",
       "Traffic Control_SCHOOL ZONE SIGN DEVICE  0.047797\n",
       "Traffic Control_YIELD SIGN              -0.174535\n",
       "Traffic Control_NO CONTROLS             -0.281767\n",
       "Traffic Control_STOP SIGN               -0.379052\n",
       "Traffic Control_TRAFFIC SIGNAL          -0.379185\n",
       "Traffic Control_PERSON                  -0.663908"
      ]
     },
     "execution_count": 48,
     "metadata": {},
     "output_type": "execute_result"
    }
   ],
   "source": [
    "logreg_coef_df[logreg_coef_df.index.str.contains('Control')].sort_values('coef', ascending = False)"
   ]
  },
  {
   "cell_type": "markdown",
   "id": "e8ce0d53-dcb8-49b0-96ce-5dd827e482fd",
   "metadata": {},
   "source": [
    "#### Light"
   ]
  },
  {
   "cell_type": "code",
   "execution_count": 41,
   "id": "af57e98c-37d2-4de7-afb4-de284df0b534",
   "metadata": {
    "jupyter": {
     "source_hidden": true
    },
    "tags": []
   },
   "outputs": [
    {
     "data": {
      "text/html": [
       "<div>\n",
       "<style scoped>\n",
       "    .dataframe tbody tr th:only-of-type {\n",
       "        vertical-align: middle;\n",
       "    }\n",
       "\n",
       "    .dataframe tbody tr th {\n",
       "        vertical-align: top;\n",
       "    }\n",
       "\n",
       "    .dataframe thead th {\n",
       "        text-align: right;\n",
       "    }\n",
       "</style>\n",
       "<table border=\"1\" class=\"dataframe\">\n",
       "  <thead>\n",
       "    <tr style=\"text-align: right;\">\n",
       "      <th></th>\n",
       "      <th>imp</th>\n",
       "    </tr>\n",
       "  </thead>\n",
       "  <tbody>\n",
       "    <tr>\n",
       "      <th>Light_DAYLIGHT</th>\n",
       "      <td>0.001555</td>\n",
       "    </tr>\n",
       "    <tr>\n",
       "      <th>Light_DARK LIGHTS ON</th>\n",
       "      <td>0.001115</td>\n",
       "    </tr>\n",
       "    <tr>\n",
       "      <th>Light_DARK NO LIGHTS</th>\n",
       "      <td>0.000619</td>\n",
       "    </tr>\n",
       "    <tr>\n",
       "      <th>Light_DUSK</th>\n",
       "      <td>0.000399</td>\n",
       "    </tr>\n",
       "    <tr>\n",
       "      <th>Light_DAWN</th>\n",
       "      <td>0.000376</td>\n",
       "    </tr>\n",
       "  </tbody>\n",
       "</table>\n",
       "</div>"
      ],
      "text/plain": [
       "                           imp\n",
       "Light_DAYLIGHT        0.001555\n",
       "Light_DARK LIGHTS ON  0.001115\n",
       "Light_DARK NO LIGHTS  0.000619\n",
       "Light_DUSK            0.000399\n",
       "Light_DAWN            0.000376"
      ]
     },
     "execution_count": 41,
     "metadata": {},
     "output_type": "execute_result"
    }
   ],
   "source": [
    "forest_imp_df[forest_imp_df.index.str.contains('Light')].sort_values('imp', ascending = False)"
   ]
  },
  {
   "cell_type": "code",
   "execution_count": 49,
   "id": "46032838-55d9-4dad-94fb-874267fe1721",
   "metadata": {
    "jupyter": {
     "source_hidden": true
    },
    "tags": []
   },
   "outputs": [
    {
     "data": {
      "text/html": [
       "<div>\n",
       "<style scoped>\n",
       "    .dataframe tbody tr th:only-of-type {\n",
       "        vertical-align: middle;\n",
       "    }\n",
       "\n",
       "    .dataframe tbody tr th {\n",
       "        vertical-align: top;\n",
       "    }\n",
       "\n",
       "    .dataframe thead th {\n",
       "        text-align: right;\n",
       "    }\n",
       "</style>\n",
       "<table border=\"1\" class=\"dataframe\">\n",
       "  <thead>\n",
       "    <tr style=\"text-align: right;\">\n",
       "      <th></th>\n",
       "      <th>coef</th>\n",
       "    </tr>\n",
       "  </thead>\n",
       "  <tbody>\n",
       "    <tr>\n",
       "      <th>Light_DAYLIGHT</th>\n",
       "      <td>0.381402</td>\n",
       "    </tr>\n",
       "    <tr>\n",
       "      <th>Light_DUSK</th>\n",
       "      <td>0.305251</td>\n",
       "    </tr>\n",
       "    <tr>\n",
       "      <th>Light_DARK LIGHTS ON</th>\n",
       "      <td>0.231052</td>\n",
       "    </tr>\n",
       "    <tr>\n",
       "      <th>Light_DAWN</th>\n",
       "      <td>0.159149</td>\n",
       "    </tr>\n",
       "    <tr>\n",
       "      <th>Light_DARK NO LIGHTS</th>\n",
       "      <td>0.118764</td>\n",
       "    </tr>\n",
       "  </tbody>\n",
       "</table>\n",
       "</div>"
      ],
      "text/plain": [
       "                          coef\n",
       "Light_DAYLIGHT        0.381402\n",
       "Light_DUSK            0.305251\n",
       "Light_DARK LIGHTS ON  0.231052\n",
       "Light_DAWN            0.159149\n",
       "Light_DARK NO LIGHTS  0.118764"
      ]
     },
     "execution_count": 49,
     "metadata": {},
     "output_type": "execute_result"
    }
   ],
   "source": [
    "logreg_coef_df[logreg_coef_df.index.str.contains('Light')].sort_values('coef', ascending = False)"
   ]
  },
  {
   "cell_type": "markdown",
   "id": "f04838e4-a3ee-4552-ac7b-ff80e737cc90",
   "metadata": {},
   "source": [
    "#### Vehicle movement"
   ]
  },
  {
   "cell_type": "code",
   "execution_count": 44,
   "id": "b406e3a7-3b46-49a2-a160-8de0f27f5d98",
   "metadata": {
    "jupyter": {
     "source_hidden": true
    },
    "tags": []
   },
   "outputs": [
    {
     "data": {
      "text/html": [
       "<div>\n",
       "<style scoped>\n",
       "    .dataframe tbody tr th:only-of-type {\n",
       "        vertical-align: middle;\n",
       "    }\n",
       "\n",
       "    .dataframe tbody tr th {\n",
       "        vertical-align: top;\n",
       "    }\n",
       "\n",
       "    .dataframe thead th {\n",
       "        text-align: right;\n",
       "    }\n",
       "</style>\n",
       "<table border=\"1\" class=\"dataframe\">\n",
       "  <thead>\n",
       "    <tr style=\"text-align: right;\">\n",
       "      <th></th>\n",
       "      <th>imp</th>\n",
       "    </tr>\n",
       "  </thead>\n",
       "  <tbody>\n",
       "    <tr>\n",
       "      <th>Vehicle Movement_STOPPED IN TRAFFIC LANE</th>\n",
       "      <td>0.070355</td>\n",
       "    </tr>\n",
       "    <tr>\n",
       "      <th>Vehicle Movement_MOVING CONSTANT SPEED</th>\n",
       "      <td>0.044617</td>\n",
       "    </tr>\n",
       "    <tr>\n",
       "      <th>Vehicle Movement_MAKING LEFT TURN</th>\n",
       "      <td>0.034550</td>\n",
       "    </tr>\n",
       "    <tr>\n",
       "      <th>Vehicle Movement_CHANGING LANES</th>\n",
       "      <td>0.016192</td>\n",
       "    </tr>\n",
       "    <tr>\n",
       "      <th>Vehicle Movement_SLOWING OR STOPPING</th>\n",
       "      <td>0.013545</td>\n",
       "    </tr>\n",
       "    <tr>\n",
       "      <th>Vehicle Movement_BACKING</th>\n",
       "      <td>0.006749</td>\n",
       "    </tr>\n",
       "    <tr>\n",
       "      <th>Vehicle Movement_MAKING RIGHT TURN</th>\n",
       "      <td>0.005888</td>\n",
       "    </tr>\n",
       "    <tr>\n",
       "      <th>Vehicle Movement_MAKING U TURN</th>\n",
       "      <td>0.002045</td>\n",
       "    </tr>\n",
       "    <tr>\n",
       "      <th>Vehicle Movement_PARKED</th>\n",
       "      <td>0.002016</td>\n",
       "    </tr>\n",
       "    <tr>\n",
       "      <th>Vehicle Movement_PASSING</th>\n",
       "      <td>0.001664</td>\n",
       "    </tr>\n",
       "    <tr>\n",
       "      <th>Vehicle Movement_ENTERING TRAFFIC LANE</th>\n",
       "      <td>0.001604</td>\n",
       "    </tr>\n",
       "    <tr>\n",
       "      <th>Vehicle Movement_STARTING FROM LANE</th>\n",
       "      <td>0.001357</td>\n",
       "    </tr>\n",
       "    <tr>\n",
       "      <th>Vehicle Movement_SKIDDING</th>\n",
       "      <td>0.000962</td>\n",
       "    </tr>\n",
       "    <tr>\n",
       "      <th>Vehicle Movement_STARTING FROM PARKED</th>\n",
       "      <td>0.000364</td>\n",
       "    </tr>\n",
       "    <tr>\n",
       "      <th>Vehicle Movement_RIGHT TURN ON RED</th>\n",
       "      <td>0.000262</td>\n",
       "    </tr>\n",
       "    <tr>\n",
       "      <th>Vehicle Movement_NEGOTIATING A CURVE</th>\n",
       "      <td>0.000193</td>\n",
       "    </tr>\n",
       "    <tr>\n",
       "      <th>Vehicle Movement_PARKING</th>\n",
       "      <td>0.000099</td>\n",
       "    </tr>\n",
       "    <tr>\n",
       "      <th>Vehicle Movement_LEAVING TRAFFIC LANE</th>\n",
       "      <td>0.000053</td>\n",
       "    </tr>\n",
       "    <tr>\n",
       "      <th>Vehicle Movement_DRIVERLESS MOVING VEH.</th>\n",
       "      <td>0.000010</td>\n",
       "    </tr>\n",
       "  </tbody>\n",
       "</table>\n",
       "</div>"
      ],
      "text/plain": [
       "                                               imp\n",
       "Vehicle Movement_STOPPED IN TRAFFIC LANE  0.070355\n",
       "Vehicle Movement_MOVING CONSTANT SPEED    0.044617\n",
       "Vehicle Movement_MAKING LEFT TURN         0.034550\n",
       "Vehicle Movement_CHANGING LANES           0.016192\n",
       "Vehicle Movement_SLOWING OR STOPPING      0.013545\n",
       "Vehicle Movement_BACKING                  0.006749\n",
       "Vehicle Movement_MAKING RIGHT TURN        0.005888\n",
       "Vehicle Movement_MAKING U TURN            0.002045\n",
       "Vehicle Movement_PARKED                   0.002016\n",
       "Vehicle Movement_PASSING                  0.001664\n",
       "Vehicle Movement_ENTERING TRAFFIC LANE    0.001604\n",
       "Vehicle Movement_STARTING FROM LANE       0.001357\n",
       "Vehicle Movement_SKIDDING                 0.000962\n",
       "Vehicle Movement_STARTING FROM PARKED     0.000364\n",
       "Vehicle Movement_RIGHT TURN ON RED        0.000262\n",
       "Vehicle Movement_NEGOTIATING A CURVE      0.000193\n",
       "Vehicle Movement_PARKING                  0.000099\n",
       "Vehicle Movement_LEAVING TRAFFIC LANE     0.000053\n",
       "Vehicle Movement_DRIVERLESS MOVING VEH.   0.000010"
      ]
     },
     "execution_count": 44,
     "metadata": {},
     "output_type": "execute_result"
    }
   ],
   "source": [
    "forest_imp_df[forest_imp_df.index.str.contains('Movement')].sort_values('imp', ascending = False)"
   ]
  },
  {
   "cell_type": "code",
   "execution_count": 50,
   "id": "7d13031e-f99f-430f-9deb-6bb877de91fb",
   "metadata": {
    "jupyter": {
     "source_hidden": true
    },
    "tags": []
   },
   "outputs": [
    {
     "data": {
      "text/html": [
       "<div>\n",
       "<style scoped>\n",
       "    .dataframe tbody tr th:only-of-type {\n",
       "        vertical-align: middle;\n",
       "    }\n",
       "\n",
       "    .dataframe tbody tr th {\n",
       "        vertical-align: top;\n",
       "    }\n",
       "\n",
       "    .dataframe thead th {\n",
       "        text-align: right;\n",
       "    }\n",
       "</style>\n",
       "<table border=\"1\" class=\"dataframe\">\n",
       "  <thead>\n",
       "    <tr style=\"text-align: right;\">\n",
       "      <th></th>\n",
       "      <th>coef</th>\n",
       "    </tr>\n",
       "  </thead>\n",
       "  <tbody>\n",
       "    <tr>\n",
       "      <th>Vehicle Movement_BACKING</th>\n",
       "      <td>4.720270</td>\n",
       "    </tr>\n",
       "    <tr>\n",
       "      <th>Vehicle Movement_CHANGING LANES</th>\n",
       "      <td>2.145010</td>\n",
       "    </tr>\n",
       "    <tr>\n",
       "      <th>Vehicle Movement_MAKING U TURN</th>\n",
       "      <td>1.998398</td>\n",
       "    </tr>\n",
       "    <tr>\n",
       "      <th>Vehicle Movement_PASSING</th>\n",
       "      <td>1.621092</td>\n",
       "    </tr>\n",
       "    <tr>\n",
       "      <th>Vehicle Movement_ENTERING TRAFFIC LANE</th>\n",
       "      <td>1.550143</td>\n",
       "    </tr>\n",
       "    <tr>\n",
       "      <th>Vehicle Movement_RIGHT TURN ON RED</th>\n",
       "      <td>1.177144</td>\n",
       "    </tr>\n",
       "    <tr>\n",
       "      <th>Vehicle Movement_MAKING LEFT TURN</th>\n",
       "      <td>0.906453</td>\n",
       "    </tr>\n",
       "    <tr>\n",
       "      <th>Vehicle Movement_LEAVING TRAFFIC LANE</th>\n",
       "      <td>0.725908</td>\n",
       "    </tr>\n",
       "    <tr>\n",
       "      <th>Vehicle Movement_SKIDDING</th>\n",
       "      <td>0.588319</td>\n",
       "    </tr>\n",
       "    <tr>\n",
       "      <th>Vehicle Movement_MAKING RIGHT TURN</th>\n",
       "      <td>0.477335</td>\n",
       "    </tr>\n",
       "    <tr>\n",
       "      <th>Vehicle Movement_DRIVERLESS MOVING VEH.</th>\n",
       "      <td>0.259103</td>\n",
       "    </tr>\n",
       "    <tr>\n",
       "      <th>Vehicle Movement_STARTING FROM PARKED</th>\n",
       "      <td>-0.204466</td>\n",
       "    </tr>\n",
       "    <tr>\n",
       "      <th>Vehicle Movement_PARKING</th>\n",
       "      <td>-0.206010</td>\n",
       "    </tr>\n",
       "    <tr>\n",
       "      <th>Vehicle Movement_NEGOTIATING A CURVE</th>\n",
       "      <td>-0.232169</td>\n",
       "    </tr>\n",
       "    <tr>\n",
       "      <th>Vehicle Movement_STARTING FROM LANE</th>\n",
       "      <td>-0.549901</td>\n",
       "    </tr>\n",
       "    <tr>\n",
       "      <th>Vehicle Movement_SLOWING OR STOPPING</th>\n",
       "      <td>-1.112938</td>\n",
       "    </tr>\n",
       "    <tr>\n",
       "      <th>Vehicle Movement_MOVING CONSTANT SPEED</th>\n",
       "      <td>-1.586953</td>\n",
       "    </tr>\n",
       "    <tr>\n",
       "      <th>Vehicle Movement_PARKED</th>\n",
       "      <td>-1.841602</td>\n",
       "    </tr>\n",
       "    <tr>\n",
       "      <th>Vehicle Movement_STOPPED IN TRAFFIC LANE</th>\n",
       "      <td>-3.748021</td>\n",
       "    </tr>\n",
       "  </tbody>\n",
       "</table>\n",
       "</div>"
      ],
      "text/plain": [
       "                                              coef\n",
       "Vehicle Movement_BACKING                  4.720270\n",
       "Vehicle Movement_CHANGING LANES           2.145010\n",
       "Vehicle Movement_MAKING U TURN            1.998398\n",
       "Vehicle Movement_PASSING                  1.621092\n",
       "Vehicle Movement_ENTERING TRAFFIC LANE    1.550143\n",
       "Vehicle Movement_RIGHT TURN ON RED        1.177144\n",
       "Vehicle Movement_MAKING LEFT TURN         0.906453\n",
       "Vehicle Movement_LEAVING TRAFFIC LANE     0.725908\n",
       "Vehicle Movement_SKIDDING                 0.588319\n",
       "Vehicle Movement_MAKING RIGHT TURN        0.477335\n",
       "Vehicle Movement_DRIVERLESS MOVING VEH.   0.259103\n",
       "Vehicle Movement_STARTING FROM PARKED    -0.204466\n",
       "Vehicle Movement_PARKING                 -0.206010\n",
       "Vehicle Movement_NEGOTIATING A CURVE     -0.232169\n",
       "Vehicle Movement_STARTING FROM LANE      -0.549901\n",
       "Vehicle Movement_SLOWING OR STOPPING     -1.112938\n",
       "Vehicle Movement_MOVING CONSTANT SPEED   -1.586953\n",
       "Vehicle Movement_PARKED                  -1.841602\n",
       "Vehicle Movement_STOPPED IN TRAFFIC LANE -3.748021"
      ]
     },
     "execution_count": 50,
     "metadata": {},
     "output_type": "execute_result"
    }
   ],
   "source": [
    "logreg_coef_df[logreg_coef_df.index.str.contains('Movement')].sort_values('coef', ascending = False)"
   ]
  },
  {
   "cell_type": "markdown",
   "id": "b62922ad-0826-4084-96ad-9d6d8cfa04f8",
   "metadata": {},
   "source": [
    "## To do:\n",
    "- keep isolating types of features: surface conditions, vehicle movement, traffic control \n",
    "- Get output into nice tabular format"
   ]
  },
  {
   "cell_type": "code",
   "execution_count": null,
   "id": "594f3cc7-8d97-4f14-8eb9-a932c61a3d5e",
   "metadata": {},
   "outputs": [],
   "source": []
  }
 ],
 "metadata": {
  "kernelspec": {
   "display_name": "Python 3",
   "language": "python",
   "name": "python3"
  },
  "language_info": {
   "codemirror_mode": {
    "name": "ipython",
    "version": 3
   },
   "file_extension": ".py",
   "mimetype": "text/x-python",
   "name": "python",
   "nbconvert_exporter": "python",
   "pygments_lexer": "ipython3",
   "version": "3.8.8"
  }
 },
 "nbformat": 4,
 "nbformat_minor": 5
}
