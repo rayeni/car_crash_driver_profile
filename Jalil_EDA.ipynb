{
 "cells": [
  {
   "cell_type": "code",
   "execution_count": 99,
   "id": "a38a4e97",
   "metadata": {},
   "outputs": [],
   "source": [
    "import pandas as pd\n",
    "import seaborn as sns\n",
    "import matplotlib.pyplot as plt\n",
    "pd.set_option('display.max_columns', None)\n"
   ]
  },
  {
   "cell_type": "code",
   "execution_count": 28,
   "id": "6e619a39",
   "metadata": {
    "scrolled": false
   },
   "outputs": [
    {
     "name": "stderr",
     "output_type": "stream",
     "text": [
      "/Users/ajk/opt/anaconda3/lib/python3.8/site-packages/IPython/core/interactiveshell.py:3165: DtypeWarning: Columns (1) have mixed types.Specify dtype option on import or set low_memory=False.\n",
      "  has_raised = await self.run_ast_nodes(code_ast.body, cell_name,\n"
     ]
    },
    {
     "data": {
      "text/html": [
       "<div>\n",
       "<style scoped>\n",
       "    .dataframe tbody tr th:only-of-type {\n",
       "        vertical-align: middle;\n",
       "    }\n",
       "\n",
       "    .dataframe tbody tr th {\n",
       "        vertical-align: top;\n",
       "    }\n",
       "\n",
       "    .dataframe thead th {\n",
       "        text-align: right;\n",
       "    }\n",
       "</style>\n",
       "<table border=\"1\" class=\"dataframe\">\n",
       "  <thead>\n",
       "    <tr style=\"text-align: right;\">\n",
       "      <th></th>\n",
       "      <th>Report Number</th>\n",
       "      <th>Local Case Number</th>\n",
       "      <th>Agency Name</th>\n",
       "      <th>ACRS Report Type</th>\n",
       "      <th>Crash Date/Time</th>\n",
       "      <th>Route Type</th>\n",
       "      <th>Road Name</th>\n",
       "      <th>Cross-Street Type</th>\n",
       "      <th>Cross-Street Name</th>\n",
       "      <th>Off-Road Description</th>\n",
       "      <th>Municipality</th>\n",
       "      <th>Related Non-Motorist</th>\n",
       "      <th>Collision Type</th>\n",
       "      <th>Weather</th>\n",
       "      <th>Surface Condition</th>\n",
       "      <th>Light</th>\n",
       "      <th>Traffic Control</th>\n",
       "      <th>Driver Substance Abuse</th>\n",
       "      <th>Non-Motorist Substance Abuse</th>\n",
       "      <th>Person ID</th>\n",
       "      <th>Driver At Fault</th>\n",
       "      <th>Injury Severity</th>\n",
       "      <th>Circumstance</th>\n",
       "      <th>Driver Distracted By</th>\n",
       "      <th>Drivers License State</th>\n",
       "      <th>Vehicle ID</th>\n",
       "      <th>Vehicle Damage Extent</th>\n",
       "      <th>Vehicle First Impact Location</th>\n",
       "      <th>Vehicle Second Impact Location</th>\n",
       "      <th>Vehicle Body Type</th>\n",
       "      <th>Vehicle Movement</th>\n",
       "      <th>Vehicle Continuing Dir</th>\n",
       "      <th>Vehicle Going Dir</th>\n",
       "      <th>Speed Limit</th>\n",
       "      <th>Driverless Vehicle</th>\n",
       "      <th>Parked Vehicle</th>\n",
       "      <th>Vehicle Year</th>\n",
       "      <th>Vehicle Make</th>\n",
       "      <th>Vehicle Model</th>\n",
       "      <th>Equipment Problems</th>\n",
       "      <th>Latitude</th>\n",
       "      <th>Longitude</th>\n",
       "      <th>Location</th>\n",
       "    </tr>\n",
       "  </thead>\n",
       "  <tbody>\n",
       "    <tr>\n",
       "      <th>0</th>\n",
       "      <td>DD5620004G</td>\n",
       "      <td>190046109</td>\n",
       "      <td>Rockville Police Departme</td>\n",
       "      <td>Property Damage Crash</td>\n",
       "      <td>09/26/2019 07:20:00 AM</td>\n",
       "      <td>NaN</td>\n",
       "      <td>NaN</td>\n",
       "      <td>NaN</td>\n",
       "      <td>NaN</td>\n",
       "      <td>PARKING LOT</td>\n",
       "      <td>NaN</td>\n",
       "      <td>NaN</td>\n",
       "      <td>SINGLE VEHICLE</td>\n",
       "      <td>CLEAR</td>\n",
       "      <td>NaN</td>\n",
       "      <td>DAYLIGHT</td>\n",
       "      <td>NaN</td>\n",
       "      <td>NONE DETECTED</td>\n",
       "      <td>NaN</td>\n",
       "      <td>6558DDB6-C713-4B50-9CDD-4A265FE507B9</td>\n",
       "      <td>Yes</td>\n",
       "      <td>NO APPARENT INJURY</td>\n",
       "      <td>NaN</td>\n",
       "      <td>NOT DISTRACTED</td>\n",
       "      <td>MD</td>\n",
       "      <td>940390C5-2D67-4B95-BCE3-FDF38AA42ECD</td>\n",
       "      <td>SUPERFICIAL</td>\n",
       "      <td>TWELVE OCLOCK</td>\n",
       "      <td>TWELVE OCLOCK</td>\n",
       "      <td>SCHOOL BUS</td>\n",
       "      <td>OTHER</td>\n",
       "      <td>South</td>\n",
       "      <td>South</td>\n",
       "      <td>15</td>\n",
       "      <td>No</td>\n",
       "      <td>No</td>\n",
       "      <td>2017</td>\n",
       "      <td>THOMAS</td>\n",
       "      <td>BUS</td>\n",
       "      <td>NO MISUSE</td>\n",
       "      <td>39.103518</td>\n",
       "      <td>-77.157669</td>\n",
       "      <td>(39.10351817, -77.15766933)</td>\n",
       "    </tr>\n",
       "    <tr>\n",
       "      <th>1</th>\n",
       "      <td>MCP29620057</td>\n",
       "      <td>200023865</td>\n",
       "      <td>Montgomery County Police</td>\n",
       "      <td>Property Damage Crash</td>\n",
       "      <td>06/18/2020 02:00:00 AM</td>\n",
       "      <td>County</td>\n",
       "      <td>DAIRYMAID DR</td>\n",
       "      <td>County</td>\n",
       "      <td>METZ DR</td>\n",
       "      <td>NaN</td>\n",
       "      <td>NaN</td>\n",
       "      <td>NaN</td>\n",
       "      <td>OTHER</td>\n",
       "      <td>CLOUDY</td>\n",
       "      <td>DRY</td>\n",
       "      <td>UNKNOWN</td>\n",
       "      <td>NaN</td>\n",
       "      <td>UNKNOWN</td>\n",
       "      <td>NaN</td>\n",
       "      <td>7A8F59F9-9886-4D41-B72C-0043BC462A05</td>\n",
       "      <td>Yes</td>\n",
       "      <td>NO APPARENT INJURY</td>\n",
       "      <td>NaN</td>\n",
       "      <td>UNKNOWN</td>\n",
       "      <td>XX</td>\n",
       "      <td>796D6E97-FC6F-4CB5-BCC0-E77F10D6220D</td>\n",
       "      <td>UNKNOWN</td>\n",
       "      <td>UNKNOWN</td>\n",
       "      <td>UNKNOWN</td>\n",
       "      <td>UNKNOWN</td>\n",
       "      <td>UNKNOWN</td>\n",
       "      <td>Unknown</td>\n",
       "      <td>Unknown</td>\n",
       "      <td>35</td>\n",
       "      <td>No</td>\n",
       "      <td>No</td>\n",
       "      <td>2020</td>\n",
       "      <td>UNK</td>\n",
       "      <td>UNK</td>\n",
       "      <td>UNKNOWN</td>\n",
       "      <td>39.154847</td>\n",
       "      <td>-77.271245</td>\n",
       "      <td>(39.15484667, -77.271245)</td>\n",
       "    </tr>\n",
       "    <tr>\n",
       "      <th>2</th>\n",
       "      <td>MCP3050004K</td>\n",
       "      <td>200016465</td>\n",
       "      <td>Montgomery County Police</td>\n",
       "      <td>Property Damage Crash</td>\n",
       "      <td>04/19/2020 03:39:00 PM</td>\n",
       "      <td>County</td>\n",
       "      <td>RUSSETT RD</td>\n",
       "      <td>County</td>\n",
       "      <td>ARCTIC AVE</td>\n",
       "      <td>NaN</td>\n",
       "      <td>NaN</td>\n",
       "      <td>NaN</td>\n",
       "      <td>OTHER</td>\n",
       "      <td>CLEAR</td>\n",
       "      <td>DRY</td>\n",
       "      <td>DAYLIGHT</td>\n",
       "      <td>NO CONTROLS</td>\n",
       "      <td>ALCOHOL PRESENT</td>\n",
       "      <td>NaN</td>\n",
       "      <td>193D33B6-4BAB-4A82-A4E7-CE35BA3B28F1</td>\n",
       "      <td>Yes</td>\n",
       "      <td>NO APPARENT INJURY</td>\n",
       "      <td>NaN</td>\n",
       "      <td>UNKNOWN</td>\n",
       "      <td>MD</td>\n",
       "      <td>06DEBB17-3C98-421B-A368-8578A48773B2</td>\n",
       "      <td>DISABLING</td>\n",
       "      <td>TWELVE OCLOCK</td>\n",
       "      <td>FOUR OCLOCK</td>\n",
       "      <td>VAN</td>\n",
       "      <td>ACCELERATING</td>\n",
       "      <td>East</td>\n",
       "      <td>East</td>\n",
       "      <td>25</td>\n",
       "      <td>No</td>\n",
       "      <td>No</td>\n",
       "      <td>2004</td>\n",
       "      <td>DODGE</td>\n",
       "      <td>GRAND CARAVAN</td>\n",
       "      <td>NO MISUSE</td>\n",
       "      <td>39.080062</td>\n",
       "      <td>-77.097845</td>\n",
       "      <td>(39.08006167, -77.097845)</td>\n",
       "    </tr>\n",
       "    <tr>\n",
       "      <th>3</th>\n",
       "      <td>MCP2641001J</td>\n",
       "      <td>200016526</td>\n",
       "      <td>Montgomery County Police</td>\n",
       "      <td>Injury Crash</td>\n",
       "      <td>04/20/2020 09:15:00 AM</td>\n",
       "      <td>County</td>\n",
       "      <td>ARCHDALE RD</td>\n",
       "      <td>County</td>\n",
       "      <td>GUNNERS BRANCH RD</td>\n",
       "      <td>NaN</td>\n",
       "      <td>NaN</td>\n",
       "      <td>NaN</td>\n",
       "      <td>OTHER</td>\n",
       "      <td>CLOUDY</td>\n",
       "      <td>DRY</td>\n",
       "      <td>DAYLIGHT</td>\n",
       "      <td>NO CONTROLS</td>\n",
       "      <td>NONE DETECTED</td>\n",
       "      <td>NaN</td>\n",
       "      <td>5E259E14-1216-4388-87FB-925035107021</td>\n",
       "      <td>Yes</td>\n",
       "      <td>POSSIBLE INJURY</td>\n",
       "      <td>NaN</td>\n",
       "      <td>UNKNOWN</td>\n",
       "      <td>MD</td>\n",
       "      <td>5146C181-7BFF-41CB-ADB8-8AFECD67FCD1</td>\n",
       "      <td>DISABLING</td>\n",
       "      <td>ELEVEN OCLOCK</td>\n",
       "      <td>ELEVEN OCLOCK</td>\n",
       "      <td>PASSENGER CAR</td>\n",
       "      <td>UNKNOWN</td>\n",
       "      <td>North</td>\n",
       "      <td>North</td>\n",
       "      <td>25</td>\n",
       "      <td>No</td>\n",
       "      <td>No</td>\n",
       "      <td>2006</td>\n",
       "      <td>HONDA</td>\n",
       "      <td>CR-V</td>\n",
       "      <td>UNKNOWN</td>\n",
       "      <td>39.175230</td>\n",
       "      <td>-77.241090</td>\n",
       "      <td>(39.17523, -77.24109)</td>\n",
       "    </tr>\n",
       "    <tr>\n",
       "      <th>4</th>\n",
       "      <td>MCP27100039</td>\n",
       "      <td>200016305</td>\n",
       "      <td>Montgomery County Police</td>\n",
       "      <td>Property Damage Crash</td>\n",
       "      <td>04/17/2020 05:00:00 PM</td>\n",
       "      <td>Municipality</td>\n",
       "      <td>E DIAMOND AVE</td>\n",
       "      <td>Municipality</td>\n",
       "      <td>S SUMMIT AVE</td>\n",
       "      <td>NaN</td>\n",
       "      <td>GAITHERSBURG</td>\n",
       "      <td>NaN</td>\n",
       "      <td>SAME DIR REAR END</td>\n",
       "      <td>NaN</td>\n",
       "      <td>DRY</td>\n",
       "      <td>DAYLIGHT</td>\n",
       "      <td>STOP SIGN</td>\n",
       "      <td>NONE DETECTED</td>\n",
       "      <td>NaN</td>\n",
       "      <td>0F7ECAF5-441D-44C3-B48F-7B00DCCAD53D</td>\n",
       "      <td>No</td>\n",
       "      <td>NO APPARENT INJURY</td>\n",
       "      <td>NaN</td>\n",
       "      <td>NOT DISTRACTED</td>\n",
       "      <td>MD</td>\n",
       "      <td>828900BA-816A-4464-8DD3-2291E72DD1FC</td>\n",
       "      <td>SUPERFICIAL</td>\n",
       "      <td>SIX OCLOCK</td>\n",
       "      <td>SIX OCLOCK</td>\n",
       "      <td>PASSENGER CAR</td>\n",
       "      <td>STOPPED IN TRAFFIC LANE</td>\n",
       "      <td>North</td>\n",
       "      <td>North</td>\n",
       "      <td>25</td>\n",
       "      <td>No</td>\n",
       "      <td>No</td>\n",
       "      <td>2011</td>\n",
       "      <td>TOYOTA</td>\n",
       "      <td>4S</td>\n",
       "      <td>NaN</td>\n",
       "      <td>39.140555</td>\n",
       "      <td>-77.193347</td>\n",
       "      <td>(39.140555, -77.19334667)</td>\n",
       "    </tr>\n",
       "  </tbody>\n",
       "</table>\n",
       "</div>"
      ],
      "text/plain": [
       "  Report Number Local Case Number                Agency Name  \\\n",
       "0    DD5620004G         190046109  Rockville Police Departme   \n",
       "1   MCP29620057         200023865   Montgomery County Police   \n",
       "2   MCP3050004K         200016465   Montgomery County Police   \n",
       "3   MCP2641001J         200016526   Montgomery County Police   \n",
       "4   MCP27100039         200016305   Montgomery County Police   \n",
       "\n",
       "        ACRS Report Type         Crash Date/Time    Route Type      Road Name  \\\n",
       "0  Property Damage Crash  09/26/2019 07:20:00 AM           NaN            NaN   \n",
       "1  Property Damage Crash  06/18/2020 02:00:00 AM        County   DAIRYMAID DR   \n",
       "2  Property Damage Crash  04/19/2020 03:39:00 PM        County     RUSSETT RD   \n",
       "3           Injury Crash  04/20/2020 09:15:00 AM        County    ARCHDALE RD   \n",
       "4  Property Damage Crash  04/17/2020 05:00:00 PM  Municipality  E DIAMOND AVE   \n",
       "\n",
       "  Cross-Street Type  Cross-Street Name Off-Road Description  Municipality  \\\n",
       "0               NaN                NaN          PARKING LOT           NaN   \n",
       "1            County            METZ DR                  NaN           NaN   \n",
       "2            County         ARCTIC AVE                  NaN           NaN   \n",
       "3            County  GUNNERS BRANCH RD                  NaN           NaN   \n",
       "4      Municipality       S SUMMIT AVE                  NaN  GAITHERSBURG   \n",
       "\n",
       "  Related Non-Motorist     Collision Type Weather Surface Condition     Light  \\\n",
       "0                  NaN     SINGLE VEHICLE   CLEAR               NaN  DAYLIGHT   \n",
       "1                  NaN              OTHER  CLOUDY               DRY   UNKNOWN   \n",
       "2                  NaN              OTHER   CLEAR               DRY  DAYLIGHT   \n",
       "3                  NaN              OTHER  CLOUDY               DRY  DAYLIGHT   \n",
       "4                  NaN  SAME DIR REAR END     NaN               DRY  DAYLIGHT   \n",
       "\n",
       "  Traffic Control Driver Substance Abuse Non-Motorist Substance Abuse  \\\n",
       "0             NaN          NONE DETECTED                          NaN   \n",
       "1             NaN                UNKNOWN                          NaN   \n",
       "2     NO CONTROLS        ALCOHOL PRESENT                          NaN   \n",
       "3     NO CONTROLS          NONE DETECTED                          NaN   \n",
       "4       STOP SIGN          NONE DETECTED                          NaN   \n",
       "\n",
       "                              Person ID Driver At Fault     Injury Severity  \\\n",
       "0  6558DDB6-C713-4B50-9CDD-4A265FE507B9             Yes  NO APPARENT INJURY   \n",
       "1  7A8F59F9-9886-4D41-B72C-0043BC462A05             Yes  NO APPARENT INJURY   \n",
       "2  193D33B6-4BAB-4A82-A4E7-CE35BA3B28F1             Yes  NO APPARENT INJURY   \n",
       "3  5E259E14-1216-4388-87FB-925035107021             Yes     POSSIBLE INJURY   \n",
       "4  0F7ECAF5-441D-44C3-B48F-7B00DCCAD53D              No  NO APPARENT INJURY   \n",
       "\n",
       "  Circumstance Driver Distracted By Drivers License State  \\\n",
       "0          NaN       NOT DISTRACTED                    MD   \n",
       "1          NaN              UNKNOWN                    XX   \n",
       "2          NaN              UNKNOWN                    MD   \n",
       "3          NaN              UNKNOWN                    MD   \n",
       "4          NaN       NOT DISTRACTED                    MD   \n",
       "\n",
       "                             Vehicle ID Vehicle Damage Extent  \\\n",
       "0  940390C5-2D67-4B95-BCE3-FDF38AA42ECD           SUPERFICIAL   \n",
       "1  796D6E97-FC6F-4CB5-BCC0-E77F10D6220D               UNKNOWN   \n",
       "2  06DEBB17-3C98-421B-A368-8578A48773B2             DISABLING   \n",
       "3  5146C181-7BFF-41CB-ADB8-8AFECD67FCD1             DISABLING   \n",
       "4  828900BA-816A-4464-8DD3-2291E72DD1FC           SUPERFICIAL   \n",
       "\n",
       "  Vehicle First Impact Location Vehicle Second Impact Location  \\\n",
       "0                 TWELVE OCLOCK                  TWELVE OCLOCK   \n",
       "1                       UNKNOWN                        UNKNOWN   \n",
       "2                 TWELVE OCLOCK                    FOUR OCLOCK   \n",
       "3                 ELEVEN OCLOCK                  ELEVEN OCLOCK   \n",
       "4                    SIX OCLOCK                     SIX OCLOCK   \n",
       "\n",
       "  Vehicle Body Type         Vehicle Movement Vehicle Continuing Dir  \\\n",
       "0        SCHOOL BUS                    OTHER                  South   \n",
       "1           UNKNOWN                  UNKNOWN                Unknown   \n",
       "2               VAN             ACCELERATING                   East   \n",
       "3     PASSENGER CAR                  UNKNOWN                  North   \n",
       "4     PASSENGER CAR  STOPPED IN TRAFFIC LANE                  North   \n",
       "\n",
       "  Vehicle Going Dir  Speed Limit Driverless Vehicle Parked Vehicle  \\\n",
       "0             South           15                 No             No   \n",
       "1           Unknown           35                 No             No   \n",
       "2              East           25                 No             No   \n",
       "3             North           25                 No             No   \n",
       "4             North           25                 No             No   \n",
       "\n",
       "   Vehicle Year Vehicle Make  Vehicle Model Equipment Problems   Latitude  \\\n",
       "0          2017       THOMAS            BUS          NO MISUSE  39.103518   \n",
       "1          2020          UNK            UNK            UNKNOWN  39.154847   \n",
       "2          2004        DODGE  GRAND CARAVAN          NO MISUSE  39.080062   \n",
       "3          2006        HONDA           CR-V            UNKNOWN  39.175230   \n",
       "4          2011       TOYOTA             4S                NaN  39.140555   \n",
       "\n",
       "   Longitude                     Location  \n",
       "0 -77.157669  (39.10351817, -77.15766933)  \n",
       "1 -77.271245    (39.15484667, -77.271245)  \n",
       "2 -77.097845    (39.08006167, -77.097845)  \n",
       "3 -77.241090        (39.17523, -77.24109)  \n",
       "4 -77.193347    (39.140555, -77.19334667)  "
      ]
     },
     "execution_count": 28,
     "metadata": {},
     "output_type": "execute_result"
    }
   ],
   "source": [
    "df_1 = pd.read_csv('./data/crash_reporting_drivers_data.csv')\n",
    "df_1.head()"
   ]
  },
  {
   "cell_type": "code",
   "execution_count": 27,
   "id": "5900de85",
   "metadata": {},
   "outputs": [
    {
     "data": {
      "text/html": [
       "<div>\n",
       "<style scoped>\n",
       "    .dataframe tbody tr th:only-of-type {\n",
       "        vertical-align: middle;\n",
       "    }\n",
       "\n",
       "    .dataframe tbody tr th {\n",
       "        vertical-align: top;\n",
       "    }\n",
       "\n",
       "    .dataframe thead th {\n",
       "        text-align: right;\n",
       "    }\n",
       "</style>\n",
       "<table border=\"1\" class=\"dataframe\">\n",
       "  <thead>\n",
       "    <tr style=\"text-align: right;\">\n",
       "      <th></th>\n",
       "      <th>Crash Time of Day</th>\n",
       "      <th>Collision Type</th>\n",
       "      <th>Surface Condition</th>\n",
       "      <th>Light</th>\n",
       "      <th>Traffic Control</th>\n",
       "      <th>Driver Substance Abuse</th>\n",
       "      <th>Driver At Fault</th>\n",
       "      <th>Driver Distracted By</th>\n",
       "      <th>Vehicle First Impact Location</th>\n",
       "      <th>Vehicle Second Impact Location</th>\n",
       "      <th>Vehicle Body Type</th>\n",
       "      <th>Vehicle Movement</th>\n",
       "      <th>Speed Limit</th>\n",
       "      <th>Parked Vehicle</th>\n",
       "    </tr>\n",
       "  </thead>\n",
       "  <tbody>\n",
       "    <tr>\n",
       "      <th>0</th>\n",
       "      <td>Evening</td>\n",
       "      <td>SAME DIR REAR END</td>\n",
       "      <td>DRY</td>\n",
       "      <td>DAYLIGHT</td>\n",
       "      <td>STOP SIGN</td>\n",
       "      <td>No</td>\n",
       "      <td>No</td>\n",
       "      <td>No</td>\n",
       "      <td>SIX OCLOCK</td>\n",
       "      <td>SIX OCLOCK</td>\n",
       "      <td>PASSENGER CAR</td>\n",
       "      <td>STOPPED IN TRAFFIC LANE</td>\n",
       "      <td>25</td>\n",
       "      <td>No</td>\n",
       "    </tr>\n",
       "    <tr>\n",
       "      <th>1</th>\n",
       "      <td>Early Morning</td>\n",
       "      <td>SAME DIR REAR END</td>\n",
       "      <td>DRY</td>\n",
       "      <td>DAWN</td>\n",
       "      <td>TRAFFIC SIGNAL</td>\n",
       "      <td>No</td>\n",
       "      <td>No</td>\n",
       "      <td>No</td>\n",
       "      <td>SIX OCLOCK</td>\n",
       "      <td>SIX OCLOCK</td>\n",
       "      <td>PASSENGER CAR</td>\n",
       "      <td>STOPPED IN TRAFFIC LANE</td>\n",
       "      <td>40</td>\n",
       "      <td>No</td>\n",
       "    </tr>\n",
       "    <tr>\n",
       "      <th>2</th>\n",
       "      <td>Early Morning</td>\n",
       "      <td>SINGLE VEHICLE</td>\n",
       "      <td>DRY</td>\n",
       "      <td>DAYLIGHT</td>\n",
       "      <td>NO CONTROLS</td>\n",
       "      <td>No</td>\n",
       "      <td>No</td>\n",
       "      <td>No</td>\n",
       "      <td>ELEVEN OCLOCK</td>\n",
       "      <td>ELEVEN OCLOCK</td>\n",
       "      <td>POLICE VEHICLE/NON EMERGENCY</td>\n",
       "      <td>MOVING CONSTANT SPEED</td>\n",
       "      <td>35</td>\n",
       "      <td>No</td>\n",
       "    </tr>\n",
       "    <tr>\n",
       "      <th>3</th>\n",
       "      <td>Late Night</td>\n",
       "      <td>SINGLE VEHICLE</td>\n",
       "      <td>DRY</td>\n",
       "      <td>DARK LIGHTS ON</td>\n",
       "      <td>NO CONTROLS</td>\n",
       "      <td>No</td>\n",
       "      <td>No</td>\n",
       "      <td>No</td>\n",
       "      <td>TWELVE OCLOCK</td>\n",
       "      <td>TWELVE OCLOCK</td>\n",
       "      <td>POLICE VEHICLE/EMERGENCY</td>\n",
       "      <td>MOVING CONSTANT SPEED</td>\n",
       "      <td>35</td>\n",
       "      <td>No</td>\n",
       "    </tr>\n",
       "    <tr>\n",
       "      <th>4</th>\n",
       "      <td>Night</td>\n",
       "      <td>SAME DIR REAR END</td>\n",
       "      <td>DRY</td>\n",
       "      <td>DARK LIGHTS ON</td>\n",
       "      <td>NO CONTROLS</td>\n",
       "      <td>Yes</td>\n",
       "      <td>Yes</td>\n",
       "      <td>Yes</td>\n",
       "      <td>TWELVE OCLOCK</td>\n",
       "      <td>TWELVE OCLOCK</td>\n",
       "      <td>PASSENGER CAR</td>\n",
       "      <td>ACCELERATING</td>\n",
       "      <td>35</td>\n",
       "      <td>No</td>\n",
       "    </tr>\n",
       "  </tbody>\n",
       "</table>\n",
       "</div>"
      ],
      "text/plain": [
       "  Crash Time of Day     Collision Type Surface Condition           Light  \\\n",
       "0           Evening  SAME DIR REAR END               DRY        DAYLIGHT   \n",
       "1     Early Morning  SAME DIR REAR END               DRY            DAWN   \n",
       "2     Early Morning     SINGLE VEHICLE               DRY        DAYLIGHT   \n",
       "3        Late Night     SINGLE VEHICLE               DRY  DARK LIGHTS ON   \n",
       "4             Night  SAME DIR REAR END               DRY  DARK LIGHTS ON   \n",
       "\n",
       "  Traffic Control Driver Substance Abuse Driver At Fault Driver Distracted By  \\\n",
       "0       STOP SIGN                     No              No                   No   \n",
       "1  TRAFFIC SIGNAL                     No              No                   No   \n",
       "2     NO CONTROLS                     No              No                   No   \n",
       "3     NO CONTROLS                     No              No                   No   \n",
       "4     NO CONTROLS                    Yes             Yes                  Yes   \n",
       "\n",
       "  Vehicle First Impact Location Vehicle Second Impact Location  \\\n",
       "0                    SIX OCLOCK                     SIX OCLOCK   \n",
       "1                    SIX OCLOCK                     SIX OCLOCK   \n",
       "2                 ELEVEN OCLOCK                  ELEVEN OCLOCK   \n",
       "3                 TWELVE OCLOCK                  TWELVE OCLOCK   \n",
       "4                 TWELVE OCLOCK                  TWELVE OCLOCK   \n",
       "\n",
       "              Vehicle Body Type         Vehicle Movement  Speed Limit  \\\n",
       "0                 PASSENGER CAR  STOPPED IN TRAFFIC LANE           25   \n",
       "1                 PASSENGER CAR  STOPPED IN TRAFFIC LANE           40   \n",
       "2  POLICE VEHICLE/NON EMERGENCY    MOVING CONSTANT SPEED           35   \n",
       "3      POLICE VEHICLE/EMERGENCY    MOVING CONSTANT SPEED           35   \n",
       "4                 PASSENGER CAR             ACCELERATING           35   \n",
       "\n",
       "  Parked Vehicle  \n",
       "0             No  \n",
       "1             No  \n",
       "2             No  \n",
       "3             No  \n",
       "4             No  "
      ]
     },
     "execution_count": 27,
     "metadata": {},
     "output_type": "execute_result"
    }
   ],
   "source": [
    "df_2 = pd.read_csv('./data/crash_data_modified.csv')\n",
    "df_2.head()"
   ]
  },
  {
   "cell_type": "markdown",
   "id": "6ccc9143",
   "metadata": {},
   "source": [
    "### Cleaning my own data frame"
   ]
  },
  {
   "cell_type": "code",
   "execution_count": 31,
   "id": "857a1110",
   "metadata": {},
   "outputs": [],
   "source": [
    "df_1.drop(columns = ['Circumstance', \n",
    "                        'Off-Road Description', \n",
    "                        'Municipality', \n",
    "                        'Related Non-Motorist', \n",
    "                        'Non-Motorist Substance Abuse'\n",
    "                        ],inplace = True)"
   ]
  },
  {
   "cell_type": "code",
   "execution_count": 32,
   "id": "449c7b24",
   "metadata": {},
   "outputs": [],
   "source": [
    "df_1.drop(columns = [\n",
    "                        'Person ID',\n",
    "                        'Vehicle ID',\n",
    "                        'Latitude',\n",
    "                        'Longitude',\n",
    "                        'Location',\n",
    "                        'Vehicle Damage Extent'],\n",
    "            inplace = True)"
   ]
  },
  {
   "cell_type": "code",
   "execution_count": 38,
   "id": "d63c14c6",
   "metadata": {},
   "outputs": [],
   "source": [
    "df_1.drop(columns = [\n",
    "                        'Report Number',\n",
    "                        'Local Case Number',\n",
    "                        'Agency Name',\n",
    "                        'ACRS Report Type',\n",
    "                        'Cross-Street Name',\n",
    "                        'Vehicle Movement',\n",
    "                        'Vehicle Continuing Dir',\n",
    "                        'Vehicle Going Dir',\n",
    "                        'Vehicle First Impact Location',\n",
    "                        'Vehicle Second Impact Location',\n",
    "            \n",
    "                    ], inplace = True)"
   ]
  },
  {
   "cell_type": "code",
   "execution_count": 43,
   "id": "4e0e2145",
   "metadata": {},
   "outputs": [],
   "source": [
    "df_1['Driver Substance Abuse'].fillna('NONE DETECTED', inplace=True)"
   ]
  },
  {
   "cell_type": "code",
   "execution_count": 45,
   "id": "531bdf6b",
   "metadata": {},
   "outputs": [],
   "source": [
    "df_1['Traffic Control'].fillna('NO CONTROLS', inplace=True)"
   ]
  },
  {
   "cell_type": "code",
   "execution_count": 48,
   "id": "4fd5d27d",
   "metadata": {},
   "outputs": [],
   "source": [
    "df_1.dropna(inplace = True)"
   ]
  },
  {
   "cell_type": "code",
   "execution_count": 50,
   "id": "ecfe8870",
   "metadata": {},
   "outputs": [
    {
     "name": "stdout",
     "output_type": "stream",
     "text": [
      "(82869, 22)\n",
      "(83983, 14)\n"
     ]
    }
   ],
   "source": [
    "#Both data frames have similar shapes\n",
    "print(df_1.shape)\n",
    "print(df_2.shape)"
   ]
  },
  {
   "cell_type": "markdown",
   "id": "bcffe5b1",
   "metadata": {},
   "source": [
    "### Things to look at:\n",
    " - EDA on injury, shows severity of accident\n",
    " - What is driverless vehicles ?\n",
    " - Vehicle make: Can explore vehicle make vs injury, show safest vehicle make"
   ]
  },
  {
   "cell_type": "markdown",
   "id": "ce75ad87",
   "metadata": {},
   "source": [
    "##### Exploring Severity of Accident vs Substance Abuse"
   ]
  },
  {
   "cell_type": "code",
   "execution_count": 85,
   "id": "96a8d6af",
   "metadata": {
    "scrolled": false
   },
   "outputs": [
    {
     "data": {
      "text/plain": [
       "NO APPARENT INJURY          65786\n",
       "POSSIBLE INJURY              9761\n",
       "SUSPECTED MINOR INJURY       6521\n",
       "SUSPECTED SERIOUS INJURY      730\n",
       "FATAL INJURY                   71\n",
       "Name: Injury Severity, dtype: int64"
      ]
     },
     "execution_count": 85,
     "metadata": {},
     "output_type": "execute_result"
    }
   ],
   "source": [
    "df_1['Injury Severity'].value_counts()"
   ]
  },
  {
   "cell_type": "code",
   "execution_count": 101,
   "id": "54192579",
   "metadata": {},
   "outputs": [
    {
     "data": {
      "text/plain": [
       "Text(0.5, 0, 'Count')"
      ]
     },
     "execution_count": 101,
     "metadata": {},
     "output_type": "execute_result"
    },
    {
     "data": {
      "image/png": "[encoded data removed]",
      "text/plain": [
       "<Figure size 432x288 with 1 Axes>"
      ]
     },
     "metadata": {
      "needs_background": "light"
     },
     "output_type": "display_data"
    }
   ],
   "source": [
    "df_1[df_1['Injury Severity']== 'FATAL INJURY'].groupby('Driver Substance Abuse')['Injury Severity'].count().plot(kind = 'barh')\n",
    "plt.title('Fatal Injuries vs Driver Substance Abuse')\n",
    "plt.xlabel('Count')"
   ]
  },
  {
   "cell_type": "code",
   "execution_count": 104,
   "id": "9be3d185",
   "metadata": {},
   "outputs": [
    {
     "data": {
      "text/plain": [
       "Text(0.5, 0, 'Count')"
      ]
     },
     "execution_count": 104,
     "metadata": {},
     "output_type": "execute_result"
    },
    {
     "data": {
      "image/png": "[encoded data removed]",
      "text/plain": [
       "<Figure size 432x288 with 1 Axes>"
      ]
     },
     "metadata": {
      "needs_background": "light"
     },
     "output_type": "display_data"
    }
   ],
   "source": [
    "df_1[df_1['Injury Severity']== 'SUSPECTED SERIOUS INJURY'].groupby('Driver Substance Abuse')['Injury Severity'].count().plot(kind = 'barh')\n",
    "plt.title('Suspected Serious Injury vs Driver Substance Abuse')\n",
    "plt.xlabel('Count')"
   ]
  },
  {
   "cell_type": "code",
   "execution_count": 138,
   "id": "6138cb1c",
   "metadata": {},
   "outputs": [
    {
     "data": {
      "text/plain": [
       "Text(0.5, 0, 'Count')"
      ]
     },
     "execution_count": 138,
     "metadata": {},
     "output_type": "execute_result"
    },
    {
     "data": {
      "image/png": "[encoded data removed]",
      "text/plain": [
       "<Figure size 432x288 with 1 Axes>"
      ]
     },
     "metadata": {
      "needs_background": "light"
     },
     "output_type": "display_data"
    }
   ],
   "source": [
    "df_1[df_1['Injury Severity']== 'SUSPECTED MINOR INJURY' ].groupby('Driver Substance Abuse')['Injury Severity'].count().plot(kind = 'barh')\n",
    "plt.title('Suspected Minor Injury vs Driver Substance Abuse')\n",
    "plt.xlabel('Count')"
   ]
  },
  {
   "cell_type": "code",
   "execution_count": 139,
   "id": "254b6e4b",
   "metadata": {},
   "outputs": [
    {
     "data": {
      "text/plain": [
       "Text(0.5, 0, 'Count')"
      ]
     },
     "execution_count": 139,
     "metadata": {},
     "output_type": "execute_result"
    },
    {
     "data": {
      "image/png": "[encoded data removed]",
      "text/plain": [
       "<Figure size 432x288 with 1 Axes>"
      ]
     },
     "metadata": {
      "needs_background": "light"
     },
     "output_type": "display_data"
    }
   ],
   "source": [
    "df_1[df_1['Injury Severity']== 'POSSIBLE INJURY'].groupby('Driver Substance Abuse')['Injury Severity'].count().plot(kind = 'barh')\n",
    "plt.title('Possible Injury vs Driver Substance Abuse')\n",
    "plt.xlabel('Count')"
   ]
  },
  {
   "cell_type": "code",
   "execution_count": 153,
   "id": "924989e8",
   "metadata": {
    "scrolled": true
   },
   "outputs": [
    {
     "data": {
      "text/plain": [
       "Text(0.5, 0, 'Count')"
      ]
     },
     "execution_count": 153,
     "metadata": {},
     "output_type": "execute_result"
    },
    {
     "data": {
      "image/png": "[encoded data removed]",
      "text/plain": [
       "<Figure size 432x288 with 1 Axes>"
      ]
     },
     "metadata": {
      "needs_background": "light"
     },
     "output_type": "display_data"
    }
   ],
   "source": [
    "df_1[df_1['Injury Severity']== 'NO APPARENT INJURY'].groupby('Driver Substance Abuse')['Injury Severity'].count().plot(kind = 'barh')\n",
    "plt.title('No Apperent Injury vs Driver Substance Abuse')\n",
    "plt.xlabel('Count')"
   ]
  },
  {
   "cell_type": "markdown",
   "id": "601a2165",
   "metadata": {},
   "source": [
    "##### Observation:\n",
    "\n",
    "Most of the injuries due to car crashes are due to sober drivers."
   ]
  },
  {
   "cell_type": "code",
   "execution_count": 158,
   "id": "e3e29e8b",
   "metadata": {},
   "outputs": [],
   "source": [
    "df_1['Crash Date/Time'] = pd.to_datetime(df_1['Crash Date/Time'])\n",
    "df_1['Crash Time of Day'] = (df_1['Crash Date/Time'].dt.hour % 24 + 4) // 4"
   ]
  },
  {
   "cell_type": "code",
   "execution_count": 159,
   "id": "dfd961ce",
   "metadata": {},
   "outputs": [],
   "source": [
    "df_1['Crash Time of Day'].replace({1: 'Late Night',\n",
    "                      2: 'Early Morning',\n",
    "                      3: 'Morning',\n",
    "                      4: 'Noon',\n",
    "                      5: 'Evening',\n",
    "                      6: 'Night'}, inplace=True)"
   ]
  },
  {
   "cell_type": "code",
   "execution_count": 164,
   "id": "c3e83583",
   "metadata": {},
   "outputs": [],
   "source": [
    "cols = ['NO APPARENT INJURY','POSSIBLE INJURY','SUSPECTED MINOR INJURY','SUSPECTED SERIOUS INJURY','FATAL INJURY']"
   ]
  },
  {
   "cell_type": "code",
   "execution_count": 197,
   "id": "a32b8cb0",
   "metadata": {},
   "outputs": [],
   "source": [
    "def time_crash(feature):\n",
    "    plt.title(f'{feature.lower().capitalize()} vs Time of the day')\n",
    "    return df_1[df_1['Injury Severity']== f'{feature}'].groupby('Crash Time of Day')['Injury Severity'].count().plot(kind = 'barh')\n"
   ]
  },
  {
   "cell_type": "code",
   "execution_count": 198,
   "id": "ac748f27",
   "metadata": {},
   "outputs": [
    {
     "data": {
      "text/plain": [
       "<AxesSubplot:title={'center':'No apparent injury vs Time of the day'}, ylabel='Crash Time of Day'>"
      ]
     },
     "execution_count": 198,
     "metadata": {},
     "output_type": "execute_result"
    },
    {
     "data": {
      "image/png": "[encoded data removed]",
      "text/plain": [
       "<Figure size 432x288 with 1 Axes>"
      ]
     },
     "metadata": {
      "needs_background": "light"
     },
     "output_type": "display_data"
    }
   ],
   "source": [
    "time_crash('NO APPARENT INJURY')"
   ]
  },
  {
   "cell_type": "code",
   "execution_count": 199,
   "id": "7645fc30",
   "metadata": {},
   "outputs": [
    {
     "data": {
      "text/plain": [
       "<AxesSubplot:title={'center':'Possible injury vs Time of the day'}, ylabel='Crash Time of Day'>"
      ]
     },
     "execution_count": 199,
     "metadata": {},
     "output_type": "execute_result"
    },
    {
     "data": {
      "image/png": "[encoded data removed]",
      "text/plain": [
       "<Figure size 432x288 with 1 Axes>"
      ]
     },
     "metadata": {
      "needs_background": "light"
     },
     "output_type": "display_data"
    }
   ],
   "source": [
    "time_crash('POSSIBLE INJURY')"
   ]
  },
  {
   "cell_type": "code",
   "execution_count": 200,
   "id": "e4da951e",
   "metadata": {},
   "outputs": [
    {
     "data": {
      "text/plain": [
       "<AxesSubplot:title={'center':'Suspected minor injury vs Time of the day'}, ylabel='Crash Time of Day'>"
      ]
     },
     "execution_count": 200,
     "metadata": {},
     "output_type": "execute_result"
    },
    {
     "data": {
      "image/png": "[encoded data removed]",
      "text/plain": [
       "<Figure size 432x288 with 1 Axes>"
      ]
     },
     "metadata": {
      "needs_background": "light"
     },
     "output_type": "display_data"
    }
   ],
   "source": [
    "time_crash('SUSPECTED MINOR INJURY')"
   ]
  },
  {
   "cell_type": "code",
   "execution_count": 210,
   "id": "fb624a80",
   "metadata": {},
   "outputs": [
    {
     "data": {
      "text/plain": [
       "<AxesSubplot:title={'center':'Suspected serious injury vs Time of the day'}, ylabel='Crash Time of Day'>"
      ]
     },
     "execution_count": 210,
     "metadata": {},
     "output_type": "execute_result"
    },
    {
     "data": {
      "image/png": "[encoded data removed]",
      "text/plain": [
       "<Figure size 432x288 with 1 Axes>"
      ]
     },
     "metadata": {
      "needs_background": "light"
     },
     "output_type": "display_data"
    }
   ],
   "source": [
    "time_crash('SUSPECTED SERIOUS INJURY')"
   ]
  },
  {
   "cell_type": "code",
   "execution_count": 203,
   "id": "ad4d9568",
   "metadata": {},
   "outputs": [
    {
     "data": {
      "text/plain": [
       "<AxesSubplot:title={'center':'Fatal injury vs Time of the day'}, ylabel='Crash Time of Day'>"
      ]
     },
     "execution_count": 203,
     "metadata": {},
     "output_type": "execute_result"
    },
    {
     "data": {
      "image/png": "[encoded data removed]",
      "text/plain": [
       "<Figure size 432x288 with 1 Axes>"
      ]
     },
     "metadata": {
      "needs_background": "light"
     },
     "output_type": "display_data"
    }
   ],
   "source": [
    "time_crash('FATAL INJURY')"
   ]
  },
  {
   "cell_type": "code",
   "execution_count": 206,
   "id": "30b8b659",
   "metadata": {},
   "outputs": [
    {
     "data": {
      "text/html": [
       "<div>\n",
       "<style scoped>\n",
       "    .dataframe tbody tr th:only-of-type {\n",
       "        vertical-align: middle;\n",
       "    }\n",
       "\n",
       "    .dataframe tbody tr th {\n",
       "        vertical-align: top;\n",
       "    }\n",
       "\n",
       "    .dataframe thead th {\n",
       "        text-align: right;\n",
       "    }\n",
       "</style>\n",
       "<table border=\"1\" class=\"dataframe\">\n",
       "  <thead>\n",
       "    <tr style=\"text-align: right;\">\n",
       "      <th></th>\n",
       "      <th>Crash Time of Day</th>\n",
       "      <th>Collision Type</th>\n",
       "      <th>Surface Condition</th>\n",
       "      <th>Light</th>\n",
       "      <th>Traffic Control</th>\n",
       "      <th>Driver Substance Abuse</th>\n",
       "      <th>Driver At Fault</th>\n",
       "      <th>Driver Distracted By</th>\n",
       "      <th>Vehicle First Impact Location</th>\n",
       "      <th>Vehicle Second Impact Location</th>\n",
       "      <th>Vehicle Body Type</th>\n",
       "      <th>Vehicle Movement</th>\n",
       "      <th>Speed Limit</th>\n",
       "      <th>Parked Vehicle</th>\n",
       "    </tr>\n",
       "  </thead>\n",
       "  <tbody>\n",
       "    <tr>\n",
       "      <th>0</th>\n",
       "      <td>Evening</td>\n",
       "      <td>SAME DIR REAR END</td>\n",
       "      <td>DRY</td>\n",
       "      <td>DAYLIGHT</td>\n",
       "      <td>STOP SIGN</td>\n",
       "      <td>No</td>\n",
       "      <td>No</td>\n",
       "      <td>No</td>\n",
       "      <td>SIX OCLOCK</td>\n",
       "      <td>SIX OCLOCK</td>\n",
       "      <td>PASSENGER CAR</td>\n",
       "      <td>STOPPED IN TRAFFIC LANE</td>\n",
       "      <td>25</td>\n",
       "      <td>No</td>\n",
       "    </tr>\n",
       "    <tr>\n",
       "      <th>1</th>\n",
       "      <td>Early Morning</td>\n",
       "      <td>SAME DIR REAR END</td>\n",
       "      <td>DRY</td>\n",
       "      <td>DAWN</td>\n",
       "      <td>TRAFFIC SIGNAL</td>\n",
       "      <td>No</td>\n",
       "      <td>No</td>\n",
       "      <td>No</td>\n",
       "      <td>SIX OCLOCK</td>\n",
       "      <td>SIX OCLOCK</td>\n",
       "      <td>PASSENGER CAR</td>\n",
       "      <td>STOPPED IN TRAFFIC LANE</td>\n",
       "      <td>40</td>\n",
       "      <td>No</td>\n",
       "    </tr>\n",
       "    <tr>\n",
       "      <th>2</th>\n",
       "      <td>Early Morning</td>\n",
       "      <td>SINGLE VEHICLE</td>\n",
       "      <td>DRY</td>\n",
       "      <td>DAYLIGHT</td>\n",
       "      <td>NO CONTROLS</td>\n",
       "      <td>No</td>\n",
       "      <td>No</td>\n",
       "      <td>No</td>\n",
       "      <td>ELEVEN OCLOCK</td>\n",
       "      <td>ELEVEN OCLOCK</td>\n",
       "      <td>POLICE VEHICLE/NON EMERGENCY</td>\n",
       "      <td>MOVING CONSTANT SPEED</td>\n",
       "      <td>35</td>\n",
       "      <td>No</td>\n",
       "    </tr>\n",
       "    <tr>\n",
       "      <th>3</th>\n",
       "      <td>Late Night</td>\n",
       "      <td>SINGLE VEHICLE</td>\n",
       "      <td>DRY</td>\n",
       "      <td>DARK LIGHTS ON</td>\n",
       "      <td>NO CONTROLS</td>\n",
       "      <td>No</td>\n",
       "      <td>No</td>\n",
       "      <td>No</td>\n",
       "      <td>TWELVE OCLOCK</td>\n",
       "      <td>TWELVE OCLOCK</td>\n",
       "      <td>POLICE VEHICLE/EMERGENCY</td>\n",
       "      <td>MOVING CONSTANT SPEED</td>\n",
       "      <td>35</td>\n",
       "      <td>No</td>\n",
       "    </tr>\n",
       "    <tr>\n",
       "      <th>4</th>\n",
       "      <td>Night</td>\n",
       "      <td>SAME DIR REAR END</td>\n",
       "      <td>DRY</td>\n",
       "      <td>DARK LIGHTS ON</td>\n",
       "      <td>NO CONTROLS</td>\n",
       "      <td>Yes</td>\n",
       "      <td>Yes</td>\n",
       "      <td>Yes</td>\n",
       "      <td>TWELVE OCLOCK</td>\n",
       "      <td>TWELVE OCLOCK</td>\n",
       "      <td>PASSENGER CAR</td>\n",
       "      <td>ACCELERATING</td>\n",
       "      <td>35</td>\n",
       "      <td>No</td>\n",
       "    </tr>\n",
       "  </tbody>\n",
       "</table>\n",
       "</div>"
      ],
      "text/plain": [
       "  Crash Time of Day     Collision Type Surface Condition           Light  \\\n",
       "0           Evening  SAME DIR REAR END               DRY        DAYLIGHT   \n",
       "1     Early Morning  SAME DIR REAR END               DRY            DAWN   \n",
       "2     Early Morning     SINGLE VEHICLE               DRY        DAYLIGHT   \n",
       "3        Late Night     SINGLE VEHICLE               DRY  DARK LIGHTS ON   \n",
       "4             Night  SAME DIR REAR END               DRY  DARK LIGHTS ON   \n",
       "\n",
       "  Traffic Control Driver Substance Abuse Driver At Fault Driver Distracted By  \\\n",
       "0       STOP SIGN                     No              No                   No   \n",
       "1  TRAFFIC SIGNAL                     No              No                   No   \n",
       "2     NO CONTROLS                     No              No                   No   \n",
       "3     NO CONTROLS                     No              No                   No   \n",
       "4     NO CONTROLS                    Yes             Yes                  Yes   \n",
       "\n",
       "  Vehicle First Impact Location Vehicle Second Impact Location  \\\n",
       "0                    SIX OCLOCK                     SIX OCLOCK   \n",
       "1                    SIX OCLOCK                     SIX OCLOCK   \n",
       "2                 ELEVEN OCLOCK                  ELEVEN OCLOCK   \n",
       "3                 TWELVE OCLOCK                  TWELVE OCLOCK   \n",
       "4                 TWELVE OCLOCK                  TWELVE OCLOCK   \n",
       "\n",
       "              Vehicle Body Type         Vehicle Movement  Speed Limit  \\\n",
       "0                 PASSENGER CAR  STOPPED IN TRAFFIC LANE           25   \n",
       "1                 PASSENGER CAR  STOPPED IN TRAFFIC LANE           40   \n",
       "2  POLICE VEHICLE/NON EMERGENCY    MOVING CONSTANT SPEED           35   \n",
       "3      POLICE VEHICLE/EMERGENCY    MOVING CONSTANT SPEED           35   \n",
       "4                 PASSENGER CAR             ACCELERATING           35   \n",
       "\n",
       "  Parked Vehicle  \n",
       "0             No  \n",
       "1             No  \n",
       "2             No  \n",
       "3             No  \n",
       "4             No  "
      ]
     },
     "execution_count": 206,
     "metadata": {},
     "output_type": "execute_result"
    }
   ],
   "source": [
    "df_2.head()"
   ]
  },
  {
   "cell_type": "code",
   "execution_count": 208,
   "id": "3d9a9ca8",
   "metadata": {},
   "outputs": [
    {
     "data": {
      "text/html": [
       "<div>\n",
       "<style scoped>\n",
       "    .dataframe tbody tr th:only-of-type {\n",
       "        vertical-align: middle;\n",
       "    }\n",
       "\n",
       "    .dataframe tbody tr th {\n",
       "        vertical-align: top;\n",
       "    }\n",
       "\n",
       "    .dataframe thead th {\n",
       "        text-align: right;\n",
       "    }\n",
       "</style>\n",
       "<table border=\"1\" class=\"dataframe\">\n",
       "  <thead>\n",
       "    <tr style=\"text-align: right;\">\n",
       "      <th></th>\n",
       "      <th>Crash Date/Time</th>\n",
       "      <th>Route Type</th>\n",
       "      <th>Road Name</th>\n",
       "      <th>Cross-Street Type</th>\n",
       "      <th>Collision Type</th>\n",
       "      <th>Weather</th>\n",
       "      <th>Surface Condition</th>\n",
       "      <th>Light</th>\n",
       "      <th>Traffic Control</th>\n",
       "      <th>Driver Substance Abuse</th>\n",
       "      <th>Driver At Fault</th>\n",
       "      <th>Injury Severity</th>\n",
       "      <th>Driver Distracted By</th>\n",
       "      <th>Drivers License State</th>\n",
       "      <th>Vehicle Body Type</th>\n",
       "      <th>Speed Limit</th>\n",
       "      <th>Driverless Vehicle</th>\n",
       "      <th>Parked Vehicle</th>\n",
       "      <th>Vehicle Year</th>\n",
       "      <th>Vehicle Make</th>\n",
       "      <th>Vehicle Model</th>\n",
       "      <th>Equipment Problems</th>\n",
       "      <th>Crash Time of Day</th>\n",
       "    </tr>\n",
       "  </thead>\n",
       "  <tbody>\n",
       "    <tr>\n",
       "      <th>1</th>\n",
       "      <td>2020-06-18 02:00:00</td>\n",
       "      <td>County</td>\n",
       "      <td>DAIRYMAID DR</td>\n",
       "      <td>County</td>\n",
       "      <td>OTHER</td>\n",
       "      <td>CLOUDY</td>\n",
       "      <td>DRY</td>\n",
       "      <td>UNKNOWN</td>\n",
       "      <td>NO CONTROLS</td>\n",
       "      <td>UNKNOWN</td>\n",
       "      <td>Yes</td>\n",
       "      <td>NO APPARENT INJURY</td>\n",
       "      <td>UNKNOWN</td>\n",
       "      <td>XX</td>\n",
       "      <td>UNKNOWN</td>\n",
       "      <td>35</td>\n",
       "      <td>No</td>\n",
       "      <td>No</td>\n",
       "      <td>2020</td>\n",
       "      <td>UNK</td>\n",
       "      <td>UNK</td>\n",
       "      <td>UNKNOWN</td>\n",
       "      <td>Late Night</td>\n",
       "    </tr>\n",
       "    <tr>\n",
       "      <th>2</th>\n",
       "      <td>2020-04-19 15:39:00</td>\n",
       "      <td>County</td>\n",
       "      <td>RUSSETT RD</td>\n",
       "      <td>County</td>\n",
       "      <td>OTHER</td>\n",
       "      <td>CLEAR</td>\n",
       "      <td>DRY</td>\n",
       "      <td>DAYLIGHT</td>\n",
       "      <td>NO CONTROLS</td>\n",
       "      <td>ALCOHOL PRESENT</td>\n",
       "      <td>Yes</td>\n",
       "      <td>NO APPARENT INJURY</td>\n",
       "      <td>UNKNOWN</td>\n",
       "      <td>MD</td>\n",
       "      <td>VAN</td>\n",
       "      <td>25</td>\n",
       "      <td>No</td>\n",
       "      <td>No</td>\n",
       "      <td>2004</td>\n",
       "      <td>DODGE</td>\n",
       "      <td>GRAND CARAVAN</td>\n",
       "      <td>NO MISUSE</td>\n",
       "      <td>Noon</td>\n",
       "    </tr>\n",
       "    <tr>\n",
       "      <th>3</th>\n",
       "      <td>2020-04-20 09:15:00</td>\n",
       "      <td>County</td>\n",
       "      <td>ARCHDALE RD</td>\n",
       "      <td>County</td>\n",
       "      <td>OTHER</td>\n",
       "      <td>CLOUDY</td>\n",
       "      <td>DRY</td>\n",
       "      <td>DAYLIGHT</td>\n",
       "      <td>NO CONTROLS</td>\n",
       "      <td>NONE DETECTED</td>\n",
       "      <td>Yes</td>\n",
       "      <td>POSSIBLE INJURY</td>\n",
       "      <td>UNKNOWN</td>\n",
       "      <td>MD</td>\n",
       "      <td>PASSENGER CAR</td>\n",
       "      <td>25</td>\n",
       "      <td>No</td>\n",
       "      <td>No</td>\n",
       "      <td>2006</td>\n",
       "      <td>HONDA</td>\n",
       "      <td>CR-V</td>\n",
       "      <td>UNKNOWN</td>\n",
       "      <td>Morning</td>\n",
       "    </tr>\n",
       "    <tr>\n",
       "      <th>5</th>\n",
       "      <td>2020-04-21 06:45:00</td>\n",
       "      <td>Municipality</td>\n",
       "      <td>WOOTTON PKWY</td>\n",
       "      <td>Municipality</td>\n",
       "      <td>SAME DIR REAR END</td>\n",
       "      <td>CLEAR</td>\n",
       "      <td>DRY</td>\n",
       "      <td>DAWN</td>\n",
       "      <td>TRAFFIC SIGNAL</td>\n",
       "      <td>NONE DETECTED</td>\n",
       "      <td>No</td>\n",
       "      <td>NO APPARENT INJURY</td>\n",
       "      <td>NOT DISTRACTED</td>\n",
       "      <td>MD</td>\n",
       "      <td>PASSENGER CAR</td>\n",
       "      <td>40</td>\n",
       "      <td>No</td>\n",
       "      <td>No</td>\n",
       "      <td>2018</td>\n",
       "      <td>TOYT</td>\n",
       "      <td>4S</td>\n",
       "      <td>NO MISUSE</td>\n",
       "      <td>Early Morning</td>\n",
       "    </tr>\n",
       "    <tr>\n",
       "      <th>6</th>\n",
       "      <td>2020-03-24 07:13:00</td>\n",
       "      <td>County</td>\n",
       "      <td>CASHELL RD</td>\n",
       "      <td>County</td>\n",
       "      <td>SINGLE VEHICLE</td>\n",
       "      <td>CLOUDY</td>\n",
       "      <td>DRY</td>\n",
       "      <td>DAYLIGHT</td>\n",
       "      <td>NO CONTROLS</td>\n",
       "      <td>NONE DETECTED</td>\n",
       "      <td>No</td>\n",
       "      <td>NO APPARENT INJURY</td>\n",
       "      <td>NOT DISTRACTED</td>\n",
       "      <td>MD</td>\n",
       "      <td>POLICE VEHICLE/NON EMERGENCY</td>\n",
       "      <td>35</td>\n",
       "      <td>No</td>\n",
       "      <td>No</td>\n",
       "      <td>2017</td>\n",
       "      <td>FORD</td>\n",
       "      <td>EXPLORER</td>\n",
       "      <td>NO MISUSE</td>\n",
       "      <td>Early Morning</td>\n",
       "    </tr>\n",
       "  </tbody>\n",
       "</table>\n",
       "</div>"
      ],
      "text/plain": [
       "      Crash Date/Time    Route Type     Road Name Cross-Street Type  \\\n",
       "1 2020-06-18 02:00:00        County  DAIRYMAID DR            County   \n",
       "2 2020-04-19 15:39:00        County    RUSSETT RD            County   \n",
       "3 2020-04-20 09:15:00        County   ARCHDALE RD            County   \n",
       "5 2020-04-21 06:45:00  Municipality  WOOTTON PKWY      Municipality   \n",
       "6 2020-03-24 07:13:00        County    CASHELL RD            County   \n",
       "\n",
       "      Collision Type Weather Surface Condition     Light Traffic Control  \\\n",
       "1              OTHER  CLOUDY               DRY   UNKNOWN     NO CONTROLS   \n",
       "2              OTHER   CLEAR               DRY  DAYLIGHT     NO CONTROLS   \n",
       "3              OTHER  CLOUDY               DRY  DAYLIGHT     NO CONTROLS   \n",
       "5  SAME DIR REAR END   CLEAR               DRY      DAWN  TRAFFIC SIGNAL   \n",
       "6     SINGLE VEHICLE  CLOUDY               DRY  DAYLIGHT     NO CONTROLS   \n",
       "\n",
       "  Driver Substance Abuse Driver At Fault     Injury Severity  \\\n",
       "1                UNKNOWN             Yes  NO APPARENT INJURY   \n",
       "2        ALCOHOL PRESENT             Yes  NO APPARENT INJURY   \n",
       "3          NONE DETECTED             Yes     POSSIBLE INJURY   \n",
       "5          NONE DETECTED              No  NO APPARENT INJURY   \n",
       "6          NONE DETECTED              No  NO APPARENT INJURY   \n",
       "\n",
       "  Driver Distracted By Drivers License State             Vehicle Body Type  \\\n",
       "1              UNKNOWN                    XX                       UNKNOWN   \n",
       "2              UNKNOWN                    MD                           VAN   \n",
       "3              UNKNOWN                    MD                 PASSENGER CAR   \n",
       "5       NOT DISTRACTED                    MD                 PASSENGER CAR   \n",
       "6       NOT DISTRACTED                    MD  POLICE VEHICLE/NON EMERGENCY   \n",
       "\n",
       "   Speed Limit Driverless Vehicle Parked Vehicle  Vehicle Year Vehicle Make  \\\n",
       "1           35                 No             No          2020          UNK   \n",
       "2           25                 No             No          2004        DODGE   \n",
       "3           25                 No             No          2006        HONDA   \n",
       "5           40                 No             No          2018         TOYT   \n",
       "6           35                 No             No          2017         FORD   \n",
       "\n",
       "   Vehicle Model Equipment Problems Crash Time of Day  \n",
       "1            UNK            UNKNOWN        Late Night  \n",
       "2  GRAND CARAVAN          NO MISUSE              Noon  \n",
       "3           CR-V            UNKNOWN           Morning  \n",
       "5             4S          NO MISUSE     Early Morning  \n",
       "6       EXPLORER          NO MISUSE     Early Morning  "
      ]
     },
     "execution_count": 208,
     "metadata": {},
     "output_type": "execute_result"
    }
   ],
   "source": [
    "df_1.head()"
   ]
  },
  {
   "cell_type": "code",
   "execution_count": 212,
   "id": "70433216",
   "metadata": {},
   "outputs": [
    {
     "data": {
      "text/plain": [
       "Driver At Fault\n",
       "No         38958\n",
       "Unknown     1831\n",
       "Yes        42080\n",
       "Name: Vehicle Year, dtype: int64"
      ]
     },
     "execution_count": 212,
     "metadata": {},
     "output_type": "execute_result"
    }
   ],
   "source": [
    "df_1.groupby('Driver At Fault')['Vehicle Year'].count()"
   ]
  },
  {
   "cell_type": "code",
   "execution_count": 213,
   "id": "0bd6b2ac",
   "metadata": {},
   "outputs": [
    {
     "data": {
      "text/plain": [
       "Vehicle Year\n",
       "0       82\n",
       "2        1\n",
       "3        1\n",
       "4        1\n",
       "8        1\n",
       "        ..\n",
       "3003     1\n",
       "3863     1\n",
       "5005     1\n",
       "8008     1\n",
       "9999     7\n",
       "Name: Driver At Fault, Length: 102, dtype: int64"
      ]
     },
     "execution_count": 213,
     "metadata": {},
     "output_type": "execute_result"
    }
   ],
   "source": [
    "df_1.groupby('Vehicle Year')['Driver At Fault'].count()"
   ]
  },
  {
   "cell_type": "code",
   "execution_count": 222,
   "id": "21d2c3a7",
   "metadata": {},
   "outputs": [
    {
     "data": {
      "text/plain": [
       "2015    6059\n",
       "2014    5893\n",
       "2016    5684\n",
       "2013    5562\n",
       "2012    4834\n",
       "2011    4468\n",
       "2017    4310\n",
       "2007    4253\n",
       "2008    4169\n",
       "2006    3981\n",
       "2010    3807\n",
       "2009    3613\n",
       "2005    3473\n",
       "2004    3372\n",
       "2003    2969\n",
       "2018    2754\n",
       "2002    2292\n",
       "2019    1906\n",
       "2001    1836\n",
       "2000    1755\n",
       "1999    1193\n",
       "2020     887\n",
       "1998     885\n",
       "1997     689\n",
       "1996     445\n",
       "2021     372\n",
       "1995     325\n",
       "1994     239\n",
       "1993     180\n",
       "1992     110\n",
       "Name: Vehicle Year, dtype: int64"
      ]
     },
     "execution_count": 222,
     "metadata": {},
     "output_type": "execute_result"
    }
   ],
   "source": [
    "df_1['Vehicle Year'].value_counts().head(30)"
   ]
  },
  {
   "cell_type": "code",
   "execution_count": null,
   "id": "339c9f33",
   "metadata": {},
   "outputs": [],
   "source": []
  }
 ],
 "metadata": {
  "kernelspec": {
   "display_name": "Python 3",
   "language": "python",
   "name": "python3"
  },
  "language_info": {
   "codemirror_mode": {
    "name": "ipython",
    "version": 3
   },
   "file_extension": ".py",
   "mimetype": "text/x-python",
   "name": "python",
   "nbconvert_exporter": "python",
   "pygments_lexer": "ipython3",
   "version": "3.8.8"
  }
 },
 "nbformat": 4,
 "nbformat_minor": 5
}
