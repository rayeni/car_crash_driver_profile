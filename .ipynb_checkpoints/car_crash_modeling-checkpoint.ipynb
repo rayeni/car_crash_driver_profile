{
 "cells": [
  {
   "cell_type": "markdown",
   "id": "17436b5b",
   "metadata": {},
   "source": [
    "# Project 5: Car crash data"
   ]
  },
  {
   "cell_type": "markdown",
   "id": "1088a0a4",
   "metadata": {},
   "source": [
    "## Modeling Notebook\n",
    "This notebook is for modeling the car crash data.  It assumes that the previous notebooks have been run. "
   ]
  },
  {
   "cell_type": "markdown",
   "id": "b3e59fa1",
   "metadata": {},
   "source": [
    "## Problem Statement:\n"
   ]
  },
  {
   "cell_type": "code",
   "execution_count": 1,
   "id": "4c1e5d34",
   "metadata": {},
   "outputs": [],
   "source": [
    "#imports \n",
    "import pandas as pd\n",
    "import seaborn as sns\n",
    "import numpy as np\n",
    "import matplotlib.pyplot as plt\n",
    "\n",
    "from sklearn.linear_model import LogisticRegression, LogisticRegressionCV\n",
    "from sklearn.tree import DecisionTreeClassifier\n",
    "from sklearn.ensemble import RandomForestClassifier\n",
    "from xgboost import XGBClassifier\n",
    "from sklearn.model_selection import train_test_split\n",
    "from sklearn.metrics import plot_confusion_matrix, f1_score\n"
   ]
  },
  {
   "cell_type": "code",
   "execution_count": 2,
   "id": "8e3f454a",
   "metadata": {
    "scrolled": true
   },
   "outputs": [
    {
     "data": {
      "text/html": [
       "<div>\n",
       "<style scoped>\n",
       "    .dataframe tbody tr th:only-of-type {\n",
       "        vertical-align: middle;\n",
       "    }\n",
       "\n",
       "    .dataframe tbody tr th {\n",
       "        vertical-align: top;\n",
       "    }\n",
       "\n",
       "    .dataframe thead th {\n",
       "        text-align: right;\n",
       "    }\n",
       "</style>\n",
       "<table border=\"1\" class=\"dataframe\">\n",
       "  <thead>\n",
       "    <tr style=\"text-align: right;\">\n",
       "      <th></th>\n",
       "      <th>Crash Time of Day</th>\n",
       "      <th>Collision Type</th>\n",
       "      <th>Surface Condition</th>\n",
       "      <th>Light</th>\n",
       "      <th>Traffic Control</th>\n",
       "      <th>Driver Substance Abuse</th>\n",
       "      <th>Driver At Fault</th>\n",
       "      <th>Driver Distracted By</th>\n",
       "      <th>Vehicle First Impact Location</th>\n",
       "      <th>Vehicle Second Impact Location</th>\n",
       "      <th>Vehicle Body Type</th>\n",
       "      <th>Vehicle Movement</th>\n",
       "      <th>Speed Limit</th>\n",
       "      <th>Parked Vehicle</th>\n",
       "    </tr>\n",
       "  </thead>\n",
       "  <tbody>\n",
       "    <tr>\n",
       "      <th>0</th>\n",
       "      <td>Evening</td>\n",
       "      <td>SAME DIR REAR END</td>\n",
       "      <td>DRY</td>\n",
       "      <td>DAYLIGHT</td>\n",
       "      <td>STOP SIGN</td>\n",
       "      <td>No</td>\n",
       "      <td>No</td>\n",
       "      <td>No</td>\n",
       "      <td>SIX OCLOCK</td>\n",
       "      <td>SIX OCLOCK</td>\n",
       "      <td>PASSENGER CAR</td>\n",
       "      <td>STOPPED IN TRAFFIC LANE</td>\n",
       "      <td>25</td>\n",
       "      <td>No</td>\n",
       "    </tr>\n",
       "    <tr>\n",
       "      <th>1</th>\n",
       "      <td>Early Morning</td>\n",
       "      <td>SAME DIR REAR END</td>\n",
       "      <td>DRY</td>\n",
       "      <td>DAWN</td>\n",
       "      <td>TRAFFIC SIGNAL</td>\n",
       "      <td>No</td>\n",
       "      <td>No</td>\n",
       "      <td>No</td>\n",
       "      <td>SIX OCLOCK</td>\n",
       "      <td>SIX OCLOCK</td>\n",
       "      <td>PASSENGER CAR</td>\n",
       "      <td>STOPPED IN TRAFFIC LANE</td>\n",
       "      <td>40</td>\n",
       "      <td>No</td>\n",
       "    </tr>\n",
       "    <tr>\n",
       "      <th>2</th>\n",
       "      <td>Early Morning</td>\n",
       "      <td>SINGLE VEHICLE</td>\n",
       "      <td>DRY</td>\n",
       "      <td>DAYLIGHT</td>\n",
       "      <td>NO CONTROLS</td>\n",
       "      <td>No</td>\n",
       "      <td>No</td>\n",
       "      <td>No</td>\n",
       "      <td>ELEVEN OCLOCK</td>\n",
       "      <td>ELEVEN OCLOCK</td>\n",
       "      <td>POLICE VEHICLE/NON EMERGENCY</td>\n",
       "      <td>MOVING CONSTANT SPEED</td>\n",
       "      <td>35</td>\n",
       "      <td>No</td>\n",
       "    </tr>\n",
       "    <tr>\n",
       "      <th>3</th>\n",
       "      <td>Late Night</td>\n",
       "      <td>SINGLE VEHICLE</td>\n",
       "      <td>DRY</td>\n",
       "      <td>DARK LIGHTS ON</td>\n",
       "      <td>NO CONTROLS</td>\n",
       "      <td>No</td>\n",
       "      <td>No</td>\n",
       "      <td>No</td>\n",
       "      <td>TWELVE OCLOCK</td>\n",
       "      <td>TWELVE OCLOCK</td>\n",
       "      <td>POLICE VEHICLE/EMERGENCY</td>\n",
       "      <td>MOVING CONSTANT SPEED</td>\n",
       "      <td>35</td>\n",
       "      <td>No</td>\n",
       "    </tr>\n",
       "    <tr>\n",
       "      <th>4</th>\n",
       "      <td>Night</td>\n",
       "      <td>SAME DIR REAR END</td>\n",
       "      <td>DRY</td>\n",
       "      <td>DARK LIGHTS ON</td>\n",
       "      <td>NO CONTROLS</td>\n",
       "      <td>Yes</td>\n",
       "      <td>Yes</td>\n",
       "      <td>Yes</td>\n",
       "      <td>TWELVE OCLOCK</td>\n",
       "      <td>TWELVE OCLOCK</td>\n",
       "      <td>PASSENGER CAR</td>\n",
       "      <td>ACCELERATING</td>\n",
       "      <td>35</td>\n",
       "      <td>No</td>\n",
       "    </tr>\n",
       "  </tbody>\n",
       "</table>\n",
       "</div>"
      ],
      "text/plain": [
       "  Crash Time of Day     Collision Type Surface Condition           Light  \\\n",
       "0           Evening  SAME DIR REAR END               DRY        DAYLIGHT   \n",
       "1     Early Morning  SAME DIR REAR END               DRY            DAWN   \n",
       "2     Early Morning     SINGLE VEHICLE               DRY        DAYLIGHT   \n",
       "3        Late Night     SINGLE VEHICLE               DRY  DARK LIGHTS ON   \n",
       "4             Night  SAME DIR REAR END               DRY  DARK LIGHTS ON   \n",
       "\n",
       "  Traffic Control Driver Substance Abuse Driver At Fault Driver Distracted By  \\\n",
       "0       STOP SIGN                     No              No                   No   \n",
       "1  TRAFFIC SIGNAL                     No              No                   No   \n",
       "2     NO CONTROLS                     No              No                   No   \n",
       "3     NO CONTROLS                     No              No                   No   \n",
       "4     NO CONTROLS                    Yes             Yes                  Yes   \n",
       "\n",
       "  Vehicle First Impact Location Vehicle Second Impact Location  \\\n",
       "0                    SIX OCLOCK                     SIX OCLOCK   \n",
       "1                    SIX OCLOCK                     SIX OCLOCK   \n",
       "2                 ELEVEN OCLOCK                  ELEVEN OCLOCK   \n",
       "3                 TWELVE OCLOCK                  TWELVE OCLOCK   \n",
       "4                 TWELVE OCLOCK                  TWELVE OCLOCK   \n",
       "\n",
       "              Vehicle Body Type         Vehicle Movement  Speed Limit  \\\n",
       "0                 PASSENGER CAR  STOPPED IN TRAFFIC LANE           25   \n",
       "1                 PASSENGER CAR  STOPPED IN TRAFFIC LANE           40   \n",
       "2  POLICE VEHICLE/NON EMERGENCY    MOVING CONSTANT SPEED           35   \n",
       "3      POLICE VEHICLE/EMERGENCY    MOVING CONSTANT SPEED           35   \n",
       "4                 PASSENGER CAR             ACCELERATING           35   \n",
       "\n",
       "  Parked Vehicle  \n",
       "0             No  \n",
       "1             No  \n",
       "2             No  \n",
       "3             No  \n",
       "4             No  "
      ]
     },
     "execution_count": 2,
     "metadata": {},
     "output_type": "execute_result"
    }
   ],
   "source": [
    "#read data\n",
    "crash = pd.read_csv('./data/crash_data_modified.csv')\n",
    "crash.head()"
   ]
  },
  {
   "cell_type": "code",
   "execution_count": 3,
   "id": "f81d5050",
   "metadata": {
    "scrolled": true
   },
   "outputs": [
    {
     "data": {
      "text/plain": [
       "Index(['Crash Time of Day', 'Collision Type', 'Surface Condition', 'Light',\n",
       "       'Traffic Control', 'Driver Substance Abuse', 'Driver At Fault',\n",
       "       'Driver Distracted By', 'Vehicle First Impact Location',\n",
       "       'Vehicle Second Impact Location', 'Vehicle Body Type',\n",
       "       'Vehicle Movement', 'Speed Limit', 'Parked Vehicle'],\n",
       "      dtype='object')"
      ]
     },
     "execution_count": 3,
     "metadata": {},
     "output_type": "execute_result"
    }
   ],
   "source": [
    "# original feature names\n",
    "crash.columns"
   ]
  },
  {
   "cell_type": "markdown",
   "id": "7abda6d0-5384-409a-aaf2-0d1568f791ab",
   "metadata": {},
   "source": [
    "## Basic look at occurences of features in data"
   ]
  },
  {
   "cell_type": "code",
   "execution_count": 4,
   "id": "035511fa",
   "metadata": {},
   "outputs": [
    {
     "data": {
      "text/plain": [
       "No     0.973233\n",
       "Yes    0.026767\n",
       "Name: Driver Substance Abuse, dtype: float64"
      ]
     },
     "execution_count": 4,
     "metadata": {},
     "output_type": "execute_result"
    }
   ],
   "source": [
    "# Driver substance abuse\n",
    "crash['Driver Substance Abuse'].value_counts(normalize = True)"
   ]
  },
  {
   "cell_type": "code",
   "execution_count": 5,
   "id": "e2564d05",
   "metadata": {},
   "outputs": [
    {
     "data": {
      "text/plain": [
       "No     0.784361\n",
       "Yes    0.215639\n",
       "Name: Driver Distracted By, dtype: float64"
      ]
     },
     "execution_count": 5,
     "metadata": {},
     "output_type": "execute_result"
    }
   ],
   "source": [
    "# Driver distracted by\n",
    "crash['Driver Distracted By'].value_counts(normalize = True)"
   ]
  },
  {
   "cell_type": "markdown",
   "id": "1fa72bf7-dc3a-42d8-b27b-87509d4e3471",
   "metadata": {},
   "source": [
    "## Handling categorical variables (one-hot encoding)"
   ]
  },
  {
   "cell_type": "code",
   "execution_count": 98,
   "id": "9837ef70",
   "metadata": {},
   "outputs": [],
   "source": [
    "columns_to_dummify = ['Crash Time of Day', 'Collision Type', 'Surface Condition', 'Light',\n",
    "       'Traffic Control', 'Vehicle First Impact Location',\n",
    "       'Vehicle Second Impact Location', 'Vehicle Body Type',\n",
    "       'Vehicle Movement', 'Parked Vehicle']\n",
    "\n",
    "df = pd.get_dummies(crash,columns=columns_to_dummify, drop_first=True)"
   ]
  },
  {
   "cell_type": "code",
   "execution_count": 99,
   "id": "e56bf6c8-1935-44e3-8585-c2d0e9b47365",
   "metadata": {},
   "outputs": [],
   "source": [
    "df = pd.get_dummies(crash, columns = columns_to_dummify)"
   ]
  },
  {
   "cell_type": "code",
   "execution_count": 100,
   "id": "d2defecf-cf8b-4504-bbb3-8bae367f74a2",
   "metadata": {},
   "outputs": [],
   "source": [
    "df.drop (columns = ['Traffic Control_NO CONTROLS', \n",
    "                    'Surface Condition_DRY', \n",
    "                    'Crash Time of Day_Noon', \n",
    "                    'Light_DAYLIGHT', \n",
    "                    'Vehicle Movement_MOVING CONSTANT SPEED'], \n",
    "         inplace = True)"
   ]
  },
  {
   "cell_type": "code",
   "execution_count": 101,
   "id": "93ba58a9",
   "metadata": {},
   "outputs": [],
   "source": [
    "df['Driver At Fault'] = df['Driver At Fault'].map({'No':0, 'Yes':1})\n",
    "df['Driver Substance Abuse'] = df['Driver Substance Abuse'].map({'No':0, 'Yes':1})\n",
    "df['Driver Distracted By'] = df['Driver Distracted By'].map({'No':0, 'Yes':1})"
   ]
  },
  {
   "cell_type": "code",
   "execution_count": 102,
   "id": "a3dd70a6",
   "metadata": {},
   "outputs": [
    {
     "data": {
      "text/html": [
       "<div>\n",
       "<style scoped>\n",
       "    .dataframe tbody tr th:only-of-type {\n",
       "        vertical-align: middle;\n",
       "    }\n",
       "\n",
       "    .dataframe tbody tr th {\n",
       "        vertical-align: top;\n",
       "    }\n",
       "\n",
       "    .dataframe thead th {\n",
       "        text-align: right;\n",
       "    }\n",
       "</style>\n",
       "<table border=\"1\" class=\"dataframe\">\n",
       "  <thead>\n",
       "    <tr style=\"text-align: right;\">\n",
       "      <th></th>\n",
       "      <th>Driver Substance Abuse</th>\n",
       "      <th>Driver At Fault</th>\n",
       "      <th>Driver Distracted By</th>\n",
       "      <th>Speed Limit</th>\n",
       "      <th>Crash Time of Day_Early Morning</th>\n",
       "      <th>Crash Time of Day_Evening</th>\n",
       "      <th>Crash Time of Day_Late Night</th>\n",
       "      <th>Crash Time of Day_Morning</th>\n",
       "      <th>Crash Time of Day_Night</th>\n",
       "      <th>Collision Type_ANGLE MEETS LEFT HEAD ON</th>\n",
       "      <th>...</th>\n",
       "      <th>Vehicle Movement_PARKING</th>\n",
       "      <th>Vehicle Movement_PASSING</th>\n",
       "      <th>Vehicle Movement_RIGHT TURN ON RED</th>\n",
       "      <th>Vehicle Movement_SKIDDING</th>\n",
       "      <th>Vehicle Movement_SLOWING OR STOPPING</th>\n",
       "      <th>Vehicle Movement_STARTING FROM LANE</th>\n",
       "      <th>Vehicle Movement_STARTING FROM PARKED</th>\n",
       "      <th>Vehicle Movement_STOPPED IN TRAFFIC LANE</th>\n",
       "      <th>Parked Vehicle_No</th>\n",
       "      <th>Parked Vehicle_Yes</th>\n",
       "    </tr>\n",
       "  </thead>\n",
       "  <tbody>\n",
       "    <tr>\n",
       "      <th>0</th>\n",
       "      <td>0</td>\n",
       "      <td>0</td>\n",
       "      <td>0</td>\n",
       "      <td>25</td>\n",
       "      <td>0</td>\n",
       "      <td>1</td>\n",
       "      <td>0</td>\n",
       "      <td>0</td>\n",
       "      <td>0</td>\n",
       "      <td>0</td>\n",
       "      <td>...</td>\n",
       "      <td>0</td>\n",
       "      <td>0</td>\n",
       "      <td>0</td>\n",
       "      <td>0</td>\n",
       "      <td>0</td>\n",
       "      <td>0</td>\n",
       "      <td>0</td>\n",
       "      <td>1</td>\n",
       "      <td>1</td>\n",
       "      <td>0</td>\n",
       "    </tr>\n",
       "    <tr>\n",
       "      <th>1</th>\n",
       "      <td>0</td>\n",
       "      <td>0</td>\n",
       "      <td>0</td>\n",
       "      <td>40</td>\n",
       "      <td>1</td>\n",
       "      <td>0</td>\n",
       "      <td>0</td>\n",
       "      <td>0</td>\n",
       "      <td>0</td>\n",
       "      <td>0</td>\n",
       "      <td>...</td>\n",
       "      <td>0</td>\n",
       "      <td>0</td>\n",
       "      <td>0</td>\n",
       "      <td>0</td>\n",
       "      <td>0</td>\n",
       "      <td>0</td>\n",
       "      <td>0</td>\n",
       "      <td>1</td>\n",
       "      <td>1</td>\n",
       "      <td>0</td>\n",
       "    </tr>\n",
       "    <tr>\n",
       "      <th>2</th>\n",
       "      <td>0</td>\n",
       "      <td>0</td>\n",
       "      <td>0</td>\n",
       "      <td>35</td>\n",
       "      <td>1</td>\n",
       "      <td>0</td>\n",
       "      <td>0</td>\n",
       "      <td>0</td>\n",
       "      <td>0</td>\n",
       "      <td>0</td>\n",
       "      <td>...</td>\n",
       "      <td>0</td>\n",
       "      <td>0</td>\n",
       "      <td>0</td>\n",
       "      <td>0</td>\n",
       "      <td>0</td>\n",
       "      <td>0</td>\n",
       "      <td>0</td>\n",
       "      <td>0</td>\n",
       "      <td>1</td>\n",
       "      <td>0</td>\n",
       "    </tr>\n",
       "    <tr>\n",
       "      <th>3</th>\n",
       "      <td>0</td>\n",
       "      <td>0</td>\n",
       "      <td>0</td>\n",
       "      <td>35</td>\n",
       "      <td>0</td>\n",
       "      <td>0</td>\n",
       "      <td>1</td>\n",
       "      <td>0</td>\n",
       "      <td>0</td>\n",
       "      <td>0</td>\n",
       "      <td>...</td>\n",
       "      <td>0</td>\n",
       "      <td>0</td>\n",
       "      <td>0</td>\n",
       "      <td>0</td>\n",
       "      <td>0</td>\n",
       "      <td>0</td>\n",
       "      <td>0</td>\n",
       "      <td>0</td>\n",
       "      <td>1</td>\n",
       "      <td>0</td>\n",
       "    </tr>\n",
       "    <tr>\n",
       "      <th>4</th>\n",
       "      <td>1</td>\n",
       "      <td>1</td>\n",
       "      <td>1</td>\n",
       "      <td>35</td>\n",
       "      <td>0</td>\n",
       "      <td>0</td>\n",
       "      <td>0</td>\n",
       "      <td>0</td>\n",
       "      <td>1</td>\n",
       "      <td>0</td>\n",
       "      <td>...</td>\n",
       "      <td>0</td>\n",
       "      <td>0</td>\n",
       "      <td>0</td>\n",
       "      <td>0</td>\n",
       "      <td>0</td>\n",
       "      <td>0</td>\n",
       "      <td>0</td>\n",
       "      <td>0</td>\n",
       "      <td>1</td>\n",
       "      <td>0</td>\n",
       "    </tr>\n",
       "  </tbody>\n",
       "</table>\n",
       "<p>5 rows × 125 columns</p>\n",
       "</div>"
      ],
      "text/plain": [
       "   Driver Substance Abuse  Driver At Fault  Driver Distracted By  Speed Limit  \\\n",
       "0                       0                0                     0           25   \n",
       "1                       0                0                     0           40   \n",
       "2                       0                0                     0           35   \n",
       "3                       0                0                     0           35   \n",
       "4                       1                1                     1           35   \n",
       "\n",
       "   Crash Time of Day_Early Morning  Crash Time of Day_Evening  \\\n",
       "0                                0                          1   \n",
       "1                                1                          0   \n",
       "2                                1                          0   \n",
       "3                                0                          0   \n",
       "4                                0                          0   \n",
       "\n",
       "   Crash Time of Day_Late Night  Crash Time of Day_Morning  \\\n",
       "0                             0                          0   \n",
       "1                             0                          0   \n",
       "2                             0                          0   \n",
       "3                             1                          0   \n",
       "4                             0                          0   \n",
       "\n",
       "   Crash Time of Day_Night  Collision Type_ANGLE MEETS LEFT HEAD ON  ...  \\\n",
       "0                        0                                        0  ...   \n",
       "1                        0                                        0  ...   \n",
       "2                        0                                        0  ...   \n",
       "3                        0                                        0  ...   \n",
       "4                        1                                        0  ...   \n",
       "\n",
       "   Vehicle Movement_PARKING  Vehicle Movement_PASSING  \\\n",
       "0                         0                         0   \n",
       "1                         0                         0   \n",
       "2                         0                         0   \n",
       "3                         0                         0   \n",
       "4                         0                         0   \n",
       "\n",
       "   Vehicle Movement_RIGHT TURN ON RED  Vehicle Movement_SKIDDING  \\\n",
       "0                                   0                          0   \n",
       "1                                   0                          0   \n",
       "2                                   0                          0   \n",
       "3                                   0                          0   \n",
       "4                                   0                          0   \n",
       "\n",
       "   Vehicle Movement_SLOWING OR STOPPING  Vehicle Movement_STARTING FROM LANE  \\\n",
       "0                                     0                                    0   \n",
       "1                                     0                                    0   \n",
       "2                                     0                                    0   \n",
       "3                                     0                                    0   \n",
       "4                                     0                                    0   \n",
       "\n",
       "   Vehicle Movement_STARTING FROM PARKED  \\\n",
       "0                                      0   \n",
       "1                                      0   \n",
       "2                                      0   \n",
       "3                                      0   \n",
       "4                                      0   \n",
       "\n",
       "   Vehicle Movement_STOPPED IN TRAFFIC LANE  Parked Vehicle_No  \\\n",
       "0                                         1                  1   \n",
       "1                                         1                  1   \n",
       "2                                         0                  1   \n",
       "3                                         0                  1   \n",
       "4                                         0                  1   \n",
       "\n",
       "   Parked Vehicle_Yes  \n",
       "0                   0  \n",
       "1                   0  \n",
       "2                   0  \n",
       "3                   0  \n",
       "4                   0  \n",
       "\n",
       "[5 rows x 125 columns]"
      ]
     },
     "execution_count": 102,
     "metadata": {},
     "output_type": "execute_result"
    }
   ],
   "source": [
    "df.head()"
   ]
  },
  {
   "cell_type": "markdown",
   "id": "c3f765dc-8634-4f59-a56a-0bc4df211dec",
   "metadata": {},
   "source": [
    "## Setting up our features and target"
   ]
  },
  {
   "cell_type": "code",
   "execution_count": 103,
   "id": "a3b5e30e",
   "metadata": {},
   "outputs": [],
   "source": [
    "# get X and y; train,test,split the data\n",
    "X = df.drop(columns = 'Driver At Fault')\n",
    "y = df['Driver At Fault']\n",
    "\n",
    "X_train, X_test, y_train, y_test = train_test_split(X, y, stratify=y, random_state=13424)"
   ]
  },
  {
   "cell_type": "markdown",
   "id": "9f96b9e1",
   "metadata": {},
   "source": [
    "## Modeling"
   ]
  },
  {
   "cell_type": "markdown",
   "id": "4104161f",
   "metadata": {},
   "source": [
    "### Null Model"
   ]
  },
  {
   "cell_type": "code",
   "execution_count": 104,
   "id": "2f6b3135",
   "metadata": {
    "scrolled": true
   },
   "outputs": [
    {
     "data": {
      "text/plain": [
       "0    0.556386\n",
       "1    0.443614\n",
       "Name: Driver At Fault, dtype: float64"
      ]
     },
     "execution_count": 104,
     "metadata": {},
     "output_type": "execute_result"
    }
   ],
   "source": [
    "df['Driver At Fault'].value_counts(normalize = True)"
   ]
  },
  {
   "cell_type": "markdown",
   "id": "bb6fbd5d",
   "metadata": {},
   "source": [
    "For this data set 55.6% of the crashes were listed as the driver not at fault.  This means that if we assign the driver as never at fault we would have a baseline accuracy of 55.6%.  "
   ]
  },
  {
   "cell_type": "markdown",
   "id": "7e1474d0",
   "metadata": {
    "tags": []
   },
   "source": [
    "### Simple Logistic Regression Model"
   ]
  },
  {
   "cell_type": "code",
   "execution_count": 105,
   "id": "172480b6",
   "metadata": {
    "jupyter": {
     "source_hidden": true
    },
    "tags": []
   },
   "outputs": [
    {
     "data": {
      "text/plain": [
       "LogisticRegression(max_iter=1000)"
      ]
     },
     "execution_count": 105,
     "metadata": {},
     "output_type": "execute_result"
    }
   ],
   "source": [
    "# logistic regression\n",
    "logreg = LogisticRegression(max_iter=1000)\n",
    "logreg.fit(X_train,y_train)"
   ]
  },
  {
   "cell_type": "code",
   "execution_count": 106,
   "id": "5b8d8bde",
   "metadata": {
    "jupyter": {
     "source_hidden": true
    },
    "tags": []
   },
   "outputs": [
    {
     "name": "stdout",
     "output_type": "stream",
     "text": [
      "Logistic Regression metrics\n",
      "\n",
      "           training           testing\n",
      "Accuracy:  0.8908028640830647 0.8935511526004953\n",
      "f1:        0.8757676468463261 0.8793522267206477\n"
     ]
    }
   ],
   "source": [
    "print('Logistic Regression metrics\\n')\n",
    "print('           training           testing')\n",
    "print('Accuracy: ',logreg.score(X_train,y_train),logreg.score(X_test,y_test))\n",
    "print('f1:       ',f1_score(y_train,logreg.predict(X_train)),f1_score(y_test,logreg.predict(X_test)))"
   ]
  },
  {
   "cell_type": "code",
   "execution_count": 107,
   "id": "72ecb60c",
   "metadata": {
    "jupyter": {
     "source_hidden": true
    },
    "scrolled": true,
    "tags": []
   },
   "outputs": [
    {
     "data": {
      "image/png": "[encoded data removed]",
      "text/plain": [
       "<Figure size 432x288 with 2 Axes>"
      ]
     },
     "metadata": {
      "needs_background": "light"
     },
     "output_type": "display_data"
    }
   ],
   "source": [
    "# confusion matrix\n",
    "plot_confusion_matrix(logreg,X_test,y_test);"
   ]
  },
  {
   "cell_type": "markdown",
   "id": "4656177c-79b3-495b-b0bf-d033f9013d61",
   "metadata": {},
   "source": [
    "For the logistic regression model, the confusion matrix is fairly balanced with only slightly more Type II errors than Type I errors.  It has a fairly high accuracy and fairly high f1 score.  "
   ]
  },
  {
   "cell_type": "code",
   "execution_count": 108,
   "id": "c768319d-7f0a-4f4b-98a8-c7b5f02cb4c2",
   "metadata": {
    "jupyter": {
     "source_hidden": true
    },
    "tags": []
   },
   "outputs": [],
   "source": [
    "# dataframe from the fit coefficients\n",
    "logreg_coef_dict = {entry[0]:entry[1] for entry in list(zip(X.columns, logreg.coef_[0]))}\n",
    "logreg_coef_df = pd.DataFrame(logreg_coef_dict.values(), index = logreg_coef_dict.keys())\n",
    "logreg_coef_df.columns = ['logreg coef']"
   ]
  },
  {
   "cell_type": "markdown",
   "id": "7e07f94b",
   "metadata": {},
   "source": [
    "### Decision Tree Modeling"
   ]
  },
  {
   "cell_type": "code",
   "execution_count": 109,
   "id": "50e2a1bb",
   "metadata": {
    "jupyter": {
     "source_hidden": true
    },
    "tags": []
   },
   "outputs": [
    {
     "data": {
      "text/plain": [
       "DecisionTreeClassifier(max_depth=5)"
      ]
     },
     "execution_count": 109,
     "metadata": {},
     "output_type": "execute_result"
    }
   ],
   "source": [
    "tree = DecisionTreeClassifier(max_depth=5)\n",
    "tree.fit(X_train,y_train)"
   ]
  },
  {
   "cell_type": "code",
   "execution_count": 110,
   "id": "89daadbd",
   "metadata": {
    "jupyter": {
     "source_hidden": true
    },
    "scrolled": true,
    "tags": []
   },
   "outputs": [
    {
     "name": "stdout",
     "output_type": "stream",
     "text": [
      "Decision Tree metrics\n",
      "\n",
      "           training           testing\n",
      "Accuracy:  0.8749900773175417 0.8760240045722995\n",
      "f1:        0.8523975555805495 0.8538707685398305\n"
     ]
    }
   ],
   "source": [
    "print('Decision Tree metrics\\n')\n",
    "print('           training           testing')\n",
    "print('Accuracy: ', tree.score(X_train,y_train),tree.score(X_test,y_test))\n",
    "print('f1:       ',f1_score(y_train,tree.predict(X_train)),f1_score(y_test,tree.predict(X_test)))"
   ]
  },
  {
   "cell_type": "code",
   "execution_count": 111,
   "id": "a6833f9e",
   "metadata": {},
   "outputs": [
    {
     "data": {
      "image/png": "[encoded data removed]",
      "text/plain": [
       "<Figure size 432x288 with 2 Axes>"
      ]
     },
     "metadata": {
      "needs_background": "light"
     },
     "output_type": "display_data"
    }
   ],
   "source": [
    "plot_confusion_matrix(tree,X_test,y_test);"
   ]
  },
  {
   "cell_type": "markdown",
   "id": "10885d7d-dc91-4ccd-8b40-e2342f2d0492",
   "metadata": {},
   "source": [
    "For the decision tree model, the confusion matrix is unbalanced with vastly more Type II errors than Type I errors.  It has a fairly high accuracy and fairly high f1 score though.  "
   ]
  },
  {
   "cell_type": "code",
   "execution_count": 112,
   "id": "fd34123a",
   "metadata": {
    "jupyter": {
     "source_hidden": true
    },
    "tags": []
   },
   "outputs": [
    {
     "data": {
      "text/html": [
       "<div>\n",
       "<style scoped>\n",
       "    .dataframe tbody tr th:only-of-type {\n",
       "        vertical-align: middle;\n",
       "    }\n",
       "\n",
       "    .dataframe tbody tr th {\n",
       "        vertical-align: top;\n",
       "    }\n",
       "\n",
       "    .dataframe thead th {\n",
       "        text-align: right;\n",
       "    }\n",
       "</style>\n",
       "<table border=\"1\" class=\"dataframe\">\n",
       "  <thead>\n",
       "    <tr style=\"text-align: right;\">\n",
       "      <th></th>\n",
       "      <th>tree importance</th>\n",
       "    </tr>\n",
       "  </thead>\n",
       "  <tbody>\n",
       "    <tr>\n",
       "      <th>Driver Distracted By</th>\n",
       "      <td>0.503336</td>\n",
       "    </tr>\n",
       "    <tr>\n",
       "      <th>Vehicle First Impact Location_SIX OCLOCK</th>\n",
       "      <td>0.180337</td>\n",
       "    </tr>\n",
       "    <tr>\n",
       "      <th>Collision Type_SAME DIR REAR END</th>\n",
       "      <td>0.113551</td>\n",
       "    </tr>\n",
       "    <tr>\n",
       "      <th>Collision Type_SINGLE VEHICLE</th>\n",
       "      <td>0.083383</td>\n",
       "    </tr>\n",
       "    <tr>\n",
       "      <th>Vehicle Movement_MAKING LEFT TURN</th>\n",
       "      <td>0.048773</td>\n",
       "    </tr>\n",
       "    <tr>\n",
       "      <th>Vehicle Second Impact Location_TWELVE OCLOCK</th>\n",
       "      <td>0.035752</td>\n",
       "    </tr>\n",
       "    <tr>\n",
       "      <th>Vehicle Movement_STOPPED IN TRAFFIC LANE</th>\n",
       "      <td>0.011977</td>\n",
       "    </tr>\n",
       "    <tr>\n",
       "      <th>Vehicle Movement_BACKING</th>\n",
       "      <td>0.009246</td>\n",
       "    </tr>\n",
       "    <tr>\n",
       "      <th>Vehicle Second Impact Location_ONE OCLOCK</th>\n",
       "      <td>0.004326</td>\n",
       "    </tr>\n",
       "    <tr>\n",
       "      <th>Vehicle Body Type_POLICE VEHICLE/NON EMERGENCY</th>\n",
       "      <td>0.003806</td>\n",
       "    </tr>\n",
       "    <tr>\n",
       "      <th>Vehicle Movement_CHANGING LANES</th>\n",
       "      <td>0.002114</td>\n",
       "    </tr>\n",
       "    <tr>\n",
       "      <th>Vehicle Movement_SLOWING OR STOPPING</th>\n",
       "      <td>0.001504</td>\n",
       "    </tr>\n",
       "    <tr>\n",
       "      <th>Parked Vehicle_Yes</th>\n",
       "      <td>0.000689</td>\n",
       "    </tr>\n",
       "    <tr>\n",
       "      <th>Vehicle Body Type_MEDIUM/HEAVY TRUCKS 3 AXLES (OVER 10,000LBS (4,536KG))</th>\n",
       "      <td>0.000217</td>\n",
       "    </tr>\n",
       "    <tr>\n",
       "      <th>Vehicle Body Type_MOTORCYCLE</th>\n",
       "      <td>0.000176</td>\n",
       "    </tr>\n",
       "    <tr>\n",
       "      <th>Speed Limit</th>\n",
       "      <td>0.000136</td>\n",
       "    </tr>\n",
       "    <tr>\n",
       "      <th>Vehicle Second Impact Location_SIX OCLOCK</th>\n",
       "      <td>0.000112</td>\n",
       "    </tr>\n",
       "    <tr>\n",
       "      <th>Surface Condition_WET</th>\n",
       "      <td>0.000107</td>\n",
       "    </tr>\n",
       "    <tr>\n",
       "      <th>Vehicle First Impact Location_EIGHT OCLOCK</th>\n",
       "      <td>0.000104</td>\n",
       "    </tr>\n",
       "    <tr>\n",
       "      <th>Traffic Control_PERSON</th>\n",
       "      <td>0.000103</td>\n",
       "    </tr>\n",
       "  </tbody>\n",
       "</table>\n",
       "</div>"
      ],
      "text/plain": [
       "                                                    tree importance\n",
       "Driver Distracted By                                       0.503336\n",
       "Vehicle First Impact Location_SIX OCLOCK                   0.180337\n",
       "Collision Type_SAME DIR REAR END                           0.113551\n",
       "Collision Type_SINGLE VEHICLE                              0.083383\n",
       "Vehicle Movement_MAKING LEFT TURN                          0.048773\n",
       "Vehicle Second Impact Location_TWELVE OCLOCK               0.035752\n",
       "Vehicle Movement_STOPPED IN TRAFFIC LANE                   0.011977\n",
       "Vehicle Movement_BACKING                                   0.009246\n",
       "Vehicle Second Impact Location_ONE OCLOCK                  0.004326\n",
       "Vehicle Body Type_POLICE VEHICLE/NON EMERGENCY             0.003806\n",
       "Vehicle Movement_CHANGING LANES                            0.002114\n",
       "Vehicle Movement_SLOWING OR STOPPING                       0.001504\n",
       "Parked Vehicle_Yes                                         0.000689\n",
       "Vehicle Body Type_MEDIUM/HEAVY TRUCKS 3 AXLES (...         0.000217\n",
       "Vehicle Body Type_MOTORCYCLE                               0.000176\n",
       "Speed Limit                                                0.000136\n",
       "Vehicle Second Impact Location_SIX OCLOCK                  0.000112\n",
       "Surface Condition_WET                                      0.000107\n",
       "Vehicle First Impact Location_EIGHT OCLOCK                 0.000104\n",
       "Traffic Control_PERSON                                     0.000103"
      ]
     },
     "execution_count": 112,
     "metadata": {},
     "output_type": "execute_result"
    }
   ],
   "source": [
    "tree_imp_dict = {entry[0]:entry[1] for entry in list(zip(X.columns,tree.feature_importances_))}\n",
    "tree_imp_df = pd.DataFrame(tree_imp_dict.values(), index = tree_imp_dict.keys())\n",
    "tree_imp_df.columns = ['tree importance']\n",
    "tree_imp_df.sort_values(by = ['tree importance'], ascending= False).head(20)"
   ]
  },
  {
   "cell_type": "markdown",
   "id": "70efc644",
   "metadata": {},
   "source": [
    "The feature importances for the decision tree model are different than for the logistic regression model.  \n",
    "\n",
    "The tree model also shows driver distraction is the key indicator of driver responsibility in a crash.  \n",
    "\n",
    "This also has driver substance abuse of lower importance than the in the logistic regression model.  This is very interesting and we should investigate further.  "
   ]
  },
  {
   "cell_type": "markdown",
   "id": "58cbadd6",
   "metadata": {},
   "source": [
    "### Random Forest"
   ]
  },
  {
   "cell_type": "code",
   "execution_count": 113,
   "id": "60f7cf6c",
   "metadata": {
    "jupyter": {
     "source_hidden": true
    },
    "tags": []
   },
   "outputs": [
    {
     "data": {
      "text/plain": [
       "RandomForestClassifier(max_depth=14)"
      ]
     },
     "execution_count": 113,
     "metadata": {},
     "output_type": "execute_result"
    }
   ],
   "source": [
    "forest = RandomForestClassifier(max_depth = 14)\n",
    "forest.fit(X_train,y_train)"
   ]
  },
  {
   "cell_type": "code",
   "execution_count": 114,
   "id": "1031141f",
   "metadata": {
    "jupyter": {
     "source_hidden": true
    },
    "tags": []
   },
   "outputs": [
    {
     "name": "stdout",
     "output_type": "stream",
     "text": [
      "Random Forest metrics\n",
      "\n",
      "           training           testing\n",
      "Accuracy: 0.9068220426437201 0.899171270718232\n",
      "f1:       0.89153375593709 0.8830709748688208\n"
     ]
    }
   ],
   "source": [
    "print('Random Forest metrics\\n')\n",
    "print('           training           testing')\n",
    "print('Accuracy:',forest.score(X_train,y_train),forest.score(X_test,y_test))\n",
    "print('f1:      ',f1_score(y_train,forest.predict(X_train)),f1_score(y_test,forest.predict(X_test)))"
   ]
  },
  {
   "cell_type": "code",
   "execution_count": 115,
   "id": "6d76168b",
   "metadata": {
    "jupyter": {
     "source_hidden": true
    },
    "tags": []
   },
   "outputs": [
    {
     "data": {
      "image/png": "[encoded data removed]",
      "text/plain": [
       "<Figure size 432x288 with 2 Axes>"
      ]
     },
     "metadata": {
      "needs_background": "light"
     },
     "output_type": "display_data"
    }
   ],
   "source": [
    "plot_confusion_matrix(forest,X_test,y_test);"
   ]
  },
  {
   "cell_type": "markdown",
   "id": "c5e0c50d-aa5a-4c77-ac37-ea2d75e1f5d0",
   "metadata": {},
   "source": [
    "For the random forest model, the confusion matrix is fairly balanced with slightly more Type II errors than Type I errors.  It has a high accuracy and high f1 score.  "
   ]
  },
  {
   "cell_type": "code",
   "execution_count": 116,
   "id": "c81319bb",
   "metadata": {
    "jupyter": {
     "source_hidden": true
    },
    "tags": []
   },
   "outputs": [
    {
     "data": {
      "text/html": [
       "<div>\n",
       "<style scoped>\n",
       "    .dataframe tbody tr th:only-of-type {\n",
       "        vertical-align: middle;\n",
       "    }\n",
       "\n",
       "    .dataframe tbody tr th {\n",
       "        vertical-align: top;\n",
       "    }\n",
       "\n",
       "    .dataframe thead th {\n",
       "        text-align: right;\n",
       "    }\n",
       "</style>\n",
       "<table border=\"1\" class=\"dataframe\">\n",
       "  <thead>\n",
       "    <tr style=\"text-align: right;\">\n",
       "      <th></th>\n",
       "      <th>forest importance</th>\n",
       "    </tr>\n",
       "  </thead>\n",
       "  <tbody>\n",
       "    <tr>\n",
       "      <th>Driver Distracted By</th>\n",
       "      <td>0.265350</td>\n",
       "    </tr>\n",
       "    <tr>\n",
       "      <th>Vehicle First Impact Location_SIX OCLOCK</th>\n",
       "      <td>0.132117</td>\n",
       "    </tr>\n",
       "    <tr>\n",
       "      <th>Vehicle Second Impact Location_SIX OCLOCK</th>\n",
       "      <td>0.089251</td>\n",
       "    </tr>\n",
       "    <tr>\n",
       "      <th>Collision Type_SAME DIR REAR END</th>\n",
       "      <td>0.085129</td>\n",
       "    </tr>\n",
       "    <tr>\n",
       "      <th>Vehicle Movement_STOPPED IN TRAFFIC LANE</th>\n",
       "      <td>0.050092</td>\n",
       "    </tr>\n",
       "    <tr>\n",
       "      <th>Vehicle Second Impact Location_TWELVE OCLOCK</th>\n",
       "      <td>0.046538</td>\n",
       "    </tr>\n",
       "    <tr>\n",
       "      <th>Vehicle First Impact Location_TWELVE OCLOCK</th>\n",
       "      <td>0.044964</td>\n",
       "    </tr>\n",
       "    <tr>\n",
       "      <th>Collision Type_SINGLE VEHICLE</th>\n",
       "      <td>0.041847</td>\n",
       "    </tr>\n",
       "    <tr>\n",
       "      <th>Vehicle Movement_MAKING LEFT TURN</th>\n",
       "      <td>0.041488</td>\n",
       "    </tr>\n",
       "    <tr>\n",
       "      <th>Collision Type_STRAIGHT MOVEMENT ANGLE</th>\n",
       "      <td>0.023373</td>\n",
       "    </tr>\n",
       "    <tr>\n",
       "      <th>Collision Type_HEAD ON LEFT TURN</th>\n",
       "      <td>0.017281</td>\n",
       "    </tr>\n",
       "    <tr>\n",
       "      <th>Vehicle Movement_CHANGING LANES</th>\n",
       "      <td>0.015798</td>\n",
       "    </tr>\n",
       "    <tr>\n",
       "      <th>Driver Substance Abuse</th>\n",
       "      <td>0.015609</td>\n",
       "    </tr>\n",
       "    <tr>\n",
       "      <th>Vehicle Movement_SLOWING OR STOPPING</th>\n",
       "      <td>0.012026</td>\n",
       "    </tr>\n",
       "    <tr>\n",
       "      <th>Vehicle Movement_ACCELERATING</th>\n",
       "      <td>0.008516</td>\n",
       "    </tr>\n",
       "    <tr>\n",
       "      <th>Speed Limit</th>\n",
       "      <td>0.007984</td>\n",
       "    </tr>\n",
       "    <tr>\n",
       "      <th>Vehicle Movement_BACKING</th>\n",
       "      <td>0.007257</td>\n",
       "    </tr>\n",
       "    <tr>\n",
       "      <th>Vehicle Movement_MAKING RIGHT TURN</th>\n",
       "      <td>0.006948</td>\n",
       "    </tr>\n",
       "    <tr>\n",
       "      <th>Traffic Control_TRAFFIC SIGNAL</th>\n",
       "      <td>0.005711</td>\n",
       "    </tr>\n",
       "    <tr>\n",
       "      <th>Traffic Control_STOP SIGN</th>\n",
       "      <td>0.004122</td>\n",
       "    </tr>\n",
       "  </tbody>\n",
       "</table>\n",
       "</div>"
      ],
      "text/plain": [
       "                                              forest importance\n",
       "Driver Distracted By                                   0.265350\n",
       "Vehicle First Impact Location_SIX OCLOCK               0.132117\n",
       "Vehicle Second Impact Location_SIX OCLOCK              0.089251\n",
       "Collision Type_SAME DIR REAR END                       0.085129\n",
       "Vehicle Movement_STOPPED IN TRAFFIC LANE               0.050092\n",
       "Vehicle Second Impact Location_TWELVE OCLOCK           0.046538\n",
       "Vehicle First Impact Location_TWELVE OCLOCK            0.044964\n",
       "Collision Type_SINGLE VEHICLE                          0.041847\n",
       "Vehicle Movement_MAKING LEFT TURN                      0.041488\n",
       "Collision Type_STRAIGHT MOVEMENT ANGLE                 0.023373\n",
       "Collision Type_HEAD ON LEFT TURN                       0.017281\n",
       "Vehicle Movement_CHANGING LANES                        0.015798\n",
       "Driver Substance Abuse                                 0.015609\n",
       "Vehicle Movement_SLOWING OR STOPPING                   0.012026\n",
       "Vehicle Movement_ACCELERATING                          0.008516\n",
       "Speed Limit                                            0.007984\n",
       "Vehicle Movement_BACKING                               0.007257\n",
       "Vehicle Movement_MAKING RIGHT TURN                     0.006948\n",
       "Traffic Control_TRAFFIC SIGNAL                         0.005711\n",
       "Traffic Control_STOP SIGN                              0.004122"
      ]
     },
     "execution_count": 116,
     "metadata": {},
     "output_type": "execute_result"
    }
   ],
   "source": [
    "forest_imp_dict = {entry[0]:entry[1] for entry in list(zip(X.columns,forest.feature_importances_))}\n",
    "forest_imp_df = pd.DataFrame(forest_imp_dict.values(), index = forest_imp_dict.keys())\n",
    "forest_imp_df.columns = ['forest importance']\n",
    "forest_imp_df.sort_values(by = ['forest importance'], ascending= False).head(20)"
   ]
  },
  {
   "cell_type": "markdown",
   "id": "212b4a5f",
   "metadata": {},
   "source": [
    "The random forest shows similar feature importances to the tree and has about 5 points higher accuracy.  \n",
    "\n"
   ]
  },
  {
   "cell_type": "markdown",
   "id": "635bbb97",
   "metadata": {},
   "source": [
    "## Model metrics"
   ]
  },
  {
   "cell_type": "code",
   "execution_count": 117,
   "id": "36f43ec2",
   "metadata": {
    "jupyter": {
     "source_hidden": true
    },
    "tags": []
   },
   "outputs": [
    {
     "data": {
      "text/html": [
       "<div>\n",
       "<style scoped>\n",
       "    .dataframe tbody tr th:only-of-type {\n",
       "        vertical-align: middle;\n",
       "    }\n",
       "\n",
       "    .dataframe tbody tr th {\n",
       "        vertical-align: top;\n",
       "    }\n",
       "\n",
       "    .dataframe thead th {\n",
       "        text-align: right;\n",
       "    }\n",
       "</style>\n",
       "<table border=\"1\" class=\"dataframe\">\n",
       "  <thead>\n",
       "    <tr style=\"text-align: right;\">\n",
       "      <th></th>\n",
       "      <th>training_accuracy</th>\n",
       "      <th>testing_accuracy</th>\n",
       "      <th>training_f1</th>\n",
       "      <th>testing_f1</th>\n",
       "    </tr>\n",
       "  </thead>\n",
       "  <tbody>\n",
       "    <tr>\n",
       "      <th>logreg</th>\n",
       "      <td>0.890803</td>\n",
       "      <td>0.893551</td>\n",
       "      <td>0.875768</td>\n",
       "      <td>0.879352</td>\n",
       "    </tr>\n",
       "    <tr>\n",
       "      <th>tree</th>\n",
       "      <td>0.874990</td>\n",
       "      <td>0.876024</td>\n",
       "      <td>0.852398</td>\n",
       "      <td>0.853871</td>\n",
       "    </tr>\n",
       "    <tr>\n",
       "      <th>forest</th>\n",
       "      <td>0.906822</td>\n",
       "      <td>0.899171</td>\n",
       "      <td>0.891534</td>\n",
       "      <td>0.883071</td>\n",
       "    </tr>\n",
       "    <tr>\n",
       "      <th>null</th>\n",
       "      <td>0.556386</td>\n",
       "      <td>0.556386</td>\n",
       "      <td>undefined</td>\n",
       "      <td>undefined</td>\n",
       "    </tr>\n",
       "  </tbody>\n",
       "</table>\n",
       "</div>"
      ],
      "text/plain": [
       "        training_accuracy  testing_accuracy training_f1 testing_f1\n",
       "logreg           0.890803          0.893551    0.875768   0.879352\n",
       "tree             0.874990          0.876024    0.852398   0.853871\n",
       "forest           0.906822          0.899171    0.891534   0.883071\n",
       "null             0.556386          0.556386   undefined  undefined"
      ]
     },
     "execution_count": 117,
     "metadata": {},
     "output_type": "execute_result"
    }
   ],
   "source": [
    "## model comparison\n",
    "models = [logreg,tree,forest]\n",
    "model_metrics = [(model.score(X_train,y_train), \n",
    "                  model.score(X_test,y_test),\n",
    "                  f1_score(y_train,model.predict(X_train)),\n",
    "                  f1_score(y_test,model.predict(X_test))\n",
    "                 ) for model in models]\n",
    "metrics_df = pd.DataFrame(model_metrics, \n",
    "                          columns = ['training_accuracy', \n",
    "                                     'testing_accuracy',\n",
    "                                     'training_f1',\n",
    "                                     'testing_f1'\n",
    "                                    ], \n",
    "                          index = ['logreg','tree','forest'])\n",
    "null_acc = df['Driver At Fault'].value_counts(normalize = True)[0]\n",
    "metrics_df.loc[metrics_df.shape[0]] = [null_acc, null_acc, 'undefined', 'undefined']\n",
    "\n",
    "metrics_df.index = ['logreg','tree','forest', 'null']\n",
    "\n",
    "metrics_df.head()"
   ]
  },
  {
   "cell_type": "markdown",
   "id": "20e60164-076d-4fbd-b814-efc65b90d228",
   "metadata": {},
   "source": [
    "Comparing the models, the logistic regression and random forest both do quite well.  The forest has a slightly better testing accuracy and f1 score but shows slightly more variance.  All the models outperform the null model in which we assign all cases to be 0 (driver not at fault).  \n",
    "\n",
    "The random forest shows slightly better scores and provides information about feature importance.  However, it does not indicate if the importance is telling us it is positively correlated or negatively correlated with fault in an accident.  For this reason, we will examine the logistic regression coefficients in addition to the random forest feature importance.  "
   ]
  },
  {
   "cell_type": "markdown",
   "id": "e250b27a-4313-4801-a0dc-eb090f142bd4",
   "metadata": {},
   "source": [
    "## Model Output"
   ]
  },
  {
   "cell_type": "markdown",
   "id": "2e58f819-868a-4691-b626-c1a37876adeb",
   "metadata": {},
   "source": [
    "We will look at the most important individual features in determining fault as well as the most important within a given category.   "
   ]
  },
  {
   "cell_type": "markdown",
   "id": "780904d0-ef85-4ead-aa4f-3e040937a590",
   "metadata": {},
   "source": [
    "### Most important features overall"
   ]
  },
  {
   "cell_type": "code",
   "execution_count": 118,
   "id": "abadf6cb-b97c-45b2-b327-56faa1f168a7",
   "metadata": {
    "jupyter": {
     "source_hidden": true
    },
    "tags": []
   },
   "outputs": [],
   "source": [
    "results = pd.merge(left = forest_imp_df,right = logreg_coef_df, left_index=True, right_index=True)"
   ]
  },
  {
   "cell_type": "code",
   "execution_count": 165,
   "id": "d79066c2-c734-43dd-a033-e4432a023682",
   "metadata": {
    "tags": []
   },
   "outputs": [],
   "source": [
    "important_features = forest_imp_df.sort_values('forest importance', ascending = False).head(10)"
   ]
  },
  {
   "cell_type": "code",
   "execution_count": 163,
   "id": "73376b91-3399-4e7d-872a-ae7589b4c72b",
   "metadata": {
    "jupyter": {
     "source_hidden": true
    },
    "tags": []
   },
   "outputs": [
    {
     "data": {
      "text/html": [
       "<div>\n",
       "<style scoped>\n",
       "    .dataframe tbody tr th:only-of-type {\n",
       "        vertical-align: middle;\n",
       "    }\n",
       "\n",
       "    .dataframe tbody tr th {\n",
       "        vertical-align: top;\n",
       "    }\n",
       "\n",
       "    .dataframe thead th {\n",
       "        text-align: right;\n",
       "    }\n",
       "</style>\n",
       "<table border=\"1\" class=\"dataframe\">\n",
       "  <thead>\n",
       "    <tr style=\"text-align: right;\">\n",
       "      <th></th>\n",
       "      <th>forest importance</th>\n",
       "    </tr>\n",
       "  </thead>\n",
       "  <tbody>\n",
       "    <tr>\n",
       "      <th>Driver Distracted By</th>\n",
       "      <td>0.265350</td>\n",
       "    </tr>\n",
       "    <tr>\n",
       "      <th>Vehicle First Impact Location_SIX OCLOCK</th>\n",
       "      <td>0.132117</td>\n",
       "    </tr>\n",
       "    <tr>\n",
       "      <th>Vehicle Second Impact Location_SIX OCLOCK</th>\n",
       "      <td>0.089251</td>\n",
       "    </tr>\n",
       "    <tr>\n",
       "      <th>Collision Type_SAME DIR REAR END</th>\n",
       "      <td>0.085129</td>\n",
       "    </tr>\n",
       "    <tr>\n",
       "      <th>Vehicle Movement_STOPPED IN TRAFFIC LANE</th>\n",
       "      <td>0.050092</td>\n",
       "    </tr>\n",
       "    <tr>\n",
       "      <th>Vehicle Second Impact Location_TWELVE OCLOCK</th>\n",
       "      <td>0.046538</td>\n",
       "    </tr>\n",
       "    <tr>\n",
       "      <th>Vehicle First Impact Location_TWELVE OCLOCK</th>\n",
       "      <td>0.044964</td>\n",
       "    </tr>\n",
       "    <tr>\n",
       "      <th>Collision Type_SINGLE VEHICLE</th>\n",
       "      <td>0.041847</td>\n",
       "    </tr>\n",
       "    <tr>\n",
       "      <th>Vehicle Movement_MAKING LEFT TURN</th>\n",
       "      <td>0.041488</td>\n",
       "    </tr>\n",
       "    <tr>\n",
       "      <th>Collision Type_STRAIGHT MOVEMENT ANGLE</th>\n",
       "      <td>0.023373</td>\n",
       "    </tr>\n",
       "  </tbody>\n",
       "</table>\n",
       "</div>"
      ],
      "text/plain": [
       "                                              forest importance\n",
       "Driver Distracted By                                   0.265350\n",
       "Vehicle First Impact Location_SIX OCLOCK               0.132117\n",
       "Vehicle Second Impact Location_SIX OCLOCK              0.089251\n",
       "Collision Type_SAME DIR REAR END                       0.085129\n",
       "Vehicle Movement_STOPPED IN TRAFFIC LANE               0.050092\n",
       "Vehicle Second Impact Location_TWELVE OCLOCK           0.046538\n",
       "Vehicle First Impact Location_TWELVE OCLOCK            0.044964\n",
       "Collision Type_SINGLE VEHICLE                          0.041847\n",
       "Vehicle Movement_MAKING LEFT TURN                      0.041488\n",
       "Collision Type_STRAIGHT MOVEMENT ANGLE                 0.023373"
      ]
     },
     "execution_count": 163,
     "metadata": {},
     "output_type": "execute_result"
    }
   ],
   "source": [
    "forest_imp_df.sort_values('forest importance', ascending = False).head(10)"
   ]
  },
  {
   "cell_type": "code",
   "execution_count": 164,
   "id": "79792501-aa9c-405f-87ac-fdf5bd0c226e",
   "metadata": {
    "jupyter": {
     "source_hidden": true
    },
    "tags": []
   },
   "outputs": [
    {
     "data": {
      "text/html": [
       "<div>\n",
       "<style scoped>\n",
       "    .dataframe tbody tr th:only-of-type {\n",
       "        vertical-align: middle;\n",
       "    }\n",
       "\n",
       "    .dataframe tbody tr th {\n",
       "        vertical-align: top;\n",
       "    }\n",
       "\n",
       "    .dataframe thead th {\n",
       "        text-align: right;\n",
       "    }\n",
       "</style>\n",
       "<table border=\"1\" class=\"dataframe\">\n",
       "  <thead>\n",
       "    <tr style=\"text-align: right;\">\n",
       "      <th></th>\n",
       "      <th>logreg coef</th>\n",
       "    </tr>\n",
       "  </thead>\n",
       "  <tbody>\n",
       "    <tr>\n",
       "      <th>Vehicle Movement_BACKING</th>\n",
       "      <td>6.108053</td>\n",
       "    </tr>\n",
       "    <tr>\n",
       "      <th>Driver Distracted By</th>\n",
       "      <td>3.955130</td>\n",
       "    </tr>\n",
       "    <tr>\n",
       "      <th>Vehicle Movement_CHANGING LANES</th>\n",
       "      <td>3.692386</td>\n",
       "    </tr>\n",
       "    <tr>\n",
       "      <th>Vehicle Movement_MAKING U TURN</th>\n",
       "      <td>3.512027</td>\n",
       "    </tr>\n",
       "    <tr>\n",
       "      <th>Vehicle Movement_PASSING</th>\n",
       "      <td>3.131283</td>\n",
       "    </tr>\n",
       "    <tr>\n",
       "      <th>Driver Substance Abuse</th>\n",
       "      <td>3.071846</td>\n",
       "    </tr>\n",
       "    <tr>\n",
       "      <th>Vehicle Movement_ENTERING TRAFFIC LANE</th>\n",
       "      <td>3.054638</td>\n",
       "    </tr>\n",
       "    <tr>\n",
       "      <th>Vehicle Movement_RIGHT TURN ON RED</th>\n",
       "      <td>2.521771</td>\n",
       "    </tr>\n",
       "    <tr>\n",
       "      <th>Vehicle Movement_MAKING LEFT TURN</th>\n",
       "      <td>2.480264</td>\n",
       "    </tr>\n",
       "    <tr>\n",
       "      <th>Collision Type_SAME DIR REAR END</th>\n",
       "      <td>2.177790</td>\n",
       "    </tr>\n",
       "  </tbody>\n",
       "</table>\n",
       "</div>"
      ],
      "text/plain": [
       "                                        logreg coef\n",
       "Vehicle Movement_BACKING                   6.108053\n",
       "Driver Distracted By                       3.955130\n",
       "Vehicle Movement_CHANGING LANES            3.692386\n",
       "Vehicle Movement_MAKING U TURN             3.512027\n",
       "Vehicle Movement_PASSING                   3.131283\n",
       "Driver Substance Abuse                     3.071846\n",
       "Vehicle Movement_ENTERING TRAFFIC LANE     3.054638\n",
       "Vehicle Movement_RIGHT TURN ON RED         2.521771\n",
       "Vehicle Movement_MAKING LEFT TURN          2.480264\n",
       "Collision Type_SAME DIR REAR END           2.177790"
      ]
     },
     "execution_count": 164,
     "metadata": {},
     "output_type": "execute_result"
    }
   ],
   "source": [
    "logreg_coef_df.sort_values('logreg coef', ascending = False).head(10)"
   ]
  },
  {
   "cell_type": "code",
   "execution_count": 173,
   "id": "9b234357-fb44-48e4-b333-430703082f00",
   "metadata": {},
   "outputs": [
    {
     "data": {
      "image/png": "[encoded data removed]",
      "text/plain": [
       "<Figure size 720x432 with 1 Axes>"
      ]
     },
     "metadata": {
      "needs_background": "light"
     },
     "output_type": "display_data"
    }
   ],
   "source": [
    "plt.figure(figsize=(10,6))\n",
    "plt.bar(x = important_features.index, \n",
    "        height = important_features['forest importance'], \n",
    "        color = 'steelblue');\n",
    "plt.title('Most Important Features of Random Forest Model', size = 19);\n",
    "plt.xticks(rotation = 90);\n",
    "plt.ylabel('model importance', size = 15)\n",
    "#plt.xlabel('model feature', size = 15)\n",
    "plt.savefig('./images/most_important_features.png', format='png')"
   ]
  },
  {
   "cell_type": "code",
   "execution_count": 182,
   "id": "9c322784-97c2-466f-b861-7c55e02b5b43",
   "metadata": {
    "tags": []
   },
   "outputs": [],
   "source": [
    "high_coefs = logreg_coef_df.sort_values('logreg coef', ascending = False).head(10)"
   ]
  },
  {
   "cell_type": "code",
   "execution_count": 188,
   "id": "a36bd178-ef60-4006-a533-eca68a9154ad",
   "metadata": {},
   "outputs": [],
   "source": [
    "low_coefs = logreg_coef_df.sort_values('logreg coef', ascending = True).head(10)"
   ]
  },
  {
   "cell_type": "code",
   "execution_count": 192,
   "id": "ff291a58-f869-4a02-b561-0aa433548bdd",
   "metadata": {},
   "outputs": [],
   "source": [
    "important_coefs = pd.concat([high_coefs,low_coefs])\n",
    "important_coefs.sort_values('logreg coef', ascending = False, inplace = True);"
   ]
  },
  {
   "cell_type": "code",
   "execution_count": 193,
   "id": "de85b793-cbd4-4aff-853d-6249f92230cb",
   "metadata": {},
   "outputs": [
    {
     "data": {
      "image/png": "[encoded data removed]",
      "text/plain": [
       "<Figure size 720x432 with 1 Axes>"
      ]
     },
     "metadata": {
      "needs_background": "light"
     },
     "output_type": "display_data"
    }
   ],
   "source": [
    "plt.figure(figsize=(10,6))\n",
    "plt.bar(x = important_coefs.index, \n",
    "        height = important_coefs['logreg coef'], \n",
    "        color = 'steelblue');\n",
    "plt.title('Highest and Lowest Coefficients from Logistic Regression Model', size = 19);\n",
    "plt.xticks(rotation = 90);\n",
    "plt.ylabel('model coefficient', size = 15)\n",
    "#plt.xlabel('model feature', size = 15)\n",
    "plt.savefig('./images/high_low_coef.png', format='png')"
   ]
  },
  {
   "cell_type": "code",
   "execution_count": 196,
   "id": "88c445b5-5838-430c-9c05-0b75aa1a1a56",
   "metadata": {
    "jupyter": {
     "source_hidden": true
    },
    "tags": []
   },
   "outputs": [
    {
     "data": {
      "image/png": "[encoded data removed]",
      "text/plain": [
       "<Figure size 720x432 with 1 Axes>"
      ]
     },
     "metadata": {
      "needs_background": "light"
     },
     "output_type": "display_data"
    }
   ],
   "source": [
    "plt.figure(figsize=(10,6))\n",
    "plt.barh(y = important_coefs.index, \n",
    "        width = important_coefs['logreg coef'], \n",
    "        color = 'steelblue');\n",
    "plt.title('Highest and Lowest Logistic Regression Coefficients', size = 19);\n",
    "#plt.xticks(rotation = 90);\n",
    "#plt.ylabel('model coefficient', size = 15)\n",
    "#plt.xlabel('model feature', size = 15)\n",
    "plt.savefig('./images/high_low_coef.png', format='png')"
   ]
  },
  {
   "cell_type": "markdown",
   "id": "04c15a5d-ce07-4cde-a391-e422e07c36aa",
   "metadata": {},
   "source": [
    "### Most important features within a category\n",
    "Isolating original features and examining which values contribute most to our undestanding of fault in the accident.  We use the logistic regression coefficients for categorical variables which tell us the increase/decrease compared to a default conditions shown below.  \n",
    "\n",
    "\n",
    "|Feature| Default condition|\n",
    "|---|---|\n",
    "|time of day| noon|\n",
    "|lighting | daylight|\n",
    "|surface condition | dry|\n",
    "|traffic control| no controls|\n",
    "|vehicle movement| moving constant speed|"
   ]
  },
  {
   "cell_type": "markdown",
   "id": "3a6c99b4-9448-4ac4-9dcb-098ec868d903",
   "metadata": {},
   "source": [
    "#### Time of day\n",
    "\n",
    "Default time of day is `Noon`.\n",
    "\n",
    "None of the time of day categories show high importance in determining fault with all options grouped fairly close in importance.  \n",
    "\n",
    "Crashes in`Evening` and `Night` were less likely to be driver-caused than crashes as `Noon`.  Crashes `Late Night`, `Morning`, and `Early Morning` were more likely to be driver caused than crashes at `Noon`.    \n",
    "\n"
   ]
  },
  {
   "cell_type": "code",
   "execution_count": 121,
   "id": "45dc730e-835a-4252-9183-113209e91eae",
   "metadata": {
    "tags": []
   },
   "outputs": [
    {
     "data": {
      "text/html": [
       "<div>\n",
       "<style scoped>\n",
       "    .dataframe tbody tr th:only-of-type {\n",
       "        vertical-align: middle;\n",
       "    }\n",
       "\n",
       "    .dataframe tbody tr th {\n",
       "        vertical-align: top;\n",
       "    }\n",
       "\n",
       "    .dataframe thead th {\n",
       "        text-align: right;\n",
       "    }\n",
       "</style>\n",
       "<table border=\"1\" class=\"dataframe\">\n",
       "  <thead>\n",
       "    <tr style=\"text-align: right;\">\n",
       "      <th></th>\n",
       "      <th>forest importance</th>\n",
       "    </tr>\n",
       "  </thead>\n",
       "  <tbody>\n",
       "    <tr>\n",
       "      <th>Crash Time of Day_Evening</th>\n",
       "      <td>0.001325</td>\n",
       "    </tr>\n",
       "    <tr>\n",
       "      <th>Crash Time of Day_Morning</th>\n",
       "      <td>0.001207</td>\n",
       "    </tr>\n",
       "    <tr>\n",
       "      <th>Crash Time of Day_Night</th>\n",
       "      <td>0.000947</td>\n",
       "    </tr>\n",
       "    <tr>\n",
       "      <th>Crash Time of Day_Early Morning</th>\n",
       "      <td>0.000870</td>\n",
       "    </tr>\n",
       "    <tr>\n",
       "      <th>Crash Time of Day_Late Night</th>\n",
       "      <td>0.000736</td>\n",
       "    </tr>\n",
       "  </tbody>\n",
       "</table>\n",
       "</div>"
      ],
      "text/plain": [
       "                                 forest importance\n",
       "Crash Time of Day_Evening                 0.001325\n",
       "Crash Time of Day_Morning                 0.001207\n",
       "Crash Time of Day_Night                   0.000947\n",
       "Crash Time of Day_Early Morning           0.000870\n",
       "Crash Time of Day_Late Night              0.000736"
      ]
     },
     "execution_count": 121,
     "metadata": {},
     "output_type": "execute_result"
    }
   ],
   "source": [
    "#forest\n",
    "forest_imp_df[forest_imp_df.index.str.contains('Time')].sort_values('forest importance', ascending = False)"
   ]
  },
  {
   "cell_type": "code",
   "execution_count": 122,
   "id": "df7c5417-e19d-46b3-8622-4fd606fa69a4",
   "metadata": {
    "jupyter": {
     "source_hidden": true
    },
    "tags": []
   },
   "outputs": [
    {
     "data": {
      "text/html": [
       "<div>\n",
       "<style scoped>\n",
       "    .dataframe tbody tr th:only-of-type {\n",
       "        vertical-align: middle;\n",
       "    }\n",
       "\n",
       "    .dataframe tbody tr th {\n",
       "        vertical-align: top;\n",
       "    }\n",
       "\n",
       "    .dataframe thead th {\n",
       "        text-align: right;\n",
       "    }\n",
       "</style>\n",
       "<table border=\"1\" class=\"dataframe\">\n",
       "  <thead>\n",
       "    <tr style=\"text-align: right;\">\n",
       "      <th></th>\n",
       "      <th>logreg coef</th>\n",
       "    </tr>\n",
       "  </thead>\n",
       "  <tbody>\n",
       "    <tr>\n",
       "      <th>Crash Time of Day_Evening</th>\n",
       "      <td>-0.083880</td>\n",
       "    </tr>\n",
       "    <tr>\n",
       "      <th>Crash Time of Day_Night</th>\n",
       "      <td>-0.049740</td>\n",
       "    </tr>\n",
       "    <tr>\n",
       "      <th>Crash Time of Day_Late Night</th>\n",
       "      <td>0.003007</td>\n",
       "    </tr>\n",
       "    <tr>\n",
       "      <th>Crash Time of Day_Morning</th>\n",
       "      <td>0.054543</td>\n",
       "    </tr>\n",
       "    <tr>\n",
       "      <th>Crash Time of Day_Early Morning</th>\n",
       "      <td>0.131780</td>\n",
       "    </tr>\n",
       "  </tbody>\n",
       "</table>\n",
       "</div>"
      ],
      "text/plain": [
       "                                 logreg coef\n",
       "Crash Time of Day_Evening          -0.083880\n",
       "Crash Time of Day_Night            -0.049740\n",
       "Crash Time of Day_Late Night        0.003007\n",
       "Crash Time of Day_Morning           0.054543\n",
       "Crash Time of Day_Early Morning     0.131780"
      ]
     },
     "execution_count": 122,
     "metadata": {},
     "output_type": "execute_result"
    }
   ],
   "source": [
    "logreg_coef_df[logreg_coef_df.index.str.contains('Time')].sort_values('logreg coef', ascending = True)"
   ]
  },
  {
   "cell_type": "markdown",
   "id": "2f9dd020-ae7b-44fa-8cc6-38c0713ef0cf",
   "metadata": {},
   "source": [
    " "
   ]
  },
  {
   "cell_type": "markdown",
   "id": "091969f3-f172-467a-b78c-3acdbb02c389",
   "metadata": {},
   "source": [
    "#### Surface Conditions\n",
    "\n",
    "Default surface condition is `DRY`.\n",
    "\n",
    "Compared to dry conditions, "
   ]
  },
  {
   "cell_type": "code",
   "execution_count": 123,
   "id": "f4c9c78e-f97d-4613-81cc-cee4cc77ea71",
   "metadata": {
    "jupyter": {
     "source_hidden": true
    },
    "tags": []
   },
   "outputs": [
    {
     "data": {
      "text/html": [
       "<div>\n",
       "<style scoped>\n",
       "    .dataframe tbody tr th:only-of-type {\n",
       "        vertical-align: middle;\n",
       "    }\n",
       "\n",
       "    .dataframe tbody tr th {\n",
       "        vertical-align: top;\n",
       "    }\n",
       "\n",
       "    .dataframe thead th {\n",
       "        text-align: right;\n",
       "    }\n",
       "</style>\n",
       "<table border=\"1\" class=\"dataframe\">\n",
       "  <thead>\n",
       "    <tr style=\"text-align: right;\">\n",
       "      <th></th>\n",
       "      <th>forest importance</th>\n",
       "    </tr>\n",
       "  </thead>\n",
       "  <tbody>\n",
       "    <tr>\n",
       "      <th>Surface Condition_WET</th>\n",
       "      <td>0.001891</td>\n",
       "    </tr>\n",
       "    <tr>\n",
       "      <th>Surface Condition_ICE</th>\n",
       "      <td>0.000497</td>\n",
       "    </tr>\n",
       "    <tr>\n",
       "      <th>Surface Condition_SNOW</th>\n",
       "      <td>0.000383</td>\n",
       "    </tr>\n",
       "    <tr>\n",
       "      <th>Surface Condition_MUD, DIRT, GRAVEL</th>\n",
       "      <td>0.000069</td>\n",
       "    </tr>\n",
       "    <tr>\n",
       "      <th>Surface Condition_WATER(STANDING/MOVING)</th>\n",
       "      <td>0.000056</td>\n",
       "    </tr>\n",
       "    <tr>\n",
       "      <th>Surface Condition_SLUSH</th>\n",
       "      <td>0.000053</td>\n",
       "    </tr>\n",
       "    <tr>\n",
       "      <th>Surface Condition_OIL</th>\n",
       "      <td>0.000006</td>\n",
       "    </tr>\n",
       "    <tr>\n",
       "      <th>Surface Condition_SAND</th>\n",
       "      <td>0.000000</td>\n",
       "    </tr>\n",
       "  </tbody>\n",
       "</table>\n",
       "</div>"
      ],
      "text/plain": [
       "                                          forest importance\n",
       "Surface Condition_WET                              0.001891\n",
       "Surface Condition_ICE                              0.000497\n",
       "Surface Condition_SNOW                             0.000383\n",
       "Surface Condition_MUD, DIRT, GRAVEL                0.000069\n",
       "Surface Condition_WATER(STANDING/MOVING)           0.000056\n",
       "Surface Condition_SLUSH                            0.000053\n",
       "Surface Condition_OIL                              0.000006\n",
       "Surface Condition_SAND                             0.000000"
      ]
     },
     "execution_count": 123,
     "metadata": {},
     "output_type": "execute_result"
    }
   ],
   "source": [
    "forest_imp_df[forest_imp_df.index.str.contains('Surface')].sort_values('forest importance', ascending = False)"
   ]
  },
  {
   "cell_type": "code",
   "execution_count": 124,
   "id": "ffe33e7d-9837-4d38-8f6b-5d69554de4f4",
   "metadata": {
    "jupyter": {
     "source_hidden": true
    },
    "tags": []
   },
   "outputs": [
    {
     "data": {
      "text/html": [
       "<div>\n",
       "<style scoped>\n",
       "    .dataframe tbody tr th:only-of-type {\n",
       "        vertical-align: middle;\n",
       "    }\n",
       "\n",
       "    .dataframe tbody tr th {\n",
       "        vertical-align: top;\n",
       "    }\n",
       "\n",
       "    .dataframe thead th {\n",
       "        text-align: right;\n",
       "    }\n",
       "</style>\n",
       "<table border=\"1\" class=\"dataframe\">\n",
       "  <thead>\n",
       "    <tr style=\"text-align: right;\">\n",
       "      <th></th>\n",
       "      <th>logreg coef</th>\n",
       "    </tr>\n",
       "  </thead>\n",
       "  <tbody>\n",
       "    <tr>\n",
       "      <th>Surface Condition_SNOW</th>\n",
       "      <td>0.856885</td>\n",
       "    </tr>\n",
       "    <tr>\n",
       "      <th>Surface Condition_ICE</th>\n",
       "      <td>0.620794</td>\n",
       "    </tr>\n",
       "    <tr>\n",
       "      <th>Surface Condition_WET</th>\n",
       "      <td>0.260551</td>\n",
       "    </tr>\n",
       "    <tr>\n",
       "      <th>Surface Condition_WATER(STANDING/MOVING)</th>\n",
       "      <td>0.141917</td>\n",
       "    </tr>\n",
       "    <tr>\n",
       "      <th>Surface Condition_SAND</th>\n",
       "      <td>0.028466</td>\n",
       "    </tr>\n",
       "    <tr>\n",
       "      <th>Surface Condition_SLUSH</th>\n",
       "      <td>-0.002184</td>\n",
       "    </tr>\n",
       "    <tr>\n",
       "      <th>Surface Condition_OIL</th>\n",
       "      <td>-0.023942</td>\n",
       "    </tr>\n",
       "    <tr>\n",
       "      <th>Surface Condition_MUD, DIRT, GRAVEL</th>\n",
       "      <td>-0.708325</td>\n",
       "    </tr>\n",
       "  </tbody>\n",
       "</table>\n",
       "</div>"
      ],
      "text/plain": [
       "                                          logreg coef\n",
       "Surface Condition_SNOW                       0.856885\n",
       "Surface Condition_ICE                        0.620794\n",
       "Surface Condition_WET                        0.260551\n",
       "Surface Condition_WATER(STANDING/MOVING)     0.141917\n",
       "Surface Condition_SAND                       0.028466\n",
       "Surface Condition_SLUSH                     -0.002184\n",
       "Surface Condition_OIL                       -0.023942\n",
       "Surface Condition_MUD, DIRT, GRAVEL         -0.708325"
      ]
     },
     "execution_count": 124,
     "metadata": {},
     "output_type": "execute_result"
    }
   ],
   "source": [
    "logreg_coef_df[logreg_coef_df.index.str.contains('Surface')].sort_values('logreg coef', ascending = False)"
   ]
  },
  {
   "cell_type": "markdown",
   "id": "75a3d07d-8ccf-48b6-bb5c-7b06224613bc",
   "metadata": {},
   "source": [
    " "
   ]
  },
  {
   "cell_type": "markdown",
   "id": "d37e0002-b9b0-4764-a6f8-274c4e22d370",
   "metadata": {},
   "source": [
    "#### Traffic Control\n",
    "\n",
    "Default for traffic control is `NO CONTROLS`.  \n",
    "\n",
    "Compared to no controls, `WARNING SIGN`, `RAILWAY CROSSING DEVICE`, `FLASHING TRAFFIC SIGNAL`, `YIELD SIGN`, and `SCHOOL ZONE SIGN DEVICE` are all mild indicators of driver fault.  They are, however, very low on the list of important features.  "
   ]
  },
  {
   "cell_type": "code",
   "execution_count": 126,
   "id": "2b453a22-0200-4a14-8d52-92eadce35e3f",
   "metadata": {
    "jupyter": {
     "source_hidden": true
    },
    "tags": []
   },
   "outputs": [
    {
     "data": {
      "text/html": [
       "<div>\n",
       "<style scoped>\n",
       "    .dataframe tbody tr th:only-of-type {\n",
       "        vertical-align: middle;\n",
       "    }\n",
       "\n",
       "    .dataframe tbody tr th {\n",
       "        vertical-align: top;\n",
       "    }\n",
       "\n",
       "    .dataframe thead th {\n",
       "        text-align: right;\n",
       "    }\n",
       "</style>\n",
       "<table border=\"1\" class=\"dataframe\">\n",
       "  <thead>\n",
       "    <tr style=\"text-align: right;\">\n",
       "      <th></th>\n",
       "      <th>forest importance</th>\n",
       "    </tr>\n",
       "  </thead>\n",
       "  <tbody>\n",
       "    <tr>\n",
       "      <th>Traffic Control_TRAFFIC SIGNAL</th>\n",
       "      <td>5.711106e-03</td>\n",
       "    </tr>\n",
       "    <tr>\n",
       "      <th>Traffic Control_STOP SIGN</th>\n",
       "      <td>4.121950e-03</td>\n",
       "    </tr>\n",
       "    <tr>\n",
       "      <th>Traffic Control_FLASHING TRAFFIC SIGNAL</th>\n",
       "      <td>3.979654e-04</td>\n",
       "    </tr>\n",
       "    <tr>\n",
       "      <th>Traffic Control_YIELD SIGN</th>\n",
       "      <td>3.265717e-04</td>\n",
       "    </tr>\n",
       "    <tr>\n",
       "      <th>Traffic Control_PERSON</th>\n",
       "      <td>6.246759e-05</td>\n",
       "    </tr>\n",
       "    <tr>\n",
       "      <th>Traffic Control_WARNING SIGN</th>\n",
       "      <td>2.745640e-05</td>\n",
       "    </tr>\n",
       "    <tr>\n",
       "      <th>Traffic Control_RAILWAY CROSSING DEVICE</th>\n",
       "      <td>1.886648e-05</td>\n",
       "    </tr>\n",
       "    <tr>\n",
       "      <th>Traffic Control_SCHOOL ZONE SIGN DEVICE</th>\n",
       "      <td>3.859134e-07</td>\n",
       "    </tr>\n",
       "  </tbody>\n",
       "</table>\n",
       "</div>"
      ],
      "text/plain": [
       "                                         forest importance\n",
       "Traffic Control_TRAFFIC SIGNAL                5.711106e-03\n",
       "Traffic Control_STOP SIGN                     4.121950e-03\n",
       "Traffic Control_FLASHING TRAFFIC SIGNAL       3.979654e-04\n",
       "Traffic Control_YIELD SIGN                    3.265717e-04\n",
       "Traffic Control_PERSON                        6.246759e-05\n",
       "Traffic Control_WARNING SIGN                  2.745640e-05\n",
       "Traffic Control_RAILWAY CROSSING DEVICE       1.886648e-05\n",
       "Traffic Control_SCHOOL ZONE SIGN DEVICE       3.859134e-07"
      ]
     },
     "execution_count": 126,
     "metadata": {},
     "output_type": "execute_result"
    }
   ],
   "source": [
    "forest_imp_df[forest_imp_df.index.str.contains('Traffic Control')].sort_values('forest importance', ascending = False)"
   ]
  },
  {
   "cell_type": "code",
   "execution_count": 127,
   "id": "e1747eaf-3d3a-437e-a8e1-f18a107f4e75",
   "metadata": {
    "jupyter": {
     "source_hidden": true
    },
    "tags": []
   },
   "outputs": [
    {
     "data": {
      "text/html": [
       "<div>\n",
       "<style scoped>\n",
       "    .dataframe tbody tr th:only-of-type {\n",
       "        vertical-align: middle;\n",
       "    }\n",
       "\n",
       "    .dataframe tbody tr th {\n",
       "        vertical-align: top;\n",
       "    }\n",
       "\n",
       "    .dataframe thead th {\n",
       "        text-align: right;\n",
       "    }\n",
       "</style>\n",
       "<table border=\"1\" class=\"dataframe\">\n",
       "  <thead>\n",
       "    <tr style=\"text-align: right;\">\n",
       "      <th></th>\n",
       "      <th>logreg coef</th>\n",
       "    </tr>\n",
       "  </thead>\n",
       "  <tbody>\n",
       "    <tr>\n",
       "      <th>Traffic Control_WARNING SIGN</th>\n",
       "      <td>0.566574</td>\n",
       "    </tr>\n",
       "    <tr>\n",
       "      <th>Traffic Control_RAILWAY CROSSING DEVICE</th>\n",
       "      <td>0.388825</td>\n",
       "    </tr>\n",
       "    <tr>\n",
       "      <th>Traffic Control_FLASHING TRAFFIC SIGNAL</th>\n",
       "      <td>0.276344</td>\n",
       "    </tr>\n",
       "    <tr>\n",
       "      <th>Traffic Control_YIELD SIGN</th>\n",
       "      <td>0.116923</td>\n",
       "    </tr>\n",
       "    <tr>\n",
       "      <th>Traffic Control_SCHOOL ZONE SIGN DEVICE</th>\n",
       "      <td>0.090265</td>\n",
       "    </tr>\n",
       "    <tr>\n",
       "      <th>Traffic Control_STOP SIGN</th>\n",
       "      <td>-0.092641</td>\n",
       "    </tr>\n",
       "    <tr>\n",
       "      <th>Traffic Control_TRAFFIC SIGNAL</th>\n",
       "      <td>-0.093000</td>\n",
       "    </tr>\n",
       "    <tr>\n",
       "      <th>Traffic Control_PERSON</th>\n",
       "      <td>-0.393253</td>\n",
       "    </tr>\n",
       "  </tbody>\n",
       "</table>\n",
       "</div>"
      ],
      "text/plain": [
       "                                         logreg coef\n",
       "Traffic Control_WARNING SIGN                0.566574\n",
       "Traffic Control_RAILWAY CROSSING DEVICE     0.388825\n",
       "Traffic Control_FLASHING TRAFFIC SIGNAL     0.276344\n",
       "Traffic Control_YIELD SIGN                  0.116923\n",
       "Traffic Control_SCHOOL ZONE SIGN DEVICE     0.090265\n",
       "Traffic Control_STOP SIGN                  -0.092641\n",
       "Traffic Control_TRAFFIC SIGNAL             -0.093000\n",
       "Traffic Control_PERSON                     -0.393253"
      ]
     },
     "execution_count": 127,
     "metadata": {},
     "output_type": "execute_result"
    }
   ],
   "source": [
    "logreg_coef_df[logreg_coef_df.index.str.contains('Control')].sort_values('logreg coef', ascending = False)"
   ]
  },
  {
   "cell_type": "code",
   "execution_count": null,
   "id": "8bf69730-9635-408a-8c4e-5db778442422",
   "metadata": {},
   "outputs": [],
   "source": []
  },
  {
   "cell_type": "markdown",
   "id": "50e41a42-c05c-4b17-894a-18481dbe4065",
   "metadata": {},
   "source": [
    " "
   ]
  },
  {
   "cell_type": "markdown",
   "id": "e8ce0d53-dcb8-49b0-96ce-5dd827e482fd",
   "metadata": {},
   "source": [
    "#### Light Conditions\n",
    "\n",
    "Default for light is `DAYLIGHT`.  \n",
    "\n",
    "Compared to daylight, all other light situations are negatively correlated with driver fault.  That is, the driver is less likely to be responsible in dark conditions than in light conditions.  "
   ]
  },
  {
   "cell_type": "code",
   "execution_count": 128,
   "id": "af57e98c-37d2-4de7-afb4-de284df0b534",
   "metadata": {
    "jupyter": {
     "source_hidden": true
    },
    "tags": []
   },
   "outputs": [
    {
     "data": {
      "text/html": [
       "<div>\n",
       "<style scoped>\n",
       "    .dataframe tbody tr th:only-of-type {\n",
       "        vertical-align: middle;\n",
       "    }\n",
       "\n",
       "    .dataframe tbody tr th {\n",
       "        vertical-align: top;\n",
       "    }\n",
       "\n",
       "    .dataframe thead th {\n",
       "        text-align: right;\n",
       "    }\n",
       "</style>\n",
       "<table border=\"1\" class=\"dataframe\">\n",
       "  <thead>\n",
       "    <tr style=\"text-align: right;\">\n",
       "      <th></th>\n",
       "      <th>forest importance</th>\n",
       "    </tr>\n",
       "  </thead>\n",
       "  <tbody>\n",
       "    <tr>\n",
       "      <th>Light_DARK LIGHTS ON</th>\n",
       "      <td>0.001390</td>\n",
       "    </tr>\n",
       "    <tr>\n",
       "      <th>Light_DARK NO LIGHTS</th>\n",
       "      <td>0.000677</td>\n",
       "    </tr>\n",
       "    <tr>\n",
       "      <th>Light_DAWN</th>\n",
       "      <td>0.000456</td>\n",
       "    </tr>\n",
       "    <tr>\n",
       "      <th>Light_DUSK</th>\n",
       "      <td>0.000375</td>\n",
       "    </tr>\n",
       "    <tr>\n",
       "      <th>Light_DARK -- UNKNOWN LIGHTING</th>\n",
       "      <td>0.000238</td>\n",
       "    </tr>\n",
       "  </tbody>\n",
       "</table>\n",
       "</div>"
      ],
      "text/plain": [
       "                                forest importance\n",
       "Light_DARK LIGHTS ON                     0.001390\n",
       "Light_DARK NO LIGHTS                     0.000677\n",
       "Light_DAWN                               0.000456\n",
       "Light_DUSK                               0.000375\n",
       "Light_DARK -- UNKNOWN LIGHTING           0.000238"
      ]
     },
     "execution_count": 128,
     "metadata": {},
     "output_type": "execute_result"
    }
   ],
   "source": [
    "forest_imp_df[forest_imp_df.index.str.contains('Light')].sort_values('forest importance', ascending = False)"
   ]
  },
  {
   "cell_type": "code",
   "execution_count": 129,
   "id": "46032838-55d9-4dad-94fb-874267fe1721",
   "metadata": {
    "jupyter": {
     "source_hidden": true
    },
    "tags": []
   },
   "outputs": [
    {
     "data": {
      "text/html": [
       "<div>\n",
       "<style scoped>\n",
       "    .dataframe tbody tr th:only-of-type {\n",
       "        vertical-align: middle;\n",
       "    }\n",
       "\n",
       "    .dataframe tbody tr th {\n",
       "        vertical-align: top;\n",
       "    }\n",
       "\n",
       "    .dataframe thead th {\n",
       "        text-align: right;\n",
       "    }\n",
       "</style>\n",
       "<table border=\"1\" class=\"dataframe\">\n",
       "  <thead>\n",
       "    <tr style=\"text-align: right;\">\n",
       "      <th></th>\n",
       "      <th>logreg coef</th>\n",
       "    </tr>\n",
       "  </thead>\n",
       "  <tbody>\n",
       "    <tr>\n",
       "      <th>Light_DUSK</th>\n",
       "      <td>-0.072055</td>\n",
       "    </tr>\n",
       "    <tr>\n",
       "      <th>Light_DARK LIGHTS ON</th>\n",
       "      <td>-0.149331</td>\n",
       "    </tr>\n",
       "    <tr>\n",
       "      <th>Light_DAWN</th>\n",
       "      <td>-0.218778</td>\n",
       "    </tr>\n",
       "    <tr>\n",
       "      <th>Light_DARK NO LIGHTS</th>\n",
       "      <td>-0.258096</td>\n",
       "    </tr>\n",
       "    <tr>\n",
       "      <th>Light_DARK -- UNKNOWN LIGHTING</th>\n",
       "      <td>-0.411316</td>\n",
       "    </tr>\n",
       "  </tbody>\n",
       "</table>\n",
       "</div>"
      ],
      "text/plain": [
       "                                logreg coef\n",
       "Light_DUSK                        -0.072055\n",
       "Light_DARK LIGHTS ON              -0.149331\n",
       "Light_DAWN                        -0.218778\n",
       "Light_DARK NO LIGHTS              -0.258096\n",
       "Light_DARK -- UNKNOWN LIGHTING    -0.411316"
      ]
     },
     "execution_count": 129,
     "metadata": {},
     "output_type": "execute_result"
    }
   ],
   "source": [
    "logreg_coef_df[logreg_coef_df.index.str.contains('Light')].sort_values('logreg coef', ascending = False)"
   ]
  },
  {
   "cell_type": "markdown",
   "id": "f04838e4-a3ee-4552-ac7b-ff80e737cc90",
   "metadata": {},
   "source": [
    "#### Vehicle movement\n",
    "\n",
    "Default vehicle movement is `MOVING CONSTANT SPEED`.\n",
    "\n",
    "The most important feature is `STOPPED IN TRAFFIC LANE` which, holding all else equal, is more strongly negatively correlated with driver fault than teh default of `MOVING CONSTANT SPEED`.  Similarly, `SLOWING OR STOPPING` and `PARKED` show lower chance of driver fault in an accident than traveling at a constant speed.  \n",
    "\n",
    "Comparing coefficients we see that driver fault is least likely when `STOPPED IN TRAFFIC LANE` and most likely when `BACKING`.  \n"
   ]
  },
  {
   "cell_type": "code",
   "execution_count": 131,
   "id": "b406e3a7-3b46-49a2-a160-8de0f27f5d98",
   "metadata": {
    "jupyter": {
     "source_hidden": true
    },
    "tags": []
   },
   "outputs": [
    {
     "data": {
      "text/html": [
       "<div>\n",
       "<style scoped>\n",
       "    .dataframe tbody tr th:only-of-type {\n",
       "        vertical-align: middle;\n",
       "    }\n",
       "\n",
       "    .dataframe tbody tr th {\n",
       "        vertical-align: top;\n",
       "    }\n",
       "\n",
       "    .dataframe thead th {\n",
       "        text-align: right;\n",
       "    }\n",
       "</style>\n",
       "<table border=\"1\" class=\"dataframe\">\n",
       "  <thead>\n",
       "    <tr style=\"text-align: right;\">\n",
       "      <th></th>\n",
       "      <th>forest importance</th>\n",
       "    </tr>\n",
       "  </thead>\n",
       "  <tbody>\n",
       "    <tr>\n",
       "      <th>Vehicle Movement_STOPPED IN TRAFFIC LANE</th>\n",
       "      <td>0.050092</td>\n",
       "    </tr>\n",
       "    <tr>\n",
       "      <th>Vehicle Movement_MAKING LEFT TURN</th>\n",
       "      <td>0.041488</td>\n",
       "    </tr>\n",
       "    <tr>\n",
       "      <th>Vehicle Movement_CHANGING LANES</th>\n",
       "      <td>0.015798</td>\n",
       "    </tr>\n",
       "    <tr>\n",
       "      <th>Vehicle Movement_SLOWING OR STOPPING</th>\n",
       "      <td>0.012026</td>\n",
       "    </tr>\n",
       "    <tr>\n",
       "      <th>Vehicle Movement_ACCELERATING</th>\n",
       "      <td>0.008516</td>\n",
       "    </tr>\n",
       "    <tr>\n",
       "      <th>Vehicle Movement_BACKING</th>\n",
       "      <td>0.007257</td>\n",
       "    </tr>\n",
       "    <tr>\n",
       "      <th>Vehicle Movement_MAKING RIGHT TURN</th>\n",
       "      <td>0.006948</td>\n",
       "    </tr>\n",
       "    <tr>\n",
       "      <th>Vehicle Movement_MAKING U TURN</th>\n",
       "      <td>0.002657</td>\n",
       "    </tr>\n",
       "    <tr>\n",
       "      <th>Vehicle Movement_PASSING</th>\n",
       "      <td>0.002293</td>\n",
       "    </tr>\n",
       "    <tr>\n",
       "      <th>Vehicle Movement_ENTERING TRAFFIC LANE</th>\n",
       "      <td>0.001724</td>\n",
       "    </tr>\n",
       "    <tr>\n",
       "      <th>Vehicle Movement_STARTING FROM LANE</th>\n",
       "      <td>0.001538</td>\n",
       "    </tr>\n",
       "    <tr>\n",
       "      <th>Vehicle Movement_SKIDDING</th>\n",
       "      <td>0.001357</td>\n",
       "    </tr>\n",
       "    <tr>\n",
       "      <th>Vehicle Movement_PARKED</th>\n",
       "      <td>0.001149</td>\n",
       "    </tr>\n",
       "    <tr>\n",
       "      <th>Vehicle Movement_STARTING FROM PARKED</th>\n",
       "      <td>0.000336</td>\n",
       "    </tr>\n",
       "    <tr>\n",
       "      <th>Vehicle Movement_RIGHT TURN ON RED</th>\n",
       "      <td>0.000301</td>\n",
       "    </tr>\n",
       "    <tr>\n",
       "      <th>Vehicle Movement_NEGOTIATING A CURVE</th>\n",
       "      <td>0.000184</td>\n",
       "    </tr>\n",
       "    <tr>\n",
       "      <th>Vehicle Movement_LEAVING TRAFFIC LANE</th>\n",
       "      <td>0.000108</td>\n",
       "    </tr>\n",
       "    <tr>\n",
       "      <th>Vehicle Movement_PARKING</th>\n",
       "      <td>0.000079</td>\n",
       "    </tr>\n",
       "    <tr>\n",
       "      <th>Vehicle Movement_DRIVERLESS MOVING VEH.</th>\n",
       "      <td>0.000009</td>\n",
       "    </tr>\n",
       "  </tbody>\n",
       "</table>\n",
       "</div>"
      ],
      "text/plain": [
       "                                          forest importance\n",
       "Vehicle Movement_STOPPED IN TRAFFIC LANE           0.050092\n",
       "Vehicle Movement_MAKING LEFT TURN                  0.041488\n",
       "Vehicle Movement_CHANGING LANES                    0.015798\n",
       "Vehicle Movement_SLOWING OR STOPPING               0.012026\n",
       "Vehicle Movement_ACCELERATING                      0.008516\n",
       "Vehicle Movement_BACKING                           0.007257\n",
       "Vehicle Movement_MAKING RIGHT TURN                 0.006948\n",
       "Vehicle Movement_MAKING U TURN                     0.002657\n",
       "Vehicle Movement_PASSING                           0.002293\n",
       "Vehicle Movement_ENTERING TRAFFIC LANE             0.001724\n",
       "Vehicle Movement_STARTING FROM LANE                0.001538\n",
       "Vehicle Movement_SKIDDING                          0.001357\n",
       "Vehicle Movement_PARKED                            0.001149\n",
       "Vehicle Movement_STARTING FROM PARKED              0.000336\n",
       "Vehicle Movement_RIGHT TURN ON RED                 0.000301\n",
       "Vehicle Movement_NEGOTIATING A CURVE               0.000184\n",
       "Vehicle Movement_LEAVING TRAFFIC LANE              0.000108\n",
       "Vehicle Movement_PARKING                           0.000079\n",
       "Vehicle Movement_DRIVERLESS MOVING VEH.            0.000009"
      ]
     },
     "execution_count": 131,
     "metadata": {},
     "output_type": "execute_result"
    }
   ],
   "source": [
    "forest_imp_df[forest_imp_df.index.str.contains('Movement')].sort_values('forest importance', ascending = False)"
   ]
  },
  {
   "cell_type": "code",
   "execution_count": 132,
   "id": "7d13031e-f99f-430f-9deb-6bb877de91fb",
   "metadata": {
    "jupyter": {
     "source_hidden": true
    },
    "tags": []
   },
   "outputs": [
    {
     "data": {
      "text/html": [
       "<div>\n",
       "<style scoped>\n",
       "    .dataframe tbody tr th:only-of-type {\n",
       "        vertical-align: middle;\n",
       "    }\n",
       "\n",
       "    .dataframe tbody tr th {\n",
       "        vertical-align: top;\n",
       "    }\n",
       "\n",
       "    .dataframe thead th {\n",
       "        text-align: right;\n",
       "    }\n",
       "</style>\n",
       "<table border=\"1\" class=\"dataframe\">\n",
       "  <thead>\n",
       "    <tr style=\"text-align: right;\">\n",
       "      <th></th>\n",
       "      <th>logreg coef</th>\n",
       "    </tr>\n",
       "  </thead>\n",
       "  <tbody>\n",
       "    <tr>\n",
       "      <th>Vehicle Movement_BACKING</th>\n",
       "      <td>6.108053</td>\n",
       "    </tr>\n",
       "    <tr>\n",
       "      <th>Vehicle Movement_CHANGING LANES</th>\n",
       "      <td>3.692386</td>\n",
       "    </tr>\n",
       "    <tr>\n",
       "      <th>Vehicle Movement_MAKING U TURN</th>\n",
       "      <td>3.512027</td>\n",
       "    </tr>\n",
       "    <tr>\n",
       "      <th>Vehicle Movement_PASSING</th>\n",
       "      <td>3.131283</td>\n",
       "    </tr>\n",
       "    <tr>\n",
       "      <th>Vehicle Movement_ENTERING TRAFFIC LANE</th>\n",
       "      <td>3.054638</td>\n",
       "    </tr>\n",
       "    <tr>\n",
       "      <th>Vehicle Movement_RIGHT TURN ON RED</th>\n",
       "      <td>2.521771</td>\n",
       "    </tr>\n",
       "    <tr>\n",
       "      <th>Vehicle Movement_MAKING LEFT TURN</th>\n",
       "      <td>2.480264</td>\n",
       "    </tr>\n",
       "    <tr>\n",
       "      <th>Vehicle Movement_SKIDDING</th>\n",
       "      <td>2.089081</td>\n",
       "    </tr>\n",
       "    <tr>\n",
       "      <th>Vehicle Movement_LEAVING TRAFFIC LANE</th>\n",
       "      <td>2.035851</td>\n",
       "    </tr>\n",
       "    <tr>\n",
       "      <th>Vehicle Movement_MAKING RIGHT TURN</th>\n",
       "      <td>2.026153</td>\n",
       "    </tr>\n",
       "    <tr>\n",
       "      <th>Vehicle Movement_ACCELERATING</th>\n",
       "      <td>1.551876</td>\n",
       "    </tr>\n",
       "    <tr>\n",
       "      <th>Vehicle Movement_STARTING FROM PARKED</th>\n",
       "      <td>1.321281</td>\n",
       "    </tr>\n",
       "    <tr>\n",
       "      <th>Vehicle Movement_NEGOTIATING A CURVE</th>\n",
       "      <td>1.201722</td>\n",
       "    </tr>\n",
       "    <tr>\n",
       "      <th>Vehicle Movement_PARKING</th>\n",
       "      <td>1.179634</td>\n",
       "    </tr>\n",
       "    <tr>\n",
       "      <th>Vehicle Movement_STARTING FROM LANE</th>\n",
       "      <td>1.011531</td>\n",
       "    </tr>\n",
       "    <tr>\n",
       "      <th>Vehicle Movement_DRIVERLESS MOVING VEH.</th>\n",
       "      <td>0.528145</td>\n",
       "    </tr>\n",
       "    <tr>\n",
       "      <th>Vehicle Movement_SLOWING OR STOPPING</th>\n",
       "      <td>0.455088</td>\n",
       "    </tr>\n",
       "    <tr>\n",
       "      <th>Vehicle Movement_PARKED</th>\n",
       "      <td>-0.995147</td>\n",
       "    </tr>\n",
       "    <tr>\n",
       "      <th>Vehicle Movement_STOPPED IN TRAFFIC LANE</th>\n",
       "      <td>-2.181723</td>\n",
       "    </tr>\n",
       "  </tbody>\n",
       "</table>\n",
       "</div>"
      ],
      "text/plain": [
       "                                          logreg coef\n",
       "Vehicle Movement_BACKING                     6.108053\n",
       "Vehicle Movement_CHANGING LANES              3.692386\n",
       "Vehicle Movement_MAKING U TURN               3.512027\n",
       "Vehicle Movement_PASSING                     3.131283\n",
       "Vehicle Movement_ENTERING TRAFFIC LANE       3.054638\n",
       "Vehicle Movement_RIGHT TURN ON RED           2.521771\n",
       "Vehicle Movement_MAKING LEFT TURN            2.480264\n",
       "Vehicle Movement_SKIDDING                    2.089081\n",
       "Vehicle Movement_LEAVING TRAFFIC LANE        2.035851\n",
       "Vehicle Movement_MAKING RIGHT TURN           2.026153\n",
       "Vehicle Movement_ACCELERATING                1.551876\n",
       "Vehicle Movement_STARTING FROM PARKED        1.321281\n",
       "Vehicle Movement_NEGOTIATING A CURVE         1.201722\n",
       "Vehicle Movement_PARKING                     1.179634\n",
       "Vehicle Movement_STARTING FROM LANE          1.011531\n",
       "Vehicle Movement_DRIVERLESS MOVING VEH.      0.528145\n",
       "Vehicle Movement_SLOWING OR STOPPING         0.455088\n",
       "Vehicle Movement_PARKED                     -0.995147\n",
       "Vehicle Movement_STOPPED IN TRAFFIC LANE    -2.181723"
      ]
     },
     "execution_count": 132,
     "metadata": {},
     "output_type": "execute_result"
    }
   ],
   "source": [
    "logreg_coef_df[logreg_coef_df.index.str.contains('Movement')].sort_values('logreg coef', ascending = False)"
   ]
  },
  {
   "cell_type": "code",
   "execution_count": null,
   "id": "bfbcaf7b-d375-40de-8e19-bc2a2fd77107",
   "metadata": {},
   "outputs": [],
   "source": []
  },
  {
   "cell_type": "markdown",
   "id": "a57558c8-8e3f-4c53-a195-5e266eba0c89",
   "metadata": {},
   "source": [
    " "
   ]
  },
  {
   "cell_type": "markdown",
   "id": "66055b24-b650-43ec-8f00-e4a92dd5e859",
   "metadata": {},
   "source": [
    "#### Substance Abuse\n",
    "\n",
    "As expected, substance abuse is a highly important feature with strong, positive correlation with fault in the accident. "
   ]
  },
  {
   "cell_type": "code",
   "execution_count": 133,
   "id": "e7e47dd8-9311-4084-8d02-99ae1fd13a0f",
   "metadata": {
    "jupyter": {
     "source_hidden": true
    },
    "tags": []
   },
   "outputs": [
    {
     "data": {
      "text/html": [
       "<div>\n",
       "<style scoped>\n",
       "    .dataframe tbody tr th:only-of-type {\n",
       "        vertical-align: middle;\n",
       "    }\n",
       "\n",
       "    .dataframe tbody tr th {\n",
       "        vertical-align: top;\n",
       "    }\n",
       "\n",
       "    .dataframe thead th {\n",
       "        text-align: right;\n",
       "    }\n",
       "</style>\n",
       "<table border=\"1\" class=\"dataframe\">\n",
       "  <thead>\n",
       "    <tr style=\"text-align: right;\">\n",
       "      <th></th>\n",
       "      <th>forest importance</th>\n",
       "    </tr>\n",
       "  </thead>\n",
       "  <tbody>\n",
       "    <tr>\n",
       "      <th>Driver Substance Abuse</th>\n",
       "      <td>0.015609</td>\n",
       "    </tr>\n",
       "  </tbody>\n",
       "</table>\n",
       "</div>"
      ],
      "text/plain": [
       "                        forest importance\n",
       "Driver Substance Abuse           0.015609"
      ]
     },
     "execution_count": 133,
     "metadata": {},
     "output_type": "execute_result"
    }
   ],
   "source": [
    "forest_imp_df[forest_imp_df.index.str.contains('Substance Abuse')].sort_values('forest importance', ascending = False)"
   ]
  },
  {
   "cell_type": "code",
   "execution_count": 134,
   "id": "4667217a-b43e-4e77-a192-c1eea09acbdb",
   "metadata": {
    "jupyter": {
     "source_hidden": true
    },
    "tags": []
   },
   "outputs": [
    {
     "data": {
      "text/html": [
       "<div>\n",
       "<style scoped>\n",
       "    .dataframe tbody tr th:only-of-type {\n",
       "        vertical-align: middle;\n",
       "    }\n",
       "\n",
       "    .dataframe tbody tr th {\n",
       "        vertical-align: top;\n",
       "    }\n",
       "\n",
       "    .dataframe thead th {\n",
       "        text-align: right;\n",
       "    }\n",
       "</style>\n",
       "<table border=\"1\" class=\"dataframe\">\n",
       "  <thead>\n",
       "    <tr style=\"text-align: right;\">\n",
       "      <th></th>\n",
       "      <th>logreg coef</th>\n",
       "    </tr>\n",
       "  </thead>\n",
       "  <tbody>\n",
       "    <tr>\n",
       "      <th>Driver Substance Abuse</th>\n",
       "      <td>3.071846</td>\n",
       "    </tr>\n",
       "  </tbody>\n",
       "</table>\n",
       "</div>"
      ],
      "text/plain": [
       "                        logreg coef\n",
       "Driver Substance Abuse     3.071846"
      ]
     },
     "execution_count": 134,
     "metadata": {},
     "output_type": "execute_result"
    }
   ],
   "source": [
    "logreg_coef_df[logreg_coef_df.index.str.contains('Substance Abuse')].sort_values('logreg coef', ascending = False)"
   ]
  },
  {
   "cell_type": "markdown",
   "id": "b62922ad-0826-4084-96ad-9d6d8cfa04f8",
   "metadata": {},
   "source": [
    "## To do: \n",
    "- collect results and write a few sentences about each\n",
    "- "
   ]
  },
  {
   "cell_type": "code",
   "execution_count": null,
   "id": "594f3cc7-8d97-4f14-8eb9-a932c61a3d5e",
   "metadata": {},
   "outputs": [],
   "source": []
  },
  {
   "cell_type": "code",
   "execution_count": null,
   "id": "0a804724-e8a6-4573-ab19-c03d3d1cafbc",
   "metadata": {},
   "outputs": [],
   "source": []
  },
  {
   "cell_type": "code",
   "execution_count": null,
   "id": "94293aae-0176-447d-b67d-bc84db036bb7",
   "metadata": {},
   "outputs": [],
   "source": []
  },
  {
   "cell_type": "code",
   "execution_count": null,
   "id": "76bb12a3-5d12-45ae-8660-92251029c74c",
   "metadata": {},
   "outputs": [],
   "source": []
  }
 ],
 "metadata": {
  "kernelspec": {
   "display_name": "Python 3",
   "language": "python",
   "name": "python3"
  },
  "language_info": {
   "codemirror_mode": {
    "name": "ipython",
    "version": 3
   },
   "file_extension": ".py",
   "mimetype": "text/x-python",
   "name": "python",
   "nbconvert_exporter": "python",
   "pygments_lexer": "ipython3",
   "version": "3.8.8"
  }
 },
 "nbformat": 4,
 "nbformat_minor": 5
}
