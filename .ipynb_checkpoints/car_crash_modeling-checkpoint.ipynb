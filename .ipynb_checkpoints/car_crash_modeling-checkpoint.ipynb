{
 "cells": [
  {
   "cell_type": "markdown",
   "id": "17436b5b",
   "metadata": {},
   "source": [
    "# Project 5: Car crash data"
   ]
  },
  {
   "cell_type": "markdown",
   "id": "1088a0a4",
   "metadata": {},
   "source": [
    "## Modeling Notebook\n",
    "This notebook is for modeling the car crash data.  It assumes that the previous notebooks have been run. "
   ]
  },
  {
   "cell_type": "markdown",
   "id": "b3e59fa1",
   "metadata": {},
   "source": [
    "## Problem Statement:\n"
   ]
  },
  {
   "cell_type": "code",
   "execution_count": 22,
   "id": "4c1e5d34",
   "metadata": {},
   "outputs": [],
   "source": [
    "#imports \n",
    "import pandas as pd\n",
    "import seaborn as sns\n",
    "import numpy as np\n",
    "import matplotlib.pyplot as plt\n",
    "\n",
    "from sklearn.linear_model import LogisticRegression, LogisticRegressionCV\n",
    "from sklearn.model_selection import train_test_split"
   ]
  },
  {
   "cell_type": "code",
   "execution_count": 6,
   "id": "8e3f454a",
   "metadata": {
    "scrolled": true
   },
   "outputs": [
    {
     "data": {
      "text/html": [
       "<div>\n",
       "<style scoped>\n",
       "    .dataframe tbody tr th:only-of-type {\n",
       "        vertical-align: middle;\n",
       "    }\n",
       "\n",
       "    .dataframe tbody tr th {\n",
       "        vertical-align: top;\n",
       "    }\n",
       "\n",
       "    .dataframe thead th {\n",
       "        text-align: right;\n",
       "    }\n",
       "</style>\n",
       "<table border=\"1\" class=\"dataframe\">\n",
       "  <thead>\n",
       "    <tr style=\"text-align: right;\">\n",
       "      <th></th>\n",
       "      <th>Crash Time of Day</th>\n",
       "      <th>Collision Type</th>\n",
       "      <th>Surface Condition</th>\n",
       "      <th>Light</th>\n",
       "      <th>Traffic Control</th>\n",
       "      <th>Driver Substance Abuse</th>\n",
       "      <th>Driver At Fault</th>\n",
       "      <th>Driver Distracted By</th>\n",
       "      <th>Vehicle First Impact Location</th>\n",
       "      <th>Vehicle Second Impact Location</th>\n",
       "      <th>Vehicle Body Type</th>\n",
       "      <th>Vehicle Movement</th>\n",
       "      <th>Speed Limit</th>\n",
       "      <th>Parked Vehicle</th>\n",
       "    </tr>\n",
       "  </thead>\n",
       "  <tbody>\n",
       "    <tr>\n",
       "      <th>0</th>\n",
       "      <td>Evening</td>\n",
       "      <td>SAME DIR REAR END</td>\n",
       "      <td>DRY</td>\n",
       "      <td>DAYLIGHT</td>\n",
       "      <td>STOP SIGN</td>\n",
       "      <td>No</td>\n",
       "      <td>No</td>\n",
       "      <td>No</td>\n",
       "      <td>SIX OCLOCK</td>\n",
       "      <td>SIX OCLOCK</td>\n",
       "      <td>PASSENGER CAR</td>\n",
       "      <td>STOPPED IN TRAFFIC LANE</td>\n",
       "      <td>25</td>\n",
       "      <td>No</td>\n",
       "    </tr>\n",
       "    <tr>\n",
       "      <th>1</th>\n",
       "      <td>Early Morning</td>\n",
       "      <td>SAME DIR REAR END</td>\n",
       "      <td>DRY</td>\n",
       "      <td>DAWN</td>\n",
       "      <td>TRAFFIC SIGNAL</td>\n",
       "      <td>No</td>\n",
       "      <td>No</td>\n",
       "      <td>No</td>\n",
       "      <td>SIX OCLOCK</td>\n",
       "      <td>SIX OCLOCK</td>\n",
       "      <td>PASSENGER CAR</td>\n",
       "      <td>STOPPED IN TRAFFIC LANE</td>\n",
       "      <td>40</td>\n",
       "      <td>No</td>\n",
       "    </tr>\n",
       "    <tr>\n",
       "      <th>2</th>\n",
       "      <td>Early Morning</td>\n",
       "      <td>SINGLE VEHICLE</td>\n",
       "      <td>DRY</td>\n",
       "      <td>DAYLIGHT</td>\n",
       "      <td>NO CONTROLS</td>\n",
       "      <td>No</td>\n",
       "      <td>No</td>\n",
       "      <td>No</td>\n",
       "      <td>ELEVEN OCLOCK</td>\n",
       "      <td>ELEVEN OCLOCK</td>\n",
       "      <td>POLICE VEHICLE/NON EMERGENCY</td>\n",
       "      <td>MOVING CONSTANT SPEED</td>\n",
       "      <td>35</td>\n",
       "      <td>No</td>\n",
       "    </tr>\n",
       "    <tr>\n",
       "      <th>3</th>\n",
       "      <td>Late Night</td>\n",
       "      <td>SINGLE VEHICLE</td>\n",
       "      <td>DRY</td>\n",
       "      <td>DARK LIGHTS ON</td>\n",
       "      <td>NO CONTROLS</td>\n",
       "      <td>No</td>\n",
       "      <td>No</td>\n",
       "      <td>No</td>\n",
       "      <td>TWELVE OCLOCK</td>\n",
       "      <td>TWELVE OCLOCK</td>\n",
       "      <td>POLICE VEHICLE/EMERGENCY</td>\n",
       "      <td>MOVING CONSTANT SPEED</td>\n",
       "      <td>35</td>\n",
       "      <td>No</td>\n",
       "    </tr>\n",
       "    <tr>\n",
       "      <th>4</th>\n",
       "      <td>Night</td>\n",
       "      <td>SAME DIR REAR END</td>\n",
       "      <td>DRY</td>\n",
       "      <td>DARK LIGHTS ON</td>\n",
       "      <td>NO CONTROLS</td>\n",
       "      <td>Yes</td>\n",
       "      <td>Yes</td>\n",
       "      <td>Yes</td>\n",
       "      <td>TWELVE OCLOCK</td>\n",
       "      <td>TWELVE OCLOCK</td>\n",
       "      <td>PASSENGER CAR</td>\n",
       "      <td>ACCELERATING</td>\n",
       "      <td>35</td>\n",
       "      <td>No</td>\n",
       "    </tr>\n",
       "  </tbody>\n",
       "</table>\n",
       "</div>"
      ],
      "text/plain": [
       "  Crash Time of Day     Collision Type Surface Condition           Light  \\\n",
       "0           Evening  SAME DIR REAR END               DRY        DAYLIGHT   \n",
       "1     Early Morning  SAME DIR REAR END               DRY            DAWN   \n",
       "2     Early Morning     SINGLE VEHICLE               DRY        DAYLIGHT   \n",
       "3        Late Night     SINGLE VEHICLE               DRY  DARK LIGHTS ON   \n",
       "4             Night  SAME DIR REAR END               DRY  DARK LIGHTS ON   \n",
       "\n",
       "  Traffic Control Driver Substance Abuse Driver At Fault Driver Distracted By  \\\n",
       "0       STOP SIGN                     No              No                   No   \n",
       "1  TRAFFIC SIGNAL                     No              No                   No   \n",
       "2     NO CONTROLS                     No              No                   No   \n",
       "3     NO CONTROLS                     No              No                   No   \n",
       "4     NO CONTROLS                    Yes             Yes                  Yes   \n",
       "\n",
       "  Vehicle First Impact Location Vehicle Second Impact Location  \\\n",
       "0                    SIX OCLOCK                     SIX OCLOCK   \n",
       "1                    SIX OCLOCK                     SIX OCLOCK   \n",
       "2                 ELEVEN OCLOCK                  ELEVEN OCLOCK   \n",
       "3                 TWELVE OCLOCK                  TWELVE OCLOCK   \n",
       "4                 TWELVE OCLOCK                  TWELVE OCLOCK   \n",
       "\n",
       "              Vehicle Body Type         Vehicle Movement  Speed Limit  \\\n",
       "0                 PASSENGER CAR  STOPPED IN TRAFFIC LANE           25   \n",
       "1                 PASSENGER CAR  STOPPED IN TRAFFIC LANE           40   \n",
       "2  POLICE VEHICLE/NON EMERGENCY    MOVING CONSTANT SPEED           35   \n",
       "3      POLICE VEHICLE/EMERGENCY    MOVING CONSTANT SPEED           35   \n",
       "4                 PASSENGER CAR             ACCELERATING           35   \n",
       "\n",
       "  Parked Vehicle  \n",
       "0             No  \n",
       "1             No  \n",
       "2             No  \n",
       "3             No  \n",
       "4             No  "
      ]
     },
     "execution_count": 6,
     "metadata": {},
     "output_type": "execute_result"
    }
   ],
   "source": [
    "#read data\n",
    "crash = pd.read_csv('./data/crash_data_modified.csv')\n",
    "crash.head()"
   ]
  },
  {
   "cell_type": "code",
   "execution_count": null,
   "id": "a700120e",
   "metadata": {},
   "outputs": [],
   "source": []
  },
  {
   "cell_type": "markdown",
   "id": "c3f7bb6d",
   "metadata": {},
   "source": [
    "\n",
    "\n",
    "Index(['Crash Time of Day', 'Collision Type', 'Surface Condition', 'Light',\n",
    "       'Traffic Control', 'Driver Substance Abuse', 'Driver At Fault',\n",
    "       'Driver Distracted By', 'Vehicle First Impact Location',\n",
    "       'Vehicle Second Impact Location', 'Vehicle Body Type',\n",
    "       'Vehicle Movement', 'Parked Vehicle'],\n",
    "      dtype='object')\n"
   ]
  },
  {
   "cell_type": "code",
   "execution_count": null,
   "id": "f81d5050",
   "metadata": {},
   "outputs": [],
   "source": []
  },
  {
   "cell_type": "code",
   "execution_count": 17,
   "id": "9837ef70",
   "metadata": {},
   "outputs": [],
   "source": [
    "columns_to_dummify = ['Crash Time of Day', 'Collision Type', 'Surface Condition', 'Light',\n",
    "       'Traffic Control', 'Driver Substance Abuse',\n",
    "       'Driver Distracted By', 'Vehicle First Impact Location',\n",
    "       'Vehicle Second Impact Location', 'Vehicle Body Type',\n",
    "       'Vehicle Movement', 'Parked Vehicle']\n",
    "\n",
    "df = pd.get_dummies(crash,columns=columns_to_dummify, drop_first=True)"
   ]
  },
  {
   "cell_type": "code",
   "execution_count": 20,
   "id": "93ba58a9",
   "metadata": {},
   "outputs": [],
   "source": [
    "df['Driver At Fault'] = df['Driver At Fault'].map({'No':0, 'Yes':1})"
   ]
  },
  {
   "cell_type": "code",
   "execution_count": 21,
   "id": "a3dd70a6",
   "metadata": {},
   "outputs": [
    {
     "data": {
      "text/html": [
       "<div>\n",
       "<style scoped>\n",
       "    .dataframe tbody tr th:only-of-type {\n",
       "        vertical-align: middle;\n",
       "    }\n",
       "\n",
       "    .dataframe tbody tr th {\n",
       "        vertical-align: top;\n",
       "    }\n",
       "\n",
       "    .dataframe thead th {\n",
       "        text-align: right;\n",
       "    }\n",
       "</style>\n",
       "<table border=\"1\" class=\"dataframe\">\n",
       "  <thead>\n",
       "    <tr style=\"text-align: right;\">\n",
       "      <th></th>\n",
       "      <th>Driver At Fault</th>\n",
       "      <th>Speed Limit</th>\n",
       "      <th>Crash Time of Day_Evening</th>\n",
       "      <th>Crash Time of Day_Late Night</th>\n",
       "      <th>Crash Time of Day_Morning</th>\n",
       "      <th>Crash Time of Day_Night</th>\n",
       "      <th>Crash Time of Day_Noon</th>\n",
       "      <th>Collision Type_ANGLE MEETS LEFT TURN</th>\n",
       "      <th>Collision Type_ANGLE MEETS RIGHT TURN</th>\n",
       "      <th>Collision Type_HEAD ON</th>\n",
       "      <th>...</th>\n",
       "      <th>Vehicle Movement_PARKED</th>\n",
       "      <th>Vehicle Movement_PARKING</th>\n",
       "      <th>Vehicle Movement_PASSING</th>\n",
       "      <th>Vehicle Movement_RIGHT TURN ON RED</th>\n",
       "      <th>Vehicle Movement_SKIDDING</th>\n",
       "      <th>Vehicle Movement_SLOWING OR STOPPING</th>\n",
       "      <th>Vehicle Movement_STARTING FROM LANE</th>\n",
       "      <th>Vehicle Movement_STARTING FROM PARKED</th>\n",
       "      <th>Vehicle Movement_STOPPED IN TRAFFIC LANE</th>\n",
       "      <th>Parked Vehicle_Yes</th>\n",
       "    </tr>\n",
       "  </thead>\n",
       "  <tbody>\n",
       "    <tr>\n",
       "      <th>0</th>\n",
       "      <td>0</td>\n",
       "      <td>25</td>\n",
       "      <td>1</td>\n",
       "      <td>0</td>\n",
       "      <td>0</td>\n",
       "      <td>0</td>\n",
       "      <td>0</td>\n",
       "      <td>0</td>\n",
       "      <td>0</td>\n",
       "      <td>0</td>\n",
       "      <td>...</td>\n",
       "      <td>0</td>\n",
       "      <td>0</td>\n",
       "      <td>0</td>\n",
       "      <td>0</td>\n",
       "      <td>0</td>\n",
       "      <td>0</td>\n",
       "      <td>0</td>\n",
       "      <td>0</td>\n",
       "      <td>1</td>\n",
       "      <td>0</td>\n",
       "    </tr>\n",
       "    <tr>\n",
       "      <th>1</th>\n",
       "      <td>0</td>\n",
       "      <td>40</td>\n",
       "      <td>0</td>\n",
       "      <td>0</td>\n",
       "      <td>0</td>\n",
       "      <td>0</td>\n",
       "      <td>0</td>\n",
       "      <td>0</td>\n",
       "      <td>0</td>\n",
       "      <td>0</td>\n",
       "      <td>...</td>\n",
       "      <td>0</td>\n",
       "      <td>0</td>\n",
       "      <td>0</td>\n",
       "      <td>0</td>\n",
       "      <td>0</td>\n",
       "      <td>0</td>\n",
       "      <td>0</td>\n",
       "      <td>0</td>\n",
       "      <td>1</td>\n",
       "      <td>0</td>\n",
       "    </tr>\n",
       "    <tr>\n",
       "      <th>2</th>\n",
       "      <td>0</td>\n",
       "      <td>35</td>\n",
       "      <td>0</td>\n",
       "      <td>0</td>\n",
       "      <td>0</td>\n",
       "      <td>0</td>\n",
       "      <td>0</td>\n",
       "      <td>0</td>\n",
       "      <td>0</td>\n",
       "      <td>0</td>\n",
       "      <td>...</td>\n",
       "      <td>0</td>\n",
       "      <td>0</td>\n",
       "      <td>0</td>\n",
       "      <td>0</td>\n",
       "      <td>0</td>\n",
       "      <td>0</td>\n",
       "      <td>0</td>\n",
       "      <td>0</td>\n",
       "      <td>0</td>\n",
       "      <td>0</td>\n",
       "    </tr>\n",
       "    <tr>\n",
       "      <th>3</th>\n",
       "      <td>0</td>\n",
       "      <td>35</td>\n",
       "      <td>0</td>\n",
       "      <td>1</td>\n",
       "      <td>0</td>\n",
       "      <td>0</td>\n",
       "      <td>0</td>\n",
       "      <td>0</td>\n",
       "      <td>0</td>\n",
       "      <td>0</td>\n",
       "      <td>...</td>\n",
       "      <td>0</td>\n",
       "      <td>0</td>\n",
       "      <td>0</td>\n",
       "      <td>0</td>\n",
       "      <td>0</td>\n",
       "      <td>0</td>\n",
       "      <td>0</td>\n",
       "      <td>0</td>\n",
       "      <td>0</td>\n",
       "      <td>0</td>\n",
       "    </tr>\n",
       "    <tr>\n",
       "      <th>4</th>\n",
       "      <td>1</td>\n",
       "      <td>35</td>\n",
       "      <td>0</td>\n",
       "      <td>0</td>\n",
       "      <td>0</td>\n",
       "      <td>1</td>\n",
       "      <td>0</td>\n",
       "      <td>0</td>\n",
       "      <td>0</td>\n",
       "      <td>0</td>\n",
       "      <td>...</td>\n",
       "      <td>0</td>\n",
       "      <td>0</td>\n",
       "      <td>0</td>\n",
       "      <td>0</td>\n",
       "      <td>0</td>\n",
       "      <td>0</td>\n",
       "      <td>0</td>\n",
       "      <td>0</td>\n",
       "      <td>0</td>\n",
       "      <td>0</td>\n",
       "    </tr>\n",
       "  </tbody>\n",
       "</table>\n",
       "<p>5 rows × 120 columns</p>\n",
       "</div>"
      ],
      "text/plain": [
       "   Driver At Fault  Speed Limit  Crash Time of Day_Evening  \\\n",
       "0                0           25                          1   \n",
       "1                0           40                          0   \n",
       "2                0           35                          0   \n",
       "3                0           35                          0   \n",
       "4                1           35                          0   \n",
       "\n",
       "   Crash Time of Day_Late Night  Crash Time of Day_Morning  \\\n",
       "0                             0                          0   \n",
       "1                             0                          0   \n",
       "2                             0                          0   \n",
       "3                             1                          0   \n",
       "4                             0                          0   \n",
       "\n",
       "   Crash Time of Day_Night  Crash Time of Day_Noon  \\\n",
       "0                        0                       0   \n",
       "1                        0                       0   \n",
       "2                        0                       0   \n",
       "3                        0                       0   \n",
       "4                        1                       0   \n",
       "\n",
       "   Collision Type_ANGLE MEETS LEFT TURN  \\\n",
       "0                                     0   \n",
       "1                                     0   \n",
       "2                                     0   \n",
       "3                                     0   \n",
       "4                                     0   \n",
       "\n",
       "   Collision Type_ANGLE MEETS RIGHT TURN  Collision Type_HEAD ON  ...  \\\n",
       "0                                      0                       0  ...   \n",
       "1                                      0                       0  ...   \n",
       "2                                      0                       0  ...   \n",
       "3                                      0                       0  ...   \n",
       "4                                      0                       0  ...   \n",
       "\n",
       "   Vehicle Movement_PARKED  Vehicle Movement_PARKING  \\\n",
       "0                        0                         0   \n",
       "1                        0                         0   \n",
       "2                        0                         0   \n",
       "3                        0                         0   \n",
       "4                        0                         0   \n",
       "\n",
       "   Vehicle Movement_PASSING  Vehicle Movement_RIGHT TURN ON RED  \\\n",
       "0                         0                                   0   \n",
       "1                         0                                   0   \n",
       "2                         0                                   0   \n",
       "3                         0                                   0   \n",
       "4                         0                                   0   \n",
       "\n",
       "   Vehicle Movement_SKIDDING  Vehicle Movement_SLOWING OR STOPPING  \\\n",
       "0                          0                                     0   \n",
       "1                          0                                     0   \n",
       "2                          0                                     0   \n",
       "3                          0                                     0   \n",
       "4                          0                                     0   \n",
       "\n",
       "   Vehicle Movement_STARTING FROM LANE  Vehicle Movement_STARTING FROM PARKED  \\\n",
       "0                                    0                                      0   \n",
       "1                                    0                                      0   \n",
       "2                                    0                                      0   \n",
       "3                                    0                                      0   \n",
       "4                                    0                                      0   \n",
       "\n",
       "   Vehicle Movement_STOPPED IN TRAFFIC LANE  Parked Vehicle_Yes  \n",
       "0                                         1                   0  \n",
       "1                                         1                   0  \n",
       "2                                         0                   0  \n",
       "3                                         0                   0  \n",
       "4                                         0                   0  \n",
       "\n",
       "[5 rows x 120 columns]"
      ]
     },
     "execution_count": 21,
     "metadata": {},
     "output_type": "execute_result"
    }
   ],
   "source": [
    "df.head()"
   ]
  },
  {
   "cell_type": "markdown",
   "id": "4104161f",
   "metadata": {},
   "source": [
    "## Null Model"
   ]
  },
  {
   "cell_type": "code",
   "execution_count": 24,
   "id": "2f6b3135",
   "metadata": {
    "scrolled": true
   },
   "outputs": [
    {
     "data": {
      "text/plain": [
       "0    0.556386\n",
       "1    0.443614\n",
       "Name: Driver At Fault, dtype: float64"
      ]
     },
     "execution_count": 24,
     "metadata": {},
     "output_type": "execute_result"
    }
   ],
   "source": [
    "df['Driver At Fault'].value_counts(normalize = True)"
   ]
  },
  {
   "cell_type": "markdown",
   "id": "bb6fbd5d",
   "metadata": {},
   "source": [
    "For this data set 55.6% of the crashes were listed as the driver not at fault.  This means that if we assign the driver as never at fault we would have a baseline accuracy of 55.6%.  "
   ]
  },
  {
   "cell_type": "markdown",
   "id": "7e1474d0",
   "metadata": {},
   "source": [
    "## Simple Logistic Regression Model"
   ]
  },
  {
   "cell_type": "code",
   "execution_count": 25,
   "id": "a3b5e30e",
   "metadata": {},
   "outputs": [],
   "source": [
    "X = df.drop(columns = 'Driver At Fault')\n",
    "y = df['Driver At Fault']\n",
    "\n",
    "X_train, X_test, y_train, y_test = train_test_split(X, y, stratify=y, random_state=13424)"
   ]
  },
  {
   "cell_type": "code",
   "execution_count": 28,
   "id": "15a4ae3f",
   "metadata": {},
   "outputs": [
    {
     "data": {
      "text/plain": [
       "LogisticRegression(max_iter=1000)"
      ]
     },
     "execution_count": 28,
     "metadata": {},
     "output_type": "execute_result"
    }
   ],
   "source": [
    "logreg = LogisticRegression(max_iter=1000)\n",
    "logreg.fit(X_train,y_train)"
   ]
  },
  {
   "cell_type": "code",
   "execution_count": 29,
   "id": "5b8d8bde",
   "metadata": {},
   "outputs": [
    {
     "data": {
      "text/plain": [
       "(0.8908028640830647, 0.89393217755763)"
      ]
     },
     "execution_count": 29,
     "metadata": {},
     "output_type": "execute_result"
    }
   ],
   "source": [
    "logreg.score(X_train,y_train),logreg.score(X_test,y_test)"
   ]
  },
  {
   "cell_type": "markdown",
   "id": "ffdd8a87",
   "metadata": {},
   "source": [
    "## seeing if the collision type matters"
   ]
  },
  {
   "cell_type": "code",
   "execution_count": 36,
   "id": "eba82261",
   "metadata": {},
   "outputs": [],
   "source": [
    "columns_to_dummify = ['Crash Time of Day', 'Surface Condition', 'Light',\n",
    "       'Traffic Control', 'Driver Substance Abuse',\n",
    "       'Driver Distracted By', 'Vehicle First Impact Location',\n",
    "       'Vehicle Second Impact Location', 'Vehicle Body Type',\n",
    "       'Vehicle Movement', 'Parked Vehicle']\n",
    "\n",
    "df2 = pd.get_dummies(crash,columns=columns_to_dummify, drop_first=True).drop(columns = 'Collision Type')"
   ]
  },
  {
   "cell_type": "code",
   "execution_count": 37,
   "id": "ef2c7f2d",
   "metadata": {},
   "outputs": [],
   "source": [
    "df2['Driver At Fault'] = df2['Driver At Fault'].map({'No':0,'Yes':1})"
   ]
  },
  {
   "cell_type": "code",
   "execution_count": 39,
   "id": "684c48ad",
   "metadata": {},
   "outputs": [],
   "source": [
    "\n",
    "X2 = df2.drop(columns = ['Driver At Fault'])\n",
    "y2 = df2['Driver At Fault']\n",
    "\n",
    "X2_train,X2_test, y2_train,y2_test = train_test_split(X2,y2, stratify=y2, random_state=13424)"
   ]
  },
  {
   "cell_type": "code",
   "execution_count": 41,
   "id": "aaffa8d5",
   "metadata": {},
   "outputs": [
    {
     "data": {
      "text/plain": [
       "LogisticRegression(max_iter=1000)"
      ]
     },
     "execution_count": 41,
     "metadata": {},
     "output_type": "execute_result"
    }
   ],
   "source": [
    "logreg2 = LogisticRegression(max_iter=1000)\n",
    "logreg2.fit(X2_train,y2_train)"
   ]
  },
  {
   "cell_type": "code",
   "execution_count": 42,
   "id": "249238b5",
   "metadata": {},
   "outputs": [
    {
     "data": {
      "text/plain": [
       "(0.8492704843856669, 0.8515431510763956)"
      ]
     },
     "execution_count": 42,
     "metadata": {},
     "output_type": "execute_result"
    }
   ],
   "source": [
    "logreg2.score(X2_train,y2_train), logreg2.score(X2_test,y2_test)"
   ]
  },
  {
   "cell_type": "code",
   "execution_count": null,
   "id": "7a29ce96",
   "metadata": {},
   "outputs": [],
   "source": []
  },
  {
   "cell_type": "markdown",
   "id": "6d5434be",
   "metadata": {},
   "source": [
    "## coefficient interpretation"
   ]
  },
  {
   "cell_type": "code",
   "execution_count": 45,
   "id": "ffb6c154",
   "metadata": {
    "scrolled": true
   },
   "outputs": [
    {
     "data": {
      "text/plain": [
       "[('Driver At Fault', -0.013278099485928174),\n",
       " ('Speed Limit', -0.220162298281299),\n",
       " ('Crash Time of Day_Evening', -0.12934211306733132),\n",
       " ('Crash Time of Day_Late Night', -0.08205132775966555),\n",
       " ('Crash Time of Day_Morning', -0.18326635293665372),\n",
       " ('Crash Time of Day_Night', -0.13656029780615558),\n",
       " ('Crash Time of Day_Noon', 0.015654131943725797),\n",
       " ('Collision Type_ANGLE MEETS LEFT TURN', 0.06269348478167906),\n",
       " ('Collision Type_ANGLE MEETS RIGHT TURN', 0.6242983208532685),\n",
       " ('Collision Type_HEAD ON', -0.051043955167613814),\n",
       " ('Collision Type_HEAD ON LEFT TURN', 0.0693405179639358),\n",
       " ('Collision Type_OPPOSITE DIR BOTH LEFT TURN', 1.042194619470996),\n",
       " ('Collision Type_OPPOSITE DIRECTION SIDESWIPE', -0.5935722104788969),\n",
       " ('Collision Type_SAME DIR BOTH LEFT TURN', 2.9250665562398206),\n",
       " ('Collision Type_SAME DIR REAR END', 1.442061953321955),\n",
       " ('Collision Type_SAME DIR REND LEFT TURN', 1.8572175546048175),\n",
       " ('Collision Type_SAME DIR REND RIGHT TURN', -0.0033405897626106306),\n",
       " ('Collision Type_SAME DIRECTION LEFT TURN', 0.22945388607166362),\n",
       " ('Collision Type_SAME DIRECTION RIGHT TURN', 0.7071807325504407),\n",
       " ('Collision Type_SAME DIRECTION SIDESWIPE', 2.7811370314627206),\n",
       " ('Collision Type_SINGLE VEHICLE', 0.15902579207364304),\n",
       " ('Collision Type_STRAIGHT MOVEMENT ANGLE', 0.6069060189127644),\n",
       " ('Surface Condition_ICE', -0.7644816202592588),\n",
       " ('Surface Condition_MUD, DIRT, GRAVEL', -0.028409625767017548),\n",
       " ('Surface Condition_OIL', 0.030162451779440203),\n",
       " ('Surface Condition_SAND', -0.005381788717339612),\n",
       " ('Surface Condition_SLUSH', 0.8577364921729975),\n",
       " ('Surface Condition_SNOW', 0.16852759491353866),\n",
       " ('Surface Condition_WATER(STANDING/MOVING)', 0.25726022648796315),\n",
       " ('Surface Condition_WET', 0.23740670983744325),\n",
       " ('Light_DARK LIGHTS ON', 0.12882857661020464),\n",
       " ('Light_DARK NO LIGHTS', 0.1645864904500397),\n",
       " ('Light_DAWN', 0.3867228197044866),\n",
       " ('Light_DAYLIGHT', 0.31228994882468064),\n",
       " ('Light_DUSK', -0.28525463762811054),\n",
       " ('Traffic Control_NO CONTROLS', -0.6575032064181138),\n",
       " ('Traffic Control_PERSON', 0.3827977028814821),\n",
       " ('Traffic Control_RAILWAY CROSSING DEVICE', 0.04912852054336335),\n",
       " ('Traffic Control_SCHOOL ZONE SIGN DEVICE', -0.3841263835711376),\n",
       " ('Traffic Control_STOP SIGN', -0.3830327619648035),\n",
       " ('Traffic Control_TRAFFIC SIGNAL', 0.3137922626500297),\n",
       " ('Traffic Control_WARNING SIGN', -0.18063715746329037),\n",
       " ('Traffic Control_YIELD SIGN', 3.085890746344072),\n",
       " ('Driver Substance Abuse_Yes', 3.95688270823626),\n",
       " ('Driver Distracted By_Yes', 0.23780544900904682),\n",
       " ('Vehicle First Impact Location_ELEVEN OCLOCK', -0.11836845938360949),\n",
       " ('Vehicle First Impact Location_FIVE OCLOCK', 0.0957332086804928),\n",
       " ('Vehicle First Impact Location_FOUR OCLOCK', 0.34089081271353144),\n",
       " ('Vehicle First Impact Location_NINE OCLOCK', 0.5039086481246337),\n",
       " ('Vehicle First Impact Location_NON-COLLISION', 0.8478351583477418),\n",
       " ('Vehicle First Impact Location_ONE OCLOCK', -0.6560164759089363),\n",
       " ('Vehicle First Impact Location_ROOF TOP', -0.2927073073418354),\n",
       " ('Vehicle First Impact Location_SEVEN OCLOCK', -2.9571760548578654),\n",
       " ('Vehicle First Impact Location_SIX OCLOCK', 0.2501166640186465),\n",
       " ('Vehicle First Impact Location_TEN OCLOCK', 0.4001159015047336),\n",
       " ('Vehicle First Impact Location_THREE OCLOCK', 0.6927395413140754),\n",
       " ('Vehicle First Impact Location_TWELVE OCLOCK', 0.6271148980318277),\n",
       " ('Vehicle First Impact Location_TWO OCLOCK', 0.9496065934851255),\n",
       " ('Vehicle First Impact Location_UNDERSIDE', 0.21191361053411015),\n",
       " ('Vehicle Second Impact Location_ELEVEN OCLOCK', 0.5322032569753381),\n",
       " ('Vehicle Second Impact Location_FIVE OCLOCK', 0.8449065030902546),\n",
       " ('Vehicle Second Impact Location_FOUR OCLOCK', -0.09070748362476279),\n",
       " ('Vehicle Second Impact Location_NINE OCLOCK', -0.2926817224126828),\n",
       " ('Vehicle Second Impact Location_NON-COLLISION', 0.03824351666686801),\n",
       " ('Vehicle Second Impact Location_ONE OCLOCK', 0.43250004049586344),\n",
       " ('Vehicle Second Impact Location_ROOF TOP', -0.3550270866335083),\n",
       " ('Vehicle Second Impact Location_SEVEN OCLOCK', -1.1759664666152532),\n",
       " ('Vehicle Second Impact Location_SIX OCLOCK', -0.16498258898866797),\n",
       " ('Vehicle Second Impact Location_TEN OCLOCK', 0.5631039862544235),\n",
       " ('Vehicle Second Impact Location_THREE OCLOCK', 0.40039706198833136),\n",
       " ('Vehicle Second Impact Location_TWELVE OCLOCK', 0.35370343443772606),\n",
       " ('Vehicle Second Impact Location_TWO OCLOCK', 0.33590851031258573),\n",
       " ('Vehicle Second Impact Location_UNDERSIDE', 0.6531778585202642),\n",
       " ('Vehicle Body Type_ALL TERRAIN VEHICLE (ATV)', 0.08201265001450854),\n",
       " ('Vehicle Body Type_AMBULANCE/EMERGENCY', 0.7685115667402334),\n",
       " ('Vehicle Body Type_AMBULANCE/NON EMERGENCY', 0.7448009286002891),\n",
       " ('Vehicle Body Type_AUTOCYCLE', 0.36513857212552225),\n",
       " ('Vehicle Body Type_CARGO VAN/LIGHT TRUCK 2 AXLES (OVER 10,000LBS (4,536 KG))',\n",
       "  -0.4563206135646263),\n",
       " ('Vehicle Body Type_CROSS COUNTRY BUS', -0.22461155981734354),\n",
       " ('Vehicle Body Type_FARM VEHICLE', 0.367603276100164),\n",
       " ('Vehicle Body Type_FIRE VEHICLE/EMERGENCY', 0.5042395194155067),\n",
       " ('Vehicle Body Type_FIRE VEHICLE/NON EMERGENCY', -0.1926726762949208),\n",
       " ('Vehicle Body Type_LIMOUSINE', 0.9515220097492142),\n",
       " ('Vehicle Body Type_LOW SPEED VEHICLE', 0.3486641899879934),\n",
       " ('Vehicle Body Type_MEDIUM/HEAVY TRUCKS 3 AXLES (OVER 10,000LBS (4,536KG))',\n",
       "  -0.46600974700315745),\n",
       " ('Vehicle Body Type_MOPED', -0.30646724060816016),\n",
       " ('Vehicle Body Type_MOTORCYCLE', 0.10346660403279172),\n",
       " ('Vehicle Body Type_OTHER BUS', 0.47085833472546923),\n",
       " ('Vehicle Body Type_OTHER LIGHT TRUCKS (10,000LBS (4,536KG) OR LESS)',\n",
       "  0.0717908160912178),\n",
       " ('Vehicle Body Type_PASSENGER CAR', 0.037936029843447176),\n",
       " ('Vehicle Body Type_PICKUP TRUCK', -0.5785968795196196),\n",
       " ('Vehicle Body Type_POLICE VEHICLE/EMERGENCY', -0.8392358224061038),\n",
       " ('Vehicle Body Type_POLICE VEHICLE/NON EMERGENCY', 0.33136179786045494),\n",
       " ('Vehicle Body Type_RECREATIONAL VEHICLE', 0.34601556604259576),\n",
       " ('Vehicle Body Type_SCHOOL BUS', 0.2578572543679331),\n",
       " ('Vehicle Body Type_SNOWMOBILE', -0.0036676522955468188),\n",
       " ('Vehicle Body Type_STATION WAGON', -0.36363780268491486),\n",
       " ('Vehicle Body Type_TRANSIT BUS', 0.08429866647067444),\n",
       " ('Vehicle Body Type_TRUCK TRACTOR', 0.010076024767145796),\n",
       " ('Vehicle Body Type_VAN', 4.728813672017089),\n",
       " ('Vehicle Movement_BACKING', 2.1326830222300277),\n",
       " ('Vehicle Movement_CHANGING LANES', 0.2680290212427747),\n",
       " ('Vehicle Movement_DRIVERLESS MOVING VEH.', 1.5521166677991596),\n",
       " ('Vehicle Movement_ENTERING TRAFFIC LANE', 0.7300246796431358),\n",
       " ('Vehicle Movement_LEAVING TRAFFIC LANE', 0.9024302651168804),\n",
       " ('Vehicle Movement_MAKING LEFT TURN', 0.4640262485395378),\n",
       " ('Vehicle Movement_MAKING RIGHT TURN', 2.0073746388451013),\n",
       " ('Vehicle Movement_MAKING U TURN', -1.5906888977028817),\n",
       " ('Vehicle Movement_MOVING CONSTANT SPEED', -0.23922563296182037),\n",
       " ('Vehicle Movement_NEGOTIATING A CURVE', -1.869539969406618),\n",
       " ('Vehicle Movement_PARKED', -0.20262812321911755),\n",
       " ('Vehicle Movement_PARKING', 1.6272277975273552),\n",
       " ('Vehicle Movement_PASSING', 1.1653491443890838),\n",
       " ('Vehicle Movement_RIGHT TURN ON RED', 0.5766214115702832),\n",
       " ('Vehicle Movement_SKIDDING', -1.11890252937009),\n",
       " ('Vehicle Movement_SLOWING OR STOPPING', -0.5546298025647034),\n",
       " ('Vehicle Movement_STARTING FROM LANE', -0.220202018326154),\n",
       " ('Vehicle Movement_STARTING FROM PARKED', -3.752051525557381),\n",
       " ('Vehicle Movement_STOPPED IN TRAFFIC LANE', -1.869539969406618)]"
      ]
     },
     "execution_count": 45,
     "metadata": {},
     "output_type": "execute_result"
    }
   ],
   "source": [
    "list(zip(df.columns, logreg.coef_[0]))"
   ]
  },
  {
   "cell_type": "code",
   "execution_count": 46,
   "id": "8be98736",
   "metadata": {},
   "outputs": [],
   "source": [
    "coefs = {entry[0]:entry[1] for entry in list(zip(df.columns, logreg.coef_[0]))}"
   ]
  },
  {
   "cell_type": "code",
   "execution_count": 53,
   "id": "c841604d",
   "metadata": {
    "scrolled": true
   },
   "outputs": [
    {
     "data": {
      "text/plain": [
       "4.728813672017089"
      ]
     },
     "execution_count": 53,
     "metadata": {},
     "output_type": "execute_result"
    }
   ],
   "source": [
    "max(coefs.values())"
   ]
  },
  {
   "cell_type": "code",
   "execution_count": 54,
   "id": "b65b6d43",
   "metadata": {},
   "outputs": [
    {
     "data": {
      "text/plain": [
       "-3.752051525557381"
      ]
     },
     "execution_count": 54,
     "metadata": {},
     "output_type": "execute_result"
    }
   ],
   "source": [
    "min(coefs.values())"
   ]
  },
  {
   "cell_type": "code",
   "execution_count": 61,
   "id": "96065d0c",
   "metadata": {},
   "outputs": [
    {
     "data": {
      "text/plain": [
       "{'Collision Type_OPPOSITE DIR BOTH LEFT TURN': 1.042194619470996,\n",
       " 'Collision Type_SAME DIR BOTH LEFT TURN': 2.9250665562398206,\n",
       " 'Collision Type_SAME DIR REAR END': 1.442061953321955,\n",
       " 'Collision Type_SAME DIR REND LEFT TURN': 1.8572175546048175,\n",
       " 'Collision Type_SAME DIRECTION SIDESWIPE': 2.7811370314627206,\n",
       " 'Traffic Control_YIELD SIGN': 3.085890746344072,\n",
       " 'Driver Substance Abuse_Yes': 3.95688270823626,\n",
       " 'Vehicle Body Type_VAN': 4.728813672017089,\n",
       " 'Vehicle Movement_BACKING': 2.1326830222300277,\n",
       " 'Vehicle Movement_DRIVERLESS MOVING VEH.': 1.5521166677991596,\n",
       " 'Vehicle Movement_MAKING RIGHT TURN': 2.0073746388451013,\n",
       " 'Vehicle Movement_PARKING': 1.6272277975273552,\n",
       " 'Vehicle Movement_PASSING': 1.1653491443890838}"
      ]
     },
     "execution_count": 61,
     "metadata": {},
     "output_type": "execute_result"
    }
   ],
   "source": [
    "strong_positive_coefs = {key:coefs[key]  for key in coefs.keys() if coefs[key] >1}\n",
    "strong_positive_coefs"
   ]
  },
  {
   "cell_type": "code",
   "execution_count": 62,
   "id": "999ee565",
   "metadata": {
    "scrolled": true
   },
   "outputs": [
    {
     "data": {
      "text/plain": [
       "{'Vehicle First Impact Location_SEVEN OCLOCK': -2.9571760548578654,\n",
       " 'Vehicle Second Impact Location_SEVEN OCLOCK': -1.1759664666152532,\n",
       " 'Vehicle Movement_MAKING U TURN': -1.5906888977028817,\n",
       " 'Vehicle Movement_NEGOTIATING A CURVE': -1.869539969406618,\n",
       " 'Vehicle Movement_SKIDDING': -1.11890252937009,\n",
       " 'Vehicle Movement_STARTING FROM PARKED': -3.752051525557381,\n",
       " 'Vehicle Movement_STOPPED IN TRAFFIC LANE': -1.869539969406618}"
      ]
     },
     "execution_count": 62,
     "metadata": {},
     "output_type": "execute_result"
    }
   ],
   "source": [
    "strong_negative_coefs = {key:coefs[key]  for key in coefs.keys() if coefs[key] < -1}\n",
    "strong_negative_coefs"
   ]
  },
  {
   "cell_type": "code",
   "execution_count": 63,
   "id": "ed090ab0",
   "metadata": {},
   "outputs": [
    {
     "data": {
      "text/plain": [
       "{'Collision Type_ANGLE MEETS RIGHT TURN': 0.6242983208532685,\n",
       " 'Collision Type_OPPOSITE DIRECTION SIDESWIPE': -0.5935722104788969,\n",
       " 'Collision Type_SAME DIRECTION RIGHT TURN': 0.7071807325504407,\n",
       " 'Collision Type_STRAIGHT MOVEMENT ANGLE': 0.6069060189127644,\n",
       " 'Surface Condition_ICE': -0.7644816202592588,\n",
       " 'Surface Condition_SLUSH': 0.8577364921729975,\n",
       " 'Traffic Control_NO CONTROLS': -0.6575032064181138,\n",
       " 'Vehicle First Impact Location_NINE OCLOCK': 0.5039086481246337,\n",
       " 'Vehicle First Impact Location_NON-COLLISION': 0.8478351583477418,\n",
       " 'Vehicle First Impact Location_ONE OCLOCK': -0.6560164759089363,\n",
       " 'Vehicle First Impact Location_THREE OCLOCK': 0.6927395413140754,\n",
       " 'Vehicle First Impact Location_TWELVE OCLOCK': 0.6271148980318277,\n",
       " 'Vehicle First Impact Location_TWO OCLOCK': 0.9496065934851255,\n",
       " 'Vehicle Second Impact Location_ELEVEN OCLOCK': 0.5322032569753381,\n",
       " 'Vehicle Second Impact Location_FIVE OCLOCK': 0.8449065030902546,\n",
       " 'Vehicle Second Impact Location_TEN OCLOCK': 0.5631039862544235,\n",
       " 'Vehicle Second Impact Location_UNDERSIDE': 0.6531778585202642,\n",
       " 'Vehicle Body Type_AMBULANCE/EMERGENCY': 0.7685115667402334,\n",
       " 'Vehicle Body Type_AMBULANCE/NON EMERGENCY': 0.7448009286002891,\n",
       " 'Vehicle Body Type_FIRE VEHICLE/EMERGENCY': 0.5042395194155067,\n",
       " 'Vehicle Body Type_LIMOUSINE': 0.9515220097492142,\n",
       " 'Vehicle Body Type_PICKUP TRUCK': -0.5785968795196196,\n",
       " 'Vehicle Body Type_POLICE VEHICLE/EMERGENCY': -0.8392358224061038,\n",
       " 'Vehicle Movement_ENTERING TRAFFIC LANE': 0.7300246796431358,\n",
       " 'Vehicle Movement_LEAVING TRAFFIC LANE': 0.9024302651168804,\n",
       " 'Vehicle Movement_RIGHT TURN ON RED': 0.5766214115702832,\n",
       " 'Vehicle Movement_SLOWING OR STOPPING': -0.5546298025647034}"
      ]
     },
     "execution_count": 63,
     "metadata": {},
     "output_type": "execute_result"
    }
   ],
   "source": [
    "mild_coefs = {key:coefs[key] for key in coefs.keys() if 0.5 < coefs[key]<=1 or -0.5>= coefs[key] > -1 }\n",
    "mild_coefs"
   ]
  },
  {
   "cell_type": "code",
   "execution_count": null,
   "id": "f9c858cf",
   "metadata": {},
   "outputs": [],
   "source": []
  }
 ],
 "metadata": {
  "kernelspec": {
   "display_name": "Python 3",
   "language": "python",
   "name": "python3"
  },
  "language_info": {
   "codemirror_mode": {
    "name": "ipython",
    "version": 3
   },
   "file_extension": ".py",
   "mimetype": "text/x-python",
   "name": "python",
   "nbconvert_exporter": "python",
   "pygments_lexer": "ipython3",
   "version": "3.8.8"
  }
 },
 "nbformat": 4,
 "nbformat_minor": 5
}
