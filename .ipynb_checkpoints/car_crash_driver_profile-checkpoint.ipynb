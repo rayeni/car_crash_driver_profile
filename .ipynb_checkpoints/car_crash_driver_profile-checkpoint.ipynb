{
 "cells": [
  {
   "cell_type": "markdown",
   "id": "07488c1f",
   "metadata": {},
   "source": [
    "# Project 5: Car Crashes in Montgomery County, Maryland"
   ]
  },
  {
   "cell_type": "markdown",
   "id": "dd57c8e2",
   "metadata": {},
   "source": [
    "## Overview"
   ]
  },
  {
   "cell_type": "markdown",
   "id": "d2ac461e",
   "metadata": {},
   "source": [
    "From 2015 to 2019, Montgomery Country averaged approximately 21100 automobile crashes per year.  For the years 2020 and 2021 (January to November), the number of car crashes is 13800.  The sudden drop in crashes is undoubtedly attributable to fewer drivers on the road, because of the pandemic which emerged circa March 2020."
   ]
  },
  {
   "cell_type": "markdown",
   "id": "65cf412a",
   "metadata": {},
   "source": [
    "<img src=\"./images/crash_by_year.png\">"
   ]
  },
  {
   "cell_type": "markdown",
   "id": "c09d3f2c",
   "metadata": {},
   "source": [
    "Montgomery County officials suspect that the average number of crashes will return to pre-pandemic levels once the county (and country) returns to normal.  In fact, despite there being fewer cars on the road, the county (and state) have noticed an [uptick in risky driving such as speeding](https://wtop.com/maryland/2020/10/concerning-uptick-in-drivers-speeds-since-pandemic-shutdown/) The nation has also noticed the [same uptick](https://www.nhtsa.gov/open-letter-driving-public) despite fewer drivers.\n",
    "\n",
    "Montgomery County has asked us to perform a data analysis of their [car crash data](https://data.montgomerycountymd.gov/Public-Safety/Crash-Reporting-Drivers-Data/mmzv-x632) to determine if there are any factors that can be mitigated that will reduce the number of crashes and predict reckless drivers."
   ]
  },
  {
   "cell_type": "markdown",
   "id": "aaed6ffd",
   "metadata": {},
   "source": [
    "## Problem Statement"
   ]
  },
  {
   "cell_type": "markdown",
   "id": "32fe52f4",
   "metadata": {},
   "source": [
    "Can an analysis on Montgomery County crash data yield the following?:\n",
    "\n",
    "> - Insights into which individual _(or combination of)_ factors contribute most to crashes?\n",
    "> - Can features such as speed limit, time of day, surface condition, and time of day be used to classify whether a driver is at fault for an automobile crash? "
   ]
  },
  {
   "cell_type": "markdown",
   "id": "9fedf70a",
   "metadata": {},
   "source": [
    "### Import Libraries"
   ]
  },
  {
   "cell_type": "markdown",
   "id": "5c4ba0f4",
   "metadata": {},
   "source": [
    "- Import libraries"
   ]
  },
  {
   "cell_type": "code",
   "execution_count": 45,
   "id": "1c7388d0",
   "metadata": {
    "ExecuteTime": {
     "end_time": "2021-11-30T05:22:51.873188Z",
     "start_time": "2021-11-30T05:22:51.857557Z"
    }
   },
   "outputs": [],
   "source": [
    "import pandas as pd\n",
    "import numpy as np\n",
    "import matplotlib.pyplot as plt\n",
    "import seaborn as sns\n",
    "\n",
    "pd.set_option('display.max_columns', 50)"
   ]
  },
  {
   "cell_type": "markdown",
   "id": "c44f5e17",
   "metadata": {},
   "source": [
    "### Functions"
   ]
  },
  {
   "cell_type": "code",
   "execution_count": 46,
   "id": "d9d030e7",
   "metadata": {
    "ExecuteTime": {
     "end_time": "2021-11-30T05:22:51.918029Z",
     "start_time": "2021-11-30T05:22:51.873188Z"
    }
   },
   "outputs": [],
   "source": [
    "def categorize(df, feature):\n",
    "    a_list = df[feature].unique().tolist()\n",
    "    if len(a_list) == 2:\n",
    "        a_list.sort()\n",
    "        \n",
    "    a_dict = {}\n",
    "    for i in range(0, len(a_list)):\n",
    "        a_dict[a_list[i]] = i\n",
    "    \n",
    "    df[feature] = df[feature].map(a_dict)\n",
    "    \n",
    "    return df"
   ]
  },
  {
   "cell_type": "markdown",
   "id": "7aa3109a",
   "metadata": {},
   "source": [
    "### Import data"
   ]
  },
  {
   "cell_type": "code",
   "execution_count": 47,
   "id": "9bbe4a27",
   "metadata": {
    "ExecuteTime": {
     "end_time": "2021-11-30T05:23:04.106163Z",
     "start_time": "2021-11-30T05:22:51.920032Z"
    }
   },
   "outputs": [],
   "source": [
    "# Dataframe was added later, for purpose of EDA analysis.  crash_df was created originally and edited for modeling.\n",
    "# Some of its data should have been preserved for EDA.  Instead of restoring data, it is easier to create another\n",
    "# dataframe for EDA analysis only.\n",
    "\n",
    "crash_eda_df = pd.read_csv('./data/crash_reporting_drivers_data.csv', low_memory=False)\n",
    "crash_eda_df['Crash Date/Time'] = pd.to_datetime(crash_eda_df['Crash Date/Time'])"
   ]
  },
  {
   "cell_type": "code",
   "execution_count": 48,
   "id": "03acb35f",
   "metadata": {
    "ExecuteTime": {
     "end_time": "2021-11-30T05:23:16.137085Z",
     "start_time": "2021-11-30T05:23:04.106163Z"
    }
   },
   "outputs": [],
   "source": [
    "crash_df = pd.read_csv('./data/crash_reporting_drivers_data.csv', low_memory=False)\n",
    "crash_df['Crash Date/Time'] = pd.to_datetime(crash_df['Crash Date/Time'])"
   ]
  },
  {
   "cell_type": "code",
   "execution_count": 49,
   "id": "06a7a5cc",
   "metadata": {
    "ExecuteTime": {
     "end_time": "2021-11-30T05:23:16.187147Z",
     "start_time": "2021-11-30T05:23:16.137085Z"
    }
   },
   "outputs": [
    {
     "data": {
      "text/html": [
       "<div>\n",
       "<style scoped>\n",
       "    .dataframe tbody tr th:only-of-type {\n",
       "        vertical-align: middle;\n",
       "    }\n",
       "\n",
       "    .dataframe tbody tr th {\n",
       "        vertical-align: top;\n",
       "    }\n",
       "\n",
       "    .dataframe thead th {\n",
       "        text-align: right;\n",
       "    }\n",
       "</style>\n",
       "<table border=\"1\" class=\"dataframe\">\n",
       "  <thead>\n",
       "    <tr style=\"text-align: right;\">\n",
       "      <th></th>\n",
       "      <th>Report Number</th>\n",
       "      <th>Local Case Number</th>\n",
       "      <th>Agency Name</th>\n",
       "      <th>ACRS Report Type</th>\n",
       "      <th>Crash Date/Time</th>\n",
       "      <th>Route Type</th>\n",
       "      <th>Road Name</th>\n",
       "      <th>Cross-Street Type</th>\n",
       "      <th>Cross-Street Name</th>\n",
       "      <th>Off-Road Description</th>\n",
       "      <th>Municipality</th>\n",
       "      <th>Related Non-Motorist</th>\n",
       "      <th>Collision Type</th>\n",
       "      <th>Weather</th>\n",
       "      <th>Surface Condition</th>\n",
       "      <th>Light</th>\n",
       "      <th>Traffic Control</th>\n",
       "      <th>Driver Substance Abuse</th>\n",
       "      <th>Non-Motorist Substance Abuse</th>\n",
       "      <th>Person ID</th>\n",
       "      <th>Driver At Fault</th>\n",
       "      <th>Injury Severity</th>\n",
       "      <th>Circumstance</th>\n",
       "      <th>Driver Distracted By</th>\n",
       "      <th>Drivers License State</th>\n",
       "      <th>Vehicle ID</th>\n",
       "      <th>Vehicle Damage Extent</th>\n",
       "      <th>Vehicle First Impact Location</th>\n",
       "      <th>Vehicle Second Impact Location</th>\n",
       "      <th>Vehicle Body Type</th>\n",
       "      <th>Vehicle Movement</th>\n",
       "      <th>Vehicle Continuing Dir</th>\n",
       "      <th>Vehicle Going Dir</th>\n",
       "      <th>Speed Limit</th>\n",
       "      <th>Driverless Vehicle</th>\n",
       "      <th>Parked Vehicle</th>\n",
       "      <th>Vehicle Year</th>\n",
       "      <th>Vehicle Make</th>\n",
       "      <th>Vehicle Model</th>\n",
       "      <th>Equipment Problems</th>\n",
       "      <th>Latitude</th>\n",
       "      <th>Longitude</th>\n",
       "      <th>Location</th>\n",
       "    </tr>\n",
       "  </thead>\n",
       "  <tbody>\n",
       "    <tr>\n",
       "      <th>0</th>\n",
       "      <td>DD5620004G</td>\n",
       "      <td>190046109</td>\n",
       "      <td>Rockville Police Departme</td>\n",
       "      <td>Property Damage Crash</td>\n",
       "      <td>2019-09-26 07:20:00</td>\n",
       "      <td>NaN</td>\n",
       "      <td>NaN</td>\n",
       "      <td>NaN</td>\n",
       "      <td>NaN</td>\n",
       "      <td>PARKING LOT</td>\n",
       "      <td>NaN</td>\n",
       "      <td>NaN</td>\n",
       "      <td>SINGLE VEHICLE</td>\n",
       "      <td>CLEAR</td>\n",
       "      <td>NaN</td>\n",
       "      <td>DAYLIGHT</td>\n",
       "      <td>NaN</td>\n",
       "      <td>NONE DETECTED</td>\n",
       "      <td>NaN</td>\n",
       "      <td>6558DDB6-C713-4B50-9CDD-4A265FE507B9</td>\n",
       "      <td>Yes</td>\n",
       "      <td>NO APPARENT INJURY</td>\n",
       "      <td>NaN</td>\n",
       "      <td>NOT DISTRACTED</td>\n",
       "      <td>MD</td>\n",
       "      <td>940390C5-2D67-4B95-BCE3-FDF38AA42ECD</td>\n",
       "      <td>SUPERFICIAL</td>\n",
       "      <td>TWELVE OCLOCK</td>\n",
       "      <td>TWELVE OCLOCK</td>\n",
       "      <td>SCHOOL BUS</td>\n",
       "      <td>OTHER</td>\n",
       "      <td>South</td>\n",
       "      <td>South</td>\n",
       "      <td>15</td>\n",
       "      <td>No</td>\n",
       "      <td>No</td>\n",
       "      <td>2017</td>\n",
       "      <td>THOMAS</td>\n",
       "      <td>BUS</td>\n",
       "      <td>NO MISUSE</td>\n",
       "      <td>39.103518</td>\n",
       "      <td>-77.157669</td>\n",
       "      <td>(39.10351817, -77.15766933)</td>\n",
       "    </tr>\n",
       "    <tr>\n",
       "      <th>1</th>\n",
       "      <td>MCP29620057</td>\n",
       "      <td>200023865</td>\n",
       "      <td>Montgomery County Police</td>\n",
       "      <td>Property Damage Crash</td>\n",
       "      <td>2020-06-18 02:00:00</td>\n",
       "      <td>County</td>\n",
       "      <td>DAIRYMAID DR</td>\n",
       "      <td>County</td>\n",
       "      <td>METZ DR</td>\n",
       "      <td>NaN</td>\n",
       "      <td>NaN</td>\n",
       "      <td>NaN</td>\n",
       "      <td>OTHER</td>\n",
       "      <td>CLOUDY</td>\n",
       "      <td>DRY</td>\n",
       "      <td>UNKNOWN</td>\n",
       "      <td>NaN</td>\n",
       "      <td>UNKNOWN</td>\n",
       "      <td>NaN</td>\n",
       "      <td>7A8F59F9-9886-4D41-B72C-0043BC462A05</td>\n",
       "      <td>Yes</td>\n",
       "      <td>NO APPARENT INJURY</td>\n",
       "      <td>NaN</td>\n",
       "      <td>UNKNOWN</td>\n",
       "      <td>XX</td>\n",
       "      <td>796D6E97-FC6F-4CB5-BCC0-E77F10D6220D</td>\n",
       "      <td>UNKNOWN</td>\n",
       "      <td>UNKNOWN</td>\n",
       "      <td>UNKNOWN</td>\n",
       "      <td>UNKNOWN</td>\n",
       "      <td>UNKNOWN</td>\n",
       "      <td>Unknown</td>\n",
       "      <td>Unknown</td>\n",
       "      <td>35</td>\n",
       "      <td>No</td>\n",
       "      <td>No</td>\n",
       "      <td>2020</td>\n",
       "      <td>UNK</td>\n",
       "      <td>UNK</td>\n",
       "      <td>UNKNOWN</td>\n",
       "      <td>39.154847</td>\n",
       "      <td>-77.271245</td>\n",
       "      <td>(39.15484667, -77.271245)</td>\n",
       "    </tr>\n",
       "    <tr>\n",
       "      <th>2</th>\n",
       "      <td>MCP3050004K</td>\n",
       "      <td>200016465</td>\n",
       "      <td>Montgomery County Police</td>\n",
       "      <td>Property Damage Crash</td>\n",
       "      <td>2020-04-19 15:39:00</td>\n",
       "      <td>County</td>\n",
       "      <td>RUSSETT RD</td>\n",
       "      <td>County</td>\n",
       "      <td>ARCTIC AVE</td>\n",
       "      <td>NaN</td>\n",
       "      <td>NaN</td>\n",
       "      <td>NaN</td>\n",
       "      <td>OTHER</td>\n",
       "      <td>CLEAR</td>\n",
       "      <td>DRY</td>\n",
       "      <td>DAYLIGHT</td>\n",
       "      <td>NO CONTROLS</td>\n",
       "      <td>ALCOHOL PRESENT</td>\n",
       "      <td>NaN</td>\n",
       "      <td>193D33B6-4BAB-4A82-A4E7-CE35BA3B28F1</td>\n",
       "      <td>Yes</td>\n",
       "      <td>NO APPARENT INJURY</td>\n",
       "      <td>NaN</td>\n",
       "      <td>UNKNOWN</td>\n",
       "      <td>MD</td>\n",
       "      <td>06DEBB17-3C98-421B-A368-8578A48773B2</td>\n",
       "      <td>DISABLING</td>\n",
       "      <td>TWELVE OCLOCK</td>\n",
       "      <td>FOUR OCLOCK</td>\n",
       "      <td>VAN</td>\n",
       "      <td>ACCELERATING</td>\n",
       "      <td>East</td>\n",
       "      <td>East</td>\n",
       "      <td>25</td>\n",
       "      <td>No</td>\n",
       "      <td>No</td>\n",
       "      <td>2004</td>\n",
       "      <td>DODGE</td>\n",
       "      <td>GRAND CARAVAN</td>\n",
       "      <td>NO MISUSE</td>\n",
       "      <td>39.080062</td>\n",
       "      <td>-77.097845</td>\n",
       "      <td>(39.08006167, -77.097845)</td>\n",
       "    </tr>\n",
       "    <tr>\n",
       "      <th>3</th>\n",
       "      <td>MCP2641001J</td>\n",
       "      <td>200016526</td>\n",
       "      <td>Montgomery County Police</td>\n",
       "      <td>Injury Crash</td>\n",
       "      <td>2020-04-20 09:15:00</td>\n",
       "      <td>County</td>\n",
       "      <td>ARCHDALE RD</td>\n",
       "      <td>County</td>\n",
       "      <td>GUNNERS BRANCH RD</td>\n",
       "      <td>NaN</td>\n",
       "      <td>NaN</td>\n",
       "      <td>NaN</td>\n",
       "      <td>OTHER</td>\n",
       "      <td>CLOUDY</td>\n",
       "      <td>DRY</td>\n",
       "      <td>DAYLIGHT</td>\n",
       "      <td>NO CONTROLS</td>\n",
       "      <td>NONE DETECTED</td>\n",
       "      <td>NaN</td>\n",
       "      <td>5E259E14-1216-4388-87FB-925035107021</td>\n",
       "      <td>Yes</td>\n",
       "      <td>POSSIBLE INJURY</td>\n",
       "      <td>NaN</td>\n",
       "      <td>UNKNOWN</td>\n",
       "      <td>MD</td>\n",
       "      <td>5146C181-7BFF-41CB-ADB8-8AFECD67FCD1</td>\n",
       "      <td>DISABLING</td>\n",
       "      <td>ELEVEN OCLOCK</td>\n",
       "      <td>ELEVEN OCLOCK</td>\n",
       "      <td>PASSENGER CAR</td>\n",
       "      <td>UNKNOWN</td>\n",
       "      <td>North</td>\n",
       "      <td>North</td>\n",
       "      <td>25</td>\n",
       "      <td>No</td>\n",
       "      <td>No</td>\n",
       "      <td>2006</td>\n",
       "      <td>HONDA</td>\n",
       "      <td>CR-V</td>\n",
       "      <td>UNKNOWN</td>\n",
       "      <td>39.175230</td>\n",
       "      <td>-77.241090</td>\n",
       "      <td>(39.17523, -77.24109)</td>\n",
       "    </tr>\n",
       "    <tr>\n",
       "      <th>4</th>\n",
       "      <td>MCP27100039</td>\n",
       "      <td>200016305</td>\n",
       "      <td>Montgomery County Police</td>\n",
       "      <td>Property Damage Crash</td>\n",
       "      <td>2020-04-17 17:00:00</td>\n",
       "      <td>Municipality</td>\n",
       "      <td>E DIAMOND AVE</td>\n",
       "      <td>Municipality</td>\n",
       "      <td>S SUMMIT AVE</td>\n",
       "      <td>NaN</td>\n",
       "      <td>GAITHERSBURG</td>\n",
       "      <td>NaN</td>\n",
       "      <td>SAME DIR REAR END</td>\n",
       "      <td>NaN</td>\n",
       "      <td>DRY</td>\n",
       "      <td>DAYLIGHT</td>\n",
       "      <td>STOP SIGN</td>\n",
       "      <td>NONE DETECTED</td>\n",
       "      <td>NaN</td>\n",
       "      <td>0F7ECAF5-441D-44C3-B48F-7B00DCCAD53D</td>\n",
       "      <td>No</td>\n",
       "      <td>NO APPARENT INJURY</td>\n",
       "      <td>NaN</td>\n",
       "      <td>NOT DISTRACTED</td>\n",
       "      <td>MD</td>\n",
       "      <td>828900BA-816A-4464-8DD3-2291E72DD1FC</td>\n",
       "      <td>SUPERFICIAL</td>\n",
       "      <td>SIX OCLOCK</td>\n",
       "      <td>SIX OCLOCK</td>\n",
       "      <td>PASSENGER CAR</td>\n",
       "      <td>STOPPED IN TRAFFIC LANE</td>\n",
       "      <td>North</td>\n",
       "      <td>North</td>\n",
       "      <td>25</td>\n",
       "      <td>No</td>\n",
       "      <td>No</td>\n",
       "      <td>2011</td>\n",
       "      <td>TOYOTA</td>\n",
       "      <td>4S</td>\n",
       "      <td>NaN</td>\n",
       "      <td>39.140555</td>\n",
       "      <td>-77.193347</td>\n",
       "      <td>(39.140555, -77.19334667)</td>\n",
       "    </tr>\n",
       "  </tbody>\n",
       "</table>\n",
       "</div>"
      ],
      "text/plain": [
       "  Report Number Local Case Number                Agency Name  \\\n",
       "0    DD5620004G         190046109  Rockville Police Departme   \n",
       "1   MCP29620057         200023865   Montgomery County Police   \n",
       "2   MCP3050004K         200016465   Montgomery County Police   \n",
       "3   MCP2641001J         200016526   Montgomery County Police   \n",
       "4   MCP27100039         200016305   Montgomery County Police   \n",
       "\n",
       "        ACRS Report Type     Crash Date/Time    Route Type      Road Name  \\\n",
       "0  Property Damage Crash 2019-09-26 07:20:00           NaN            NaN   \n",
       "1  Property Damage Crash 2020-06-18 02:00:00        County   DAIRYMAID DR   \n",
       "2  Property Damage Crash 2020-04-19 15:39:00        County     RUSSETT RD   \n",
       "3           Injury Crash 2020-04-20 09:15:00        County    ARCHDALE RD   \n",
       "4  Property Damage Crash 2020-04-17 17:00:00  Municipality  E DIAMOND AVE   \n",
       "\n",
       "  Cross-Street Type  Cross-Street Name Off-Road Description  Municipality  \\\n",
       "0               NaN                NaN          PARKING LOT           NaN   \n",
       "1            County            METZ DR                  NaN           NaN   \n",
       "2            County         ARCTIC AVE                  NaN           NaN   \n",
       "3            County  GUNNERS BRANCH RD                  NaN           NaN   \n",
       "4      Municipality       S SUMMIT AVE                  NaN  GAITHERSBURG   \n",
       "\n",
       "  Related Non-Motorist     Collision Type Weather Surface Condition     Light  \\\n",
       "0                  NaN     SINGLE VEHICLE   CLEAR               NaN  DAYLIGHT   \n",
       "1                  NaN              OTHER  CLOUDY               DRY   UNKNOWN   \n",
       "2                  NaN              OTHER   CLEAR               DRY  DAYLIGHT   \n",
       "3                  NaN              OTHER  CLOUDY               DRY  DAYLIGHT   \n",
       "4                  NaN  SAME DIR REAR END     NaN               DRY  DAYLIGHT   \n",
       "\n",
       "  Traffic Control Driver Substance Abuse Non-Motorist Substance Abuse  \\\n",
       "0             NaN          NONE DETECTED                          NaN   \n",
       "1             NaN                UNKNOWN                          NaN   \n",
       "2     NO CONTROLS        ALCOHOL PRESENT                          NaN   \n",
       "3     NO CONTROLS          NONE DETECTED                          NaN   \n",
       "4       STOP SIGN          NONE DETECTED                          NaN   \n",
       "\n",
       "                              Person ID Driver At Fault     Injury Severity  \\\n",
       "0  6558DDB6-C713-4B50-9CDD-4A265FE507B9             Yes  NO APPARENT INJURY   \n",
       "1  7A8F59F9-9886-4D41-B72C-0043BC462A05             Yes  NO APPARENT INJURY   \n",
       "2  193D33B6-4BAB-4A82-A4E7-CE35BA3B28F1             Yes  NO APPARENT INJURY   \n",
       "3  5E259E14-1216-4388-87FB-925035107021             Yes     POSSIBLE INJURY   \n",
       "4  0F7ECAF5-441D-44C3-B48F-7B00DCCAD53D              No  NO APPARENT INJURY   \n",
       "\n",
       "  Circumstance Driver Distracted By Drivers License State  \\\n",
       "0          NaN       NOT DISTRACTED                    MD   \n",
       "1          NaN              UNKNOWN                    XX   \n",
       "2          NaN              UNKNOWN                    MD   \n",
       "3          NaN              UNKNOWN                    MD   \n",
       "4          NaN       NOT DISTRACTED                    MD   \n",
       "\n",
       "                             Vehicle ID Vehicle Damage Extent  \\\n",
       "0  940390C5-2D67-4B95-BCE3-FDF38AA42ECD           SUPERFICIAL   \n",
       "1  796D6E97-FC6F-4CB5-BCC0-E77F10D6220D               UNKNOWN   \n",
       "2  06DEBB17-3C98-421B-A368-8578A48773B2             DISABLING   \n",
       "3  5146C181-7BFF-41CB-ADB8-8AFECD67FCD1             DISABLING   \n",
       "4  828900BA-816A-4464-8DD3-2291E72DD1FC           SUPERFICIAL   \n",
       "\n",
       "  Vehicle First Impact Location Vehicle Second Impact Location  \\\n",
       "0                 TWELVE OCLOCK                  TWELVE OCLOCK   \n",
       "1                       UNKNOWN                        UNKNOWN   \n",
       "2                 TWELVE OCLOCK                    FOUR OCLOCK   \n",
       "3                 ELEVEN OCLOCK                  ELEVEN OCLOCK   \n",
       "4                    SIX OCLOCK                     SIX OCLOCK   \n",
       "\n",
       "  Vehicle Body Type         Vehicle Movement Vehicle Continuing Dir  \\\n",
       "0        SCHOOL BUS                    OTHER                  South   \n",
       "1           UNKNOWN                  UNKNOWN                Unknown   \n",
       "2               VAN             ACCELERATING                   East   \n",
       "3     PASSENGER CAR                  UNKNOWN                  North   \n",
       "4     PASSENGER CAR  STOPPED IN TRAFFIC LANE                  North   \n",
       "\n",
       "  Vehicle Going Dir  Speed Limit Driverless Vehicle Parked Vehicle  \\\n",
       "0             South           15                 No             No   \n",
       "1           Unknown           35                 No             No   \n",
       "2              East           25                 No             No   \n",
       "3             North           25                 No             No   \n",
       "4             North           25                 No             No   \n",
       "\n",
       "   Vehicle Year Vehicle Make  Vehicle Model Equipment Problems   Latitude  \\\n",
       "0          2017       THOMAS            BUS          NO MISUSE  39.103518   \n",
       "1          2020          UNK            UNK            UNKNOWN  39.154847   \n",
       "2          2004        DODGE  GRAND CARAVAN          NO MISUSE  39.080062   \n",
       "3          2006        HONDA           CR-V            UNKNOWN  39.175230   \n",
       "4          2011       TOYOTA             4S                NaN  39.140555   \n",
       "\n",
       "   Longitude                     Location  \n",
       "0 -77.157669  (39.10351817, -77.15766933)  \n",
       "1 -77.271245    (39.15484667, -77.271245)  \n",
       "2 -77.097845    (39.08006167, -77.097845)  \n",
       "3 -77.241090        (39.17523, -77.24109)  \n",
       "4 -77.193347    (39.140555, -77.19334667)  "
      ]
     },
     "execution_count": 49,
     "metadata": {},
     "output_type": "execute_result"
    }
   ],
   "source": [
    "crash_df.head()"
   ]
  },
  {
   "cell_type": "markdown",
   "id": "59dd9097",
   "metadata": {},
   "source": [
    "- Check shape"
   ]
  },
  {
   "cell_type": "code",
   "execution_count": 50,
   "id": "45c65d5e",
   "metadata": {
    "ExecuteTime": {
     "end_time": "2021-11-30T05:23:16.202289Z",
     "start_time": "2021-11-30T05:23:16.189294Z"
    }
   },
   "outputs": [
    {
     "data": {
      "text/plain": [
       "(133206, 43)"
      ]
     },
     "execution_count": 50,
     "metadata": {},
     "output_type": "execute_result"
    }
   ],
   "source": [
    "crash_df.shape"
   ]
  },
  {
   "cell_type": "markdown",
   "id": "7d7c6d95",
   "metadata": {},
   "source": [
    "## Data Cleaning"
   ]
  },
  {
   "cell_type": "markdown",
   "id": "8add9d37",
   "metadata": {},
   "source": [
    "- Check for nulls"
   ]
  },
  {
   "cell_type": "code",
   "execution_count": 51,
   "id": "bce89a2f",
   "metadata": {
    "ExecuteTime": {
     "end_time": "2021-11-30T05:23:16.465451Z",
     "start_time": "2021-11-30T05:23:16.204292Z"
    },
    "scrolled": true
   },
   "outputs": [
    {
     "data": {
      "text/plain": [
       "Report Number                          0\n",
       "Local Case Number                      0\n",
       "Agency Name                            0\n",
       "ACRS Report Type                       0\n",
       "Crash Date/Time                        0\n",
       "Route Type                         13007\n",
       "Road Name                          12319\n",
       "Cross-Street Type                  13018\n",
       "Cross-Street Name                  12324\n",
       "Off-Road Description              120888\n",
       "Municipality                      118553\n",
       "Related Non-Motorist              129063\n",
       "Collision Type                       439\n",
       "Weather                            10479\n",
       "Surface Condition                  15697\n",
       "Light                               1122\n",
       "Traffic Control                    20692\n",
       "Driver Substance Abuse             24277\n",
       "Non-Motorist Substance Abuse      129925\n",
       "Person ID                              0\n",
       "Driver At Fault                        0\n",
       "Injury Severity                        0\n",
       "Circumstance                      108076\n",
       "Driver Distracted By                   0\n",
       "Drivers License State               6858\n",
       "Vehicle ID                             0\n",
       "Vehicle Damage Extent                240\n",
       "Vehicle First Impact Location        156\n",
       "Vehicle Second Impact Location       256\n",
       "Vehicle Body Type                   1962\n",
       "Vehicle Movement                     276\n",
       "Vehicle Continuing Dir              2024\n",
       "Vehicle Going Dir                   2024\n",
       "Speed Limit                            0\n",
       "Driverless Vehicle                     0\n",
       "Parked Vehicle                         0\n",
       "Vehicle Year                           0\n",
       "Vehicle Make                          22\n",
       "Vehicle Model                         56\n",
       "Equipment Problems                 28297\n",
       "Latitude                               0\n",
       "Longitude                              0\n",
       "Location                               0\n",
       "dtype: int64"
      ]
     },
     "execution_count": 51,
     "metadata": {},
     "output_type": "execute_result"
    }
   ],
   "source": [
    "crash_df.isnull().sum()"
   ]
  },
  {
   "cell_type": "markdown",
   "id": "762ca42a",
   "metadata": {},
   "source": [
    "#### Reasoning for dropping columns with <span style=\"background-color:#ffff00;\">null count over 100,000</span>"
   ]
  },
  {
   "cell_type": "markdown",
   "id": "b34caf08",
   "metadata": {},
   "source": [
    "- `Circumstances`: This column has <span style=\"background-color:#ffff00;\">108076 null values, accounting for 81% of the records</span>.  We cannot simply drop the rows associated with this column.  Since `Surface Conditions` and `Weather` essentially capture the same data _(e.g., DRY, WET, DIRT, SLUSH, OIL, etc)_, we can safely drop this column."
   ]
  },
  {
   "cell_type": "markdown",
   "id": "dc95d285",
   "metadata": {},
   "source": [
    "- `Off-Road Description`: off-road description doesn't offer much information, because crashed happed on-road.\n",
    "- `Municipality`: Municipality doesn't influence whether driver was/was not at fault.\n",
    "- `Related Non-Motorist`: This variable could offer some insight, but not enough do delete all row where its value is missing.\n",
    "- `Non-Motorist Substance Abuse`: This variable could offer some insight, but not enough do delete all row where its value is missing."
   ]
  },
  {
   "cell_type": "code",
   "execution_count": 52,
   "id": "182c57db",
   "metadata": {
    "ExecuteTime": {
     "end_time": "2021-11-30T05:23:16.528656Z",
     "start_time": "2021-11-30T05:23:16.468492Z"
    }
   },
   "outputs": [],
   "source": [
    "crash_df.drop(columns = [\n",
    "                        'Circumstance', \n",
    "                        'Off-Road Description', \n",
    "                        'Municipality', \n",
    "                        'Related Non-Motorist', \n",
    "                        'Non-Motorist Substance Abuse'\n",
    "                        ],\n",
    "            inplace = True)"
   ]
  },
  {
   "cell_type": "markdown",
   "id": "923baf20",
   "metadata": {},
   "source": [
    "#### Reasoning for dropping other columns <span style=\"background-color:#ffff00;\">nulls</span> and non-nulls"
   ]
  },
  {
   "cell_type": "markdown",
   "id": "492b463b",
   "metadata": {},
   "source": [
    "- `Report Number`\n",
    "- `Local Case Number`\n",
    "- `Agency Name`\n",
    "- `ACRS Report Type`\n",
    "\n",
    "These columns contain administrative data that contributes nothting to intended analysis."
   ]
  },
  {
   "cell_type": "code",
   "execution_count": 53,
   "id": "4fb2870e",
   "metadata": {
    "ExecuteTime": {
     "end_time": "2021-11-30T05:23:16.590503Z",
     "start_time": "2021-11-30T05:23:16.530800Z"
    }
   },
   "outputs": [],
   "source": [
    "crash_df.drop(columns = [\n",
    "                        'Report Number', \n",
    "                        'Local Case Number', \n",
    "                        'Agency Name', \n",
    "                        'ACRS Report Type'\n",
    "                        ],\n",
    "            inplace = True)"
   ]
  },
  {
   "cell_type": "markdown",
   "id": "29d7e261",
   "metadata": {},
   "source": [
    "- `Route Type`\n",
    "- `Road Name`\n",
    "- `Cross-Street Type`\n",
    "- `Cross-Street Name`\n",
    "- `Vehicle Continuing Dir`\n",
    "- `Vehicle Going Dir`\n",
    "- `Drivers License State`\n",
    "\n",
    "These features have a high number of null, but, yet, contributes nothing to whether a driver is at fault."
   ]
  },
  {
   "cell_type": "code",
   "execution_count": 54,
   "id": "e036c589",
   "metadata": {
    "ExecuteTime": {
     "end_time": "2021-11-30T05:23:16.652333Z",
     "start_time": "2021-11-30T05:23:16.592633Z"
    }
   },
   "outputs": [],
   "source": [
    "crash_df.drop(columns = [\n",
    "                        'Route Type', \n",
    "                        'Road Name', \n",
    "                        'Cross-Street Type',\n",
    "                        'Cross-Street Name',\n",
    "                        'Vehicle Continuing Dir',\n",
    "                        'Vehicle Going Dir',\n",
    "                        'Drivers License State'\n",
    "                        ],\n",
    "            inplace = True)"
   ]
  },
  {
   "cell_type": "markdown",
   "id": "5f96a687",
   "metadata": {},
   "source": [
    "- `Equipment Problems`\n",
    "\n",
    "```crash_df['Equipment Problems'].value_counts(normalize=True)``` show that **70%** of values are `NO MISUSE` (including NaN), and **89%** (when NaN is excluded).  Further, the other categories (AIR BAG FAILED, BELTS MISUSED, etc) doesn't determine if driver is/is not at fault."
   ]
  },
  {
   "cell_type": "code",
   "execution_count": 55,
   "id": "88a9f8c8",
   "metadata": {
    "ExecuteTime": {
     "end_time": "2021-11-30T05:23:16.701186Z",
     "start_time": "2021-11-30T05:23:16.654336Z"
    }
   },
   "outputs": [],
   "source": [
    "crash_df.drop(columns = ['Equipment Problems'], inplace = True)"
   ]
  },
  {
   "cell_type": "markdown",
   "id": "f865b8a6",
   "metadata": {},
   "source": [
    "- `Person ID`: does not contribute in determining fault\n",
    "- `Vehicle ID`: does not contribute in determining fault\n",
    "- `Driverless Vehicle`: No: 132611, Unknown: 525\n",
    "- `Vehicle Year`: does not contribute in determining fault\n",
    "- `Vehicle Make`: `Vehicle Body Type` is more general information\n",
    "- `Vehicle Model`: `Vehicle Body Type` is more general information\n",
    "- `Latitude`: part of `Location` feature\n",
    "- `Longitude`: part of `Location` feature\n",
    "- `Location`: dummifying will yield high number of features\n",
    "- `Injury Severity`: does not contribute in determining fault\n",
    "- `Vehicle Damage Extent`: does not contribute in determining fault"
   ]
  },
  {
   "cell_type": "code",
   "execution_count": 56,
   "id": "006a7e1a",
   "metadata": {
    "ExecuteTime": {
     "end_time": "2021-11-30T05:23:16.747046Z",
     "start_time": "2021-11-30T05:23:16.703192Z"
    }
   },
   "outputs": [],
   "source": [
    "crash_df.drop(columns = [\n",
    "                        'Person ID',\n",
    "                        'Vehicle ID',\n",
    "                        'Driverless Vehicle',\n",
    "                        'Vehicle Year',\n",
    "                        'Vehicle Make',\n",
    "                        'Vehicle Model',\n",
    "                        'Latitude',\n",
    "                        'Longitude',\n",
    "                        'Location',\n",
    "                        'Injury Severity',\n",
    "                        'Vehicle Damage Extent'],\n",
    "            inplace = True)"
   ]
  },
  {
   "cell_type": "code",
   "execution_count": 57,
   "id": "2e4a66fd",
   "metadata": {
    "ExecuteTime": {
     "end_time": "2021-11-30T05:23:16.841839Z",
     "start_time": "2021-11-30T05:23:16.749046Z"
    },
    "scrolled": false
   },
   "outputs": [
    {
     "data": {
      "text/plain": [
       "Crash Date/Time                       0\n",
       "Collision Type                      439\n",
       "Weather                           10479\n",
       "Surface Condition                 15697\n",
       "Light                              1122\n",
       "Traffic Control                   20692\n",
       "Driver Substance Abuse            24277\n",
       "Driver At Fault                       0\n",
       "Driver Distracted By                  0\n",
       "Vehicle First Impact Location       156\n",
       "Vehicle Second Impact Location      256\n",
       "Vehicle Body Type                  1962\n",
       "Vehicle Movement                    276\n",
       "Speed Limit                           0\n",
       "Parked Vehicle                        0\n",
       "dtype: int64"
      ]
     },
     "execution_count": 57,
     "metadata": {},
     "output_type": "execute_result"
    }
   ],
   "source": [
    "crash_df.isnull().sum()"
   ]
  },
  {
   "cell_type": "markdown",
   "id": "d353bcd6",
   "metadata": {},
   "source": [
    "- `Weather` and `Surface Condition`\n",
    "\n",
    "Based on common sense, these two features are highly correlated.  `Surface Condition` is more germane. So, we should drop `Weather`."
   ]
  },
  {
   "cell_type": "code",
   "execution_count": 58,
   "id": "caf68765",
   "metadata": {
    "ExecuteTime": {
     "end_time": "2021-11-30T05:23:16.873540Z",
     "start_time": "2021-11-30T05:23:16.843843Z"
    }
   },
   "outputs": [],
   "source": [
    "crash_df.drop(columns = ['Weather'], inplace = True)"
   ]
  },
  {
   "cell_type": "markdown",
   "id": "1483bb61",
   "metadata": {},
   "source": [
    "#### Categorize `Crash Date/Time`\n",
    "\n",
    "There may be a relationship between fault and time of day crash occurred.  Later, if this is not the case, then we can delete this feature."
   ]
  },
  {
   "cell_type": "markdown",
   "id": "fa0fd810",
   "metadata": {},
   "source": [
    "- Categorize 'Crash Date/Time'"
   ]
  },
  {
   "cell_type": "code",
   "execution_count": 59,
   "id": "a61080b6",
   "metadata": {
    "ExecuteTime": {
     "end_time": "2021-11-30T05:23:16.934176Z",
     "start_time": "2021-11-30T05:23:16.874757Z"
    }
   },
   "outputs": [],
   "source": [
    "# Idea borrowed from https://stackoverflow.com/a/59577864\n",
    "crash_df['Crash Time of Day'] = (crash_df['Crash Date/Time'].dt.hour % 24 + 4) // 4\n",
    "crash_df['Crash Time of Day'].replace({1: 'Late Night',\n",
    "                      2: 'Early Morning',\n",
    "                      3: 'Morning',\n",
    "                      4: 'Noon',\n",
    "                      5: 'Evening',\n",
    "                      6: 'Night'}, inplace=True)"
   ]
  },
  {
   "cell_type": "markdown",
   "id": "a8f4f513",
   "metadata": {},
   "source": [
    "- Move new column `Crash Time of Day` to first position"
   ]
  },
  {
   "cell_type": "code",
   "execution_count": 60,
   "id": "dbbf52cf",
   "metadata": {
    "ExecuteTime": {
     "end_time": "2021-11-30T05:23:16.949171Z",
     "start_time": "2021-11-30T05:23:16.936174Z"
    }
   },
   "outputs": [],
   "source": [
    "# Idea borrowed from https://www.geeksforgeeks.org/how-to-move-a-column-to-first-position-in-pandas-dataframe/\n",
    "first_column = crash_df.pop('Crash Time of Day')\n",
    "crash_df.insert(0, 'Crash Time of Day', first_column)"
   ]
  },
  {
   "cell_type": "code",
   "execution_count": 61,
   "id": "79175ebb",
   "metadata": {
    "ExecuteTime": {
     "end_time": "2021-11-30T05:23:16.980290Z",
     "start_time": "2021-11-30T05:23:16.951177Z"
    }
   },
   "outputs": [
    {
     "data": {
      "text/html": [
       "<div>\n",
       "<style scoped>\n",
       "    .dataframe tbody tr th:only-of-type {\n",
       "        vertical-align: middle;\n",
       "    }\n",
       "\n",
       "    .dataframe tbody tr th {\n",
       "        vertical-align: top;\n",
       "    }\n",
       "\n",
       "    .dataframe thead th {\n",
       "        text-align: right;\n",
       "    }\n",
       "</style>\n",
       "<table border=\"1\" class=\"dataframe\">\n",
       "  <thead>\n",
       "    <tr style=\"text-align: right;\">\n",
       "      <th></th>\n",
       "      <th>Crash Time of Day</th>\n",
       "      <th>Crash Date/Time</th>\n",
       "      <th>Collision Type</th>\n",
       "      <th>Surface Condition</th>\n",
       "      <th>Light</th>\n",
       "      <th>Traffic Control</th>\n",
       "      <th>Driver Substance Abuse</th>\n",
       "      <th>Driver At Fault</th>\n",
       "      <th>Driver Distracted By</th>\n",
       "      <th>Vehicle First Impact Location</th>\n",
       "      <th>Vehicle Second Impact Location</th>\n",
       "      <th>Vehicle Body Type</th>\n",
       "      <th>Vehicle Movement</th>\n",
       "      <th>Speed Limit</th>\n",
       "      <th>Parked Vehicle</th>\n",
       "    </tr>\n",
       "  </thead>\n",
       "  <tbody>\n",
       "    <tr>\n",
       "      <th>0</th>\n",
       "      <td>Early Morning</td>\n",
       "      <td>2019-09-26 07:20:00</td>\n",
       "      <td>SINGLE VEHICLE</td>\n",
       "      <td>NaN</td>\n",
       "      <td>DAYLIGHT</td>\n",
       "      <td>NaN</td>\n",
       "      <td>NONE DETECTED</td>\n",
       "      <td>Yes</td>\n",
       "      <td>NOT DISTRACTED</td>\n",
       "      <td>TWELVE OCLOCK</td>\n",
       "      <td>TWELVE OCLOCK</td>\n",
       "      <td>SCHOOL BUS</td>\n",
       "      <td>OTHER</td>\n",
       "      <td>15</td>\n",
       "      <td>No</td>\n",
       "    </tr>\n",
       "    <tr>\n",
       "      <th>1</th>\n",
       "      <td>Late Night</td>\n",
       "      <td>2020-06-18 02:00:00</td>\n",
       "      <td>OTHER</td>\n",
       "      <td>DRY</td>\n",
       "      <td>UNKNOWN</td>\n",
       "      <td>NaN</td>\n",
       "      <td>UNKNOWN</td>\n",
       "      <td>Yes</td>\n",
       "      <td>UNKNOWN</td>\n",
       "      <td>UNKNOWN</td>\n",
       "      <td>UNKNOWN</td>\n",
       "      <td>UNKNOWN</td>\n",
       "      <td>UNKNOWN</td>\n",
       "      <td>35</td>\n",
       "      <td>No</td>\n",
       "    </tr>\n",
       "    <tr>\n",
       "      <th>2</th>\n",
       "      <td>Noon</td>\n",
       "      <td>2020-04-19 15:39:00</td>\n",
       "      <td>OTHER</td>\n",
       "      <td>DRY</td>\n",
       "      <td>DAYLIGHT</td>\n",
       "      <td>NO CONTROLS</td>\n",
       "      <td>ALCOHOL PRESENT</td>\n",
       "      <td>Yes</td>\n",
       "      <td>UNKNOWN</td>\n",
       "      <td>TWELVE OCLOCK</td>\n",
       "      <td>FOUR OCLOCK</td>\n",
       "      <td>VAN</td>\n",
       "      <td>ACCELERATING</td>\n",
       "      <td>25</td>\n",
       "      <td>No</td>\n",
       "    </tr>\n",
       "    <tr>\n",
       "      <th>3</th>\n",
       "      <td>Morning</td>\n",
       "      <td>2020-04-20 09:15:00</td>\n",
       "      <td>OTHER</td>\n",
       "      <td>DRY</td>\n",
       "      <td>DAYLIGHT</td>\n",
       "      <td>NO CONTROLS</td>\n",
       "      <td>NONE DETECTED</td>\n",
       "      <td>Yes</td>\n",
       "      <td>UNKNOWN</td>\n",
       "      <td>ELEVEN OCLOCK</td>\n",
       "      <td>ELEVEN OCLOCK</td>\n",
       "      <td>PASSENGER CAR</td>\n",
       "      <td>UNKNOWN</td>\n",
       "      <td>25</td>\n",
       "      <td>No</td>\n",
       "    </tr>\n",
       "    <tr>\n",
       "      <th>4</th>\n",
       "      <td>Evening</td>\n",
       "      <td>2020-04-17 17:00:00</td>\n",
       "      <td>SAME DIR REAR END</td>\n",
       "      <td>DRY</td>\n",
       "      <td>DAYLIGHT</td>\n",
       "      <td>STOP SIGN</td>\n",
       "      <td>NONE DETECTED</td>\n",
       "      <td>No</td>\n",
       "      <td>NOT DISTRACTED</td>\n",
       "      <td>SIX OCLOCK</td>\n",
       "      <td>SIX OCLOCK</td>\n",
       "      <td>PASSENGER CAR</td>\n",
       "      <td>STOPPED IN TRAFFIC LANE</td>\n",
       "      <td>25</td>\n",
       "      <td>No</td>\n",
       "    </tr>\n",
       "  </tbody>\n",
       "</table>\n",
       "</div>"
      ],
      "text/plain": [
       "  Crash Time of Day     Crash Date/Time     Collision Type Surface Condition  \\\n",
       "0     Early Morning 2019-09-26 07:20:00     SINGLE VEHICLE               NaN   \n",
       "1        Late Night 2020-06-18 02:00:00              OTHER               DRY   \n",
       "2              Noon 2020-04-19 15:39:00              OTHER               DRY   \n",
       "3           Morning 2020-04-20 09:15:00              OTHER               DRY   \n",
       "4           Evening 2020-04-17 17:00:00  SAME DIR REAR END               DRY   \n",
       "\n",
       "      Light Traffic Control Driver Substance Abuse Driver At Fault  \\\n",
       "0  DAYLIGHT             NaN          NONE DETECTED             Yes   \n",
       "1   UNKNOWN             NaN                UNKNOWN             Yes   \n",
       "2  DAYLIGHT     NO CONTROLS        ALCOHOL PRESENT             Yes   \n",
       "3  DAYLIGHT     NO CONTROLS          NONE DETECTED             Yes   \n",
       "4  DAYLIGHT       STOP SIGN          NONE DETECTED              No   \n",
       "\n",
       "  Driver Distracted By Vehicle First Impact Location  \\\n",
       "0       NOT DISTRACTED                 TWELVE OCLOCK   \n",
       "1              UNKNOWN                       UNKNOWN   \n",
       "2              UNKNOWN                 TWELVE OCLOCK   \n",
       "3              UNKNOWN                 ELEVEN OCLOCK   \n",
       "4       NOT DISTRACTED                    SIX OCLOCK   \n",
       "\n",
       "  Vehicle Second Impact Location Vehicle Body Type         Vehicle Movement  \\\n",
       "0                  TWELVE OCLOCK        SCHOOL BUS                    OTHER   \n",
       "1                        UNKNOWN           UNKNOWN                  UNKNOWN   \n",
       "2                    FOUR OCLOCK               VAN             ACCELERATING   \n",
       "3                  ELEVEN OCLOCK     PASSENGER CAR                  UNKNOWN   \n",
       "4                     SIX OCLOCK     PASSENGER CAR  STOPPED IN TRAFFIC LANE   \n",
       "\n",
       "   Speed Limit Parked Vehicle  \n",
       "0           15             No  \n",
       "1           35             No  \n",
       "2           25             No  \n",
       "3           25             No  \n",
       "4           25             No  "
      ]
     },
     "execution_count": 61,
     "metadata": {},
     "output_type": "execute_result"
    }
   ],
   "source": [
    "crash_df.head()"
   ]
  },
  {
   "cell_type": "markdown",
   "id": "a6d0bd24",
   "metadata": {},
   "source": [
    "- Drop original Crash Date/Time column"
   ]
  },
  {
   "cell_type": "code",
   "execution_count": 62,
   "id": "81a20270",
   "metadata": {
    "ExecuteTime": {
     "end_time": "2021-11-30T05:23:17.027481Z",
     "start_time": "2021-11-30T05:23:16.982296Z"
    }
   },
   "outputs": [],
   "source": [
    "crash_df.drop(columns=['Crash Date/Time'], inplace=True)"
   ]
  },
  {
   "cell_type": "markdown",
   "id": "e51aa6b8",
   "metadata": {},
   "source": [
    "#### Impute values in place of NaN in `Traffic Control` and `Driver Substance Abuse`\n",
    "\n",
    "The features `Traffic Control` and `Driver Substance Abuse` have a high number of `NaNs`, however, these are important features that we cannot drop.  Further, deleting rows that where any of the features has `NaNs` will eliminate will further add to the significant amount of data we have discarded."
   ]
  },
  {
   "cell_type": "code",
   "execution_count": 63,
   "id": "9f82d9b9",
   "metadata": {
    "ExecuteTime": {
     "end_time": "2021-11-30T05:23:17.056851Z",
     "start_time": "2021-11-30T05:23:17.029480Z"
    }
   },
   "outputs": [
    {
     "data": {
      "text/plain": [
       "Traffic Control           20692\n",
       "Driver Substance Abuse    24277\n",
       "dtype: int64"
      ]
     },
     "execution_count": 63,
     "metadata": {},
     "output_type": "execute_result"
    }
   ],
   "source": [
    "crash_df[['Traffic Control', 'Driver Substance Abuse']].isnull().sum()"
   ]
  },
  {
   "cell_type": "markdown",
   "id": "26844109",
   "metadata": {
    "ExecuteTime": {
     "end_time": "2021-11-29T20:35:59.089965Z",
     "start_time": "2021-11-29T20:35:59.077966Z"
    }
   },
   "source": [
    "Let's impute the missing values."
   ]
  },
  {
   "cell_type": "code",
   "execution_count": 64,
   "id": "535509e0",
   "metadata": {
    "ExecuteTime": {
     "end_time": "2021-11-30T05:23:17.071969Z",
     "start_time": "2021-11-30T05:23:17.058967Z"
    }
   },
   "outputs": [
    {
     "data": {
      "text/plain": [
       "array([nan, 'NO CONTROLS', 'STOP SIGN', 'TRAFFIC SIGNAL',\n",
       "       'FLASHING TRAFFIC SIGNAL', 'PERSON', 'YIELD SIGN', 'WARNING SIGN',\n",
       "       'OTHER', 'RAILWAY CROSSING DEVICE', 'UNKNOWN',\n",
       "       'SCHOOL ZONE SIGN DEVICE'], dtype=object)"
      ]
     },
     "execution_count": 64,
     "metadata": {},
     "output_type": "execute_result"
    }
   ],
   "source": [
    "crash_df['Traffic Control'].unique()"
   ]
  },
  {
   "cell_type": "code",
   "execution_count": 65,
   "id": "a96b6bc9",
   "metadata": {
    "ExecuteTime": {
     "end_time": "2021-11-30T05:23:17.088169Z",
     "start_time": "2021-11-30T05:23:17.073968Z"
    }
   },
   "outputs": [
    {
     "data": {
      "text/plain": [
       "array(['NONE DETECTED', 'UNKNOWN', 'ALCOHOL PRESENT', nan,\n",
       "       'ALCOHOL CONTRIBUTED', 'ILLEGAL DRUG CONTRIBUTED',\n",
       "       'ILLEGAL DRUG PRESENT', 'COMBINATION CONTRIBUTED',\n",
       "       'MEDICATION CONTRIBUTED', 'MEDICATION PRESENT',\n",
       "       'COMBINED SUBSTANCE PRESENT', 'OTHER'], dtype=object)"
      ]
     },
     "execution_count": 65,
     "metadata": {},
     "output_type": "execute_result"
    }
   ],
   "source": [
    "crash_df['Driver Substance Abuse'].unique()"
   ]
  },
  {
   "cell_type": "markdown",
   "id": "c014dfaa",
   "metadata": {},
   "source": [
    "Since the above features are pretty significant in determining whether a driver is at fault, or not, we will assume that a `NaN` value implies that `NO CONTROLS` and `NON DETECTED`, respectively."
   ]
  },
  {
   "cell_type": "markdown",
   "id": "16fe9ca8",
   "metadata": {},
   "source": [
    "- `Traffic Control`: Replace `Nan` with `NO CONTROLS`"
   ]
  },
  {
   "cell_type": "code",
   "execution_count": 66,
   "id": "0b4f3c07",
   "metadata": {
    "ExecuteTime": {
     "end_time": "2021-11-30T05:23:17.110504Z",
     "start_time": "2021-11-30T05:23:17.090057Z"
    }
   },
   "outputs": [],
   "source": [
    "crash_df['Traffic Control'].fillna('NO CONTROLS', inplace=True)"
   ]
  },
  {
   "cell_type": "markdown",
   "id": "b910dcfd",
   "metadata": {},
   "source": [
    "- `Driver Substance Abuse`: Replace `Nan` with `NONE DETECTED`"
   ]
  },
  {
   "cell_type": "code",
   "execution_count": 67,
   "id": "0cfc4768",
   "metadata": {
    "ExecuteTime": {
     "end_time": "2021-11-30T05:23:17.141505Z",
     "start_time": "2021-11-30T05:23:17.114507Z"
    }
   },
   "outputs": [],
   "source": [
    "crash_df['Driver Substance Abuse'].fillna('NONE DETECTED', inplace=True)"
   ]
  },
  {
   "cell_type": "markdown",
   "id": "e0adab76",
   "metadata": {},
   "source": [
    "- Check if `NaNs` were removed and other values were preserved."
   ]
  },
  {
   "cell_type": "code",
   "execution_count": 68,
   "id": "291b6371",
   "metadata": {
    "ExecuteTime": {
     "end_time": "2021-11-30T05:23:17.171820Z",
     "start_time": "2021-11-30T05:23:17.144508Z"
    }
   },
   "outputs": [
    {
     "data": {
      "text/plain": [
       "array(['NO CONTROLS', 'STOP SIGN', 'TRAFFIC SIGNAL',\n",
       "       'FLASHING TRAFFIC SIGNAL', 'PERSON', 'YIELD SIGN', 'WARNING SIGN',\n",
       "       'OTHER', 'RAILWAY CROSSING DEVICE', 'UNKNOWN',\n",
       "       'SCHOOL ZONE SIGN DEVICE'], dtype=object)"
      ]
     },
     "execution_count": 68,
     "metadata": {},
     "output_type": "execute_result"
    }
   ],
   "source": [
    "crash_df['Traffic Control'].unique()"
   ]
  },
  {
   "cell_type": "code",
   "execution_count": 69,
   "id": "f18ee103",
   "metadata": {
    "ExecuteTime": {
     "end_time": "2021-11-30T05:23:17.215318Z",
     "start_time": "2021-11-30T05:23:17.173606Z"
    },
    "scrolled": false
   },
   "outputs": [
    {
     "data": {
      "text/plain": [
       "array(['NONE DETECTED', 'UNKNOWN', 'ALCOHOL PRESENT',\n",
       "       'ALCOHOL CONTRIBUTED', 'ILLEGAL DRUG CONTRIBUTED',\n",
       "       'ILLEGAL DRUG PRESENT', 'COMBINATION CONTRIBUTED',\n",
       "       'MEDICATION CONTRIBUTED', 'MEDICATION PRESENT',\n",
       "       'COMBINED SUBSTANCE PRESENT', 'OTHER'], dtype=object)"
      ]
     },
     "execution_count": 69,
     "metadata": {},
     "output_type": "execute_result"
    }
   ],
   "source": [
    "crash_df['Driver Substance Abuse'].unique()"
   ]
  },
  {
   "cell_type": "code",
   "execution_count": 70,
   "id": "d6c391cb",
   "metadata": {
    "ExecuteTime": {
     "end_time": "2021-11-30T05:23:17.247439Z",
     "start_time": "2021-11-30T05:23:17.217319Z"
    }
   },
   "outputs": [
    {
     "data": {
      "text/plain": [
       "NONE DETECTED                 119444\n",
       "UNKNOWN                         8818\n",
       "ALCOHOL PRESENT                 3175\n",
       "ALCOHOL CONTRIBUTED             1155\n",
       "ILLEGAL DRUG PRESENT             225\n",
       "MEDICATION PRESENT                95\n",
       "ILLEGAL DRUG CONTRIBUTED          86\n",
       "COMBINED SUBSTANCE PRESENT        65\n",
       "MEDICATION CONTRIBUTED            56\n",
       "OTHER                             48\n",
       "COMBINATION CONTRIBUTED           39\n",
       "Name: Driver Substance Abuse, dtype: int64"
      ]
     },
     "execution_count": 70,
     "metadata": {},
     "output_type": "execute_result"
    }
   ],
   "source": [
    "crash_df['Driver Substance Abuse'].value_counts()"
   ]
  },
  {
   "cell_type": "markdown",
   "id": "6dcbc674",
   "metadata": {},
   "source": [
    "#### Drop rows containing NaNs\n",
    "At this point, we can drop any rows containing `NaNs`"
   ]
  },
  {
   "cell_type": "code",
   "execution_count": 71,
   "id": "f71ea345",
   "metadata": {
    "ExecuteTime": {
     "end_time": "2021-11-30T05:23:17.371564Z",
     "start_time": "2021-11-30T05:23:17.249507Z"
    }
   },
   "outputs": [],
   "source": [
    "crash_df.dropna(inplace=True)"
   ]
  },
  {
   "cell_type": "code",
   "execution_count": 72,
   "id": "7498b3a9",
   "metadata": {
    "ExecuteTime": {
     "end_time": "2021-11-30T05:23:17.391838Z",
     "start_time": "2021-11-30T05:23:17.373563Z"
    }
   },
   "outputs": [
    {
     "data": {
      "text/plain": [
       "(114551, 14)"
      ]
     },
     "execution_count": 72,
     "metadata": {},
     "output_type": "execute_result"
    }
   ],
   "source": [
    "crash_df.shape"
   ]
  },
  {
   "cell_type": "markdown",
   "id": "0c6d0049",
   "metadata": {},
   "source": [
    "#### Drop UNKNOWN, OTHER, and blank spaces from dataframe"
   ]
  },
  {
   "cell_type": "code",
   "execution_count": 73,
   "id": "60e09e43",
   "metadata": {
    "ExecuteTime": {
     "end_time": "2021-11-30T05:23:17.886795Z",
     "start_time": "2021-11-30T05:23:17.393844Z"
    }
   },
   "outputs": [],
   "source": [
    "crash_df = crash_df.replace(to_replace=['UNKNOWN', 'Unknown', 'OTHER', 'other', '', ' '], value=np.nan).dropna()"
   ]
  },
  {
   "cell_type": "code",
   "execution_count": 74,
   "id": "17c19311",
   "metadata": {
    "ExecuteTime": {
     "end_time": "2021-11-30T05:23:17.902796Z",
     "start_time": "2021-11-30T05:23:17.888801Z"
    }
   },
   "outputs": [
    {
     "data": {
      "text/plain": [
       "(83983, 14)"
      ]
     },
     "execution_count": 74,
     "metadata": {},
     "output_type": "execute_result"
    }
   ],
   "source": [
    "crash_df.shape"
   ]
  },
  {
   "cell_type": "code",
   "execution_count": 75,
   "id": "c40232e5",
   "metadata": {
    "ExecuteTime": {
     "end_time": "2021-11-30T05:23:17.933696Z",
     "start_time": "2021-11-30T05:23:17.903849Z"
    },
    "scrolled": false
   },
   "outputs": [
    {
     "data": {
      "text/html": [
       "<div>\n",
       "<style scoped>\n",
       "    .dataframe tbody tr th:only-of-type {\n",
       "        vertical-align: middle;\n",
       "    }\n",
       "\n",
       "    .dataframe tbody tr th {\n",
       "        vertical-align: top;\n",
       "    }\n",
       "\n",
       "    .dataframe thead th {\n",
       "        text-align: right;\n",
       "    }\n",
       "</style>\n",
       "<table border=\"1\" class=\"dataframe\">\n",
       "  <thead>\n",
       "    <tr style=\"text-align: right;\">\n",
       "      <th></th>\n",
       "      <th>Crash Time of Day</th>\n",
       "      <th>Collision Type</th>\n",
       "      <th>Surface Condition</th>\n",
       "      <th>Light</th>\n",
       "      <th>Traffic Control</th>\n",
       "      <th>Driver Substance Abuse</th>\n",
       "      <th>Driver At Fault</th>\n",
       "      <th>Driver Distracted By</th>\n",
       "      <th>Vehicle First Impact Location</th>\n",
       "      <th>Vehicle Second Impact Location</th>\n",
       "      <th>Vehicle Body Type</th>\n",
       "      <th>Vehicle Movement</th>\n",
       "      <th>Speed Limit</th>\n",
       "      <th>Parked Vehicle</th>\n",
       "    </tr>\n",
       "  </thead>\n",
       "  <tbody>\n",
       "    <tr>\n",
       "      <th>4</th>\n",
       "      <td>Evening</td>\n",
       "      <td>SAME DIR REAR END</td>\n",
       "      <td>DRY</td>\n",
       "      <td>DAYLIGHT</td>\n",
       "      <td>STOP SIGN</td>\n",
       "      <td>NONE DETECTED</td>\n",
       "      <td>No</td>\n",
       "      <td>NOT DISTRACTED</td>\n",
       "      <td>SIX OCLOCK</td>\n",
       "      <td>SIX OCLOCK</td>\n",
       "      <td>PASSENGER CAR</td>\n",
       "      <td>STOPPED IN TRAFFIC LANE</td>\n",
       "      <td>25</td>\n",
       "      <td>No</td>\n",
       "    </tr>\n",
       "    <tr>\n",
       "      <th>5</th>\n",
       "      <td>Early Morning</td>\n",
       "      <td>SAME DIR REAR END</td>\n",
       "      <td>DRY</td>\n",
       "      <td>DAWN</td>\n",
       "      <td>TRAFFIC SIGNAL</td>\n",
       "      <td>NONE DETECTED</td>\n",
       "      <td>No</td>\n",
       "      <td>NOT DISTRACTED</td>\n",
       "      <td>SIX OCLOCK</td>\n",
       "      <td>SIX OCLOCK</td>\n",
       "      <td>PASSENGER CAR</td>\n",
       "      <td>STOPPED IN TRAFFIC LANE</td>\n",
       "      <td>40</td>\n",
       "      <td>No</td>\n",
       "    </tr>\n",
       "    <tr>\n",
       "      <th>6</th>\n",
       "      <td>Early Morning</td>\n",
       "      <td>SINGLE VEHICLE</td>\n",
       "      <td>DRY</td>\n",
       "      <td>DAYLIGHT</td>\n",
       "      <td>NO CONTROLS</td>\n",
       "      <td>NONE DETECTED</td>\n",
       "      <td>No</td>\n",
       "      <td>NOT DISTRACTED</td>\n",
       "      <td>ELEVEN OCLOCK</td>\n",
       "      <td>ELEVEN OCLOCK</td>\n",
       "      <td>POLICE VEHICLE/NON EMERGENCY</td>\n",
       "      <td>MOVING CONSTANT SPEED</td>\n",
       "      <td>35</td>\n",
       "      <td>No</td>\n",
       "    </tr>\n",
       "    <tr>\n",
       "      <th>7</th>\n",
       "      <td>Late Night</td>\n",
       "      <td>SINGLE VEHICLE</td>\n",
       "      <td>DRY</td>\n",
       "      <td>DARK LIGHTS ON</td>\n",
       "      <td>NO CONTROLS</td>\n",
       "      <td>NONE DETECTED</td>\n",
       "      <td>No</td>\n",
       "      <td>NOT DISTRACTED</td>\n",
       "      <td>TWELVE OCLOCK</td>\n",
       "      <td>TWELVE OCLOCK</td>\n",
       "      <td>POLICE VEHICLE/EMERGENCY</td>\n",
       "      <td>MOVING CONSTANT SPEED</td>\n",
       "      <td>35</td>\n",
       "      <td>No</td>\n",
       "    </tr>\n",
       "    <tr>\n",
       "      <th>8</th>\n",
       "      <td>Night</td>\n",
       "      <td>SAME DIR REAR END</td>\n",
       "      <td>DRY</td>\n",
       "      <td>DARK LIGHTS ON</td>\n",
       "      <td>NO CONTROLS</td>\n",
       "      <td>ALCOHOL CONTRIBUTED</td>\n",
       "      <td>Yes</td>\n",
       "      <td>OTHER DISTRACTION</td>\n",
       "      <td>TWELVE OCLOCK</td>\n",
       "      <td>TWELVE OCLOCK</td>\n",
       "      <td>PASSENGER CAR</td>\n",
       "      <td>ACCELERATING</td>\n",
       "      <td>35</td>\n",
       "      <td>No</td>\n",
       "    </tr>\n",
       "  </tbody>\n",
       "</table>\n",
       "</div>"
      ],
      "text/plain": [
       "  Crash Time of Day     Collision Type Surface Condition           Light  \\\n",
       "4           Evening  SAME DIR REAR END               DRY        DAYLIGHT   \n",
       "5     Early Morning  SAME DIR REAR END               DRY            DAWN   \n",
       "6     Early Morning     SINGLE VEHICLE               DRY        DAYLIGHT   \n",
       "7        Late Night     SINGLE VEHICLE               DRY  DARK LIGHTS ON   \n",
       "8             Night  SAME DIR REAR END               DRY  DARK LIGHTS ON   \n",
       "\n",
       "  Traffic Control Driver Substance Abuse Driver At Fault Driver Distracted By  \\\n",
       "4       STOP SIGN          NONE DETECTED              No       NOT DISTRACTED   \n",
       "5  TRAFFIC SIGNAL          NONE DETECTED              No       NOT DISTRACTED   \n",
       "6     NO CONTROLS          NONE DETECTED              No       NOT DISTRACTED   \n",
       "7     NO CONTROLS          NONE DETECTED              No       NOT DISTRACTED   \n",
       "8     NO CONTROLS    ALCOHOL CONTRIBUTED             Yes    OTHER DISTRACTION   \n",
       "\n",
       "  Vehicle First Impact Location Vehicle Second Impact Location  \\\n",
       "4                    SIX OCLOCK                     SIX OCLOCK   \n",
       "5                    SIX OCLOCK                     SIX OCLOCK   \n",
       "6                 ELEVEN OCLOCK                  ELEVEN OCLOCK   \n",
       "7                 TWELVE OCLOCK                  TWELVE OCLOCK   \n",
       "8                 TWELVE OCLOCK                  TWELVE OCLOCK   \n",
       "\n",
       "              Vehicle Body Type         Vehicle Movement  Speed Limit  \\\n",
       "4                 PASSENGER CAR  STOPPED IN TRAFFIC LANE           25   \n",
       "5                 PASSENGER CAR  STOPPED IN TRAFFIC LANE           40   \n",
       "6  POLICE VEHICLE/NON EMERGENCY    MOVING CONSTANT SPEED           35   \n",
       "7      POLICE VEHICLE/EMERGENCY    MOVING CONSTANT SPEED           35   \n",
       "8                 PASSENGER CAR             ACCELERATING           35   \n",
       "\n",
       "  Parked Vehicle  \n",
       "4             No  \n",
       "5             No  \n",
       "6             No  \n",
       "7             No  \n",
       "8             No  "
      ]
     },
     "execution_count": 75,
     "metadata": {},
     "output_type": "execute_result"
    }
   ],
   "source": [
    "crash_df.head()"
   ]
  },
  {
   "cell_type": "markdown",
   "id": "b4e5ab11",
   "metadata": {},
   "source": [
    "#### Reduce categories for `Driver Substance Abuse`\n",
    "\n",
    "Presently, there are nine different categories of substance abuse.  For the sake of efficiency, perhaps, we should reduce the categories to just `No` for `NONE DETECTED` and `Yes` for remaining categories."
   ]
  },
  {
   "cell_type": "code",
   "execution_count": 76,
   "id": "7c029ad7",
   "metadata": {
    "ExecuteTime": {
     "end_time": "2021-11-30T05:23:17.959325Z",
     "start_time": "2021-11-30T05:23:17.935703Z"
    }
   },
   "outputs": [
    {
     "data": {
      "text/plain": [
       "NONE DETECTED                 81735\n",
       "ALCOHOL PRESENT                1479\n",
       "ALCOHOL CONTRIBUTED             499\n",
       "ILLEGAL DRUG PRESENT            102\n",
       "MEDICATION PRESENT               54\n",
       "ILLEGAL DRUG CONTRIBUTED         41\n",
       "COMBINED SUBSTANCE PRESENT       29\n",
       "MEDICATION CONTRIBUTED           25\n",
       "COMBINATION CONTRIBUTED          19\n",
       "Name: Driver Substance Abuse, dtype: int64"
      ]
     },
     "execution_count": 76,
     "metadata": {},
     "output_type": "execute_result"
    }
   ],
   "source": [
    "crash_df['Driver Substance Abuse'].value_counts()"
   ]
  },
  {
   "cell_type": "code",
   "execution_count": 77,
   "id": "4399b0fb",
   "metadata": {
    "ExecuteTime": {
     "end_time": "2021-11-30T05:23:17.991323Z",
     "start_time": "2021-11-30T05:23:17.961326Z"
    }
   },
   "outputs": [],
   "source": [
    "crash_df['Driver Substance Abuse'] = crash_df['Driver Substance Abuse'].apply(lambda x: 'No' if x == 'NONE DETECTED' else 'Yes')"
   ]
  },
  {
   "cell_type": "code",
   "execution_count": 78,
   "id": "c482c02f",
   "metadata": {
    "ExecuteTime": {
     "end_time": "2021-11-30T05:23:18.023323Z",
     "start_time": "2021-11-30T05:23:17.993326Z"
    },
    "scrolled": true
   },
   "outputs": [
    {
     "data": {
      "text/plain": [
       "No     81735\n",
       "Yes     2248\n",
       "Name: Driver Substance Abuse, dtype: int64"
      ]
     },
     "execution_count": 78,
     "metadata": {},
     "output_type": "execute_result"
    }
   ],
   "source": [
    "crash_df['Driver Substance Abuse'].value_counts()"
   ]
  },
  {
   "cell_type": "markdown",
   "id": "83291c4c",
   "metadata": {},
   "source": [
    "#### Reduce categories for `Driver Distracted By`"
   ]
  },
  {
   "cell_type": "code",
   "execution_count": 79,
   "id": "710dd195",
   "metadata": {
    "ExecuteTime": {
     "end_time": "2021-11-30T05:23:18.054429Z",
     "start_time": "2021-11-30T05:23:18.025428Z"
    }
   },
   "outputs": [
    {
     "data": {
      "text/plain": [
       "NOT DISTRACTED                                       65873\n",
       "LOOKED BUT DID NOT SEE                               11638\n",
       "INATTENTIVE OR LOST IN THOUGHT                        2583\n",
       "OTHER DISTRACTION                                     1796\n",
       "DISTRACTED BY OUTSIDE PERSON OBJECT OR EVENT           596\n",
       "BY OTHER OCCUPANTS                                     267\n",
       "OTHER CELLULAR PHONE RELATED                           246\n",
       "OTHER ELECTRONIC DEVICE (NAVIGATIONAL PALM PILOT)      219\n",
       "TALKING OR LISTENING TO CELLULAR PHONE                 165\n",
       "BY MOVING OBJECT IN VEHICLE                            152\n",
       "EATING OR DRINKING                                     134\n",
       "ADJUSTING AUDIO AND OR CLIMATE CONTROLS                102\n",
       "USING OTHER DEVICE CONTROLS INTEGRAL TO VEHICLE         54\n",
       "TEXTING FROM A CELLULAR PHONE                           44\n",
       "USING DEVICE OBJECT BROUGHT INTO VEHICLE                42\n",
       "NO DRIVER PRESENT                                       33\n",
       "DIALING CELLULAR PHONE                                  20\n",
       "SMOKING RELATED                                         19\n",
       "Name: Driver Distracted By, dtype: int64"
      ]
     },
     "execution_count": 79,
     "metadata": {},
     "output_type": "execute_result"
    }
   ],
   "source": [
    "crash_df['Driver Distracted By'].value_counts()"
   ]
  },
  {
   "cell_type": "code",
   "execution_count": 80,
   "id": "3d966d95",
   "metadata": {
    "ExecuteTime": {
     "end_time": "2021-11-30T05:23:18.095879Z",
     "start_time": "2021-11-30T05:23:18.057429Z"
    }
   },
   "outputs": [],
   "source": [
    "crash_df['Driver Distracted By'] = crash_df['Driver Distracted By'].apply(lambda x: 'No' if x == 'NOT DISTRACTED' else 'Yes')"
   ]
  },
  {
   "cell_type": "code",
   "execution_count": 81,
   "id": "ec859f0c",
   "metadata": {
    "ExecuteTime": {
     "end_time": "2021-11-30T05:23:18.115502Z",
     "start_time": "2021-11-30T05:23:18.096921Z"
    }
   },
   "outputs": [
    {
     "data": {
      "text/plain": [
       "No     65873\n",
       "Yes    18110\n",
       "Name: Driver Distracted By, dtype: int64"
      ]
     },
     "execution_count": 81,
     "metadata": {},
     "output_type": "execute_result"
    }
   ],
   "source": [
    "crash_df['Driver Distracted By'].value_counts()"
   ]
  },
  {
   "cell_type": "markdown",
   "id": "a66f39ec",
   "metadata": {},
   "source": [
    "#### Categorize Feature Values\n",
    "\n",
    "We should categorize the data by converting string values to integers."
   ]
  },
  {
   "cell_type": "markdown",
   "id": "4c1063a3",
   "metadata": {},
   "source": [
    "- Make copy of `crash_df` dataframe"
   ]
  },
  {
   "cell_type": "code",
   "execution_count": 82,
   "id": "61bb02eb",
   "metadata": {
    "ExecuteTime": {
     "end_time": "2021-11-30T05:23:18.131465Z",
     "start_time": "2021-11-30T05:23:18.117469Z"
    }
   },
   "outputs": [],
   "source": [
    "crash_cats_df = crash_df.copy(deep=True)"
   ]
  },
  {
   "cell_type": "code",
   "execution_count": 83,
   "id": "3dac5fdc",
   "metadata": {
    "ExecuteTime": {
     "end_time": "2021-11-30T05:23:18.152134Z",
     "start_time": "2021-11-30T05:23:18.132496Z"
    }
   },
   "outputs": [
    {
     "data": {
      "text/plain": [
       "((83983, 14), (83983, 14))"
      ]
     },
     "execution_count": 83,
     "metadata": {},
     "output_type": "execute_result"
    }
   ],
   "source": [
    "crash_cats_df.shape, crash_df.shape"
   ]
  },
  {
   "cell_type": "markdown",
   "id": "124516a2",
   "metadata": {},
   "source": [
    "- Put features into a list to iterate over in next step"
   ]
  },
  {
   "cell_type": "code",
   "execution_count": 84,
   "id": "ebe0e558",
   "metadata": {
    "ExecuteTime": {
     "end_time": "2021-11-30T05:23:18.168134Z",
     "start_time": "2021-11-30T05:23:18.154135Z"
    }
   },
   "outputs": [
    {
     "name": "stdout",
     "output_type": "stream",
     "text": [
      "['Crash Time of Day', 'Collision Type', 'Surface Condition', 'Light', 'Traffic Control', 'Driver Substance Abuse', 'Driver At Fault', 'Driver Distracted By', 'Vehicle First Impact Location', 'Vehicle Second Impact Location', 'Vehicle Body Type', 'Vehicle Movement', 'Parked Vehicle']\n"
     ]
    }
   ],
   "source": [
    "features = crash_cats_df.columns.tolist()\n",
    "# Remove 'Speed Limit,' because its a numeric value. It doesn't need to be categorized.\n",
    "features.remove('Speed Limit')\n",
    "print(features)"
   ]
  },
  {
   "cell_type": "code",
   "execution_count": 85,
   "id": "3344386f",
   "metadata": {
    "ExecuteTime": {
     "end_time": "2021-11-30T05:23:18.417356Z",
     "start_time": "2021-11-30T05:23:18.169168Z"
    }
   },
   "outputs": [],
   "source": [
    "for feature in features:\n",
    "    categorize(crash_cats_df, feature)"
   ]
  },
  {
   "cell_type": "code",
   "execution_count": 86,
   "id": "014ab025",
   "metadata": {
    "ExecuteTime": {
     "end_time": "2021-11-30T05:23:18.435564Z",
     "start_time": "2021-11-30T05:23:18.419411Z"
    },
    "scrolled": false
   },
   "outputs": [
    {
     "data": {
      "text/html": [
       "<div>\n",
       "<style scoped>\n",
       "    .dataframe tbody tr th:only-of-type {\n",
       "        vertical-align: middle;\n",
       "    }\n",
       "\n",
       "    .dataframe tbody tr th {\n",
       "        vertical-align: top;\n",
       "    }\n",
       "\n",
       "    .dataframe thead th {\n",
       "        text-align: right;\n",
       "    }\n",
       "</style>\n",
       "<table border=\"1\" class=\"dataframe\">\n",
       "  <thead>\n",
       "    <tr style=\"text-align: right;\">\n",
       "      <th></th>\n",
       "      <th>Crash Time of Day</th>\n",
       "      <th>Collision Type</th>\n",
       "      <th>Surface Condition</th>\n",
       "      <th>Light</th>\n",
       "      <th>Traffic Control</th>\n",
       "      <th>Driver Substance Abuse</th>\n",
       "      <th>Driver At Fault</th>\n",
       "      <th>Driver Distracted By</th>\n",
       "      <th>Vehicle First Impact Location</th>\n",
       "      <th>Vehicle Second Impact Location</th>\n",
       "      <th>Vehicle Body Type</th>\n",
       "      <th>Vehicle Movement</th>\n",
       "      <th>Speed Limit</th>\n",
       "      <th>Parked Vehicle</th>\n",
       "    </tr>\n",
       "  </thead>\n",
       "  <tbody>\n",
       "    <tr>\n",
       "      <th>4</th>\n",
       "      <td>0</td>\n",
       "      <td>0</td>\n",
       "      <td>0</td>\n",
       "      <td>0</td>\n",
       "      <td>0</td>\n",
       "      <td>0</td>\n",
       "      <td>0</td>\n",
       "      <td>0</td>\n",
       "      <td>0</td>\n",
       "      <td>0</td>\n",
       "      <td>0</td>\n",
       "      <td>0</td>\n",
       "      <td>25</td>\n",
       "      <td>0</td>\n",
       "    </tr>\n",
       "    <tr>\n",
       "      <th>5</th>\n",
       "      <td>1</td>\n",
       "      <td>0</td>\n",
       "      <td>0</td>\n",
       "      <td>1</td>\n",
       "      <td>1</td>\n",
       "      <td>0</td>\n",
       "      <td>0</td>\n",
       "      <td>0</td>\n",
       "      <td>0</td>\n",
       "      <td>0</td>\n",
       "      <td>0</td>\n",
       "      <td>0</td>\n",
       "      <td>40</td>\n",
       "      <td>0</td>\n",
       "    </tr>\n",
       "    <tr>\n",
       "      <th>6</th>\n",
       "      <td>1</td>\n",
       "      <td>1</td>\n",
       "      <td>0</td>\n",
       "      <td>0</td>\n",
       "      <td>2</td>\n",
       "      <td>0</td>\n",
       "      <td>0</td>\n",
       "      <td>0</td>\n",
       "      <td>1</td>\n",
       "      <td>1</td>\n",
       "      <td>1</td>\n",
       "      <td>1</td>\n",
       "      <td>35</td>\n",
       "      <td>0</td>\n",
       "    </tr>\n",
       "    <tr>\n",
       "      <th>7</th>\n",
       "      <td>2</td>\n",
       "      <td>1</td>\n",
       "      <td>0</td>\n",
       "      <td>2</td>\n",
       "      <td>2</td>\n",
       "      <td>0</td>\n",
       "      <td>0</td>\n",
       "      <td>0</td>\n",
       "      <td>2</td>\n",
       "      <td>2</td>\n",
       "      <td>2</td>\n",
       "      <td>1</td>\n",
       "      <td>35</td>\n",
       "      <td>0</td>\n",
       "    </tr>\n",
       "    <tr>\n",
       "      <th>8</th>\n",
       "      <td>3</td>\n",
       "      <td>0</td>\n",
       "      <td>0</td>\n",
       "      <td>2</td>\n",
       "      <td>2</td>\n",
       "      <td>1</td>\n",
       "      <td>1</td>\n",
       "      <td>1</td>\n",
       "      <td>2</td>\n",
       "      <td>2</td>\n",
       "      <td>0</td>\n",
       "      <td>2</td>\n",
       "      <td>35</td>\n",
       "      <td>0</td>\n",
       "    </tr>\n",
       "  </tbody>\n",
       "</table>\n",
       "</div>"
      ],
      "text/plain": [
       "   Crash Time of Day  Collision Type  Surface Condition  Light  \\\n",
       "4                  0               0                  0      0   \n",
       "5                  1               0                  0      1   \n",
       "6                  1               1                  0      0   \n",
       "7                  2               1                  0      2   \n",
       "8                  3               0                  0      2   \n",
       "\n",
       "   Traffic Control  Driver Substance Abuse  Driver At Fault  \\\n",
       "4                0                       0                0   \n",
       "5                1                       0                0   \n",
       "6                2                       0                0   \n",
       "7                2                       0                0   \n",
       "8                2                       1                1   \n",
       "\n",
       "   Driver Distracted By  Vehicle First Impact Location  \\\n",
       "4                     0                              0   \n",
       "5                     0                              0   \n",
       "6                     0                              1   \n",
       "7                     0                              2   \n",
       "8                     1                              2   \n",
       "\n",
       "   Vehicle Second Impact Location  Vehicle Body Type  Vehicle Movement  \\\n",
       "4                               0                  0                 0   \n",
       "5                               0                  0                 0   \n",
       "6                               1                  1                 1   \n",
       "7                               2                  2                 1   \n",
       "8                               2                  0                 2   \n",
       "\n",
       "   Speed Limit  Parked Vehicle  \n",
       "4           25               0  \n",
       "5           40               0  \n",
       "6           35               0  \n",
       "7           35               0  \n",
       "8           35               0  "
      ]
     },
     "execution_count": 86,
     "metadata": {},
     "output_type": "execute_result"
    }
   ],
   "source": [
    "crash_cats_df.head()"
   ]
  },
  {
   "cell_type": "markdown",
   "id": "f8915074",
   "metadata": {},
   "source": [
    "## Export Dataframes to CSV for EDA Notebook"
   ]
  },
  {
   "cell_type": "code",
   "execution_count": 377,
   "id": "4d053205",
   "metadata": {
    "ExecuteTime": {
     "end_time": "2021-11-29T23:26:42.027957Z",
     "start_time": "2021-11-29T23:26:41.683477Z"
    }
   },
   "outputs": [],
   "source": [
    "#crash_cats_df.to_csv('./data/crash_categorical.csv', index = False)"
   ]
  },
  {
   "cell_type": "code",
   "execution_count": 379,
   "id": "393bb22c",
   "metadata": {
    "ExecuteTime": {
     "end_time": "2021-11-29T23:28:31.949665Z",
     "start_time": "2021-11-29T23:28:31.222306Z"
    }
   },
   "outputs": [],
   "source": [
    "#crash_df.to_csv('./data/crash_data_modified.csv', index = False)"
   ]
  }
 ],
 "metadata": {
  "kernelspec": {
   "display_name": "Python 3",
   "language": "python",
   "name": "python3"
  },
  "language_info": {
   "codemirror_mode": {
    "name": "ipython",
    "version": 3
   },
   "file_extension": ".py",
   "mimetype": "text/x-python",
   "name": "python",
   "nbconvert_exporter": "python",
   "pygments_lexer": "ipython3",
   "version": "3.8.8"
  }
 },
 "nbformat": 4,
 "nbformat_minor": 5
}
